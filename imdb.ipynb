{
 "cells": [
  {
   "attachments": {},
   "cell_type": "markdown",
   "metadata": {},
   "source": [
    "Welcome to the 30 minutes Flower federated learning tutorial!\n",
    "\n",
    "In this tutorial you will implement your first Federated Learning project using [Flower](https://flower.ai/).\n",
    "\n",
    "🧑‍🏫 This tutorial starts at zero and expects no familiarity with federated learning. Only a basic understanding of data science and Python programming is assumed. A minimal understanding of ML is not required but if you already know about it, nothing is stopping your from modifying this code as you see fit!\n",
    "\n",
    "> Star Flower on [GitHub ⭐️](https://github.com/adap/flower) and join the Flower community on Slack to connect, ask questions, and get help: [Join Slack 🌼](https://flower.ai/join-slack/). We'd love to hear from you in the #introductions channel! And if anything is unclear, head over to the #questions channel.\n",
    "\n",
    "Let's get started!"
   ]
  },
  {
   "cell_type": "markdown",
   "metadata": {},
   "source": [
    "## Complementary Content\n",
    "\n",
    "But before do so, let me point you to a few video tutorials in the [Flower Youtube channel](https://www.youtube.com/@flowerlabs) that you might want to check out after this tutorial. We post new videos fairly regularly with new content:\n",
    "* **[VIDEO]** quickstart-tensorflow: [15-min video on how to start with Flower + Tensorflow/Keras](https://www.youtube.com/watch?v=FGTc2TQq7VM)\n",
    "* **[VIDEO]** quickstart-pytorch: [20-min video on how to start with Flower + PyTorch](https://www.youtube.com/watch?v=jOmmuzMIQ4c)\n",
    "* **[VIDEO]**  Flower simulation mini-series: [9 line-by-line video tutorials](https://www.youtube.com/watch?v=cRebUIGB5RU&list=PLNG4feLHqCWlnj8a_E1A_n5zr2-8pafTB)"
   ]
  },
  {
   "attachments": {},
   "cell_type": "markdown",
   "metadata": {},
   "source": [
    "# Centralised training: the old way of doing ML"
   ]
  },
  {
   "attachments": {},
   "cell_type": "markdown",
   "metadata": {},
   "source": [
    "Let's begin by creating a simple (but complete) training loop as it is commonly done in centralised setups. Starting our tutorial in this way will allow us to very clearly identify which parts of a typical ML pipeline are common to both centralised and federated training and which ones are poles a part.\n",
    "\n",
    "For this tutorial we'll design a image classification pipeline for [MNIST digits](https://en.wikipedia.org/wiki/MNIST_database) and using a simple CNN model as the network to train. The MNIST dataset is comprised of `28x28` greyscale images with digits from 0 to 9 (i.e. 10 classes in total)\n",
    "\n",
    "\n",
    "## A dataset\n",
    "\n",
    "Let's begin by constructing the dataset."
   ]
  },
  {
   "cell_type": "code",
   "execution_count": 1,
   "metadata": {},
   "outputs": [],
   "source": [
    "import torch\n",
    "from torch.utils.data import Dataset\n",
    "import numpy as np\n",
    "\n",
    "class IMDBDataset(Dataset):\n",
    "    def __init__(self, data, labels):\n",
    "        self.data = data\n",
    "        self.labels = labels\n",
    "\n",
    "    def __len__(self):\n",
    "        return len(self.data)\n",
    "\n",
    "    def __getitem__(self, idx):\n",
    "        data = torch.tensor(self.data[idx], dtype=torch.long)  # Long tensor for embedding\n",
    "        label = torch.tensor(self.labels[idx], dtype=torch.long)  # Long tensor for target labels\n",
    "        return data, label"
   ]
  },
  {
   "cell_type": "code",
   "execution_count": 36,
   "metadata": {},
   "outputs": [],
   "source": [
    "\n",
    "from tensorflow.keras.datasets import imdb\n",
    "\n",
    "def get_imdb():\n",
    "    # Load Reuters dataset\n",
    "    (X_train, y_train), (X_test, y_test) = imdb.load_data(\n",
    "        num_words=40000,\n",
    "        skip_top=0,\n",
    "        maxlen=80,\n",
    "        test_split=0.2\n",
    "    )\n",
    "    \n",
    "    # imdb.load_data(num_words=40000, maxlen=80, test_split=0.2)\n",
    "\n",
    "    # Create Dataset instances\n",
    "    trainset = IMDBDataset(X_train, y_train)\n",
    "    testset = IMDBDataset(X_test, y_test)\n",
    "    return trainset, testset, len(np.unique(y_train))"
   ]
  },
  {
   "attachments": {},
   "cell_type": "markdown",
   "metadata": {},
   "source": [
    "Let's run the code above and do some visualisations to understand better the data we are working with !"
   ]
  },
  {
   "cell_type": "code",
   "execution_count": 37,
   "metadata": {},
   "outputs": [
    {
     "data": {
      "text/plain": [
       "9602"
      ]
     },
     "execution_count": 37,
     "metadata": {},
     "output_type": "execute_result"
    }
   ],
   "source": [
    "# Count unique tokens in the dataset\n",
    "def get_vocab_size():\n",
    "    (X_train, _), _ =  imdb.load_data(\n",
    "        num_words=40000,\n",
    "        skip_top=0,\n",
    "        maxlen=80,\n",
    "        test_split=0.2\n",
    "    )\n",
    "    unique_tokens = set(token for seq in X_train for token in seq)\n",
    "    return len(unique_tokens)\n",
    "\n",
    "vocab_size = get_vocab_size()\n",
    "vocab_size"
   ]
  },
  {
   "cell_type": "code",
   "execution_count": 38,
   "metadata": {},
   "outputs": [],
   "source": [
    "trainset, testset, num_classes = get_imdb()"
   ]
  },
  {
   "attachments": {},
   "cell_type": "markdown",
   "metadata": {},
   "source": [
    "Let's create a more insightful visualisation. First let's see the distribution over the labels by constructing a histogram. Then, let's visualise some training examples !"
   ]
  },
  {
   "cell_type": "code",
   "execution_count": 19,
   "metadata": {
    "colab": {
     "base_uri": "https://localhost:8080/",
     "height": 490
    },
    "outputId": "c8d0f4c0-60cd-4c58-bc91-3b061dae8046"
   },
   "outputs": [
    {
     "data": {
      "image/png": "[encoded data removed]",
      "text/plain": [
       "<Figure size 640x480 with 1 Axes>"
      ]
     },
     "metadata": {},
     "output_type": "display_data"
    }
   ],
   "source": [
    "import matplotlib.pyplot as plt\n",
    "\n",
    "# Extract all labels from the trainset\n",
    "all_labels = [label for _, label in trainset]\n",
    "\n",
    "# Count unique labels\n",
    "num_possible_labels = len(set(all_labels))\n",
    "\n",
    "# Construct histogram\n",
    "plt.hist(all_labels, bins=num_possible_labels, edgecolor='black')\n",
    "\n",
    "# Plot formatting\n",
    "plt.xticks(range(num_possible_labels))\n",
    "plt.grid()\n",
    "plt.xlabel(\"Label\")\n",
    "plt.ylabel(\"Number of images\")\n",
    "plt.title(\"Class labels distribution\")\n",
    "plt.show()"
   ]
  },
  {
   "attachments": {},
   "cell_type": "markdown",
   "metadata": {},
   "source": [
    "# A CNN architecture\n",
    "\n",
    "This tutorial is not so much about novel architectural designs so we keep things simple and make use of a typical CNN that is adequate for the MNIST image classification task.\n",
    "\n"
   ]
  },
  {
   "cell_type": "code",
   "execution_count": 39,
   "metadata": {},
   "outputs": [],
   "source": [
    "import torch.nn as nn\n",
    "import torch.nn.functional as F\n",
    "\n",
    "class LSTM(nn.Module):\n",
    "    def __init__(self, input_size, hidden_size, num_layers, num_classes):\n",
    "        super(LSTM, self).__init__()\n",
    "        self.hidden_size = hidden_size\n",
    "        self.num_layers = num_layers\n",
    "        self.embedding = nn.Embedding(input_size, hidden_size)\n",
    "        self.lstm = nn.LSTM(hidden_size, hidden_size, num_layers, batch_first=True)\n",
    "        self.fc = nn.Linear(hidden_size, num_classes)\n",
    "    \n",
    "    def forward(self, x):\n",
    "        h0 = torch.zeros(self.num_layers, x.size(0), self.hidden_size).to(x.device)\n",
    "        c0 = torch.zeros(self.num_layers, x.size(0), self.hidden_size).to(x.device)\n",
    "        \n",
    "        x = self.embedding(x)\n",
    "        out, _ = self.lstm(x, (h0, c0))\n",
    "        out = self.fc(out[:, -1, :])\n",
    "        return out"
   ]
  },
  {
   "attachments": {},
   "cell_type": "markdown",
   "metadata": {},
   "source": [
    "Similarly to what we did with the dataset you could inspect the model in various ways. We can, for instance, count the number of model parameters."
   ]
  },
  {
   "cell_type": "code",
   "execution_count": 40,
   "metadata": {
    "colab": {
     "base_uri": "https://localhost:8080/"
    },
    "outputId": "67d01ab4-cdd9-4661-8f01-eaa9aabf786d"
   },
   "outputs": [
    {
     "name": "stdout",
     "output_type": "stream",
     "text": [
      "num_parameters = 2043146\n"
     ]
    }
   ],
   "source": [
    "model = LSTM(input_size=40000, hidden_size=50, num_layers=2, num_classes=46)\n",
    "num_parameters = sum(value.numel() for value in model.state_dict().values())\n",
    "print(f\"{num_parameters = }\")"
   ]
  },
  {
   "attachments": {},
   "cell_type": "markdown",
   "metadata": {},
   "source": [
    "## The Training Loop\n",
    "\n",
    "A minimal training loop in PyTorch can be constructed with three functions:\n",
    "*  `train()` that will train the model given a dataloader.\n",
    "* `test()` that will be used to evaluate the performance of the model on held-out data, e.g., a training set.\n",
    "* `run_centralised()` which will define additional elements (e.g. the optimiser) and run the training loop over N epochs.\n",
    "\n",
    "Let's construct these functions!\n"
   ]
  },
  {
   "attachments": {},
   "cell_type": "markdown",
   "metadata": {},
   "source": [
    "Let's run this for 5 epochs (you'll see it reaching close to 99% accuracy -- as expected from a centralised setup with the MNIST dataset)"
   ]
  },
  {
   "cell_type": "code",
   "execution_count": 42,
   "metadata": {},
   "outputs": [],
   "source": [
    "import torch\n",
    "import torch.nn as nn\n",
    "from torch.utils.data import DataLoader\n",
    "from torch.nn.utils.rnn import pad_sequence\n",
    "from tqdm import tqdm\n",
    "\n",
    "def collate_fn(batch):\n",
    "    data, labels = zip(*batch)\n",
    "    data_padded = pad_sequence(data, batch_first=True)\n",
    "    labels = torch.tensor(labels)\n",
    "    return data_padded, labels\n",
    "\n",
    "def train(model, trainloader, optimizer, epochs):\n",
    "    criterion = torch.nn.CrossEntropyLoss()\n",
    "    model.train()\n",
    "    for _ in tqdm(range(epochs)):\n",
    "        for text, labels in trainloader:\n",
    "            optimizer.zero_grad()\n",
    "            loss = criterion(model(text), labels)\n",
    "            loss.backward()\n",
    "            optimizer.step()\n",
    "    return model\n",
    "\n",
    "def test(model, testloader):\n",
    "    criterion = torch.nn.CrossEntropyLoss()\n",
    "    correct, loss = 0, 0.0\n",
    "    model.eval()\n",
    "    with torch.no_grad():\n",
    "        for text, labels in testloader:\n",
    "            outputs = model(text)\n",
    "            loss += criterion(outputs, labels).item()\n",
    "            _, predicted = torch.max(outputs.data, 1)\n",
    "            correct += (predicted == labels).sum().item()\n",
    "    accuracy = correct / len(testloader.dataset)\n",
    "    return loss, accuracy\n",
    "\n",
    "\n",
    "def run_centralised(epochs: int, lr: float, momentum: float = 0.9):\n",
    "    model = LSTM(input_size=40000, hidden_size=50, num_layers=2, num_classes=46)\n",
    "    optim = torch.optim.SGD(model.parameters(), lr=lr, momentum=momentum)\n",
    "\n",
    "    trainloader = DataLoader(trainset, batch_size=32, shuffle=True, collate_fn=collate_fn)\n",
    "    testloader = DataLoader(testset, batch_size=128, collate_fn=collate_fn)\n",
    "\n",
    "    trained_model = train(model, trainloader, optim, epochs)\n",
    "    loss, accuracy = test(trained_model, testloader)\n",
    "    print(f\"{loss = }\")\n",
    "    print(f\"{accuracy = }\")\n",
    "    return accuracy"
   ]
  },
  {
   "cell_type": "code",
   "execution_count": 43,
   "metadata": {},
   "outputs": [
    {
     "name": "stderr",
     "output_type": "stream",
     "text": [
      "100%|██████████| 10/10 [00:16<00:00,  1.69s/it]\n"
     ]
    },
    {
     "name": "stdout",
     "output_type": "stream",
     "text": [
      "loss = 11.012660443782806\n",
      "accuracy = 0.5566551212271152\n",
      "CPU times: user 39 s, sys: 33.7 s, total: 1min 12s\n",
      "Wall time: 17.4 s\n"
     ]
    }
   ],
   "source": [
    "%%time \n",
    "accuracy = run_centralised(epochs=10, lr=0.01)"
   ]
  },
  {
   "attachments": {},
   "cell_type": "markdown",
   "metadata": {},
   "source": [
    "The above centralised formulation has worked just fine for some applications and to showcase the potential of AI in a variety of scenarios. However, as was discussed earlier in the session, centralised training is unsuitable for a larger range of settings were information cannot be collected in order to build a unified (centralised) dataset.\n",
    "\n",
    "# The Future of AI is Federated\n",
    "\n",
    "What are the key differences between Federated Learning and Centralised Training? I you could only pick you, probably you'd say:\n",
    "* Federated Learning is distributed -- the model is trained on-device by the participating clients.\n",
    "* Data remains private and is owned by a specific _client_ -- the data is never sent to the central server.\n",
    "\n",
    "The are several more differences. But the above two are the main ones to always consider and that are common to all flavours of Federated Learning (e.g. _cross-device_ or _cross-silo_). The remaining of this tutorial is going to focus in transforming the code we have written so far for the centralised setting and construct a Federated Learning pipeline using Flower and PyTorch.\n",
    "\n",
    "Let's begin! 🚀"
   ]
  },
  {
   "attachments": {},
   "cell_type": "markdown",
   "metadata": {},
   "source": [
    "## One Client, One Data Partition\n",
    "\n",
    "To start designing a Federated Learning pipeline we need to meet one of the key properties in FL: each client has its own data partition. To accomplish this with the MNIST dataset, we are going to generate N random partitions, where N is the total number of clients in our FL system."
   ]
  },
  {
   "cell_type": "code",
   "execution_count": 44,
   "metadata": {},
   "outputs": [],
   "source": [
    "num_clients = 10"
   ]
  },
  {
   "cell_type": "code",
   "execution_count": 45,
   "metadata": {},
   "outputs": [],
   "source": [
    "from torch.utils.data import DataLoader, random_split\n",
    "\n",
    "def prepare_dataset(num_partitions: int, batch_size: int, val_ratio: float = 0.1):\n",
    "    \"\"\"This function partitions the training set into N disjoint\n",
    "    subsets, each will become the local dataset of a client. This\n",
    "    function also subsequently partitions each traininset partition\n",
    "    into train and validation. The test set is left intact and will\n",
    "    be used by the central server to assess the performance of the\n",
    "    global model.\"\"\"\n",
    "\n",
    "    # split trainset into `num_partitions` trainsets\n",
    "    num_images = len(trainset)\n",
    "    partition_len = [num_images // num_partitions] * num_partitions\n",
    "    partition_len[-1] += num_images % num_partitions  # Add remainder to the last partition\n",
    "\n",
    "    trainsets = random_split(trainset, partition_len, torch.Generator().manual_seed(2023))\n",
    "\n",
    "    # create dataloaders with train+val support\n",
    "    trainloaders = []\n",
    "    valloaders = []\n",
    "    for trainset_ in trainsets:\n",
    "        num_total = len(trainset_)\n",
    "        num_val = int(val_ratio * num_total)\n",
    "        num_train = num_total - num_val\n",
    "\n",
    "        for_train, for_val = random_split(trainset_, [num_train, num_val], torch.Generator().manual_seed(2023))\n",
    "\n",
    "        trainloaders.append(DataLoader(for_train, batch_size=batch_size, shuffle=True, num_workers=0, collate_fn=collate_fn))\n",
    "        valloaders.append(DataLoader(for_val, batch_size=batch_size, shuffle=False, num_workers=0, collate_fn=collate_fn))\n",
    "\n",
    "    # create dataloader for the test set\n",
    "    testloader = DataLoader(testset, batch_size=128, collate_fn=collate_fn)\n",
    "\n",
    "    return trainloaders, valloaders, testloader"
   ]
  },
  {
   "attachments": {},
   "cell_type": "markdown",
   "metadata": {},
   "source": [
    "Let's create 100 partitions and extract some statistics from one partition\n"
   ]
  },
  {
   "cell_type": "code",
   "execution_count": 46,
   "metadata": {
    "colab": {
     "base_uri": "https://localhost:8080/",
     "height": 508
    },
    "outputId": "0f53ca81-cb55-46ef-c8e0-4e19a4f060b2"
   },
   "outputs": [
    {
     "name": "stdout",
     "output_type": "stream",
     "text": [
      "number of images: 168\n"
     ]
    },
    {
     "data": {
      "image/png": "[encoded data removed]",
      "text/plain": [
       "<Figure size 640x480 with 1 Axes>"
      ]
     },
     "metadata": {},
     "output_type": "display_data"
    }
   ],
   "source": [
    "import matplotlib.pyplot as plt\n",
    "trainloaders, valloaders, testloader = prepare_dataset(num_partitions=num_clients, batch_size=8)\n",
    "\n",
    "# first partition\n",
    "train_partition = trainloaders[1].dataset\n",
    "\n",
    "# count data points\n",
    "partition_indices = train_partition.indices\n",
    "print(f\"number of images: {len(partition_indices)}\")\n",
    "\n",
    "# visualise histogram\n",
    "plt.hist([train_partition.dataset[idx][1].item() for idx in partition_indices], bins=4)  # 46 classes in Reuters dataset\n",
    "plt.grid()\n",
    "plt.xlabel(\"Label\")\n",
    "plt.ylabel(\"Number of images\")\n",
    "plt.title(\"Class labels distribution for Reuters\")\n",
    "plt.show()"
   ]
  },
  {
   "attachments": {},
   "cell_type": "markdown",
   "metadata": {},
   "source": [
    "As you can see, the histogram of this partition is a bit different from the one we obtained at the beginning where we took the entire dataset into consideration. Because our data partitions are artificially constructed by sampling the MNIST dataset in an IID fashion, our Federated Learning example will not face sever _data heterogeneity_ issues (which is a fairly [active research topic](https://arxiv.org/abs/1912.04977)).\n",
    "\n",
    "Let's next define how our FL clients will behave\n",
    "\n",
    "## Defining a Flower Client\n",
    "\n",
    "You can think of a client in FL as an entity that owns some data and trains a model using this data. The caveat is that the model is being trained _collaboratively_ in Federation by multiple clients (sometimes up to hundreds of thousands) and, in most instances of FL, is sent by a central server.\n",
    "\n",
    "A Flower Client is a simple Python class with four distinct methods:\n",
    "\n",
    "* `fit()`: With this method, the client does on-device training for a number of epochs using its own data. At the end, the resulting model is sent back to the server for aggregation.\n",
    "\n",
    "* `evaluate()`: With this method, the server can evaluate the performance of the global model on the local validation set of a client. This can be used for instance when there is no centralised dataset on the server for validation/test. Also, this method can be use to asses the degree of personalisation of the model being federated.\n",
    "\n",
    "* `set_parameters()`: This method takes the parameters sent by the server and uses them to initialise the parameters of the local model that is ML framework specific (e.g. TF, Pytorch, etc).\n",
    "\n",
    "* `get_parameters()`: It extract the parameters from the local model and transforms them into a list of NumPy arrays. This ML framework-agnostic representation of the model will be sent to the server.\n",
    "\n",
    "Let's start by importing Flower!"
   ]
  },
  {
   "cell_type": "code",
   "execution_count": 47,
   "metadata": {},
   "outputs": [],
   "source": [
    "import flwr as fl"
   ]
  },
  {
   "attachments": {},
   "cell_type": "markdown",
   "metadata": {},
   "source": [
    "Now let's define our Flower Client class:"
   ]
  },
  {
   "cell_type": "code",
   "execution_count": 48,
   "metadata": {},
   "outputs": [],
   "source": [
    "from collections import OrderedDict\n",
    "from typing import Dict, Tuple\n",
    "\n",
    "import torch\n",
    "from flwr.common import NDArrays, Scalar\n",
    "\n",
    "\n",
    "class FlowerClient(fl.client.NumPyClient):\n",
    "    def __init__(self, trainloader, valloader) -> None:\n",
    "        super().__init__()\n",
    "\n",
    "        self.trainloader = trainloader\n",
    "        self.valloader = valloader\n",
    "        self.model = LSTM(input_size=88585, hidden_size=50, num_layers=2, num_classes=46)\n",
    "\n",
    "    def set_parameters(self, parameters):\n",
    "        \"\"\"With the model parameters received from the server,\n",
    "        overwrite the uninitialise model in this class with them.\"\"\"\n",
    "\n",
    "        params_dict = zip(self.model.state_dict().keys(), parameters)\n",
    "        state_dict = OrderedDict({k: torch.Tensor(v) for k, v in params_dict})\n",
    "        # now replace the parameters\n",
    "        self.model.load_state_dict(state_dict, strict=True)\n",
    "\n",
    "    def get_parameters(self, config: Dict[str, Scalar]):\n",
    "        \"\"\"Extract all model parameters and convert them to a list of\n",
    "        NumPy arrays. The server doesn't work with PyTorch/TF/etc.\"\"\"\n",
    "        return [val.cpu().numpy() for _, val in self.model.state_dict().items()]\n",
    "\n",
    "    def fit(self, parameters, config):\n",
    "        \"\"\"This method train the model using the parameters sent by the\n",
    "        server on the dataset of this client. At then end, the parameters\n",
    "        of the locally trained model are communicated back to the server\"\"\"\n",
    "\n",
    "        # copy parameters sent by the server into client's local model\n",
    "        self.set_parameters(parameters)\n",
    "\n",
    "        # Define the optimizer -------------------------------------------------------------- Essentially the same as in the centralised example above\n",
    "        optim = torch.optim.SGD(self.model.parameters(), lr=0.01, momentum=0.9)\n",
    "\n",
    "        # do local training  -------------------------------------------------------------- Essentially the same as in the centralised example above (but now using the client's data instead of the whole dataset)\n",
    "        train(self.model, self.trainloader, optim, epochs=1)\n",
    "\n",
    "        # return the model parameters to the server as well as extra info (number of training examples in this case)\n",
    "        return self.get_parameters({}), len(self.trainloader), {}\n",
    "\n",
    "    def evaluate(self, parameters: NDArrays, config: Dict[str, Scalar]):\n",
    "        \"\"\"Evaluate the model sent by the server on this client's\n",
    "        local validation set. Then return performance metrics.\"\"\"\n",
    "\n",
    "        self.set_parameters(parameters)\n",
    "        loss, accuracy = test(\n",
    "            self.model, self.valloader\n",
    "        )  # <-------------------------- calls the `test` function, just what we did in the centralised setting (but this time using the client's local validation set)\n",
    "        # send statistics back to the server\n",
    "        return float(loss), len(self.valloader), {\"accuracy\": accuracy}"
   ]
  },
  {
   "attachments": {},
   "cell_type": "markdown",
   "metadata": {},
   "source": [
    "Spend a few minutes to inspect the `FlowerClient` class above. Please ask questions if there is something unclear !\n",
    "\n",
    "Then keen-eyed among you might have realised that if we were to fuse the client's `fit()` and `evaluate()` methods, we'll end up with essentially the same as in the `run_centralised()` function we used in the Centralised Training part of this tutorial. And it is true!! In Federated Learning, the way clients perform local training makes use of the same principles as more traditional centralised setup. The key difference is that the dataset now is much smaller and it's never _\"seen\"_ by the entity running the FL workload (i.e. the central server).\n",
    "\n",
    "\n",
    "Talking about the central server... we should define what strategy we want to make use of so the updated models sent from the clients back to the server at the end of the `fit()` method are aggregate.\n",
    "\n",
    "\n",
    "## Chosing a Flower Strategy\n",
    "\n",
    "\n",
    "A strategy sits at the core of the Federated Learning experiment. It is involved in all stages of a FL pipeline: sampling clients; sending the _global model_ to the clients so they can do `fit()`; receive the updated models from the clients and **aggregate** these to construct a new _global model_; define and execute global or federated evaluation; and more.\n",
    "\n",
    "Flower comes with [many strategies built-in](https://github.com/adap/flower/tree/main/src/py/flwr/server/strategy) and more to be available in the next release (`1.5` already!). For this tutorial, let's use what is arguable the most popular strategy out there: `FedAvg`.\n",
    "\n",
    "The way `FedAvg` works is simple but performs surprisingly well in practice. It is therefore one good strategy to start your experimentation. `FedAvg`, as its name implies, derives a new version of the _global model_ by taking the average of all the models sent by clients participating in the round. You can read all the details [in the paper](https://arxiv.org/abs/1602.05629).\n",
    "\n",
    "Let's see how we can define `FedAvg` using Flower. We use one of the callbacks called `evaluate_fn` so we can easily evaluate the state of the global model using a small centralised testset. Note this functionality is user-defined since it requires a choice in terms of ML-framework. (if you recall, Flower is framework agnostic).\n",
    "\n",
    "> This being said, centralised evaluation of the global model is only possible if there exists a centralised dataset that somewhat follows a similar distribution as the data that's spread across clients. In some cases having such centralised dataset for validation is not possible, so the only solution is to federate the evaluation of the _global model_. This is the default behaviour in Flower. If you don't specify teh `evaluate_fn` argument in your strategy, then, centralised global evaluation won't be performed."
   ]
  },
  {
   "cell_type": "code",
   "execution_count": 49,
   "metadata": {},
   "outputs": [],
   "source": [
    "def get_evaluate_fn(testloader):\n",
    "    \"\"\"This is a function that returns a function. The returned\n",
    "    function (i.e. `evaluate_fn`) will be executed by the strategy\n",
    "    at the end of each round to evaluate the stat of the global\n",
    "    model.\"\"\"\n",
    "\n",
    "    def evaluate_fn(server_round: int, parameters, config):\n",
    "        \"\"\"This function is executed by the strategy it will instantiate\n",
    "        a model and replace its parameters with those from the global model.\n",
    "        The, the model will be evaluate on the test set (recall this is the\n",
    "        whole MNIST test set).\"\"\"\n",
    "\n",
    "        model = LSTM(input_size=88585, hidden_size=50, num_layers=2, num_classes=46)\n",
    "\n",
    "        # set parameters to the model\n",
    "        params_dict = zip(model.state_dict().keys(), parameters)\n",
    "        state_dict = OrderedDict({k: torch.Tensor(v) for k, v in params_dict})\n",
    "        model.load_state_dict(state_dict, strict=True)\n",
    "\n",
    "        # call test\n",
    "        loss, accuracy = test(\n",
    "            model, testloader\n",
    "        )  # <-------------------------- calls the `test` function, just what we did in the centralised setting\n",
    "        return loss, {\"accuracy\": accuracy}\n",
    "\n",
    "    return evaluate_fn\n",
    "\n",
    "\n",
    "# now we can define the strategy\n",
    "strategy = fl.server.strategy.FedAvg(\n",
    "    fraction_fit=1,  # let's sample 10% of the client each round to do local training\n",
    "    fraction_evaluate=0.2,  # after each round, let's sample 20% of the clients to asses how well the global model is doing\n",
    "    min_available_clients=num_clients,  # total number of clients available in the experiment\n",
    "    evaluate_fn=get_evaluate_fn(testloader),\n",
    ")  # a callback to a function that the strategy can execute to evaluate the state of the global model on a centralised dataset"
   ]
  },
  {
   "attachments": {},
   "cell_type": "markdown",
   "metadata": {},
   "source": [
    "So far we have:\n",
    "* created the dataset partitions (one for each client)\n",
    "* defined the client class\n",
    "* decided on a strategy to use\n",
    "\n",
    "Now we just need to launch the Flower FL experiment... not so fast! just one final function: let's create another callback that the Simulation Engine will use in order to span VirtualClients. As you can see this is really simple: construct a FlowerClient object, assigning each their own data partition."
   ]
  },
  {
   "cell_type": "code",
   "execution_count": 50,
   "metadata": {},
   "outputs": [],
   "source": [
    "def generate_client_fn(trainloaders, valloaders):\n",
    "    def client_fn(cid: str):\n",
    "        \"\"\"Returns a FlowerClient containing the cid-th data partition\"\"\"\n",
    "\n",
    "        return FlowerClient(\n",
    "            trainloader=trainloaders[int(cid)], valloader=valloaders[int(cid)]\n",
    "        ).to_client()\n",
    "\n",
    "    return client_fn\n",
    "\n",
    "\n",
    "client_fn_callback = generate_client_fn(trainloaders, valloaders)"
   ]
  },
  {
   "attachments": {},
   "cell_type": "markdown",
   "metadata": {},
   "source": [
    "Now we are ready to launch the FL experiment using Flower simulation:"
   ]
  },
  {
   "cell_type": "code",
   "execution_count": 51,
   "metadata": {
    "colab": {
     "base_uri": "https://localhost:8080/"
    },
    "outputId": "9ad8dcea-8004-4c6e-a025-e168da636c88"
   },
   "outputs": [
    {
     "name": "stderr",
     "output_type": "stream",
     "text": [
      "\u001b[92mINFO \u001b[0m:      Starting Flower simulation, config: num_rounds=10, no round_timeout\n",
      "2024-07-25 21:58:46,491\tINFO worker.py:1724 -- Started a local Ray instance.\n",
      "\u001b[92mINFO \u001b[0m:      Flower VCE: Ray initialized with resources: {'memory': 8346782925.0, 'node:__internal_head__': 1.0, 'object_store_memory': 2147483648.0, 'CPU': 10.0, 'node:127.0.0.1': 1.0}\n",
      "\u001b[92mINFO \u001b[0m:      Optimize your simulation with Flower VCE: https://flower.ai/docs/framework/how-to-run-simulations.html\n",
      "\u001b[92mINFO \u001b[0m:      No `client_resources` specified. Using minimal resources for clients.\n",
      "\u001b[92mINFO \u001b[0m:      Flower VCE: Resources for each Virtual Client: {'num_cpus': 1, 'num_gpus': 0.0}\n",
      "\u001b[92mINFO \u001b[0m:      Flower VCE: Creating VirtualClientEngineActorPool with 10 actors\n",
      "\u001b[92mINFO \u001b[0m:      [INIT]\n",
      "\u001b[92mINFO \u001b[0m:      Requesting initial parameters from one random client\n",
      "/Users/maxkleinegger/miniconda3/lib/python3.9/site-packages/ray/_private/pydantic_compat.py:2: DeprecationWarning: pkg_resources is deprecated as an API. See https://setuptools.pypa.io/en/latest/pkg_resources.html\n",
      "  from pkg_resources import packaging\n",
      "/Users/maxkleinegger/miniconda3/lib/python3.9/site-packages/pkg_resources/__init__.py:2871: DeprecationWarning: Deprecated call to `pkg_resources.declare_namespace('google')`.\n",
      "Implementing implicit namespace packages (as specified in PEP 420) is preferred to `pkg_resources.declare_namespace`. See https://setuptools.pypa.io/en/latest/references/keywords.html#keyword-namespace-packages\n",
      "  declare_namespace(pkg)\n",
      "/Users/maxkleinegger/miniconda3/lib/python3.9/site-packages/pkg_resources/__init__.py:2871: DeprecationWarning: Deprecated call to `pkg_resources.declare_namespace('ruamel')`.\n",
      "Implementing implicit namespace packages (as specified in PEP 420) is preferred to `pkg_resources.declare_namespace`. See https://setuptools.pypa.io/en/latest/references/keywords.html#keyword-namespace-packages\n",
      "  declare_namespace(pkg)\n",
      "/Users/maxkleinegger/miniconda3/lib/python3.9/site-packages/pkg_resources/__init__.py:2871: DeprecationWarning: Deprecated call to `pkg_resources.declare_namespace('sphinxcontrib')`.\n",
      "Implementing implicit namespace packages (as specified in PEP 420) is preferred to `pkg_resources.declare_namespace`. See https://setuptools.pypa.io/en/latest/references/keywords.html#keyword-namespace-packages\n",
      "  declare_namespace(pkg)\n",
      "\u001b[36m(pid=8850)\u001b[0m /Users/maxkleinegger/miniconda3/lib/python3.9/site-packages/pandas/core/arrays/masked.py:60: UserWarning: Pandas requires version '1.3.6' or newer of 'bottleneck' (version '1.3.5' currently installed).\n",
      "\u001b[36m(pid=8850)\u001b[0m   from pandas.core import (\n",
      "\u001b[36m(ClientAppActor pid=8856)\u001b[0m /Users/maxkleinegger/miniconda3/lib/python3.9/site-packages/ray/_private/pydantic_compat.py:2: DeprecationWarning: pkg_resources is deprecated as an API. See https://setuptools.pypa.io/en/latest/pkg_resources.html\n",
      "\u001b[36m(ClientAppActor pid=8856)\u001b[0m   from pkg_resources import packaging\n",
      "\u001b[36m(ClientAppActor pid=8856)\u001b[0m /Users/maxkleinegger/miniconda3/lib/python3.9/site-packages/pkg_resources/__init__.py:2871: DeprecationWarning: Deprecated call to `pkg_resources.declare_namespace('google')`.\n",
      "\u001b[36m(ClientAppActor pid=8856)\u001b[0m Implementing implicit namespace packages (as specified in PEP 420) is preferred to `pkg_resources.declare_namespace`. See https://setuptools.pypa.io/en/latest/references/keywords.html#keyword-namespace-packages\n",
      "\u001b[36m(ClientAppActor pid=8856)\u001b[0m   declare_namespace(pkg)\n",
      "\u001b[36m(ClientAppActor pid=8856)\u001b[0m /Users/maxkleinegger/miniconda3/lib/python3.9/site-packages/pkg_resources/__init__.py:2871: DeprecationWarning: Deprecated call to `pkg_resources.declare_namespace('ruamel')`.\n",
      "\u001b[36m(ClientAppActor pid=8856)\u001b[0m Implementing implicit namespace packages (as specified in PEP 420) is preferred to `pkg_resources.declare_namespace`. See https://setuptools.pypa.io/en/latest/references/keywords.html#keyword-namespace-packages\n",
      "\u001b[36m(ClientAppActor pid=8856)\u001b[0m   declare_namespace(pkg)\n",
      "\u001b[36m(ClientAppActor pid=8856)\u001b[0m /Users/maxkleinegger/miniconda3/lib/python3.9/site-packages/pkg_resources/__init__.py:2871: DeprecationWarning: Deprecated call to `pkg_resources.declare_namespace('sphinxcontrib')`.\n",
      "\u001b[36m(ClientAppActor pid=8856)\u001b[0m Implementing implicit namespace packages (as specified in PEP 420) is preferred to `pkg_resources.declare_namespace`. See https://setuptools.pypa.io/en/latest/references/keywords.html#keyword-namespace-packages\n",
      "\u001b[36m(ClientAppActor pid=8856)\u001b[0m   declare_namespace(pkg)\n",
      "\u001b[92mINFO \u001b[0m:      Received initial parameters from one random client\n",
      "\u001b[92mINFO \u001b[0m:      Evaluating initial global parameters\n",
      "\u001b[92mINFO \u001b[0m:      initial parameters (loss, other metrics): 61.31251335144043, {'accuracy': 0.0}\n",
      "\u001b[92mINFO \u001b[0m:      \n",
      "\u001b[92mINFO \u001b[0m:      [ROUND 1]\n",
      "\u001b[92mINFO \u001b[0m:      configure_fit: strategy sampled 10 clients (out of 10)\n",
      "  0%|          | 0/1 [00:00<?, ?it/s]\n",
      "100%|██████████| 1/1 [00:01<00:00,  1.15s/it]\n",
      "\u001b[36m(pid=8856)\u001b[0m /Users/maxkleinegger/miniconda3/lib/python3.9/site-packages/pandas/core/arrays/masked.py:60: UserWarning: Pandas requires version '1.3.6' or newer of 'bottleneck' (version '1.3.5' currently installed).\u001b[32m [repeated 9x across cluster] (Ray deduplicates logs by default. Set RAY_DEDUP_LOGS=0 to disable log deduplication, or see https://docs.ray.io/en/master/ray-observability/ray-logging.html#log-deduplication for more options.)\u001b[0m\n",
      "\u001b[36m(pid=8856)\u001b[0m   from pandas.core import (\u001b[32m [repeated 9x across cluster]\u001b[0m\n",
      "\u001b[36m(ClientAppActor pid=8849)\u001b[0m /Users/maxkleinegger/miniconda3/lib/python3.9/site-packages/ray/_private/pydantic_compat.py:2: DeprecationWarning: pkg_resources is deprecated as an API. See https://setuptools.pypa.io/en/latest/pkg_resources.html\u001b[32m [repeated 9x across cluster]\u001b[0m\n",
      "\u001b[36m(ClientAppActor pid=8849)\u001b[0m   from pkg_resources import packaging\u001b[32m [repeated 9x across cluster]\u001b[0m\n",
      "\u001b[36m(ClientAppActor pid=8847)\u001b[0m /Users/maxkleinegger/miniconda3/lib/python3.9/site-packages/pkg_resources/__init__.py:2871: DeprecationWarning: Deprecated call to `pkg_resources.declare_namespace('google')`.\u001b[32m [repeated 9x across cluster]\u001b[0m\n",
      "\u001b[36m(ClientAppActor pid=8847)\u001b[0m Implementing implicit namespace packages (as specified in PEP 420) is preferred to `pkg_resources.declare_namespace`. See https://setuptools.pypa.io/en/latest/references/keywords.html#keyword-namespace-packages\u001b[32m [repeated 27x across cluster]\u001b[0m\n",
      "\u001b[36m(ClientAppActor pid=8847)\u001b[0m   declare_namespace(pkg)\u001b[32m [repeated 27x across cluster]\u001b[0m\n",
      "\u001b[36m(ClientAppActor pid=8847)\u001b[0m /Users/maxkleinegger/miniconda3/lib/python3.9/site-packages/pkg_resources/__init__.py:2871: DeprecationWarning: Deprecated call to `pkg_resources.declare_namespace('ruamel')`.\u001b[32m [repeated 9x across cluster]\u001b[0m\n",
      "\u001b[36m(ClientAppActor pid=8847)\u001b[0m /Users/maxkleinegger/miniconda3/lib/python3.9/site-packages/pkg_resources/__init__.py:2871: DeprecationWarning: Deprecated call to `pkg_resources.declare_namespace('sphinxcontrib')`.\u001b[32m [repeated 9x across cluster]\u001b[0m\n",
      "\u001b[92mINFO \u001b[0m:      aggregate_fit: received 10 results and 0 failures\n",
      "\u001b[93mWARNING \u001b[0m:   No fit_metrics_aggregation_fn provided\n",
      "\u001b[92mINFO \u001b[0m:      fit progress: (1, 39.50059747695923, {'accuracy': 0.5566551212271152}, 6.161691125000061)\n",
      "\u001b[92mINFO \u001b[0m:      configure_evaluate: strategy sampled 2 clients (out of 10)\n",
      "\u001b[92mINFO \u001b[0m:      aggregate_evaluate: received 2 results and 0 failures\n",
      "\u001b[93mWARNING \u001b[0m:   No evaluate_metrics_aggregation_fn provided\n",
      "\u001b[92mINFO \u001b[0m:      \n",
      "\u001b[92mINFO \u001b[0m:      [ROUND 2]\n",
      "\u001b[92mINFO \u001b[0m:      configure_fit: strategy sampled 10 clients (out of 10)\n",
      "  0%|          | 0/1 [00:00<?, ?it/s]\u001b[32m [repeated 10x across cluster]\u001b[0m\n",
      "100%|██████████| 1/1 [00:00<00:00,  1.39it/s]\u001b[32m [repeated 9x across cluster]\u001b[0m\n",
      "\u001b[92mINFO \u001b[0m:      aggregate_fit: received 10 results and 0 failures\n",
      "\u001b[92mINFO \u001b[0m:      fit progress: (2, 15.725207567214966, {'accuracy': 0.5566551212271152}, 8.51559566700007)\n",
      "\u001b[92mINFO \u001b[0m:      configure_evaluate: strategy sampled 2 clients (out of 10)\n",
      "\u001b[92mINFO \u001b[0m:      aggregate_evaluate: received 2 results and 0 failures\n",
      "\u001b[92mINFO \u001b[0m:      \n",
      "\u001b[92mINFO \u001b[0m:      [ROUND 3]\n",
      "\u001b[92mINFO \u001b[0m:      configure_fit: strategy sampled 10 clients (out of 10)\n",
      "\u001b[92mINFO \u001b[0m:      aggregate_fit: received 10 results and 0 failures\n",
      "\u001b[92mINFO \u001b[0m:      fit progress: (3, 11.945423185825348, {'accuracy': 0.5566551212271152}, 10.553091999999992)\n",
      "\u001b[92mINFO \u001b[0m:      configure_evaluate: strategy sampled 2 clients (out of 10)\n",
      "\u001b[92mINFO \u001b[0m:      aggregate_evaluate: received 2 results and 0 failures\n",
      "\u001b[92mINFO \u001b[0m:      \n",
      "\u001b[92mINFO \u001b[0m:      [ROUND 4]\n",
      "\u001b[92mINFO \u001b[0m:      configure_fit: strategy sampled 10 clients (out of 10)\n",
      "  0%|          | 0/1 [00:00<?, ?it/s]\u001b[32m [repeated 29x across cluster]\u001b[0m\n",
      "\u001b[92mINFO \u001b[0m:      aggregate_fit: received 10 results and 0 failures\n",
      "100%|██████████| 1/1 [00:00<00:00,  1.11it/s]\u001b[32m [repeated 31x across cluster]\u001b[0m\n",
      "\u001b[92mINFO \u001b[0m:      fit progress: (4, 11.44998836517334, {'accuracy': 0.5566551212271152}, 12.743491124999991)\n",
      "\u001b[92mINFO \u001b[0m:      configure_evaluate: strategy sampled 2 clients (out of 10)\n",
      "\u001b[92mINFO \u001b[0m:      aggregate_evaluate: received 2 results and 0 failures\n",
      "\u001b[92mINFO \u001b[0m:      \n",
      "\u001b[92mINFO \u001b[0m:      [ROUND 5]\n",
      "\u001b[92mINFO \u001b[0m:      configure_fit: strategy sampled 10 clients (out of 10)\n",
      "\u001b[92mINFO \u001b[0m:      aggregate_fit: received 10 results and 0 failures\n",
      "\u001b[92mINFO \u001b[0m:      fit progress: (5, 11.277565002441406, {'accuracy': 0.5566551212271152}, 15.34046566699999)\n",
      "\u001b[92mINFO \u001b[0m:      configure_evaluate: strategy sampled 2 clients (out of 10)\n",
      "\u001b[92mINFO \u001b[0m:      aggregate_evaluate: received 2 results and 0 failures\n",
      "\u001b[92mINFO \u001b[0m:      \n",
      "\u001b[92mINFO \u001b[0m:      [ROUND 6]\n",
      "\u001b[92mINFO \u001b[0m:      configure_fit: strategy sampled 10 clients (out of 10)\n",
      "  0%|          | 0/1 [00:00<?, ?it/s]\u001b[32m [repeated 20x across cluster]\u001b[0m\n",
      "\u001b[92mINFO \u001b[0m:      aggregate_fit: received 10 results and 0 failures\n",
      "\u001b[92mINFO \u001b[0m:      fit progress: (6, 11.221753478050232, {'accuracy': 0.5566551212271152}, 17.569483542000057)\n",
      "\u001b[92mINFO \u001b[0m:      configure_evaluate: strategy sampled 2 clients (out of 10)\n",
      "\u001b[92mINFO \u001b[0m:      aggregate_evaluate: received 2 results and 0 failures\n",
      "\u001b[92mINFO \u001b[0m:      \n",
      "\u001b[92mINFO \u001b[0m:      [ROUND 7]\n",
      "\u001b[92mINFO \u001b[0m:      configure_fit: strategy sampled 10 clients (out of 10)\n",
      "100%|██████████| 1/1 [00:00<00:00,  1.15it/s]\u001b[32m [repeated 20x across cluster]\u001b[0m\n",
      "\u001b[92mINFO \u001b[0m:      aggregate_fit: received 10 results and 0 failures\n",
      "\u001b[92mINFO \u001b[0m:      fit progress: (7, 11.205383539199829, {'accuracy': 0.5566551212271152}, 19.615556542000036)\n",
      "\u001b[92mINFO \u001b[0m:      configure_evaluate: strategy sampled 2 clients (out of 10)\n",
      "\u001b[92mINFO \u001b[0m:      aggregate_evaluate: received 2 results and 0 failures\n",
      "\u001b[92mINFO \u001b[0m:      \n",
      "\u001b[92mINFO \u001b[0m:      [ROUND 8]\n",
      "\u001b[92mINFO \u001b[0m:      configure_fit: strategy sampled 10 clients (out of 10)\n",
      "\u001b[92mINFO \u001b[0m:      aggregate_fit: received 10 results and 0 failures\n",
      "\u001b[92mINFO \u001b[0m:      fit progress: (8, 11.205076575279236, {'accuracy': 0.5566551212271152}, 21.985939125000073)\n",
      "\u001b[92mINFO \u001b[0m:      configure_evaluate: strategy sampled 2 clients (out of 10)\n",
      "\u001b[92mINFO \u001b[0m:      aggregate_evaluate: received 2 results and 0 failures\n",
      "\u001b[92mINFO \u001b[0m:      \n",
      "\u001b[92mINFO \u001b[0m:      [ROUND 9]\n",
      "\u001b[92mINFO \u001b[0m:      configure_fit: strategy sampled 10 clients (out of 10)\n",
      "  0%|          | 0/1 [00:00<?, ?it/s]\u001b[32m [repeated 21x across cluster]\u001b[0m\n",
      "100%|██████████| 1/1 [00:00<00:00,  1.22it/s]\u001b[32m [repeated 21x across cluster]\u001b[0m\n",
      "\u001b[92mINFO \u001b[0m:      aggregate_fit: received 10 results and 0 failures\n",
      "\u001b[92mINFO \u001b[0m:      fit progress: (9, 11.10026478767395, {'accuracy': 0.5566551212271152}, 24.04438049999999)\n",
      "\u001b[92mINFO \u001b[0m:      configure_evaluate: strategy sampled 2 clients (out of 10)\n",
      "\u001b[92mINFO \u001b[0m:      aggregate_evaluate: received 2 results and 0 failures\n",
      "\u001b[92mINFO \u001b[0m:      \n",
      "\u001b[92mINFO \u001b[0m:      [ROUND 10]\n",
      "\u001b[92mINFO \u001b[0m:      configure_fit: strategy sampled 10 clients (out of 10)\n",
      "\u001b[92mINFO \u001b[0m:      aggregate_fit: received 10 results and 0 failures\n",
      "\u001b[92mINFO \u001b[0m:      fit progress: (10, 11.130019843578339, {'accuracy': 0.5566551212271152}, 25.95554641700005)\n",
      "\u001b[92mINFO \u001b[0m:      configure_evaluate: strategy sampled 2 clients (out of 10)\n",
      "\u001b[92mINFO \u001b[0m:      aggregate_evaluate: received 2 results and 0 failures\n",
      "\u001b[92mINFO \u001b[0m:      \n",
      "\u001b[92mINFO \u001b[0m:      [SUMMARY]\n",
      "\u001b[92mINFO \u001b[0m:      Run finished 10 round(s) in 26.09s\n",
      "\u001b[92mINFO \u001b[0m:      \tHistory (loss, distributed):\n",
      "\u001b[92mINFO \u001b[0m:      \t\tround 1: 7.912043929100037\n",
      "\u001b[92mINFO \u001b[0m:      \t\tround 2: 3.302290290594101\n",
      "\u001b[92mINFO \u001b[0m:      \t\tround 3: 2.4864051043987274\n",
      "\u001b[92mINFO \u001b[0m:      \t\tround 4: 2.2297935485839844\n",
      "\u001b[92mINFO \u001b[0m:      \t\tround 5: 2.2134902477264404\n",
      "\u001b[92mINFO \u001b[0m:      \t\tround 6: 2.2926248013973236\n",
      "\u001b[92mINFO \u001b[0m:      \t\tround 7: 2.2768574953079224\n",
      "\u001b[92mINFO \u001b[0m:      \t\tround 8: 2.1292582750320435\n",
      "\u001b[92mINFO \u001b[0m:      \t\tround 9: 2.181954324245453\n",
      "\u001b[92mINFO \u001b[0m:      \t\tround 10: 2.208342105150223\n",
      "\u001b[92mINFO \u001b[0m:      \tHistory (loss, centralized):\n",
      "\u001b[92mINFO \u001b[0m:      \t\tround 0: 61.31251335144043\n",
      "\u001b[92mINFO \u001b[0m:      \t\tround 1: 39.50059747695923\n",
      "\u001b[92mINFO \u001b[0m:      \t\tround 2: 15.725207567214966\n",
      "\u001b[92mINFO \u001b[0m:      \t\tround 3: 11.945423185825348\n",
      "\u001b[92mINFO \u001b[0m:      \t\tround 4: 11.44998836517334\n",
      "\u001b[92mINFO \u001b[0m:      \t\tround 5: 11.277565002441406\n",
      "\u001b[92mINFO \u001b[0m:      \t\tround 6: 11.221753478050232\n",
      "\u001b[92mINFO \u001b[0m:      \t\tround 7: 11.205383539199829\n",
      "\u001b[92mINFO \u001b[0m:      \t\tround 8: 11.205076575279236\n",
      "\u001b[92mINFO \u001b[0m:      \t\tround 9: 11.10026478767395\n",
      "\u001b[92mINFO \u001b[0m:      \t\tround 10: 11.130019843578339\n",
      "\u001b[92mINFO \u001b[0m:      \tHistory (metrics, centralized):\n",
      "\u001b[92mINFO \u001b[0m:      \t{'accuracy': [(0, 0.0),\n",
      "\u001b[92mINFO \u001b[0m:      \t              (1, 0.5566551212271152),\n",
      "\u001b[92mINFO \u001b[0m:      \t              (2, 0.5566551212271152),\n",
      "\u001b[92mINFO \u001b[0m:      \t              (3, 0.5566551212271152),\n",
      "\u001b[92mINFO \u001b[0m:      \t              (4, 0.5566551212271152),\n",
      "\u001b[92mINFO \u001b[0m:      \t              (5, 0.5566551212271152),\n",
      "\u001b[92mINFO \u001b[0m:      \t              (6, 0.5566551212271152),\n",
      "\u001b[92mINFO \u001b[0m:      \t              (7, 0.5566551212271152),\n",
      "\u001b[92mINFO \u001b[0m:      \t              (8, 0.5566551212271152),\n",
      "\u001b[92mINFO \u001b[0m:      \t              (9, 0.5566551212271152),\n",
      "\u001b[92mINFO \u001b[0m:      \t              (10, 0.5566551212271152)]}\n",
      "\u001b[92mINFO \u001b[0m:      \n"
     ]
    },
    {
     "name": "stdout",
     "output_type": "stream",
     "text": [
      "CPU times: user 18.9 s, sys: 17.4 s, total: 36.3 s\n",
      "Wall time: 36.8 s\n"
     ]
    }
   ],
   "source": [
    "%%time\n",
    "history = fl.simulation.start_simulation(\n",
    "    client_fn=client_fn_callback,  # a callback to construct a client\n",
    "    num_clients=num_clients,  # total number of clients in the experiment\n",
    "    config=fl.server.ServerConfig(num_rounds=10),  # let's run for 10 rounds\n",
    "    strategy=strategy,  # the strategy that will orchestrate the whole FL pipeline\n",
    ")"
   ]
  },
  {
   "attachments": {},
   "cell_type": "markdown",
   "metadata": {},
   "source": [
    "Doing 10 rounds should take less than 2 minutes on a CPU-only Colab instance <-- Flower Simulation is fast! 🚀\n",
    "\n",
    "You can then use the returned `History` object to either save the results to disk or do some visualisation (or both of course, or neither if you like chaos). Below you can see how you can plot the centralised accuracy obtained at the end of each round (including at the very beginning of the experiment) for the _global model_. This is want the function `evaluate_fn()` that we passed to the strategy reports."
   ]
  },
  {
   "cell_type": "code",
   "execution_count": 52,
   "metadata": {
    "colab": {
     "base_uri": "https://localhost:8080/",
     "height": 508
    },
    "outputId": "d8eab106-cee9-4266-9082-0944882cdba8"
   },
   "outputs": [
    {
     "name": "stdout",
     "output_type": "stream",
     "text": [
      "history.metrics_centralized = {'accuracy': [(0, 0.0), (1, 0.5566551212271152), (2, 0.5566551212271152), (3, 0.5566551212271152), (4, 0.5566551212271152), (5, 0.5566551212271152), (6, 0.5566551212271152), (7, 0.5566551212271152), (8, 0.5566551212271152), (9, 0.5566551212271152), (10, 0.5566551212271152)]}\n"
     ]
    },
    {
     "data": {
      "image/png": "[encoded data removed]",
      "text/plain": [
       "<Figure size 640x480 with 1 Axes>"
      ]
     },
     "metadata": {},
     "output_type": "display_data"
    }
   ],
   "source": [
    "# Assuming `history.metrics_centralized` contains the data as described\n",
    "print(f\"{history.metrics_centralized = }\")\n",
    "\n",
    "global_accuracy_centralised = history.metrics_centralized[\"accuracy\"]\n",
    "rounds = [data[0] for data in global_accuracy_centralised]\n",
    "acc = [100.0 * data[1] for data in global_accuracy_centralised]\n",
    "\n",
    "plt.plot(rounds, acc, label='Accuracy')\n",
    "plt.axhline(y=accuracy*100, color='r', linestyle='--', label='Centralized')\n",
    "plt.grid()\n",
    "plt.ylabel(\"Accuracy (%)\")\n",
    "plt.xlabel(\"Round\")\n",
    "plt.title(\"MNIST - IID - 100 clients with 10 clients per round\")\n",
    "plt.legend()\n",
    "\n",
    "plt.show()"
   ]
  },
  {
   "cell_type": "markdown",
   "metadata": {},
   "source": [
    "## What's next?\n",
    "\n",
    "Well, if you enjoyed this content, consider giving us a ⭐️ on GitHub -> https://github.com/adap/flower\n",
    "\n",
    "* **[DOCS]** How about running your Flower clients on the GPU? find out how to do it in the [Flower Simulation Documentation](https://flower.ai/docs/framework/how-to-run-simulations.html)\n",
    "\n",
    "* **[VIDEO]** You can follow our [detailed line-by-line 9-videos tutorial](https://www.youtube.com/watch?v=cRebUIGB5RU&list=PLNG4feLHqCWlnj8a_E1A_n5zr2-8pafTB) about everything you need to know to design your own Flower Simulation pipelines\n",
    "\n",
    "* Check more advanced simulation examples the Flower GitHub:\n",
    "\n",
    "    * Flower simulation with Tensorflow/Keras: [![Open in Colab](https://colab.research.google.com/assets/colab-badge.svg)](https://github.com/adap/flower/tree/main/examples/simulation-tensorflow)\n",
    "\n",
    "    * Flower simulation with Pytorch: [![Open in Colab](https://colab.research.google.com/assets/colab-badge.svg)](https://github.com/adap/flower/tree/main/examples/simulation-pytorch)\n",
    "\n",
    "* **[DOCS]** All Flower examples: https://flower.ai/docs/examples/\n",
    "\n",
    "* **[VIDEO]** Our Youtube channel: https://www.youtube.com/@flowerlabs\n",
    "\n",
    "Don't forget to join our Slack channel: https://flower.ai/join-slack/\n"
   ]
  },
  {
   "cell_type": "markdown",
   "metadata": {},
   "source": [
    "## What's next?\n",
    "\n",
    "Well, if you enjoyed this content, consider giving us a ⭐️ on GitHub -> https://github.com/adap/flower\n",
    "\n",
    "* **[DOCS]** How about running your Flower clients on the GPU? find out how to do it in the [Flower Simulation Documentation](https://flower.ai/docs/framework/how-to-run-simulations.html)\n",
    "\n",
    "* **[VIDEO]** You can follow our [detailed line-by-line 9-videos tutorial](https://www.youtube.com/watch?v=cRebUIGB5RU&list=PLNG4feLHqCWlnj8a_E1A_n5zr2-8pafTB) about everything you need to know to design your own Flower Simulation pipelines\n",
    "\n",
    "* Check more advanced simulation examples the Flower GitHub:\n",
    "\n",
    "    * Flower simulation with Tensorflow/Keras: [![Open in Colab](https://colab.research.google.com/assets/colab-badge.svg)](https://github.com/adap/flower/tree/main/examples/simulation-tensorflow)\n",
    "\n",
    "    * Flower simulation with Pytorch: [![Open in Colab](https://colab.research.google.com/assets/colab-badge.svg)](https://github.com/adap/flower/tree/main/examples/simulation-pytorch)\n",
    "\n",
    "* **[DOCS]** All Flower examples: https://flower.ai/docs/examples/\n",
    "\n",
    "* **[VIDEO]** Our Youtube channel: https://www.youtube.com/@flowerlabs\n",
    "\n",
    "Don't forget to join our Slack channel: https://flower.ai/join-slack/\n"
   ]
  }
 ],
 "metadata": {
  "colab": {
   "provenance": [],
   "toc_visible": true
  },
  "kernelspec": {
   "display_name": "Python 3",
   "name": "python3"
  },
  "language_info": {
   "codemirror_mode": {
    "name": "ipython",
    "version": 3
   },
   "file_extension": ".py",
   "mimetype": "text/x-python",
   "name": "python",
   "nbconvert_exporter": "python",
   "pygments_lexer": "ipython3",
   "version": "3.9.18"
  }
 },
 "nbformat": 4,
 "nbformat_minor": 0
}
