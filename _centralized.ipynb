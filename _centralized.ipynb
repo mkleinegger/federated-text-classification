{
 "cells": [
  {
   "cell_type": "code",
   "execution_count": 3,
   "metadata": {},
   "outputs": [],
   "source": [
    "%load_ext autoreload\n",
    "%autoreload 2"
   ]
  },
  {
   "cell_type": "code",
   "execution_count": 18,
   "metadata": {},
   "outputs": [
    {
     "name": "stdout",
     "output_type": "stream",
     "text": [
      "Requirement already satisfied: torch in ./venv/lib/python3.9/site-packages (2.4.0)\n",
      "Requirement already satisfied: scikit-learn in ./venv/lib/python3.9/site-packages (1.5.1)\n",
      "Requirement already satisfied: pandas in ./venv/lib/python3.9/site-packages (2.2.2)\n",
      "Requirement already satisfied: nltk in ./venv/lib/python3.9/site-packages (3.8.1)\n",
      "Requirement already satisfied: matplotlib in ./venv/lib/python3.9/site-packages (3.9.1)\n",
      "Requirement already satisfied: flwr in ./venv/lib/python3.9/site-packages (1.10.0)\n",
      "Collecting datasets\n",
      "  Downloading datasets-2.20.0-py3-none-any.whl (547 kB)\n",
      "\u001b[2K     \u001b[90m━━━━━━━━━━━━━━━━━━━━━━━━━━━━━━━━━━━━━━━\u001b[0m \u001b[32m547.8/547.8 kB\u001b[0m \u001b[31m4.1 MB/s\u001b[0m eta \u001b[36m0:00:00\u001b[0ma \u001b[36m0:00:01\u001b[0m\n",
      "\u001b[?25hRequirement already satisfied: sympy in ./venv/lib/python3.9/site-packages (from torch) (1.13.1)\n",
      "Requirement already satisfied: fsspec in ./venv/lib/python3.9/site-packages (from torch) (2024.6.1)\n",
      "Requirement already satisfied: jinja2 in ./venv/lib/python3.9/site-packages (from torch) (3.1.4)\n",
      "Requirement already satisfied: filelock in ./venv/lib/python3.9/site-packages (from torch) (3.15.4)\n",
      "Requirement already satisfied: typing-extensions>=4.8.0 in ./venv/lib/python3.9/site-packages (from torch) (4.12.2)\n",
      "Requirement already satisfied: networkx in ./venv/lib/python3.9/site-packages (from torch) (3.2.1)\n",
      "Requirement already satisfied: threadpoolctl>=3.1.0 in ./venv/lib/python3.9/site-packages (from scikit-learn) (3.5.0)\n",
      "Requirement already satisfied: scipy>=1.6.0 in ./venv/lib/python3.9/site-packages (from scikit-learn) (1.13.1)\n",
      "Requirement already satisfied: numpy>=1.19.5 in ./venv/lib/python3.9/site-packages (from scikit-learn) (1.26.4)\n",
      "Requirement already satisfied: joblib>=1.2.0 in ./venv/lib/python3.9/site-packages (from scikit-learn) (1.4.2)\n",
      "Requirement already satisfied: tzdata>=2022.7 in ./venv/lib/python3.9/site-packages (from pandas) (2024.1)\n",
      "Requirement already satisfied: pytz>=2020.1 in ./venv/lib/python3.9/site-packages (from pandas) (2024.1)\n",
      "Requirement already satisfied: python-dateutil>=2.8.2 in ./venv/lib/python3.9/site-packages (from pandas) (2.9.0.post0)\n",
      "Requirement already satisfied: click in ./venv/lib/python3.9/site-packages (from nltk) (8.1.7)\n",
      "Requirement already satisfied: tqdm in ./venv/lib/python3.9/site-packages (from nltk) (4.66.4)\n",
      "Requirement already satisfied: regex>=2021.8.3 in ./venv/lib/python3.9/site-packages (from nltk) (2024.7.24)\n",
      "Requirement already satisfied: kiwisolver>=1.3.1 in ./venv/lib/python3.9/site-packages (from matplotlib) (1.4.5)\n",
      "Requirement already satisfied: cycler>=0.10 in ./venv/lib/python3.9/site-packages (from matplotlib) (0.12.1)\n",
      "Requirement already satisfied: pyparsing>=2.3.1 in ./venv/lib/python3.9/site-packages (from matplotlib) (3.1.2)\n",
      "Requirement already satisfied: pillow>=8 in ./venv/lib/python3.9/site-packages (from matplotlib) (10.4.0)\n",
      "Requirement already satisfied: fonttools>=4.22.0 in ./venv/lib/python3.9/site-packages (from matplotlib) (4.53.1)\n",
      "Requirement already satisfied: contourpy>=1.0.1 in ./venv/lib/python3.9/site-packages (from matplotlib) (1.2.1)\n",
      "Requirement already satisfied: importlib-resources>=3.2.0 in ./venv/lib/python3.9/site-packages (from matplotlib) (6.4.0)\n",
      "Requirement already satisfied: packaging>=20.0 in ./venv/lib/python3.9/site-packages (from matplotlib) (24.1)\n",
      "Requirement already satisfied: typer[all]<0.10.0,>=0.9.0 in ./venv/lib/python3.9/site-packages (from flwr) (0.9.4)\n",
      "Requirement already satisfied: pycryptodome<4.0.0,>=3.18.0 in ./venv/lib/python3.9/site-packages (from flwr) (3.20.0)\n",
      "Requirement already satisfied: tomli<3.0.0,>=2.0.1 in ./venv/lib/python3.9/site-packages (from flwr) (2.0.1)\n",
      "Requirement already satisfied: protobuf<5.0.0,>=4.25.2 in ./venv/lib/python3.9/site-packages (from flwr) (4.25.4)\n",
      "Requirement already satisfied: cryptography<43.0.0,>=42.0.4 in ./venv/lib/python3.9/site-packages (from flwr) (42.0.8)\n",
      "Requirement already satisfied: iterators<0.0.3,>=0.0.2 in ./venv/lib/python3.9/site-packages (from flwr) (0.0.2)\n",
      "Requirement already satisfied: tomli-w<2.0.0,>=1.0.0 in ./venv/lib/python3.9/site-packages (from flwr) (1.0.0)\n",
      "Requirement already satisfied: grpcio!=1.64.2,!=1.65.1,<2.0.0,>=1.60.0 in ./venv/lib/python3.9/site-packages (from flwr) (1.64.1)\n",
      "Requirement already satisfied: pathspec<0.13.0,>=0.12.1 in ./venv/lib/python3.9/site-packages (from flwr) (0.12.1)\n",
      "Requirement already satisfied: pyyaml>=5.1 in ./venv/lib/python3.9/site-packages (from datasets) (6.0.1)\n",
      "Collecting fsspec[http]<=2024.5.0,>=2023.1.0\n",
      "  Downloading fsspec-2024.5.0-py3-none-any.whl (316 kB)\n",
      "\u001b[2K     \u001b[90m━━━━━━━━━━━━━━━━━━━━━━━━━━━━━━━━━━━━━━━\u001b[0m \u001b[32m316.1/316.1 kB\u001b[0m \u001b[31m7.3 MB/s\u001b[0m eta \u001b[36m0:00:00\u001b[0ma \u001b[36m0:00:01\u001b[0m\n",
      "\u001b[?25hCollecting pyarrow-hotfix\n",
      "  Downloading pyarrow_hotfix-0.6-py3-none-any.whl (7.9 kB)\n",
      "Collecting xxhash\n",
      "  Downloading xxhash-3.4.1-cp39-cp39-macosx_11_0_arm64.whl (30 kB)\n",
      "Requirement already satisfied: requests>=2.32.2 in ./venv/lib/python3.9/site-packages (from datasets) (2.32.3)\n",
      "Collecting multiprocess\n",
      "  Downloading multiprocess-0.70.16-py39-none-any.whl (133 kB)\n",
      "\u001b[2K     \u001b[90m━━━━━━━━━━━━━━━━━━━━━━━━━━━━━━━━━━━━━━━\u001b[0m \u001b[32m133.4/133.4 kB\u001b[0m \u001b[31m4.5 MB/s\u001b[0m eta \u001b[36m0:00:00\u001b[0m\n",
      "\u001b[?25hCollecting huggingface-hub>=0.21.2\n",
      "  Downloading huggingface_hub-0.24.3-py3-none-any.whl (417 kB)\n",
      "\u001b[2K     \u001b[90m━━━━━━━━━━━━━━━━━━━━━━━━━━━━━━━━━━━━━━━\u001b[0m \u001b[32m417.3/417.3 kB\u001b[0m \u001b[31m8.6 MB/s\u001b[0m eta \u001b[36m0:00:00\u001b[0ma \u001b[36m0:00:01\u001b[0m\n",
      "\u001b[?25hCollecting aiohttp\n",
      "  Downloading aiohttp-3.9.5-cp39-cp39-macosx_11_0_arm64.whl (390 kB)\n",
      "\u001b[2K     \u001b[90m━━━━━━━━━━━━━━━━━━━━━━━━━━━━━━━━━━━━━━━\u001b[0m \u001b[32m390.7/390.7 kB\u001b[0m \u001b[31m5.1 MB/s\u001b[0m eta \u001b[36m0:00:00\u001b[0m00:01\u001b[0m00:01\u001b[0m\n",
      "\u001b[?25hCollecting dill<0.3.9,>=0.3.0\n",
      "  Downloading dill-0.3.8-py3-none-any.whl (116 kB)\n",
      "\u001b[2K     \u001b[90m━━━━━━━━━━━━━━━━━━━━━━━━━━━━━━━━━━━━━━━\u001b[0m \u001b[32m116.3/116.3 kB\u001b[0m \u001b[31m3.5 MB/s\u001b[0m eta \u001b[36m0:00:00\u001b[0m\n",
      "\u001b[?25hCollecting pyarrow>=15.0.0\n",
      "  Downloading pyarrow-17.0.0-cp39-cp39-macosx_11_0_arm64.whl (27.2 MB)\n",
      "\u001b[2K     \u001b[90m━━━━━━━━━━━━━━━━━━━━━━━━━━━━━━━━━━━━━━━━\u001b[0m \u001b[32m27.2/27.2 MB\u001b[0m \u001b[31m2.2 MB/s\u001b[0m eta \u001b[36m0:00:00\u001b[0m00:01\u001b[0m00:01\u001b[0m\n",
      "\u001b[?25hRequirement already satisfied: cffi>=1.12 in ./venv/lib/python3.9/site-packages (from cryptography<43.0.0,>=42.0.4->flwr) (1.16.0)\n",
      "Collecting multidict<7.0,>=4.5\n",
      "  Downloading multidict-6.0.5-cp39-cp39-macosx_11_0_arm64.whl (30 kB)\n",
      "Collecting yarl<2.0,>=1.0\n",
      "  Downloading yarl-1.9.4-cp39-cp39-macosx_11_0_arm64.whl (81 kB)\n",
      "\u001b[2K     \u001b[90m━━━━━━━━━━━━━━━━━━━━━━━━━━━━━━━━━━━━━━━━\u001b[0m \u001b[32m81.8/81.8 kB\u001b[0m \u001b[31m4.7 MB/s\u001b[0m eta \u001b[36m0:00:00\u001b[0m\n",
      "\u001b[?25hRequirement already satisfied: attrs>=17.3.0 in ./venv/lib/python3.9/site-packages (from aiohttp->datasets) (23.2.0)\n",
      "Requirement already satisfied: frozenlist>=1.1.1 in ./venv/lib/python3.9/site-packages (from aiohttp->datasets) (1.4.1)\n",
      "Requirement already satisfied: aiosignal>=1.1.2 in ./venv/lib/python3.9/site-packages (from aiohttp->datasets) (1.3.1)\n",
      "Collecting async-timeout<5.0,>=4.0\n",
      "  Using cached async_timeout-4.0.3-py3-none-any.whl (5.7 kB)\n",
      "Requirement already satisfied: zipp>=3.1.0 in ./venv/lib/python3.9/site-packages (from importlib-resources>=3.2.0->matplotlib) (3.19.2)\n",
      "Requirement already satisfied: six>=1.5 in ./venv/lib/python3.9/site-packages (from python-dateutil>=2.8.2->pandas) (1.16.0)\n",
      "Requirement already satisfied: idna<4,>=2.5 in ./venv/lib/python3.9/site-packages (from requests>=2.32.2->datasets) (3.7)\n",
      "Requirement already satisfied: urllib3<3,>=1.21.1 in ./venv/lib/python3.9/site-packages (from requests>=2.32.2->datasets) (2.2.2)\n",
      "Requirement already satisfied: certifi>=2017.4.17 in ./venv/lib/python3.9/site-packages (from requests>=2.32.2->datasets) (2024.7.4)\n",
      "Requirement already satisfied: charset-normalizer<4,>=2 in ./venv/lib/python3.9/site-packages (from requests>=2.32.2->datasets) (3.3.2)\n",
      "Requirement already satisfied: rich<14.0.0,>=10.11.0 in ./venv/lib/python3.9/site-packages (from typer[all]<0.10.0,>=0.9.0->flwr) (13.7.1)\n",
      "Requirement already satisfied: shellingham<2.0.0,>=1.3.0 in ./venv/lib/python3.9/site-packages (from typer[all]<0.10.0,>=0.9.0->flwr) (1.5.4)\n",
      "Requirement already satisfied: colorama<0.5.0,>=0.4.3 in ./venv/lib/python3.9/site-packages (from typer[all]<0.10.0,>=0.9.0->flwr) (0.4.6)\n",
      "Requirement already satisfied: MarkupSafe>=2.0 in ./venv/lib/python3.9/site-packages (from jinja2->torch) (2.1.5)\n",
      "Requirement already satisfied: mpmath<1.4,>=1.1.0 in ./venv/lib/python3.9/site-packages (from sympy->torch) (1.3.0)\n",
      "Requirement already satisfied: pycparser in ./venv/lib/python3.9/site-packages (from cffi>=1.12->cryptography<43.0.0,>=42.0.4->flwr) (2.22)\n",
      "Requirement already satisfied: markdown-it-py>=2.2.0 in ./venv/lib/python3.9/site-packages (from rich<14.0.0,>=10.11.0->typer[all]<0.10.0,>=0.9.0->flwr) (3.0.0)\n",
      "Requirement already satisfied: pygments<3.0.0,>=2.13.0 in ./venv/lib/python3.9/site-packages (from rich<14.0.0,>=10.11.0->typer[all]<0.10.0,>=0.9.0->flwr) (2.18.0)\n",
      "Requirement already satisfied: mdurl~=0.1 in ./venv/lib/python3.9/site-packages (from markdown-it-py>=2.2.0->rich<14.0.0,>=10.11.0->typer[all]<0.10.0,>=0.9.0->flwr) (0.1.2)\n",
      "Installing collected packages: xxhash, pyarrow-hotfix, pyarrow, multidict, fsspec, dill, async-timeout, yarl, multiprocess, huggingface-hub, aiohttp, datasets\n",
      "  Attempting uninstall: fsspec\n",
      "    Found existing installation: fsspec 2024.6.1\n",
      "    Uninstalling fsspec-2024.6.1:\n",
      "      Successfully uninstalled fsspec-2024.6.1\n",
      "Successfully installed aiohttp-3.9.5 async-timeout-4.0.3 datasets-2.20.0 dill-0.3.8 fsspec-2024.5.0 huggingface-hub-0.24.3 multidict-6.0.5 multiprocess-0.70.16 pyarrow-17.0.0 pyarrow-hotfix-0.6 xxhash-3.4.1 yarl-1.9.4\n",
      "\n",
      "\u001b[1m[\u001b[0m\u001b[34;49mnotice\u001b[0m\u001b[1;39;49m]\u001b[0m\u001b[39;49m A new release of pip is available: \u001b[0m\u001b[31;49m23.0.1\u001b[0m\u001b[39;49m -> \u001b[0m\u001b[32;49m24.1.2\u001b[0m\n",
      "\u001b[1m[\u001b[0m\u001b[34;49mnotice\u001b[0m\u001b[1;39;49m]\u001b[0m\u001b[39;49m To update, run: \u001b[0m\u001b[32;49mpip install --upgrade pip\u001b[0m\n"
     ]
    }
   ],
   "source": [
    "!pip install torch scikit-learn pandas nltk matplotlib flwr datasets"
   ]
  },
  {
   "cell_type": "code",
   "execution_count": 4,
   "metadata": {},
   "outputs": [
    {
     "name": "stdout",
     "output_type": "stream",
     "text": [
      "Training on cpu using PyTorch 2.4.0\n"
     ]
    }
   ],
   "source": [
    "import numpy as np\n",
    "import torch as torch\n",
    "\n",
    "np.random.seed(42)\n",
    "\n",
    "DEVICE = torch.device(\"cuda\" if torch.cuda.is_available() else \"cpu\")\n",
    "print(f\"Training on {DEVICE} using PyTorch {torch.__version__}\")"
   ]
  },
  {
   "cell_type": "code",
   "execution_count": 35,
   "metadata": {},
   "outputs": [],
   "source": [
    "import torch\n",
    "from sklearn.preprocessing import LabelEncoder\n",
    "from torch.nn.utils.rnn import pad_sequence\n",
    "from nltk.corpus import reuters\n",
    "from torch.utils.data import Dataset, DataLoader\n",
    "import pandas as pd\n",
    "import nltk\n",
    "from nltk.lm import Vocabulary\n",
    "\n",
    "class ReutersDataset(Dataset):\n",
    "    def __init__(self, texts: list[list[int]], labels: list[int]):\n",
    "        self.texts = texts\n",
    "        self.labels = labels\n",
    "\n",
    "    def __len__(self):\n",
    "        return len(self.labels)\n",
    "\n",
    "    def __getitem__(self, idx: int):\n",
    "        text = torch.tensor(self.texts[idx], dtype=torch.long)\n",
    "        label = torch.tensor(self.labels[idx], dtype=torch.long)\n",
    "        return text, label\n",
    "\n",
    "\n",
    "def load_dataset():\n",
    "    nltk.download(\"reuters\")\n",
    "    nltk.download(\"stopwords\")\n",
    "    nltk.download(\"punkt\")\n",
    "\n",
    "    # Load documents and their categories\n",
    "    documents = reuters.fileids()\n",
    "    categories = [reuters.categories(fileid) for fileid in documents]\n",
    "\n",
    "    # Load document content\n",
    "    data = [reuters.raw(fileid) for fileid in documents]\n",
    "\n",
    "    text = _remove_stopwords(data)\n",
    "    tokens = [nltk.word_tokenize(sentence) for sentence in text]\n",
    "\n",
    "    # Flatten the list of tokens for vocabulary creation\n",
    "    flat_tokens = [token for sentence in tokens for token in sentence]\n",
    "    vocab = Vocabulary(flat_tokens)\n",
    "\n",
    "    label_encoder = LabelEncoder()\n",
    "    labels = label_encoder.fit_transform(_process_labels(categories))\n",
    "\n",
    "    encoded_texts = [[vocab[token] for token in sentence] for sentence in tokens]\n",
    "\n",
    "    encoded_df = pd.DataFrame({\n",
    "        \"text\": encoded_texts,\n",
    "        \"category\": labels,\n",
    "    })\n",
    "\n",
    "    return encoded_df, vocab, label_encoder\n",
    "\n",
    "\n",
    "def to_dataloader(text: pd.Series, labels: pd.Series, shuffle: bool = True) -> DataLoader:\n",
    "    dataset = ReutersDataset(text.tolist(), labels.tolist())\n",
    "    return DataLoader(\n",
    "        dataset,\n",
    "        batch_size=32,\n",
    "        shuffle=shuffle,\n",
    "        collate_fn=_collate_fn,\n",
    "    )\n",
    "\n",
    "\n",
    "def _collate_fn(batch: list[tuple[list[int], list[int]]]):\n",
    "    texts, labels = zip(*batch)\n",
    "    texts_padded = pad_sequence(texts, batch_first=True, padding_value=-1)\n",
    "    labels = torch.tensor(labels, dtype=torch.long)\n",
    "    return texts_padded, labels\n",
    "\n",
    "\n",
    "def _remove_stopwords(text: list[str]) -> pd.Series:\n",
    "    stop = set(nltk.corpus.stopwords.words(\"english\"))\n",
    "    return (\n",
    "        pd.Series(text)\n",
    "        .str.lower()\n",
    "        .replace(\"[^\\w\\s]\", \"\", regex=True)\n",
    "        .apply(nltk.word_tokenize)\n",
    "        .apply(lambda sentence: \" \".join([word for word in sentence if word not in stop]))\n",
    "    )\n",
    "\n",
    "\n",
    "def _process_labels(labels: list[list[str]]) -> pd.Series:\n",
    "    return pd.Series(labels).apply(lambda x: x[0] if x else \"unknown\")\n"
   ]
  },
  {
   "cell_type": "code",
   "execution_count": 36,
   "metadata": {},
   "outputs": [
    {
     "name": "stderr",
     "output_type": "stream",
     "text": [
      "[nltk_data] Downloading package reuters to\n",
      "[nltk_data]     /Users/maxkleinegger/nltk_data...\n",
      "[nltk_data]   Package reuters is already up-to-date!\n",
      "[nltk_data] Downloading package stopwords to\n",
      "[nltk_data]     /Users/maxkleinegger/nltk_data...\n",
      "[nltk_data]   Package stopwords is already up-to-date!\n",
      "[nltk_data] Downloading package punkt to\n",
      "[nltk_data]     /Users/maxkleinegger/nltk_data...\n",
      "[nltk_data]   Package punkt is already up-to-date!\n"
     ]
    }
   ],
   "source": [
    "from sklearn.model_selection import train_test_split\n",
    "from torch.utils.data import DataLoader\n",
    "\n",
    "# Load the dataset\n",
    "df, vocab, label_encoder = load_dataset()\n",
    "\n",
    "# Split the data\n",
    "train_texts, test_texts, train_labels, test_labels = train_test_split(\n",
    "    df[\"text\"], df[\"category\"], test_size=0.2, random_state=42\n",
    ")\n",
    "\n",
    "train_loader = to_dataloader(train_texts, train_labels)\n",
    "test_loader = to_dataloader(test_texts, test_labels, shuffle=False)"
   ]
  },
  {
   "cell_type": "code",
   "execution_count": 37,
   "metadata": {},
   "outputs": [],
   "source": [
    "from torch import nn\n",
    "import torch\n",
    "\n",
    "\n",
    "class TextRNN(nn.Module):\n",
    "    def __init__(\n",
    "        self,\n",
    "        vocab_size: int,\n",
    "        output_size: int,\n",
    "        padding_idx: int,\n",
    "        embed_size=128,\n",
    "        hidden_size=256,\n",
    "        num_layers=2,\n",
    "        dropout=0.5,\n",
    "    ):\n",
    "        super(TextRNN, self).__init__()\n",
    "        self.embedding = nn.Embedding(vocab_size, embed_size, padding_idx=padding_idx)\n",
    "        self.rnn = nn.LSTM(\n",
    "            embed_size,\n",
    "            hidden_size,\n",
    "            num_layers=num_layers,\n",
    "            bidirectional=True,\n",
    "            batch_first=True,\n",
    "            dropout=dropout,\n",
    "        )\n",
    "        self.fc = nn.Linear(hidden_size * 2, output_size)\n",
    "        self.dropout = nn.Dropout(dropout)\n",
    "\n",
    "    def forward(self, x):\n",
    "        embedded = self.embedding(x)\n",
    "        _, (hidden, _) = self.rnn(embedded)\n",
    "        hidden = torch.cat((hidden[-2], hidden[-1]), dim=1)\n",
    "\n",
    "        out = self.dropout(hidden)\n",
    "        out = self.fc(out)\n",
    "        return out"
   ]
  },
  {
   "cell_type": "code",
   "execution_count": 38,
   "metadata": {},
   "outputs": [],
   "source": [
    "# Model hyperparameters\n",
    "vocab_size = len(vocab)\n",
    "output_size = len(label_encoder.classes_)\n",
    "\n",
    "model = TextRNN(\n",
    "    vocab_size,\n",
    "    output_size,\n",
    "    padding_idx=vocab[\"<pad>\"],\n",
    ").to(DEVICE)"
   ]
  },
  {
   "cell_type": "code",
   "execution_count": 39,
   "metadata": {},
   "outputs": [],
   "source": [
    "import torch.optim as optim\n",
    "from torch import nn\n",
    "from tqdm import tqdm\n",
    "\n",
    "\n",
    "def train_model(\n",
    "    model: nn.Module,\n",
    "    train_loader: DataLoader,\n",
    "    num_epochs: int,\n",
    "    optimizer: optim.Optimizer,\n",
    "    verbose=False,\n",
    "):\n",
    "    # Loss and optimizer\n",
    "    criterion = nn.CrossEntropyLoss()\n",
    "\n",
    "    model.train()\n",
    "\n",
    "    for epoch in tqdm(range(num_epochs)):\n",
    "        for texts, labels in train_loader:\n",
    "            texts, labels = texts.to(DEVICE), labels.to(DEVICE)\n",
    "\n",
    "            outputs = model(texts)\n",
    "            loss = criterion(outputs, labels)\n",
    "            optimizer.zero_grad()\n",
    "            loss.backward()\n",
    "            optimizer.step()\n",
    "\n",
    "        if verbose:\n",
    "            print(f\"Epoch [{epoch+1}/{num_epochs}], Loss: {loss.item():.4f}\")\n",
    "\n",
    "\n",
    "# train_model(model, train_loader, num_epochs=5, verbose=True)"
   ]
  },
  {
   "cell_type": "code",
   "execution_count": null,
   "metadata": {},
   "outputs": [],
   "source": [
    "def evaluate_model(model: nn.Module, test_loader: DataLoader):\n",
    "    model.eval()\n",
    "\n",
    "    total, correct = 0, 0\n",
    "\n",
    "    with torch.no_grad():\n",
    "        for texts, labels in test_loader:\n",
    "            texts, labels = texts.to(DEVICE), labels.to(DEVICE)\n",
    "\n",
    "            outputs = model(texts)\n",
    "            _, predicted = torch.max(outputs, 1)\n",
    "\n",
    "            labels = labels\n",
    "            total += labels.size(0)\n",
    "            correct += (predicted == labels).sum().item()\n",
    "\n",
    "    accuracy = correct / total\n",
    "\n",
    "    print(f\"Accuracy: {accuracy * 100:.2f}%\")\n",
    "\n",
    "\n",
    "evaluate_model(model, test_loader)"
   ]
  },
  {
   "cell_type": "code",
   "execution_count": null,
   "metadata": {},
   "outputs": [],
   "source": [
    "import torch\n",
    "import torch.nn as nn\n",
    "from torch.utils.data import DataLoader\n",
    "from torch.nn.utils.rnn import pad_sequence\n",
    "from tqdm import tqdm\n",
    "\n",
    "def run_centralised(epochs: int, lr: float, momentum: float = 0.9):\n",
    "    model = model = TextRNN(\n",
    "    vocab_size,\n",
    "    output_size,\n",
    "    padding_idx=vocab[\"<pad>\"],\n",
    "    ).to(DEVICE)\n",
    "    optim = torch.optim.SGD(model.parameters(), lr=lr, momentum=momentum)\n",
    "\n",
    "    #trainloader = DataLoader(trainset, batch_size=64, shuffle=True, collate_fn=collate_fn)\n",
    "    #testloader = DataLoader(testset, batch_size=128, collate_fn=collate_fn)\n",
    "\n",
    "    trained_model = train_model(model, train_loader, epochs, optim, False)\n",
    "    loss, accuracy = evaluate_model(trained_model, test_loader)\n",
    "    print(f\"{loss = }\")\n",
    "    print(f\"{accuracy = }\")\n",
    "\n",
    "run_centralised(epochs=5, lr=0.01)"
   ]
  },
  {
   "cell_type": "code",
   "execution_count": 28,
   "metadata": {},
   "outputs": [
    {
     "name": "stderr",
     "output_type": "stream",
     "text": [
      "<>:128: DeprecationWarning: invalid escape sequence \\w\n",
      "[nltk_data] Downloading package reuters to\n",
      "[nltk_data]     /Users/maxkleinegger/nltk_data...\n",
      "[nltk_data]   Package reuters is already up-to-date!\n",
      "[nltk_data] Downloading package stopwords to\n",
      "[nltk_data]     /Users/maxkleinegger/nltk_data...\n",
      "[nltk_data]   Package stopwords is already up-to-date!\n",
      "[nltk_data] Downloading package punkt to\n",
      "[nltk_data]     /Users/maxkleinegger/nltk_data...\n",
      "[nltk_data]   Package punkt is already up-to-date!\n"
     ]
    },
    {
     "name": "stdout",
     "output_type": "stream",
     "text": [
      "Training on cpu using PyTorch 2.4.0\n"
     ]
    },
    {
     "name": "stderr",
     "output_type": "stream",
     "text": [
      "  5%|▌         | 1/20 [00:19<06:10, 19.51s/it]"
     ]
    },
    {
     "name": "stdout",
     "output_type": "stream",
     "text": [
      "Test Loss: 2.4348, Test Accuracy: 37.03%\n"
     ]
    },
    {
     "name": "stderr",
     "output_type": "stream",
     "text": [
      " 10%|█         | 2/20 [00:38<05:40, 18.92s/it]"
     ]
    },
    {
     "name": "stdout",
     "output_type": "stream",
     "text": [
      "Test Loss: 2.1022, Test Accuracy: 50.42%\n"
     ]
    },
    {
     "name": "stderr",
     "output_type": "stream",
     "text": [
      " 15%|█▌        | 3/20 [00:55<05:07, 18.08s/it]"
     ]
    },
    {
     "name": "stdout",
     "output_type": "stream",
     "text": [
      "Test Loss: 2.2855, Test Accuracy: 41.52%\n"
     ]
    },
    {
     "name": "stderr",
     "output_type": "stream",
     "text": [
      " 20%|██        | 4/20 [01:14<04:59, 18.71s/it]"
     ]
    },
    {
     "name": "stdout",
     "output_type": "stream",
     "text": [
      "Test Loss: 2.3988, Test Accuracy: 39.43%\n"
     ]
    },
    {
     "name": "stderr",
     "output_type": "stream",
     "text": [
      " 25%|██▌       | 5/20 [01:33<04:40, 18.71s/it]"
     ]
    },
    {
     "name": "stdout",
     "output_type": "stream",
     "text": [
      "Test Loss: 2.2109, Test Accuracy: 47.73%\n"
     ]
    },
    {
     "name": "stderr",
     "output_type": "stream",
     "text": [
      " 30%|███       | 6/20 [01:49<04:10, 17.90s/it]"
     ]
    },
    {
     "name": "stdout",
     "output_type": "stream",
     "text": [
      "Test Loss: 2.2925, Test Accuracy: 44.76%\n"
     ]
    },
    {
     "name": "stderr",
     "output_type": "stream",
     "text": [
      " 35%|███▌      | 7/20 [02:06<03:46, 17.40s/it]"
     ]
    },
    {
     "name": "stdout",
     "output_type": "stream",
     "text": [
      "Test Loss: 2.1614, Test Accuracy: 47.08%\n"
     ]
    },
    {
     "name": "stderr",
     "output_type": "stream",
     "text": [
      " 40%|████      | 8/20 [02:23<03:28, 17.35s/it]"
     ]
    },
    {
     "name": "stdout",
     "output_type": "stream",
     "text": [
      "Test Loss: 2.5754, Test Accuracy: 44.62%\n"
     ]
    },
    {
     "name": "stderr",
     "output_type": "stream",
     "text": [
      " 45%|████▌     | 9/20 [02:39<03:06, 16.95s/it]"
     ]
    },
    {
     "name": "stdout",
     "output_type": "stream",
     "text": [
      "Test Loss: 2.0417, Test Accuracy: 50.74%\n"
     ]
    },
    {
     "name": "stderr",
     "output_type": "stream",
     "text": [
      " 50%|█████     | 10/20 [02:55<02:46, 16.63s/it]"
     ]
    },
    {
     "name": "stdout",
     "output_type": "stream",
     "text": [
      "Test Loss: 1.7207, Test Accuracy: 58.25%\n"
     ]
    },
    {
     "name": "stderr",
     "output_type": "stream",
     "text": [
      " 55%|█████▌    | 11/20 [03:12<02:31, 16.85s/it]"
     ]
    },
    {
     "name": "stdout",
     "output_type": "stream",
     "text": [
      "Test Loss: 1.5213, Test Accuracy: 63.90%\n"
     ]
    },
    {
     "name": "stderr",
     "output_type": "stream",
     "text": [
      " 60%|██████    | 12/20 [03:29<02:13, 16.73s/it]"
     ]
    },
    {
     "name": "stdout",
     "output_type": "stream",
     "text": [
      "Test Loss: 1.4479, Test Accuracy: 64.64%\n"
     ]
    },
    {
     "name": "stderr",
     "output_type": "stream",
     "text": [
      " 65%|██████▌   | 13/20 [03:45<01:56, 16.69s/it]"
     ]
    },
    {
     "name": "stdout",
     "output_type": "stream",
     "text": [
      "Test Loss: 1.3034, Test Accuracy: 67.75%\n"
     ]
    },
    {
     "name": "stderr",
     "output_type": "stream",
     "text": [
      " 70%|███████   | 14/20 [04:02<01:39, 16.58s/it]"
     ]
    },
    {
     "name": "stdout",
     "output_type": "stream",
     "text": [
      "Test Loss: 1.1499, Test Accuracy: 70.34%\n"
     ]
    },
    {
     "name": "stderr",
     "output_type": "stream",
     "text": [
      " 75%|███████▌  | 15/20 [04:19<01:24, 16.96s/it]"
     ]
    },
    {
     "name": "stdout",
     "output_type": "stream",
     "text": [
      "Test Loss: 1.0437, Test Accuracy: 72.89%\n"
     ]
    },
    {
     "name": "stderr",
     "output_type": "stream",
     "text": [
      " 80%|████████  | 16/20 [04:36<01:07, 16.76s/it]"
     ]
    },
    {
     "name": "stdout",
     "output_type": "stream",
     "text": [
      "Test Loss: 1.0420, Test Accuracy: 73.22%\n"
     ]
    },
    {
     "name": "stderr",
     "output_type": "stream",
     "text": [
      " 85%|████████▌ | 17/20 [04:52<00:49, 16.54s/it]"
     ]
    },
    {
     "name": "stdout",
     "output_type": "stream",
     "text": [
      "Test Loss: 1.0022, Test Accuracy: 74.10%\n"
     ]
    },
    {
     "name": "stderr",
     "output_type": "stream",
     "text": [
      " 90%|█████████ | 18/20 [05:10<00:34, 17.16s/it]"
     ]
    },
    {
     "name": "stdout",
     "output_type": "stream",
     "text": [
      "Test Loss: 0.9228, Test Accuracy: 76.32%\n"
     ]
    },
    {
     "name": "stderr",
     "output_type": "stream",
     "text": [
      " 95%|█████████▌| 19/20 [05:27<00:16, 16.86s/it]"
     ]
    },
    {
     "name": "stdout",
     "output_type": "stream",
     "text": [
      "Test Loss: 0.9393, Test Accuracy: 77.11%\n"
     ]
    },
    {
     "name": "stderr",
     "output_type": "stream",
     "text": [
      "100%|██████████| 20/20 [05:42<00:00, 17.14s/it]"
     ]
    },
    {
     "name": "stdout",
     "output_type": "stream",
     "text": [
      "Test Loss: 0.8950, Test Accuracy: 77.25%\n"
     ]
    },
    {
     "name": "stderr",
     "output_type": "stream",
     "text": [
      "\n"
     ]
    },
    {
     "name": "stdout",
     "output_type": "stream",
     "text": [
      "Test Loss: 0.8950, Test Accuracy: 77.25%\n"
     ]
    }
   ],
   "source": [
    "import torch\n",
    "from sklearn.preprocessing import LabelEncoder\n",
    "from torch.nn.utils.rnn import pad_sequence\n",
    "from nltk.corpus import reuters\n",
    "from torch.utils.data import Dataset, DataLoader\n",
    "import pandas as pd\n",
    "import nltk\n",
    "from nltk.lm import Vocabulary\n",
    "from sklearn.model_selection import train_test_split\n",
    "from datasets import load_dataset\n",
    "import numpy as np\n",
    "import torch as torch\n",
    "\n",
    "np.random.seed(42)\n",
    "\n",
    "DEVICE = torch.device(\"cuda\" if torch.cuda.is_available() else \"cpu\")\n",
    "print(f\"Training on {DEVICE} using PyTorch {torch.__version__}\")\n",
    "\n",
    "class ReutersDataset(Dataset):\n",
    "    def __init__(self, texts: list[list[int]], labels: list[int], maxlen: int):\n",
    "        self.texts = [text[:maxlen] for text in texts]\n",
    "        self.labels = labels\n",
    "        self.maxlen = maxlen\n",
    "\n",
    "    def __len__(self):\n",
    "        return len(self.labels)\n",
    "\n",
    "    def __getitem__(self, idx: int):\n",
    "        text = torch.tensor(self.texts[idx], dtype=torch.long)\n",
    "        label = torch.tensor(self.labels[idx], dtype=torch.long)\n",
    "        return text, label\n",
    "\n",
    "\n",
    "def load_dataset(maxlen: int):\n",
    "    nltk.download(\"reuters\")\n",
    "    nltk.download(\"stopwords\")\n",
    "    nltk.download(\"punkt\")\n",
    "\n",
    "    # Load documents and their categories\n",
    "    documents = reuters.fileids()\n",
    "    categories = [reuters.categories(fileid) for fileid in documents]\n",
    "\n",
    "    # Load document content\n",
    "    data = [reuters.raw(fileid) for fileid in documents]\n",
    "\n",
    "    text = _remove_stopwords(data)\n",
    "    tokens = [nltk.word_tokenize(sentence) for sentence in text]\n",
    "\n",
    "    # Flatten the list of tokens for vocabulary creation\n",
    "    flat_tokens = [token for sentence in tokens for token in sentence]\n",
    "    vocab = Vocabulary(flat_tokens)\n",
    "\n",
    "    label_encoder = LabelEncoder()\n",
    "    labels = label_encoder.fit_transform(_process_labels(categories))\n",
    "\n",
    "    # Add a padding token to the vocabulary\n",
    "    vocab.update([\"<pad>\"])\n",
    "    encoded_texts = [[vocab[token] for token in sentence] for sentence in tokens]\n",
    "\n",
    "    # Apply maxlen to encoded texts\n",
    "    encoded_texts = [text[:maxlen] for text in encoded_texts]\n",
    "\n",
    "    encoded_df = pd.DataFrame({\n",
    "        \"text\": encoded_texts,\n",
    "        \"category\": labels,\n",
    "    })\n",
    "\n",
    "    return encoded_df, vocab, label_encoder\n",
    "\n",
    "\n",
    "def to_dataloader(text: pd.Series, labels: pd.Series, vocab: Vocabulary, maxlen: int, shuffle: bool = True) -> DataLoader:\n",
    "    dataset = ReutersDataset(text.tolist(), labels.tolist(), maxlen)\n",
    "    return DataLoader(\n",
    "        dataset,\n",
    "        batch_size=32,\n",
    "        shuffle=shuffle,\n",
    "        collate_fn=lambda x: _collate_fn(x, vocab),\n",
    "    )\n",
    "\n",
    "\n",
    "def _collate_fn(batch: list[tuple[list[int], list[int]]], vocab: Vocabulary):\n",
    "    texts, labels = zip(*batch)\n",
    "    texts_padded = pad_sequence(texts, batch_first=True, padding_value=vocab[\"<pad>\"])\n",
    "    labels = torch.tensor(labels, dtype=torch.long)\n",
    "    return texts_padded, labels\n",
    "\n",
    "\n",
    "def _remove_stopwords(text: list[str]) -> pd.Series:\n",
    "    stop = set(nltk.corpus.stopwords.words(\"english\"))\n",
    "    return (\n",
    "        pd.Series(text)\n",
    "        .str.lower()\n",
    "        .replace(\"[^\\w\\s]\", \"\", regex=True)\n",
    "        .apply(nltk.word_tokenize)\n",
    "        .apply(lambda sentence: \" \".join([word for word in sentence if word not in stop]))\n",
    "    )\n",
    "\n",
    "\n",
    "def _process_labels(labels: list[list[str]]) -> pd.Series:\n",
    "    return pd.Series(labels).apply(lambda x: x[0] if x else \"unknown\")\n",
    "\n",
    "# Set the max length for sequences\n",
    "maxlen = 60\n",
    "\n",
    "# Load the dataset\n",
    "df, vocab, label_encoder = load_dataset(maxlen)\n",
    "\n",
    "# Split the data\n",
    "train_texts, test_texts, train_labels, test_labels = train_test_split(\n",
    "    df[\"text\"], df[\"category\"], test_size=0.2, random_state=42\n",
    ")\n",
    "\n",
    "train_loader = to_dataloader(train_texts, train_labels, vocab, maxlen)\n",
    "test_loader = to_dataloader(test_texts, test_labels, vocab, maxlen, shuffle=False)\n",
    "\n",
    "from torch import nn\n",
    "\n",
    "class TextRNN(nn.Module):\n",
    "    def __init__(\n",
    "        self,\n",
    "        vocab_size: int,\n",
    "        output_size: int,\n",
    "        padding_idx: int,\n",
    "        embed_size=128,\n",
    "        hidden_size=256,\n",
    "        num_layers=2,\n",
    "        dropout=0.5,\n",
    "    ):\n",
    "        super(TextRNN, self).__init__()\n",
    "        self.embedding = nn.Embedding(vocab_size, embed_size, padding_idx=padding_idx)\n",
    "        self.rnn = nn.LSTM(\n",
    "            embed_size,\n",
    "            hidden_size,\n",
    "            num_layers=num_layers,\n",
    "            # bidirectional=True,\n",
    "            batch_first=True,\n",
    "            dropout=dropout,\n",
    "        )\n",
    "        self.fc = nn.Linear(hidden_size * 2, output_size)\n",
    "        self.dropout = nn.Dropout(dropout)\n",
    "\n",
    "    def forward(self, x):\n",
    "        embedded = self.embedding(x)\n",
    "        _, (hidden, _) = self.rnn(embedded)\n",
    "        hidden = torch.cat((hidden[-2], hidden[-1]), dim=1)\n",
    "        out = self.dropout(hidden)\n",
    "        out = self.fc(out)\n",
    "        return out\n",
    "\n",
    "# Model hyperparameters\n",
    "vocab_size = len(vocab)\n",
    "output_size = len(label_encoder.classes_)\n",
    "\n",
    "model = TextRNN(\n",
    "    vocab_size,\n",
    "    output_size,\n",
    "    padding_idx=vocab[\"<pad>\"],\n",
    ").to(DEVICE)\n",
    "\n",
    "\n",
    "def evaluate_model(model: nn.Module, test_loader: DataLoader):\n",
    "    criterion = nn.CrossEntropyLoss()\n",
    "    model.eval()\n",
    "\n",
    "    total, correct = 0, 0\n",
    "    total_loss = 0\n",
    "\n",
    "    with torch.no_grad():\n",
    "        for texts, labels in test_loader:\n",
    "            texts, labels = texts.to(DEVICE), labels.to(DEVICE)\n",
    "\n",
    "            outputs = model(texts)\n",
    "            loss = criterion(outputs, labels)\n",
    "            total_loss += loss.item()\n",
    "\n",
    "            _, predicted = torch.max(outputs, 1)\n",
    "            total += labels.size(0)\n",
    "            correct += (predicted == labels).sum().item()\n",
    "\n",
    "    total_loss /= len(test_loader)\n",
    "    accuracy = correct / total\n",
    "\n",
    "    print(f\"Test Loss: {total_loss:.4f}, Test Accuracy: {accuracy * 100:.2f}%\")\n",
    "\n",
    "    return total_loss, accuracy\n",
    "\n",
    "def run_centralised(epochs: int, lr: float, momentum: float = 0.9):\n",
    "    model = TextRNN(\n",
    "        vocab_size,\n",
    "        output_size,\n",
    "        padding_idx=vocab[\"<pad>\"],\n",
    "    ).to(DEVICE)\n",
    "    optim = torch.optim.SGD(model.parameters(), lr=lr, momentum=momentum)\n",
    "    history = train_model(model, train_loader, test_loader, epochs, optim, False)\n",
    "    evaluate_model(model, test_loader)\n",
    "    return history\n",
    "\n",
    "history = run_centralised(epochs=20, lr=0.01)\n"
   ]
  },
  {
   "cell_type": "code",
   "execution_count": 32,
   "metadata": {},
   "outputs": [
    {
     "data": {
      "image/png": "[encoded data removed]",
      "text/plain": [
       "<Figure size 640x480 with 1 Axes>"
      ]
     },
     "metadata": {},
     "output_type": "display_data"
    }
   ],
   "source": [
    "plt.title(\"Line graph\") \n",
    "plt.xlabel(\"X axis\") \n",
    "plt.ylabel(\"Y axis\") \n",
    "plt.plot(range(1, len(history[\"train_accuracy\"])+1), history[\"train_accuracy\"], color =\"red\") \n",
    "plt.show()"
   ]
  },
  {
   "cell_type": "code",
   "execution_count": 49,
   "metadata": {},
   "outputs": [],
   "source": [
    "num_clients = 100"
   ]
  },
  {
   "cell_type": "code",
   "execution_count": 50,
   "metadata": {},
   "outputs": [],
   "source": [
    "import torch\n",
    "from torch.utils.data import DataLoader, random_split, Subset\n",
    "\n",
    "def prepare_dataset(num_partitions: int, batch_size: int, val_ratio: float = 0.1):\n",
    "    \"\"\"This function partitions the training set into N disjoint\n",
    "    subsets, each will become the local dataset of a client. This\n",
    "    function also subsequently partitions each training set partition\n",
    "    into train and validation. The test set is left intact and will\n",
    "    be used by the central server to assess the performance of the\n",
    "    global model.\"\"\"\n",
    "\n",
    "    # Extract dataset from DataLoader\n",
    "    train_dataset = train_loader.dataset\n",
    "    test_dataset = test_loader.dataset\n",
    "\n",
    "    # Calculate partition lengths\n",
    "    num_images = len(train_dataset)\n",
    "    partition_len = [num_images // num_partitions] * num_partitions\n",
    "    partition_len[-1] += num_images % num_partitions  # Add remainder to the last partition\n",
    "\n",
    "    # Split the dataset into `num_partitions`\n",
    "    trainsets = random_split(train_dataset, partition_len, torch.Generator().manual_seed(2023))\n",
    "\n",
    "    # Create DataLoaders with train+val support\n",
    "    trainloaders = []\n",
    "    valloaders = []\n",
    "    for trainset in trainsets:\n",
    "        num_total = len(trainset)\n",
    "        num_val = int(val_ratio * num_total)\n",
    "        num_train = num_total - num_val\n",
    "\n",
    "        train_subset, val_subset = random_split(trainset, [num_train, num_val], torch.Generator().manual_seed(2023))\n",
    "\n",
    "        trainloaders.append(DataLoader(train_subset, batch_size=batch_size, shuffle=True, num_workers=0, collate_fn=lambda x: _collate_fn(x, vocab)))\n",
    "        valloaders.append(DataLoader(val_subset, batch_size=batch_size, shuffle=False, num_workers=0, collate_fn=lambda x: _collate_fn(x, vocab)))\n",
    "\n",
    "    # Create DataLoader for the test set\n",
    "    testloader = DataLoader(test_dataset, batch_size=128, collate_fn=lambda x: _collate_fn(x, vocab))\n",
    "\n",
    "    return trainloaders, valloaders, testloader\n",
    "\n",
    "# Example usage:\n",
    "num_partitions = 5\n",
    "batch_size = 32\n",
    "trainloaders, valloaders, testloader = prepare_dataset(num_partitions, batch_size)"
   ]
  },
  {
   "cell_type": "code",
   "execution_count": 51,
   "metadata": {},
   "outputs": [
    {
     "name": "stdout",
     "output_type": "stream",
     "text": [
      "number of images: 78\n"
     ]
    },
    {
     "data": {
      "image/png": "[encoded data removed]",
      "text/plain": [
       "<Figure size 640x480 with 1 Axes>"
      ]
     },
     "metadata": {},
     "output_type": "display_data"
    }
   ],
   "source": [
    "import matplotlib.pyplot as plt\n",
    "trainloaders, valloaders, testloader = prepare_dataset(num_partitions=num_clients, batch_size=8)\n",
    "\n",
    "# first partition\n",
    "train_partition = trainloaders[1].dataset\n",
    "\n",
    "# count data points\n",
    "partition_indices = train_partition.indices\n",
    "print(f\"number of images: {len(partition_indices)}\")\n",
    "\n",
    "# visualise histogram\n",
    "plt.hist([train_partition.dataset[idx][1].item() for idx in partition_indices], bins=4)  # 46 classes in Reuters dataset\n",
    "plt.grid()\n",
    "plt.xlabel(\"Label\")\n",
    "plt.ylabel(\"Number of images\")\n",
    "plt.title(\"Class labels distribution for Reuters\")\n",
    "plt.show()"
   ]
  },
  {
   "cell_type": "code",
   "execution_count": 52,
   "metadata": {},
   "outputs": [],
   "source": [
    "import flwr as fl"
   ]
  },
  {
   "cell_type": "code",
   "execution_count": 53,
   "metadata": {},
   "outputs": [],
   "source": [
    "from collections import OrderedDict\n",
    "from typing import Dict, Tuple\n",
    "\n",
    "import torch\n",
    "from flwr.common import NDArrays, Scalar\n",
    "\n",
    "\n",
    "class FlowerClient(fl.client.NumPyClient):\n",
    "    def __init__(self, trainloader, valloader) -> None:\n",
    "        super().__init__()\n",
    "\n",
    "        self.trainloader = trainloader\n",
    "        self.valloader = valloader\n",
    "        self.model = TextRNN(\n",
    "            vocab_size,\n",
    "            output_size,\n",
    "            padding_idx=vocab[\"<pad>\"],\n",
    "        ).to(DEVICE)\n",
    "\n",
    "    def set_parameters(self, parameters):\n",
    "        \"\"\"With the model parameters received from the server,\n",
    "        overwrite the uninitialise model in this class with them.\"\"\"\n",
    "\n",
    "        params_dict = zip(self.model.state_dict().keys(), parameters)\n",
    "        state_dict = OrderedDict({k: torch.Tensor(v) for k, v in params_dict})\n",
    "        # now replace the parameters\n",
    "        self.model.load_state_dict(state_dict, strict=True)\n",
    "\n",
    "    def get_parameters(self, config: Dict[str, Scalar]):\n",
    "        \"\"\"Extract all model parameters and convert them to a list of\n",
    "        NumPy arrays. The server doesn't work with PyTorch/TF/etc.\"\"\"\n",
    "        return [val.cpu().numpy() for _, val in self.model.state_dict().items()]\n",
    "\n",
    "    def fit(self, parameters, config):\n",
    "        \"\"\"This method train the model using the parameters sent by the\n",
    "        server on the dataset of this client. At then end, the parameters\n",
    "        of the locally trained model are communicated back to the server\"\"\"\n",
    "\n",
    "        # copy parameters sent by the server into client's local model\n",
    "        self.set_parameters(parameters)\n",
    "\n",
    "        # Define the optimizer -------------------------------------------------------------- Essentially the same as in the centralised example above\n",
    "        optim = torch.optim.SGD(self.model.parameters(), lr=0.01, momentum=0.9)\n",
    "\n",
    "        # do local training  -------------------------------------------------------------- Essentially the same as in the centralised example above (but now using the client's data instead of the whole dataset)\n",
    "        train_model(model=self.model, train_loader=self.trainloader, test_loader=self.valloader, num_epochs=1, optimizer=optim, verbose=False)\n",
    "\n",
    "        # return the model parameters to the server as well as extra info (number of training examples in this case)\n",
    "        return self.get_parameters({}), len(self.trainloader), {}\n",
    "\n",
    "    def evaluate(self, parameters: NDArrays, config: Dict[str, Scalar]):\n",
    "        \"\"\"Evaluate the model sent by the server on this client's\n",
    "        local validation set. Then return performance metrics.\"\"\"\n",
    "\n",
    "        self.set_parameters(parameters)\n",
    "        loss, accuracy = evaluate_model(\n",
    "            self.model, self.valloader\n",
    "        )  # <-------------------------- calls the `test` function, just what we did in the centralised setting (but this time using the client's local validation set)\n",
    "        # send statistics back to the server\n",
    "        return float(loss), len(self.valloader), {\"accuracy\": accuracy}"
   ]
  },
  {
   "cell_type": "code",
   "execution_count": 54,
   "metadata": {},
   "outputs": [],
   "source": []
  },
  {
   "cell_type": "code",
   "execution_count": 55,
   "metadata": {},
   "outputs": [],
   "source": []
  },
  {
   "cell_type": "code",
   "execution_count": 56,
   "metadata": {},
   "outputs": [
    {
     "name": "stderr",
     "output_type": "stream",
     "text": [
      "\u001b[92mINFO \u001b[0m:      Starting Flower simulation, config: num_rounds=50, no round_timeout\n",
      "2024-07-29 23:23:52,586\tINFO worker.py:1752 -- Started a local Ray instance.\n",
      "\u001b[92mINFO \u001b[0m:      Flower VCE: Ray initialized with resources: {'memory': 8433413325.0, 'CPU': 10.0, 'object_store_memory': 2147483648.0, 'node:__internal_head__': 1.0, 'node:127.0.0.1': 1.0}\n",
      "\u001b[92mINFO \u001b[0m:      Optimize your simulation with Flower VCE: https://flower.ai/docs/framework/how-to-run-simulations.html\n",
      "\u001b[92mINFO \u001b[0m:      No `client_resources` specified. Using minimal resources for clients.\n",
      "\u001b[92mINFO \u001b[0m:      Flower VCE: Resources for each Virtual Client: {'num_cpus': 1, 'num_gpus': 0.0}\n",
      "\u001b[92mINFO \u001b[0m:      Flower VCE: Creating VirtualClientEngineActorPool with 10 actors\n",
      "\u001b[92mINFO \u001b[0m:      [INIT]\n",
      "\u001b[92mINFO \u001b[0m:      Requesting initial parameters from one random client\n",
      "\u001b[36m(ClientAppActor pid=50143)\u001b[0m \u001b[93mWARNING \u001b[0m:   DEPRECATED FEATURE: `client_fn` now expects a signature `def client_fn(context: Context)`.The provided `client_fn` has signature: {'cid': <Parameter \"cid: str\">}. You can import the `Context` like this: `from flwr.common import Context`\n",
      "\u001b[36m(ClientAppActor pid=50143)\u001b[0m \n",
      "\u001b[36m(ClientAppActor pid=50143)\u001b[0m             This is a deprecated feature. It will be removed\n",
      "\u001b[36m(ClientAppActor pid=50143)\u001b[0m             entirely in future versions of Flower.\n",
      "\u001b[36m(ClientAppActor pid=50143)\u001b[0m         \n",
      "\u001b[92mINFO \u001b[0m:      Received initial parameters from one random client\n",
      "\u001b[92mINFO \u001b[0m:      Evaluating initial global parameters\n",
      "\u001b[92mINFO \u001b[0m:      initial parameters (loss, other metrics): 4.358670402975643, {'accuracy': 0.006487488415199258}\n",
      "\u001b[92mINFO \u001b[0m:      \n",
      "\u001b[92mINFO \u001b[0m:      [ROUND 1]\n",
      "\u001b[92mINFO \u001b[0m:      configure_fit: strategy sampled 100 clients (out of 100)\n"
     ]
    },
    {
     "name": "stdout",
     "output_type": "stream",
     "text": [
      "Test Loss: 4.3587, Test Accuracy: 0.65%\n"
     ]
    },
    {
     "name": "stderr",
     "output_type": "stream",
     "text": [
      "\u001b[36m(ClientAppActor pid=50143)\u001b[0m \u001b[93mWARNING \u001b[0m:   DEPRECATED FEATURE: `client_fn` now expects a signature `def client_fn(context: Context)`.The provided `client_fn` has signature: {'cid': <Parameter \"cid: str\">}. You can import the `Context` like this: `from flwr.common import Context`\n",
      "\u001b[36m(ClientAppActor pid=50143)\u001b[0m \n",
      "\u001b[36m(ClientAppActor pid=50143)\u001b[0m             This is a deprecated feature. It will be removed\n",
      "\u001b[36m(ClientAppActor pid=50143)\u001b[0m             entirely in future versions of Flower.\n",
      "\u001b[36m(ClientAppActor pid=50143)\u001b[0m         \n",
      "  0%|          | 0/1 [00:00<?, ?it/s]\n",
      "100%|██████████| 1/1 [00:00<00:00,  1.20it/s]\n",
      "\u001b[36m(ClientAppActor pid=50143)\u001b[0m \u001b[93mWARNING \u001b[0m:   DEPRECATED FEATURE: `client_fn` now expects a signature `def client_fn(context: Context)`.The provided `client_fn` has signature: {'cid': <Parameter \"cid: str\">}. You can import the `Context` like this: `from flwr.common import Context`\n",
      "\u001b[36m(ClientAppActor pid=50143)\u001b[0m \n",
      "\u001b[36m(ClientAppActor pid=50143)\u001b[0m             This is a deprecated feature. It will be removed\n",
      "\u001b[36m(ClientAppActor pid=50143)\u001b[0m             entirely in future versions of Flower.\n",
      "\u001b[36m(ClientAppActor pid=50143)\u001b[0m         \n"
     ]
    },
    {
     "name": "stdout",
     "output_type": "stream",
     "text": [
      "\u001b[36m(ClientAppActor pid=50143)\u001b[0m Test Loss: 4.2593, Test Accuracy: 25.00%\n"
     ]
    },
    {
     "name": "stderr",
     "output_type": "stream",
     "text": [
      "  0%|          | 0/1 [00:00<?, ?it/s]\n"
     ]
    },
    {
     "name": "stdout",
     "output_type": "stream",
     "text": [
      "\u001b[36m(ClientAppActor pid=50143)\u001b[0m Test Loss: 4.2634, Test Accuracy: 12.50%\n"
     ]
    },
    {
     "name": "stderr",
     "output_type": "stream",
     "text": [
      "  0%|          | 0/1 [00:00<?, ?it/s]\n",
      "\u001b[36m(ClientAppActor pid=50135)\u001b[0m \u001b[93mWARNING \u001b[0m:   DEPRECATED FEATURE: `client_fn` now expects a signature `def client_fn(context: Context)`.The provided `client_fn` has signature: {'cid': <Parameter \"cid: str\">}. You can import the `Context` like this: `from flwr.common import Context`\u001b[32m [repeated 9x across cluster]\u001b[0m\n",
      "\u001b[36m(ClientAppActor pid=50135)\u001b[0m         \u001b[32m [repeated 19x across cluster]\u001b[0m\n",
      "\u001b[36m(ClientAppActor pid=50135)\u001b[0m             This is a deprecated feature. It will be removed\u001b[32m [repeated 9x across cluster]\u001b[0m\n",
      "\u001b[36m(ClientAppActor pid=50135)\u001b[0m             entirely in future versions of Flower.\u001b[32m [repeated 9x across cluster]\u001b[0m\n"
     ]
    },
    {
     "name": "stdout",
     "output_type": "stream",
     "text": [
      "\u001b[36m(ClientAppActor pid=50143)\u001b[0m Test Loss: 4.2407, Test Accuracy: 37.50%\n"
     ]
    },
    {
     "name": "stderr",
     "output_type": "stream",
     "text": [
      "  0%|          | 0/1 [00:00<?, ?it/s]\u001b[32m [repeated 2x across cluster]\u001b[0m\n"
     ]
    },
    {
     "name": "stdout",
     "output_type": "stream",
     "text": [
      "\u001b[36m(ClientAppActor pid=50142)\u001b[0m Test Loss: 4.3282, Test Accuracy: 12.50%\n",
      "\u001b[36m(ClientAppActor pid=50140)\u001b[0m Test Loss: 4.2520, Test Accuracy: 25.00%\n"
     ]
    },
    {
     "name": "stderr",
     "output_type": "stream",
     "text": [
      "\u001b[36m(ClientAppActor pid=50140)\u001b[0m \u001b[93mWARNING \u001b[0m:   DEPRECATED FEATURE: `client_fn` now expects a signature `def client_fn(context: Context)`.The provided `client_fn` has signature: {'cid': <Parameter \"cid: str\">}. You can import the `Context` like this: `from flwr.common import Context`\u001b[32m [repeated 4x across cluster]\u001b[0m\n",
      "100%|██████████| 1/1 [00:01<00:00,  1.92s/it]\u001b[32m [repeated 13x across cluster]\u001b[0m\n",
      "\u001b[36m(ClientAppActor pid=50140)\u001b[0m             This is a deprecated feature. It will be removed\u001b[32m [repeated 4x across cluster]\u001b[0m\n",
      "\u001b[36m(ClientAppActor pid=50140)\u001b[0m             entirely in future versions of Flower.\u001b[32m [repeated 4x across cluster]\u001b[0m\n",
      "  0%|          | 0/1 [00:00<?, ?it/s]\u001b[32m [repeated 24x across cluster]\u001b[0m\n"
     ]
    },
    {
     "name": "stdout",
     "output_type": "stream",
     "text": [
      "\u001b[36m(ClientAppActor pid=50141)\u001b[0m \n",
      "\u001b[36m(ClientAppActor pid=50140)\u001b[0m Test Loss: 4.2688, Test Accuracy: 18.18%\u001b[32m [repeated 23x across cluster]\u001b[0m\n"
     ]
    },
    {
     "name": "stderr",
     "output_type": "stream",
     "text": [
      "\u001b[36m(ClientAppActor pid=50134)\u001b[0m \u001b[93mWARNING \u001b[0m:   DEPRECATED FEATURE: `client_fn` now expects a signature `def client_fn(context: Context)`.The provided `client_fn` has signature: {'cid': <Parameter \"cid: str\">}. You can import the `Context` like this: `from flwr.common import Context`\u001b[32m [repeated 26x across cluster]\u001b[0m\n",
      "100%|██████████| 1/1 [00:01<00:00,  1.23s/it]\u001b[32m [repeated 79x across cluster]\u001b[0m\n",
      "\u001b[36m(ClientAppActor pid=50134)\u001b[0m             This is a deprecated feature. It will be removed\u001b[32m [repeated 26x across cluster]\u001b[0m\n",
      "\u001b[36m(ClientAppActor pid=50134)\u001b[0m             entirely in future versions of Flower.\u001b[32m [repeated 26x across cluster]\u001b[0m\n",
      "  0%|          | 0/1 [00:00<?, ?it/s]\u001b[32m [repeated 23x across cluster]\u001b[0m\n"
     ]
    },
    {
     "name": "stdout",
     "output_type": "stream",
     "text": [
      "\u001b[36m(ClientAppActor pid=50143)\u001b[0m Test Loss: 4.2556, Test Accuracy: 25.00%\u001b[32m [repeated 22x across cluster]\u001b[0m\n"
     ]
    },
    {
     "name": "stderr",
     "output_type": "stream",
     "text": [
      "\u001b[36m(ClientAppActor pid=50142)\u001b[0m \u001b[93mWARNING \u001b[0m:   DEPRECATED FEATURE: `client_fn` now expects a signature `def client_fn(context: Context)`.The provided `client_fn` has signature: {'cid': <Parameter \"cid: str\">}. You can import the `Context` like this: `from flwr.common import Context`\u001b[32m [repeated 22x across cluster]\u001b[0m\n",
      "100%|██████████| 1/1 [00:01<00:00,  1.39s/it]\u001b[32m [repeated 66x across cluster]\u001b[0m\n",
      "\u001b[36m(ClientAppActor pid=50142)\u001b[0m             This is a deprecated feature. It will be removed\u001b[32m [repeated 22x across cluster]\u001b[0m\n",
      "\u001b[36m(ClientAppActor pid=50142)\u001b[0m             entirely in future versions of Flower.\u001b[32m [repeated 22x across cluster]\u001b[0m\n",
      "  0%|          | 0/1 [00:00<?, ?it/s]\u001b[32m [repeated 21x across cluster]\u001b[0m\n"
     ]
    },
    {
     "name": "stdout",
     "output_type": "stream",
     "text": [
      "\u001b[36m(ClientAppActor pid=50141)\u001b[0m Test Loss: 4.2793, Test Accuracy: 12.50%\u001b[32m [repeated 20x across cluster]\u001b[0m\n"
     ]
    },
    {
     "name": "stderr",
     "output_type": "stream",
     "text": [
      "\u001b[36m(ClientAppActor pid=50142)\u001b[0m \u001b[93mWARNING \u001b[0m:   DEPRECATED FEATURE: `client_fn` now expects a signature `def client_fn(context: Context)`.The provided `client_fn` has signature: {'cid': <Parameter \"cid: str\">}. You can import the `Context` like this: `from flwr.common import Context`\u001b[32m [repeated 19x across cluster]\u001b[0m\n",
      "100%|██████████| 1/1 [00:01<00:00,  1.47s/it]\u001b[32m [repeated 59x across cluster]\u001b[0m\n",
      "\u001b[36m(ClientAppActor pid=50142)\u001b[0m             This is a deprecated feature. It will be removed\u001b[32m [repeated 19x across cluster]\u001b[0m\n",
      "\u001b[36m(ClientAppActor pid=50142)\u001b[0m             entirely in future versions of Flower.\u001b[32m [repeated 19x across cluster]\u001b[0m\n",
      "  0%|          | 0/1 [00:00<?, ?it/s]\u001b[32m [repeated 20x across cluster]\u001b[0m\n"
     ]
    },
    {
     "name": "stdout",
     "output_type": "stream",
     "text": [
      "\u001b[36m(ClientAppActor pid=50138)\u001b[0m Test Loss: 4.1839, Test Accuracy: 62.50%\u001b[32m [repeated 19x across cluster]\u001b[0m\n"
     ]
    },
    {
     "name": "stderr",
     "output_type": "stream",
     "text": [
      "\u001b[36m(ClientAppActor pid=50141)\u001b[0m \u001b[93mWARNING \u001b[0m:   DEPRECATED FEATURE: `client_fn` now expects a signature `def client_fn(context: Context)`.The provided `client_fn` has signature: {'cid': <Parameter \"cid: str\">}. You can import the `Context` like this: `from flwr.common import Context`\u001b[32m [repeated 18x across cluster]\u001b[0m\n",
      "100%|██████████| 1/1 [00:01<00:00,  1.63s/it]\u001b[32m [repeated 55x across cluster]\u001b[0m\n",
      "\u001b[36m(ClientAppActor pid=50141)\u001b[0m             This is a deprecated feature. It will be removed\u001b[32m [repeated 18x across cluster]\u001b[0m\n",
      "\u001b[36m(ClientAppActor pid=50141)\u001b[0m             entirely in future versions of Flower.\u001b[32m [repeated 18x across cluster]\u001b[0m\n",
      "\u001b[92mINFO \u001b[0m:      aggregate_fit: received 100 results and 0 failures\n",
      "\u001b[93mWARNING \u001b[0m:   No fit_metrics_aggregation_fn provided\n",
      "\u001b[92mINFO \u001b[0m:      fit progress: (1, 4.245385198032155, {'accuracy': 0.3614457831325301}, 37.6600547500002)\n",
      "\u001b[92mINFO \u001b[0m:      configure_evaluate: strategy sampled 20 clients (out of 100)\n"
     ]
    },
    {
     "name": "stdout",
     "output_type": "stream",
     "text": [
      "Test Loss: 4.2454, Test Accuracy: 36.14%\n"
     ]
    },
    {
     "name": "stderr",
     "output_type": "stream",
     "text": [
      "  0%|          | 0/1 [00:00<?, ?it/s]\u001b[32m [repeated 7x across cluster]\u001b[0m\n",
      "\u001b[36m(ClientAppActor pid=50141)\u001b[0m \u001b[93mWARNING \u001b[0m:   DEPRECATED FEATURE: `client_fn` now expects a signature `def client_fn(context: Context)`.The provided `client_fn` has signature: {'cid': <Parameter \"cid: str\">}. You can import the `Context` like this: `from flwr.common import Context`\n",
      "\u001b[36m(ClientAppActor pid=50141)\u001b[0m         \u001b[32m [repeated 8x across cluster]\u001b[0m\n",
      "\u001b[36m(ClientAppActor pid=50141)\u001b[0m             This is a deprecated feature. It will be removed\n",
      "\u001b[36m(ClientAppActor pid=50141)\u001b[0m             entirely in future versions of Flower.\n",
      "\u001b[36m(ClientAppActor pid=50138)\u001b[0m \u001b[93mWARNING \u001b[0m:   DEPRECATED FEATURE: `client_fn` now expects a signature `def client_fn(context: Context)`.The provided `client_fn` has signature: {'cid': <Parameter \"cid: str\">}. You can import the `Context` like this: `from flwr.common import Context`\n",
      "\u001b[36m(ClientAppActor pid=50138)\u001b[0m             This is a deprecated feature. It will be removed\n",
      "\u001b[36m(ClientAppActor pid=50138)\u001b[0m             entirely in future versions of Flower.\n"
     ]
    },
    {
     "name": "stdout",
     "output_type": "stream",
     "text": [
      "\u001b[36m(ClientAppActor pid=50141)\u001b[0m Test Loss: 4.2236, Test Accuracy: 37.50%\u001b[32m [repeated 12x across cluster]\u001b[0m\n"
     ]
    },
    {
     "name": "stderr",
     "output_type": "stream",
     "text": [
      "\u001b[92mINFO \u001b[0m:      aggregate_evaluate: received 20 results and 0 failures\n",
      "\u001b[93mWARNING \u001b[0m:   No evaluate_metrics_aggregation_fn provided\n",
      "\u001b[92mINFO \u001b[0m:      \n",
      "\u001b[92mINFO \u001b[0m:      [ROUND 2]\n",
      "\u001b[92mINFO \u001b[0m:      configure_fit: strategy sampled 100 clients (out of 100)\n",
      "  0%|          | 0/1 [00:00<?, ?it/s]\u001b[32m [repeated 10x across cluster]\u001b[0m\n",
      "\u001b[36m(ClientAppActor pid=50141)\u001b[0m         \u001b[32m [repeated 63x across cluster]\u001b[0m\n",
      "\u001b[36m(ClientAppActor pid=50141)\u001b[0m \u001b[93mWARNING \u001b[0m:   DEPRECATED FEATURE: `client_fn` now expects a signature `def client_fn(context: Context)`.The provided `client_fn` has signature: {'cid': <Parameter \"cid: str\">}. You can import the `Context` like this: `from flwr.common import Context`\u001b[32m [repeated 28x across cluster]\u001b[0m\n",
      "\u001b[36m(ClientAppActor pid=50141)\u001b[0m             This is a deprecated feature. It will be removed\u001b[32m [repeated 28x across cluster]\u001b[0m\n",
      "\u001b[36m(ClientAppActor pid=50141)\u001b[0m             entirely in future versions of Flower.\u001b[32m [repeated 28x across cluster]\u001b[0m\n"
     ]
    },
    {
     "name": "stdout",
     "output_type": "stream",
     "text": [
      "\u001b[36m(ClientAppActor pid=50142)\u001b[0m Test Loss: 4.1649, Test Accuracy: 37.50%\u001b[32m [repeated 25x across cluster]\u001b[0m\n"
     ]
    },
    {
     "name": "stderr",
     "output_type": "stream",
     "text": [
      "  0%|          | 0/1 [00:00<?, ?it/s]\u001b[32m [repeated 20x across cluster]\u001b[0m\n",
      "100%|██████████| 1/1 [00:01<00:00,  1.34s/it]\u001b[32m [repeated 58x across cluster]\u001b[0m\n",
      "\u001b[36m(ClientAppActor pid=50135)\u001b[0m \u001b[93mWARNING \u001b[0m:   DEPRECATED FEATURE: `client_fn` now expects a signature `def client_fn(context: Context)`.The provided `client_fn` has signature: {'cid': <Parameter \"cid: str\">}. You can import the `Context` like this: `from flwr.common import Context`\u001b[32m [repeated 20x across cluster]\u001b[0m\n",
      "\u001b[36m(ClientAppActor pid=50135)\u001b[0m             This is a deprecated feature. It will be removed\u001b[32m [repeated 20x across cluster]\u001b[0m\n",
      "\u001b[36m(ClientAppActor pid=50135)\u001b[0m             entirely in future versions of Flower.\u001b[32m [repeated 20x across cluster]\u001b[0m\n"
     ]
    },
    {
     "name": "stdout",
     "output_type": "stream",
     "text": [
      "\u001b[36m(ClientAppActor pid=50139)\u001b[0m Test Loss: 4.1334, Test Accuracy: 37.50%\u001b[32m [repeated 19x across cluster]\u001b[0m\n"
     ]
    },
    {
     "name": "stderr",
     "output_type": "stream",
     "text": [
      "  0%|          | 0/1 [00:00<?, ?it/s]\u001b[32m [repeated 20x across cluster]\u001b[0m\n",
      "\u001b[36m(ClientAppActor pid=50138)\u001b[0m         \u001b[32m [repeated 61x across cluster]\u001b[0m\n",
      "\u001b[36m(ClientAppActor pid=50138)\u001b[0m \u001b[93mWARNING \u001b[0m:   DEPRECATED FEATURE: `client_fn` now expects a signature `def client_fn(context: Context)`.The provided `client_fn` has signature: {'cid': <Parameter \"cid: str\">}. You can import the `Context` like this: `from flwr.common import Context`\u001b[32m [repeated 21x across cluster]\u001b[0m\n",
      "\u001b[36m(ClientAppActor pid=50138)\u001b[0m             This is a deprecated feature. It will be removed\u001b[32m [repeated 21x across cluster]\u001b[0m\n",
      "\u001b[36m(ClientAppActor pid=50138)\u001b[0m             entirely in future versions of Flower.\u001b[32m [repeated 21x across cluster]\u001b[0m\n"
     ]
    },
    {
     "name": "stdout",
     "output_type": "stream",
     "text": [
      "\u001b[36m(ClientAppActor pid=50139)\u001b[0m Test Loss: 4.1431, Test Accuracy: 37.50%\u001b[32m [repeated 19x across cluster]\u001b[0m\n"
     ]
    },
    {
     "name": "stderr",
     "output_type": "stream",
     "text": [
      "  0%|          | 0/1 [00:00<?, ?it/s]\u001b[32m [repeated 21x across cluster]\u001b[0m\n",
      "100%|██████████| 1/1 [00:01<00:00,  1.30s/it]\u001b[32m [repeated 65x across cluster]\u001b[0m\n",
      "\u001b[36m(ClientAppActor pid=50138)\u001b[0m \u001b[93mWARNING \u001b[0m:   DEPRECATED FEATURE: `client_fn` now expects a signature `def client_fn(context: Context)`.The provided `client_fn` has signature: {'cid': <Parameter \"cid: str\">}. You can import the `Context` like this: `from flwr.common import Context`\u001b[32m [repeated 21x across cluster]\u001b[0m\n",
      "\u001b[36m(ClientAppActor pid=50138)\u001b[0m             This is a deprecated feature. It will be removed\u001b[32m [repeated 21x across cluster]\u001b[0m\n",
      "\u001b[36m(ClientAppActor pid=50138)\u001b[0m             entirely in future versions of Flower.\u001b[32m [repeated 21x across cluster]\u001b[0m\n"
     ]
    },
    {
     "name": "stdout",
     "output_type": "stream",
     "text": [
      "\u001b[36m(ClientAppActor pid=50143)\u001b[0m Test Loss: 4.1376, Test Accuracy: 37.50%\u001b[32m [repeated 26x across cluster]\u001b[0m\n"
     ]
    },
    {
     "name": "stderr",
     "output_type": "stream",
     "text": [
      "  0%|          | 0/1 [00:00<?, ?it/s]\u001b[32m [repeated 24x across cluster]\u001b[0m\n",
      "\u001b[36m(ClientAppActor pid=50141)\u001b[0m         \u001b[32m [repeated 70x across cluster]\u001b[0m\n",
      "\u001b[36m(ClientAppActor pid=50141)\u001b[0m \u001b[93mWARNING \u001b[0m:   DEPRECATED FEATURE: `client_fn` now expects a signature `def client_fn(context: Context)`.The provided `client_fn` has signature: {'cid': <Parameter \"cid: str\">}. You can import the `Context` like this: `from flwr.common import Context`\u001b[32m [repeated 24x across cluster]\u001b[0m\n",
      "\u001b[36m(ClientAppActor pid=50141)\u001b[0m             This is a deprecated feature. It will be removed\u001b[32m [repeated 24x across cluster]\u001b[0m\n",
      "\u001b[36m(ClientAppActor pid=50141)\u001b[0m             entirely in future versions of Flower.\u001b[32m [repeated 24x across cluster]\u001b[0m\n"
     ]
    },
    {
     "name": "stdout",
     "output_type": "stream",
     "text": [
      "\u001b[36m(ClientAppActor pid=50142)\u001b[0m Test Loss: 4.0105, Test Accuracy: 75.00%\u001b[32m [repeated 25x across cluster]\u001b[0m\n"
     ]
    },
    {
     "name": "stderr",
     "output_type": "stream",
     "text": [
      "  0%|          | 0/1 [00:00<?, ?it/s]\u001b[32m [repeated 4x across cluster]\u001b[0m\n",
      "\u001b[36m(ClientAppActor pid=50143)\u001b[0m         \u001b[32m [repeated 20x across cluster]\u001b[0m\n",
      "\u001b[36m(ClientAppActor pid=50143)\u001b[0m \u001b[93mWARNING \u001b[0m:   DEPRECATED FEATURE: `client_fn` now expects a signature `def client_fn(context: Context)`.The provided `client_fn` has signature: {'cid': <Parameter \"cid: str\">}. You can import the `Context` like this: `from flwr.common import Context`\u001b[32m [repeated 4x across cluster]\u001b[0m\n",
      "\u001b[36m(ClientAppActor pid=50143)\u001b[0m             This is a deprecated feature. It will be removed\u001b[32m [repeated 4x across cluster]\u001b[0m\n",
      "\u001b[36m(ClientAppActor pid=50143)\u001b[0m             entirely in future versions of Flower.\u001b[32m [repeated 4x across cluster]\u001b[0m\n",
      "\u001b[92mINFO \u001b[0m:      aggregate_fit: received 100 results and 0 failures\n"
     ]
    },
    {
     "name": "stdout",
     "output_type": "stream",
     "text": [
      "\u001b[36m(ClientAppActor pid=50143)\u001b[0m Test Loss: 4.2248, Test Accuracy: 25.00%\u001b[32m [repeated 5x across cluster]\u001b[0m\n"
     ]
    },
    {
     "name": "stderr",
     "output_type": "stream",
     "text": [
      "\u001b[92mINFO \u001b[0m:      fit progress: (2, 4.130982511183795, {'accuracy': 0.3614457831325301}, 77.42237699999987)\n",
      "\u001b[92mINFO \u001b[0m:      configure_evaluate: strategy sampled 20 clients (out of 100)\n"
     ]
    },
    {
     "name": "stdout",
     "output_type": "stream",
     "text": [
      "Test Loss: 4.1310, Test Accuracy: 36.14%\n"
     ]
    },
    {
     "name": "stderr",
     "output_type": "stream",
     "text": [
      "  0%|          | 0/1 [00:00<?, ?it/s]\n",
      "\u001b[36m(ClientAppActor pid=50143)\u001b[0m         \u001b[32m [repeated 3x across cluster]\u001b[0m\n",
      "\u001b[36m(ClientAppActor pid=50143)\u001b[0m \u001b[93mWARNING \u001b[0m:   DEPRECATED FEATURE: `client_fn` now expects a signature `def client_fn(context: Context)`.The provided `client_fn` has signature: {'cid': <Parameter \"cid: str\">}. You can import the `Context` like this: `from flwr.common import Context`\n",
      "\u001b[36m(ClientAppActor pid=50143)\u001b[0m             This is a deprecated feature. It will be removed\n",
      "\u001b[36m(ClientAppActor pid=50143)\u001b[0m             entirely in future versions of Flower.\n",
      "\u001b[36m(ClientAppActor pid=50137)\u001b[0m \u001b[93mWARNING \u001b[0m:   DEPRECATED FEATURE: `client_fn` now expects a signature `def client_fn(context: Context)`.The provided `client_fn` has signature: {'cid': <Parameter \"cid: str\">}. You can import the `Context` like this: `from flwr.common import Context`\n",
      "\u001b[36m(ClientAppActor pid=50137)\u001b[0m             This is a deprecated feature. It will be removed\n",
      "\u001b[36m(ClientAppActor pid=50137)\u001b[0m             entirely in future versions of Flower.\n"
     ]
    },
    {
     "name": "stdout",
     "output_type": "stream",
     "text": [
      "\u001b[36m(ClientAppActor pid=50137)\u001b[0m Test Loss: 4.0302, Test Accuracy: 50.00%\n",
      "\u001b[36m(ClientAppActor pid=50143)\u001b[0m Test Loss: 3.9642, Test Accuracy: 75.00%\n"
     ]
    },
    {
     "name": "stderr",
     "output_type": "stream",
     "text": [
      "\u001b[92mINFO \u001b[0m:      aggregate_evaluate: received 20 results and 0 failures\n",
      "\u001b[92mINFO \u001b[0m:      \n",
      "\u001b[92mINFO \u001b[0m:      [ROUND 3]\n",
      "\u001b[92mINFO \u001b[0m:      configure_fit: strategy sampled 100 clients (out of 100)\n",
      "  0%|          | 0/1 [00:00<?, ?it/s]\n",
      "\u001b[36m(ClientAppActor pid=50143)\u001b[0m         \u001b[32m [repeated 93x across cluster]\u001b[0m\n",
      "\u001b[36m(ClientAppActor pid=50143)\u001b[0m \u001b[93mWARNING \u001b[0m:   DEPRECATED FEATURE: `client_fn` now expects a signature `def client_fn(context: Context)`.The provided `client_fn` has signature: {'cid': <Parameter \"cid: str\">}. You can import the `Context` like this: `from flwr.common import Context`\u001b[32m [repeated 39x across cluster]\u001b[0m\n",
      "\u001b[36m(ClientAppActor pid=50143)\u001b[0m             This is a deprecated feature. It will be removed\u001b[32m [repeated 39x across cluster]\u001b[0m\n",
      "\u001b[36m(ClientAppActor pid=50143)\u001b[0m             entirely in future versions of Flower.\u001b[32m [repeated 39x across cluster]\u001b[0m\n"
     ]
    },
    {
     "name": "stdout",
     "output_type": "stream",
     "text": [
      "\u001b[36m(ClientAppActor pid=50134)\u001b[0m Test Loss: 3.8653, Test Accuracy: 62.50%\u001b[32m [repeated 33x across cluster]\u001b[0m\n"
     ]
    },
    {
     "name": "stderr",
     "output_type": "stream",
     "text": [
      "  0%|          | 0/1 [00:00<?, ?it/s]\u001b[32m [repeated 23x across cluster]\u001b[0m\n",
      "100%|██████████| 1/1 [00:01<00:00,  1.17s/it]\u001b[32m [repeated 57x across cluster]\u001b[0m\n",
      "\u001b[36m(ClientAppActor pid=50140)\u001b[0m \u001b[93mWARNING \u001b[0m:   DEPRECATED FEATURE: `client_fn` now expects a signature `def client_fn(context: Context)`.The provided `client_fn` has signature: {'cid': <Parameter \"cid: str\">}. You can import the `Context` like this: `from flwr.common import Context`\u001b[32m [repeated 18x across cluster]\u001b[0m\n",
      "\u001b[36m(ClientAppActor pid=50140)\u001b[0m             This is a deprecated feature. It will be removed\u001b[32m [repeated 18x across cluster]\u001b[0m\n",
      "\u001b[36m(ClientAppActor pid=50140)\u001b[0m             entirely in future versions of Flower.\u001b[32m [repeated 18x across cluster]\u001b[0m\n"
     ]
    },
    {
     "name": "stdout",
     "output_type": "stream",
     "text": [
      "\u001b[36m(ClientAppActor pid=50143)\u001b[0m Test Loss: 4.0904, Test Accuracy: 25.00%\u001b[32m [repeated 19x across cluster]\u001b[0m\n"
     ]
    },
    {
     "name": "stderr",
     "output_type": "stream",
     "text": [
      "  0%|          | 0/1 [00:00<?, ?it/s]\u001b[32m [repeated 17x across cluster]\u001b[0m\n",
      "100%|██████████| 1/1 [00:01<00:00,  1.12s/it]\u001b[32m [repeated 74x across cluster]\u001b[0m\n",
      "\u001b[36m(ClientAppActor pid=50142)\u001b[0m \u001b[93mWARNING \u001b[0m:   DEPRECATED FEATURE: `client_fn` now expects a signature `def client_fn(context: Context)`.The provided `client_fn` has signature: {'cid': <Parameter \"cid: str\">}. You can import the `Context` like this: `from flwr.common import Context`\u001b[32m [repeated 25x across cluster]\u001b[0m\n",
      "\u001b[36m(ClientAppActor pid=50142)\u001b[0m             This is a deprecated feature. It will be removed\u001b[32m [repeated 25x across cluster]\u001b[0m\n",
      "\u001b[36m(ClientAppActor pid=50142)\u001b[0m             entirely in future versions of Flower.\u001b[32m [repeated 25x across cluster]\u001b[0m\n"
     ]
    },
    {
     "name": "stdout",
     "output_type": "stream",
     "text": [
      "\u001b[36m(ClientAppActor pid=50140)\u001b[0m Test Loss: 4.0578, Test Accuracy: 37.50%\u001b[32m [repeated 24x across cluster]\u001b[0m\n"
     ]
    },
    {
     "name": "stderr",
     "output_type": "stream",
     "text": [
      "  0%|          | 0/1 [00:00<?, ?it/s]\u001b[32m [repeated 27x across cluster]\u001b[0m\n",
      "100%|██████████| 1/1 [00:01<00:00,  1.32s/it]\u001b[32m [repeated 73x across cluster]\u001b[0m\n",
      "\u001b[36m(ClientAppActor pid=50139)\u001b[0m \u001b[93mWARNING \u001b[0m:   DEPRECATED FEATURE: `client_fn` now expects a signature `def client_fn(context: Context)`.The provided `client_fn` has signature: {'cid': <Parameter \"cid: str\">}. You can import the `Context` like this: `from flwr.common import Context`\u001b[32m [repeated 24x across cluster]\u001b[0m\n",
      "\u001b[36m(ClientAppActor pid=50139)\u001b[0m             This is a deprecated feature. It will be removed\u001b[32m [repeated 24x across cluster]\u001b[0m\n",
      "\u001b[36m(ClientAppActor pid=50139)\u001b[0m             entirely in future versions of Flower.\u001b[32m [repeated 24x across cluster]\u001b[0m\n"
     ]
    },
    {
     "name": "stdout",
     "output_type": "stream",
     "text": [
      "\u001b[36m(ClientAppActor pid=50134)\u001b[0m Test Loss: 4.0831, Test Accuracy: 25.00%\u001b[32m [repeated 25x across cluster]\u001b[0m\n"
     ]
    },
    {
     "name": "stderr",
     "output_type": "stream",
     "text": [
      "  0%|          | 0/1 [00:00<?, ?it/s]\u001b[32m [repeated 25x across cluster]\u001b[0m\n"
     ]
    },
    {
     "name": "stdout",
     "output_type": "stream",
     "text": [
      "\u001b[36m(ClientAppActor pid=50137)\u001b[0m \n"
     ]
    },
    {
     "name": "stderr",
     "output_type": "stream",
     "text": [
      "\u001b[92mINFO \u001b[0m:      aggregate_fit: received 100 results and 0 failures\n",
      "\u001b[92mINFO \u001b[0m:      fit progress: (3, 4.011868364670697, {'accuracy': 0.3614457831325301}, 109.95005687499997)\n",
      "\u001b[92mINFO \u001b[0m:      configure_evaluate: strategy sampled 20 clients (out of 100)\n"
     ]
    },
    {
     "name": "stdout",
     "output_type": "stream",
     "text": [
      "Test Loss: 4.0119, Test Accuracy: 36.14%\n"
     ]
    },
    {
     "name": "stderr",
     "output_type": "stream",
     "text": [
      "\u001b[36m(ClientAppActor pid=50143)\u001b[0m         \u001b[32m [repeated 46x across cluster]\u001b[0m\n",
      "\u001b[36m(ClientAppActor pid=50143)\u001b[0m \u001b[93mWARNING \u001b[0m:   DEPRECATED FEATURE: `client_fn` now expects a signature `def client_fn(context: Context)`.The provided `client_fn` has signature: {'cid': <Parameter \"cid: str\">}. You can import the `Context` like this: `from flwr.common import Context`\u001b[32m [repeated 13x across cluster]\u001b[0m\n",
      "\u001b[36m(ClientAppActor pid=50143)\u001b[0m             This is a deprecated feature. It will be removed\u001b[32m [repeated 13x across cluster]\u001b[0m\n",
      "\u001b[36m(ClientAppActor pid=50143)\u001b[0m             entirely in future versions of Flower.\u001b[32m [repeated 13x across cluster]\u001b[0m\n",
      "  0%|          | 0/1 [00:00<?, ?it/s]\u001b[32m [repeated 7x across cluster]\u001b[0m\n"
     ]
    },
    {
     "name": "stdout",
     "output_type": "stream",
     "text": [
      "\u001b[36m(ClientAppActor pid=50143)\u001b[0m Test Loss: 4.0465, Test Accuracy: 25.00%\u001b[32m [repeated 18x across cluster]\u001b[0m\n"
     ]
    },
    {
     "name": "stderr",
     "output_type": "stream",
     "text": [
      "\u001b[92mINFO \u001b[0m:      aggregate_evaluate: received 20 results and 0 failures\n",
      "\u001b[92mINFO \u001b[0m:      \n",
      "\u001b[92mINFO \u001b[0m:      [ROUND 4]\n",
      "\u001b[92mINFO \u001b[0m:      configure_fit: strategy sampled 100 clients (out of 100)\n",
      "\u001b[36m(ClientAppActor pid=50143)\u001b[0m         \u001b[32m [repeated 106x across cluster]\u001b[0m\n",
      "\u001b[36m(ClientAppActor pid=50143)\u001b[0m \u001b[93mWARNING \u001b[0m:   DEPRECATED FEATURE: `client_fn` now expects a signature `def client_fn(context: Context)`.The provided `client_fn` has signature: {'cid': <Parameter \"cid: str\">}. You can import the `Context` like this: `from flwr.common import Context`\u001b[32m [repeated 44x across cluster]\u001b[0m\n",
      "\u001b[36m(ClientAppActor pid=50143)\u001b[0m             This is a deprecated feature. It will be removed\u001b[32m [repeated 44x across cluster]\u001b[0m\n",
      "\u001b[36m(ClientAppActor pid=50143)\u001b[0m             entirely in future versions of Flower.\u001b[32m [repeated 44x across cluster]\u001b[0m\n",
      "  0%|          | 0/1 [00:00<?, ?it/s]\u001b[32m [repeated 23x across cluster]\u001b[0m\n"
     ]
    },
    {
     "name": "stdout",
     "output_type": "stream",
     "text": [
      "\u001b[36m(ClientAppActor pid=50135)\u001b[0m Test Loss: 3.8698, Test Accuracy: 25.00%\u001b[32m [repeated 38x across cluster]\u001b[0m\n"
     ]
    },
    {
     "name": "stderr",
     "output_type": "stream",
     "text": [
      "\u001b[36m(ClientAppActor pid=50143)\u001b[0m         \u001b[32m [repeated 72x across cluster]\u001b[0m\n",
      "\u001b[36m(ClientAppActor pid=50143)\u001b[0m \u001b[93mWARNING \u001b[0m:   DEPRECATED FEATURE: `client_fn` now expects a signature `def client_fn(context: Context)`.The provided `client_fn` has signature: {'cid': <Parameter \"cid: str\">}. You can import the `Context` like this: `from flwr.common import Context`\u001b[32m [repeated 24x across cluster]\u001b[0m\n",
      "\u001b[36m(ClientAppActor pid=50143)\u001b[0m             This is a deprecated feature. It will be removed\u001b[32m [repeated 24x across cluster]\u001b[0m\n",
      "\u001b[36m(ClientAppActor pid=50143)\u001b[0m             entirely in future versions of Flower.\u001b[32m [repeated 24x across cluster]\u001b[0m\n",
      "  0%|          | 0/1 [00:00<?, ?it/s]\u001b[32m [repeated 23x across cluster]\u001b[0m\n"
     ]
    },
    {
     "name": "stdout",
     "output_type": "stream",
     "text": [
      "\u001b[36m(ClientAppActor pid=50142)\u001b[0m Test Loss: 4.0276, Test Accuracy: 25.00%\u001b[32m [repeated 23x across cluster]\u001b[0m\n"
     ]
    },
    {
     "name": "stderr",
     "output_type": "stream",
     "text": [
      "\u001b[36m(ClientAppActor pid=50139)\u001b[0m         \u001b[32m [repeated 53x across cluster]\u001b[0m\n",
      "\u001b[36m(ClientAppActor pid=50139)\u001b[0m \u001b[93mWARNING \u001b[0m:   DEPRECATED FEATURE: `client_fn` now expects a signature `def client_fn(context: Context)`.The provided `client_fn` has signature: {'cid': <Parameter \"cid: str\">}. You can import the `Context` like this: `from flwr.common import Context`\u001b[32m [repeated 17x across cluster]\u001b[0m\n",
      "\u001b[36m(ClientAppActor pid=50139)\u001b[0m             This is a deprecated feature. It will be removed\u001b[32m [repeated 17x across cluster]\u001b[0m\n",
      "\u001b[36m(ClientAppActor pid=50139)\u001b[0m             entirely in future versions of Flower.\u001b[32m [repeated 17x across cluster]\u001b[0m\n",
      "  0%|          | 0/1 [00:00<?, ?it/s]\u001b[32m [repeated 20x across cluster]\u001b[0m\n"
     ]
    },
    {
     "name": "stdout",
     "output_type": "stream",
     "text": [
      "\u001b[36m(ClientAppActor pid=50136)\u001b[0m Test Loss: 3.6186, Test Accuracy: 62.50%\u001b[32m [repeated 19x across cluster]\u001b[0m\n"
     ]
    },
    {
     "name": "stderr",
     "output_type": "stream",
     "text": [
      "\u001b[36m(ClientAppActor pid=50137)\u001b[0m         \u001b[32m [repeated 59x across cluster]\u001b[0m\n",
      "\u001b[36m(ClientAppActor pid=50137)\u001b[0m \u001b[93mWARNING \u001b[0m:   DEPRECATED FEATURE: `client_fn` now expects a signature `def client_fn(context: Context)`.The provided `client_fn` has signature: {'cid': <Parameter \"cid: str\">}. You can import the `Context` like this: `from flwr.common import Context`\u001b[32m [repeated 20x across cluster]\u001b[0m\n",
      "\u001b[36m(ClientAppActor pid=50137)\u001b[0m             This is a deprecated feature. It will be removed\u001b[32m [repeated 20x across cluster]\u001b[0m\n",
      "\u001b[36m(ClientAppActor pid=50137)\u001b[0m             entirely in future versions of Flower.\u001b[32m [repeated 20x across cluster]\u001b[0m\n",
      "  0%|          | 0/1 [00:00<?, ?it/s]\u001b[32m [repeated 18x across cluster]\u001b[0m\n"
     ]
    },
    {
     "name": "stdout",
     "output_type": "stream",
     "text": [
      "\u001b[36m(ClientAppActor pid=50141)\u001b[0m Test Loss: 3.9788, Test Accuracy: 37.50%\u001b[32m [repeated 19x across cluster]\u001b[0m\n"
     ]
    },
    {
     "name": "stderr",
     "output_type": "stream",
     "text": [
      "\u001b[92mINFO \u001b[0m:      aggregate_fit: received 100 results and 0 failures\n",
      "\u001b[92mINFO \u001b[0m:      fit progress: (4, 3.883441925048828, {'accuracy': 0.3614457831325301}, 143.9223909579996)\n",
      "\u001b[92mINFO \u001b[0m:      configure_evaluate: strategy sampled 20 clients (out of 100)\n"
     ]
    },
    {
     "name": "stdout",
     "output_type": "stream",
     "text": [
      "Test Loss: 3.8834, Test Accuracy: 36.14%\n"
     ]
    },
    {
     "name": "stderr",
     "output_type": "stream",
     "text": [
      "\u001b[36m(ClientAppActor pid=50135)\u001b[0m         \u001b[32m [repeated 52x across cluster]\u001b[0m\n",
      "\u001b[36m(ClientAppActor pid=50135)\u001b[0m \u001b[93mWARNING \u001b[0m:   DEPRECATED FEATURE: `client_fn` now expects a signature `def client_fn(context: Context)`.The provided `client_fn` has signature: {'cid': <Parameter \"cid: str\">}. You can import the `Context` like this: `from flwr.common import Context`\u001b[32m [repeated 15x across cluster]\u001b[0m\n",
      "\u001b[36m(ClientAppActor pid=50135)\u001b[0m             This is a deprecated feature. It will be removed\u001b[32m [repeated 15x across cluster]\u001b[0m\n",
      "\u001b[36m(ClientAppActor pid=50135)\u001b[0m             entirely in future versions of Flower.\u001b[32m [repeated 15x across cluster]\u001b[0m\n",
      "  0%|          | 0/1 [00:00<?, ?it/s]\u001b[32m [repeated 16x across cluster]\u001b[0m\n"
     ]
    },
    {
     "name": "stdout",
     "output_type": "stream",
     "text": [
      "\u001b[36m(ClientAppActor pid=50135)\u001b[0m Test Loss: 4.1042, Test Accuracy: 12.50%\u001b[32m [repeated 21x across cluster]\u001b[0m\n",
      "\u001b[36m(ClientAppActor pid=50140)\u001b[0m \n"
     ]
    },
    {
     "name": "stderr",
     "output_type": "stream",
     "text": [
      "\u001b[92mINFO \u001b[0m:      aggregate_evaluate: received 20 results and 0 failures\n",
      "\u001b[92mINFO \u001b[0m:      \n",
      "\u001b[92mINFO \u001b[0m:      [ROUND 5]\n",
      "\u001b[92mINFO \u001b[0m:      configure_fit: strategy sampled 100 clients (out of 100)\n",
      "\u001b[36m(ClientAppActor pid=50142)\u001b[0m         \u001b[32m [repeated 76x across cluster]\u001b[0m\n",
      "\u001b[36m(ClientAppActor pid=50142)\u001b[0m \u001b[93mWARNING \u001b[0m:   DEPRECATED FEATURE: `client_fn` now expects a signature `def client_fn(context: Context)`.The provided `client_fn` has signature: {'cid': <Parameter \"cid: str\">}. You can import the `Context` like this: `from flwr.common import Context`\u001b[32m [repeated 33x across cluster]\u001b[0m\n",
      "\u001b[36m(ClientAppActor pid=50142)\u001b[0m             This is a deprecated feature. It will be removed\u001b[32m [repeated 33x across cluster]\u001b[0m\n",
      "\u001b[36m(ClientAppActor pid=50142)\u001b[0m             entirely in future versions of Flower.\u001b[32m [repeated 33x across cluster]\u001b[0m\n",
      "  0%|          | 0/1 [00:00<?, ?it/s]\u001b[32m [repeated 11x across cluster]\u001b[0m\n"
     ]
    },
    {
     "name": "stdout",
     "output_type": "stream",
     "text": [
      "\u001b[36m(ClientAppActor pid=50143)\u001b[0m Test Loss: 3.4110, Test Accuracy: 75.00%\u001b[32m [repeated 30x across cluster]\u001b[0m\n"
     ]
    },
    {
     "name": "stderr",
     "output_type": "stream",
     "text": [
      "\u001b[36m(ClientAppActor pid=50138)\u001b[0m         \u001b[32m [repeated 57x across cluster]\u001b[0m\n",
      "\u001b[36m(ClientAppActor pid=50138)\u001b[0m \u001b[93mWARNING \u001b[0m:   DEPRECATED FEATURE: `client_fn` now expects a signature `def client_fn(context: Context)`.The provided `client_fn` has signature: {'cid': <Parameter \"cid: str\">}. You can import the `Context` like this: `from flwr.common import Context`\u001b[32m [repeated 20x across cluster]\u001b[0m\n",
      "\u001b[36m(ClientAppActor pid=50138)\u001b[0m             This is a deprecated feature. It will be removed\u001b[32m [repeated 20x across cluster]\u001b[0m\n",
      "\u001b[36m(ClientAppActor pid=50138)\u001b[0m             entirely in future versions of Flower.\u001b[32m [repeated 20x across cluster]\u001b[0m\n",
      "  0%|          | 0/1 [00:00<?, ?it/s]\u001b[32m [repeated 21x across cluster]\u001b[0m\n"
     ]
    },
    {
     "name": "stdout",
     "output_type": "stream",
     "text": [
      "\u001b[36m(ClientAppActor pid=50142)\u001b[0m Test Loss: 3.6971, Test Accuracy: 37.50%\u001b[32m [repeated 23x across cluster]\u001b[0m\n",
      "\u001b[36m(ClientAppActor pid=50140)\u001b[0m \n"
     ]
    },
    {
     "name": "stderr",
     "output_type": "stream",
     "text": [
      "\u001b[36m(ClientAppActor pid=50135)\u001b[0m         \u001b[32m [repeated 59x across cluster]\u001b[0m\n",
      "\u001b[36m(ClientAppActor pid=50135)\u001b[0m \u001b[93mWARNING \u001b[0m:   DEPRECATED FEATURE: `client_fn` now expects a signature `def client_fn(context: Context)`.The provided `client_fn` has signature: {'cid': <Parameter \"cid: str\">}. You can import the `Context` like this: `from flwr.common import Context`\u001b[32m [repeated 19x across cluster]\u001b[0m\n",
      "\u001b[36m(ClientAppActor pid=50135)\u001b[0m             This is a deprecated feature. It will be removed\u001b[32m [repeated 19x across cluster]\u001b[0m\n",
      "\u001b[36m(ClientAppActor pid=50135)\u001b[0m             entirely in future versions of Flower.\u001b[32m [repeated 19x across cluster]\u001b[0m\n",
      "  0%|          | 0/1 [00:00<?, ?it/s]\u001b[32m [repeated 20x across cluster]\u001b[0m\n"
     ]
    },
    {
     "name": "stdout",
     "output_type": "stream",
     "text": [
      "\u001b[36m(ClientAppActor pid=50135)\u001b[0m Test Loss: 3.8157, Test Accuracy: 25.00%\u001b[32m [repeated 19x across cluster]\u001b[0m\n"
     ]
    },
    {
     "name": "stderr",
     "output_type": "stream",
     "text": [
      "\u001b[36m(ClientAppActor pid=50139)\u001b[0m         \u001b[32m [repeated 73x across cluster]\u001b[0m\n",
      "\u001b[36m(ClientAppActor pid=50139)\u001b[0m \u001b[93mWARNING \u001b[0m:   DEPRECATED FEATURE: `client_fn` now expects a signature `def client_fn(context: Context)`.The provided `client_fn` has signature: {'cid': <Parameter \"cid: str\">}. You can import the `Context` like this: `from flwr.common import Context`\u001b[32m [repeated 25x across cluster]\u001b[0m\n",
      "\u001b[36m(ClientAppActor pid=50139)\u001b[0m             This is a deprecated feature. It will be removed\u001b[32m [repeated 25x across cluster]\u001b[0m\n",
      "\u001b[36m(ClientAppActor pid=50139)\u001b[0m             entirely in future versions of Flower.\u001b[32m [repeated 25x across cluster]\u001b[0m\n",
      "  0%|          | 0/1 [00:00<?, ?it/s]\u001b[32m [repeated 23x across cluster]\u001b[0m\n"
     ]
    },
    {
     "name": "stdout",
     "output_type": "stream",
     "text": [
      "\u001b[36m(ClientAppActor pid=50142)\u001b[0m Test Loss: 3.5116, Test Accuracy: 50.00%\u001b[32m [repeated 23x across cluster]\u001b[0m\n"
     ]
    },
    {
     "name": "stderr",
     "output_type": "stream",
     "text": [
      "\u001b[36m(ClientAppActor pid=50135)\u001b[0m         \u001b[32m [repeated 57x across cluster]\u001b[0m\n",
      "\u001b[36m(ClientAppActor pid=50135)\u001b[0m \u001b[93mWARNING \u001b[0m:   DEPRECATED FEATURE: `client_fn` now expects a signature `def client_fn(context: Context)`.The provided `client_fn` has signature: {'cid': <Parameter \"cid: str\">}. You can import the `Context` like this: `from flwr.common import Context`\u001b[32m [repeated 18x across cluster]\u001b[0m\n",
      "\u001b[36m(ClientAppActor pid=50135)\u001b[0m             This is a deprecated feature. It will be removed\u001b[32m [repeated 18x across cluster]\u001b[0m\n",
      "\u001b[36m(ClientAppActor pid=50135)\u001b[0m             entirely in future versions of Flower.\u001b[32m [repeated 18x across cluster]\u001b[0m\n",
      "  0%|          | 0/1 [00:00<?, ?it/s]\u001b[32m [repeated 20x across cluster]\u001b[0m\n"
     ]
    },
    {
     "name": "stdout",
     "output_type": "stream",
     "text": [
      "\u001b[36m(ClientAppActor pid=50141)\u001b[0m \n"
     ]
    },
    {
     "name": "stderr",
     "output_type": "stream",
     "text": [
      "\u001b[92mINFO \u001b[0m:      aggregate_fit: received 100 results and 0 failures\n"
     ]
    },
    {
     "name": "stdout",
     "output_type": "stream",
     "text": [
      "\u001b[36m(ClientAppActor pid=50138)\u001b[0m Test Loss: 3.7648, Test Accuracy: 37.50%\u001b[32m [repeated 22x across cluster]\u001b[0m\n"
     ]
    },
    {
     "name": "stderr",
     "output_type": "stream",
     "text": [
      "\u001b[92mINFO \u001b[0m:      fit progress: (5, 3.7406014133902157, {'accuracy': 0.3614457831325301}, 178.89157287499984)\n",
      "\u001b[92mINFO \u001b[0m:      configure_evaluate: strategy sampled 20 clients (out of 100)\n"
     ]
    },
    {
     "name": "stdout",
     "output_type": "stream",
     "text": [
      "Test Loss: 3.7406, Test Accuracy: 36.14%\n"
     ]
    },
    {
     "name": "stderr",
     "output_type": "stream",
     "text": [
      "\u001b[36m(ClientAppActor pid=50134)\u001b[0m         \u001b[32m [repeated 20x across cluster]\u001b[0m\n",
      "\u001b[36m(ClientAppActor pid=50134)\u001b[0m \u001b[93mWARNING \u001b[0m:   DEPRECATED FEATURE: `client_fn` now expects a signature `def client_fn(context: Context)`.The provided `client_fn` has signature: {'cid': <Parameter \"cid: str\">}. You can import the `Context` like this: `from flwr.common import Context`\u001b[32m [repeated 5x across cluster]\u001b[0m\n",
      "\u001b[36m(ClientAppActor pid=50134)\u001b[0m             This is a deprecated feature. It will be removed\u001b[32m [repeated 5x across cluster]\u001b[0m\n",
      "\u001b[36m(ClientAppActor pid=50134)\u001b[0m             entirely in future versions of Flower.\u001b[32m [repeated 5x across cluster]\u001b[0m\n",
      "  0%|          | 0/1 [00:00<?, ?it/s]\u001b[32m [repeated 5x across cluster]\u001b[0m\n"
     ]
    },
    {
     "name": "stdout",
     "output_type": "stream",
     "text": [
      "\u001b[36m(ClientAppActor pid=50134)\u001b[0m Test Loss: 3.7753, Test Accuracy: 37.50%\u001b[32m [repeated 3x across cluster]\u001b[0m\n"
     ]
    },
    {
     "name": "stderr",
     "output_type": "stream",
     "text": [
      "\u001b[92mINFO \u001b[0m:      aggregate_evaluate: received 20 results and 0 failures\n",
      "\u001b[92mINFO \u001b[0m:      \n",
      "\u001b[92mINFO \u001b[0m:      [ROUND 6]\n",
      "\u001b[92mINFO \u001b[0m:      configure_fit: strategy sampled 100 clients (out of 100)\n",
      "100%|██████████| 1/1 [00:01<00:00,  1.23s/it]\u001b[32m [repeated 105x across cluster]\u001b[0m\n",
      "\u001b[36m(ClientAppActor pid=50138)\u001b[0m \u001b[93mWARNING \u001b[0m:   DEPRECATED FEATURE: `client_fn` now expects a signature `def client_fn(context: Context)`.The provided `client_fn` has signature: {'cid': <Parameter \"cid: str\">}. You can import the `Context` like this: `from flwr.common import Context`\u001b[32m [repeated 43x across cluster]\u001b[0m\n",
      "\u001b[36m(ClientAppActor pid=50138)\u001b[0m             This is a deprecated feature. It will be removed\u001b[32m [repeated 43x across cluster]\u001b[0m\n",
      "\u001b[36m(ClientAppActor pid=50138)\u001b[0m             entirely in future versions of Flower.\u001b[32m [repeated 43x across cluster]\u001b[0m\n",
      "  0%|          | 0/1 [00:00<?, ?it/s]\u001b[32m [repeated 24x across cluster]\u001b[0m\n"
     ]
    },
    {
     "name": "stdout",
     "output_type": "stream",
     "text": [
      "\u001b[36m(ClientAppActor pid=50141)\u001b[0m Test Loss: 3.4813, Test Accuracy: 37.50%\u001b[32m [repeated 39x across cluster]\u001b[0m\n"
     ]
    },
    {
     "name": "stderr",
     "output_type": "stream",
     "text": [
      "100%|██████████| 1/1 [00:01<00:00,  1.18s/it]\u001b[32m [repeated 51x across cluster]\u001b[0m\n",
      "\u001b[36m(ClientAppActor pid=50140)\u001b[0m \u001b[93mWARNING \u001b[0m:   DEPRECATED FEATURE: `client_fn` now expects a signature `def client_fn(context: Context)`.The provided `client_fn` has signature: {'cid': <Parameter \"cid: str\">}. You can import the `Context` like this: `from flwr.common import Context`\u001b[32m [repeated 17x across cluster]\u001b[0m\n",
      "\u001b[36m(ClientAppActor pid=50140)\u001b[0m             This is a deprecated feature. It will be removed\u001b[32m [repeated 17x across cluster]\u001b[0m\n",
      "\u001b[36m(ClientAppActor pid=50140)\u001b[0m             entirely in future versions of Flower.\u001b[32m [repeated 17x across cluster]\u001b[0m\n",
      "  0%|          | 0/1 [00:00<?, ?it/s]\u001b[32m [repeated 15x across cluster]\u001b[0m\n"
     ]
    },
    {
     "name": "stdout",
     "output_type": "stream",
     "text": [
      "\u001b[36m(ClientAppActor pid=50136)\u001b[0m Test Loss: 3.6338, Test Accuracy: 37.50%\u001b[32m [repeated 16x across cluster]\u001b[0m\n"
     ]
    },
    {
     "name": "stderr",
     "output_type": "stream",
     "text": [
      "\u001b[36m(ClientAppActor pid=50135)\u001b[0m         \u001b[32m [repeated 67x across cluster]\u001b[0m\n",
      "\u001b[36m(ClientAppActor pid=50135)\u001b[0m \u001b[93mWARNING \u001b[0m:   DEPRECATED FEATURE: `client_fn` now expects a signature `def client_fn(context: Context)`.The provided `client_fn` has signature: {'cid': <Parameter \"cid: str\">}. You can import the `Context` like this: `from flwr.common import Context`\u001b[32m [repeated 22x across cluster]\u001b[0m\n",
      "\u001b[36m(ClientAppActor pid=50135)\u001b[0m             This is a deprecated feature. It will be removed\u001b[32m [repeated 22x across cluster]\u001b[0m\n",
      "\u001b[36m(ClientAppActor pid=50135)\u001b[0m             entirely in future versions of Flower.\u001b[32m [repeated 22x across cluster]\u001b[0m\n",
      "  0%|          | 0/1 [00:00<?, ?it/s]\u001b[32m [repeated 23x across cluster]\u001b[0m\n"
     ]
    },
    {
     "name": "stdout",
     "output_type": "stream",
     "text": [
      "\u001b[36m(ClientAppActor pid=50138)\u001b[0m Test Loss: 3.7073, Test Accuracy: 25.00%\u001b[32m [repeated 23x across cluster]\u001b[0m\n",
      "\u001b[36m(ClientAppActor pid=50140)\u001b[0m \n"
     ]
    },
    {
     "name": "stderr",
     "output_type": "stream",
     "text": [
      "100%|██████████| 1/1 [00:01<00:00,  1.36s/it]\u001b[32m [repeated 66x across cluster]\u001b[0m\n",
      "\u001b[36m(ClientAppActor pid=50136)\u001b[0m \u001b[93mWARNING \u001b[0m:   DEPRECATED FEATURE: `client_fn` now expects a signature `def client_fn(context: Context)`.The provided `client_fn` has signature: {'cid': <Parameter \"cid: str\">}. You can import the `Context` like this: `from flwr.common import Context`\u001b[32m [repeated 22x across cluster]\u001b[0m\n",
      "\u001b[36m(ClientAppActor pid=50136)\u001b[0m             This is a deprecated feature. It will be removed\u001b[32m [repeated 22x across cluster]\u001b[0m\n",
      "\u001b[36m(ClientAppActor pid=50136)\u001b[0m             entirely in future versions of Flower.\u001b[32m [repeated 22x across cluster]\u001b[0m\n",
      "  0%|          | 0/1 [00:00<?, ?it/s]\u001b[32m [repeated 23x across cluster]\u001b[0m\n"
     ]
    },
    {
     "name": "stdout",
     "output_type": "stream",
     "text": [
      "\u001b[36m(ClientAppActor pid=50143)\u001b[0m Test Loss: 3.1337, Test Accuracy: 62.50%\u001b[32m [repeated 24x across cluster]\u001b[0m\n",
      "\u001b[36m(ClientAppActor pid=50137)\u001b[0m \n"
     ]
    },
    {
     "name": "stderr",
     "output_type": "stream",
     "text": [
      "\u001b[92mINFO \u001b[0m:      aggregate_fit: received 100 results and 0 failures\n",
      "\u001b[92mINFO \u001b[0m:      fit progress: (6, 3.5769890196183147, {'accuracy': 0.3614457831325301}, 209.59223399999973)\n",
      "\u001b[92mINFO \u001b[0m:      configure_evaluate: strategy sampled 20 clients (out of 100)\n"
     ]
    },
    {
     "name": "stdout",
     "output_type": "stream",
     "text": [
      "Test Loss: 3.5770, Test Accuracy: 36.14%\n"
     ]
    },
    {
     "name": "stderr",
     "output_type": "stream",
     "text": [
      "\u001b[36m(ClientAppActor pid=50137)\u001b[0m         \u001b[32m [repeated 53x across cluster]\u001b[0m\n",
      "\u001b[36m(ClientAppActor pid=50137)\u001b[0m \u001b[93mWARNING \u001b[0m:   DEPRECATED FEATURE: `client_fn` now expects a signature `def client_fn(context: Context)`.The provided `client_fn` has signature: {'cid': <Parameter \"cid: str\">}. You can import the `Context` like this: `from flwr.common import Context`\u001b[32m [repeated 16x across cluster]\u001b[0m\n",
      "\u001b[36m(ClientAppActor pid=50137)\u001b[0m             This is a deprecated feature. It will be removed\u001b[32m [repeated 16x across cluster]\u001b[0m\n",
      "\u001b[36m(ClientAppActor pid=50137)\u001b[0m             entirely in future versions of Flower.\u001b[32m [repeated 16x across cluster]\u001b[0m\n",
      "  0%|          | 0/1 [00:00<?, ?it/s]\u001b[32m [repeated 15x across cluster]\u001b[0m\n"
     ]
    },
    {
     "name": "stdout",
     "output_type": "stream",
     "text": [
      "\u001b[36m(ClientAppActor pid=50137)\u001b[0m Test Loss: 3.8164, Test Accuracy: 25.00%\u001b[32m [repeated 18x across cluster]\u001b[0m\n"
     ]
    },
    {
     "name": "stderr",
     "output_type": "stream",
     "text": [
      "\u001b[92mINFO \u001b[0m:      aggregate_evaluate: received 20 results and 0 failures\n",
      "\u001b[92mINFO \u001b[0m:      \n",
      "\u001b[92mINFO \u001b[0m:      [ROUND 7]\n",
      "\u001b[92mINFO \u001b[0m:      configure_fit: strategy sampled 100 clients (out of 100)\n",
      "\u001b[36m(ClientAppActor pid=50137)\u001b[0m         \u001b[32m [repeated 86x across cluster]\u001b[0m\n",
      "\u001b[36m(ClientAppActor pid=50137)\u001b[0m \u001b[93mWARNING \u001b[0m:   DEPRECATED FEATURE: `client_fn` now expects a signature `def client_fn(context: Context)`.The provided `client_fn` has signature: {'cid': <Parameter \"cid: str\">}. You can import the `Context` like this: `from flwr.common import Context`\u001b[32m [repeated 38x across cluster]\u001b[0m\n",
      "\u001b[36m(ClientAppActor pid=50137)\u001b[0m             This is a deprecated feature. It will be removed\u001b[32m [repeated 38x across cluster]\u001b[0m\n",
      "\u001b[36m(ClientAppActor pid=50137)\u001b[0m             entirely in future versions of Flower.\u001b[32m [repeated 38x across cluster]\u001b[0m\n",
      "  0%|          | 0/1 [00:00<?, ?it/s]\u001b[32m [repeated 16x across cluster]\u001b[0m\n"
     ]
    },
    {
     "name": "stdout",
     "output_type": "stream",
     "text": [
      "\u001b[36m(ClientAppActor pid=50142)\u001b[0m Test Loss: 3.4228, Test Accuracy: 37.50%\u001b[32m [repeated 30x across cluster]\u001b[0m\n"
     ]
    },
    {
     "name": "stderr",
     "output_type": "stream",
     "text": [
      "\u001b[36m(ClientAppActor pid=50139)\u001b[0m         \u001b[32m [repeated 59x across cluster]\u001b[0m\n",
      "\u001b[36m(ClientAppActor pid=50139)\u001b[0m \u001b[93mWARNING \u001b[0m:   DEPRECATED FEATURE: `client_fn` now expects a signature `def client_fn(context: Context)`.The provided `client_fn` has signature: {'cid': <Parameter \"cid: str\">}. You can import the `Context` like this: `from flwr.common import Context`\u001b[32m [repeated 20x across cluster]\u001b[0m\n",
      "\u001b[36m(ClientAppActor pid=50139)\u001b[0m             This is a deprecated feature. It will be removed\u001b[32m [repeated 20x across cluster]\u001b[0m\n",
      "\u001b[36m(ClientAppActor pid=50139)\u001b[0m             entirely in future versions of Flower.\u001b[32m [repeated 20x across cluster]\u001b[0m\n",
      "  0%|          | 0/1 [00:00<?, ?it/s]\u001b[32m [repeated 21x across cluster]\u001b[0m\n"
     ]
    },
    {
     "name": "stdout",
     "output_type": "stream",
     "text": [
      "\u001b[36m(ClientAppActor pid=50134)\u001b[0m Test Loss: 3.3055, Test Accuracy: 25.00%\u001b[32m [repeated 21x across cluster]\u001b[0m\n"
     ]
    },
    {
     "name": "stderr",
     "output_type": "stream",
     "text": [
      "100%|██████████| 1/1 [00:01<00:00,  1.35s/it]\u001b[32m [repeated 61x across cluster]\u001b[0m\n",
      "\u001b[36m(ClientAppActor pid=50137)\u001b[0m \u001b[93mWARNING \u001b[0m:   DEPRECATED FEATURE: `client_fn` now expects a signature `def client_fn(context: Context)`.The provided `client_fn` has signature: {'cid': <Parameter \"cid: str\">}. You can import the `Context` like this: `from flwr.common import Context`\u001b[32m [repeated 19x across cluster]\u001b[0m\n",
      "\u001b[36m(ClientAppActor pid=50137)\u001b[0m             This is a deprecated feature. It will be removed\u001b[32m [repeated 19x across cluster]\u001b[0m\n",
      "\u001b[36m(ClientAppActor pid=50137)\u001b[0m             entirely in future versions of Flower.\u001b[32m [repeated 19x across cluster]\u001b[0m\n",
      "  0%|          | 0/1 [00:00<?, ?it/s]\u001b[32m [repeated 21x across cluster]\u001b[0m\n"
     ]
    },
    {
     "name": "stdout",
     "output_type": "stream",
     "text": [
      "\u001b[36m(ClientAppActor pid=50137)\u001b[0m Test Loss: 3.4362, Test Accuracy: 25.00%\u001b[32m [repeated 26x across cluster]\u001b[0m\n"
     ]
    },
    {
     "name": "stderr",
     "output_type": "stream",
     "text": [
      "100%|██████████| 1/1 [00:01<00:00,  1.22s/it]\u001b[32m [repeated 74x across cluster]\u001b[0m\n",
      "\u001b[36m(ClientAppActor pid=50139)\u001b[0m \u001b[93mWARNING \u001b[0m:   DEPRECATED FEATURE: `client_fn` now expects a signature `def client_fn(context: Context)`.The provided `client_fn` has signature: {'cid': <Parameter \"cid: str\">}. You can import the `Context` like this: `from flwr.common import Context`\u001b[32m [repeated 25x across cluster]\u001b[0m\n",
      "\u001b[36m(ClientAppActor pid=50139)\u001b[0m             This is a deprecated feature. It will be removed\u001b[32m [repeated 25x across cluster]\u001b[0m\n",
      "\u001b[36m(ClientAppActor pid=50139)\u001b[0m             entirely in future versions of Flower.\u001b[32m [repeated 25x across cluster]\u001b[0m\n",
      "  0%|          | 0/1 [00:00<?, ?it/s]\u001b[32m [repeated 25x across cluster]\u001b[0m\n"
     ]
    },
    {
     "name": "stdout",
     "output_type": "stream",
     "text": [
      "\u001b[36m(ClientAppActor pid=50138)\u001b[0m Test Loss: 3.3118, Test Accuracy: 37.50%\u001b[32m [repeated 21x across cluster]\u001b[0m\n"
     ]
    },
    {
     "name": "stderr",
     "output_type": "stream",
     "text": [
      "100%|██████████| 1/1 [00:00<00:00,  1.79it/s]\u001b[32m [repeated 58x across cluster]\u001b[0m\n",
      "\u001b[36m(ClientAppActor pid=50142)\u001b[0m \u001b[93mWARNING \u001b[0m:   DEPRECATED FEATURE: `client_fn` now expects a signature `def client_fn(context: Context)`.The provided `client_fn` has signature: {'cid': <Parameter \"cid: str\">}. You can import the `Context` like this: `from flwr.common import Context`\u001b[32m [repeated 17x across cluster]\u001b[0m\n",
      "\u001b[36m(ClientAppActor pid=50142)\u001b[0m             This is a deprecated feature. It will be removed\u001b[32m [repeated 17x across cluster]\u001b[0m\n",
      "\u001b[36m(ClientAppActor pid=50142)\u001b[0m             entirely in future versions of Flower.\u001b[32m [repeated 17x across cluster]\u001b[0m\n",
      "  0%|          | 0/1 [00:00<?, ?it/s]\u001b[32m [repeated 17x across cluster]\u001b[0m\n",
      "\u001b[92mINFO \u001b[0m:      aggregate_fit: received 100 results and 0 failures\n",
      "\u001b[92mINFO \u001b[0m:      fit progress: (7, 3.3863807986764347, {'accuracy': 0.3614457831325301}, 241.02642520799964)\n",
      "\u001b[92mINFO \u001b[0m:      configure_evaluate: strategy sampled 20 clients (out of 100)\n"
     ]
    },
    {
     "name": "stdout",
     "output_type": "stream",
     "text": [
      "Test Loss: 3.3864, Test Accuracy: 36.14%\n"
     ]
    },
    {
     "name": "stderr",
     "output_type": "stream",
     "text": [
      "\u001b[36m(ClientAppActor pid=50142)\u001b[0m         \u001b[32m [repeated 3x across cluster]\u001b[0m\n",
      "\u001b[36m(ClientAppActor pid=50142)\u001b[0m \u001b[93mWARNING \u001b[0m:   DEPRECATED FEATURE: `client_fn` now expects a signature `def client_fn(context: Context)`.The provided `client_fn` has signature: {'cid': <Parameter \"cid: str\">}. You can import the `Context` like this: `from flwr.common import Context`\n",
      "\u001b[36m(ClientAppActor pid=50142)\u001b[0m             This is a deprecated feature. It will be removed\n",
      "\u001b[36m(ClientAppActor pid=50142)\u001b[0m             entirely in future versions of Flower.\n",
      "\u001b[36m(ClientAppActor pid=50135)\u001b[0m \u001b[93mWARNING \u001b[0m:   DEPRECATED FEATURE: `client_fn` now expects a signature `def client_fn(context: Context)`.The provided `client_fn` has signature: {'cid': <Parameter \"cid: str\">}. You can import the `Context` like this: `from flwr.common import Context`\n",
      "\u001b[36m(ClientAppActor pid=50135)\u001b[0m             This is a deprecated feature. It will be removed\n",
      "\u001b[36m(ClientAppActor pid=50135)\u001b[0m             entirely in future versions of Flower.\n"
     ]
    },
    {
     "name": "stdout",
     "output_type": "stream",
     "text": [
      "\u001b[36m(ClientAppActor pid=50142)\u001b[0m Test Loss: 3.3799, Test Accuracy: 25.00%\u001b[32m [repeated 22x across cluster]\u001b[0m\n"
     ]
    },
    {
     "name": "stderr",
     "output_type": "stream",
     "text": [
      "\u001b[92mINFO \u001b[0m:      aggregate_evaluate: received 20 results and 0 failures\n",
      "\u001b[92mINFO \u001b[0m:      \n",
      "\u001b[92mINFO \u001b[0m:      [ROUND 8]\n",
      "\u001b[92mINFO \u001b[0m:      configure_fit: strategy sampled 100 clients (out of 100)\n",
      "  0%|          | 0/1 [00:00<?, ?it/s]\n",
      "\u001b[36m(ClientAppActor pid=50141)\u001b[0m         \u001b[32m [repeated 84x across cluster]\u001b[0m\n",
      "\u001b[36m(ClientAppActor pid=50134)\u001b[0m \u001b[93mWARNING \u001b[0m:   DEPRECATED FEATURE: `client_fn` now expects a signature `def client_fn(context: Context)`.The provided `client_fn` has signature: {'cid': <Parameter \"cid: str\">}. You can import the `Context` like this: `from flwr.common import Context`\u001b[32m [repeated 37x across cluster]\u001b[0m\n",
      "\u001b[36m(ClientAppActor pid=50134)\u001b[0m             This is a deprecated feature. It will be removed\u001b[32m [repeated 37x across cluster]\u001b[0m\n",
      "\u001b[36m(ClientAppActor pid=50134)\u001b[0m             entirely in future versions of Flower.\u001b[32m [repeated 37x across cluster]\u001b[0m\n"
     ]
    },
    {
     "name": "stdout",
     "output_type": "stream",
     "text": [
      "\u001b[36m(ClientAppActor pid=50138)\u001b[0m Test Loss: 3.8293, Test Accuracy: 25.00%\u001b[32m [repeated 30x across cluster]\u001b[0m\n"
     ]
    },
    {
     "name": "stderr",
     "output_type": "stream",
     "text": [
      "  0%|          | 0/1 [00:00<?, ?it/s]\u001b[32m [repeated 19x across cluster]\u001b[0m\n",
      "\u001b[36m(ClientAppActor pid=50142)\u001b[0m         \u001b[32m [repeated 71x across cluster]\u001b[0m\n",
      "\u001b[36m(ClientAppActor pid=50142)\u001b[0m \u001b[93mWARNING \u001b[0m:   DEPRECATED FEATURE: `client_fn` now expects a signature `def client_fn(context: Context)`.The provided `client_fn` has signature: {'cid': <Parameter \"cid: str\">}. You can import the `Context` like this: `from flwr.common import Context`\u001b[32m [repeated 23x across cluster]\u001b[0m\n",
      "\u001b[36m(ClientAppActor pid=50142)\u001b[0m             This is a deprecated feature. It will be removed\u001b[32m [repeated 23x across cluster]\u001b[0m\n",
      "\u001b[36m(ClientAppActor pid=50142)\u001b[0m             entirely in future versions of Flower.\u001b[32m [repeated 23x across cluster]\u001b[0m\n"
     ]
    },
    {
     "name": "stdout",
     "output_type": "stream",
     "text": [
      "\u001b[36m(ClientAppActor pid=50134)\u001b[0m Test Loss: 2.9309, Test Accuracy: 50.00%\u001b[32m [repeated 27x across cluster]\u001b[0m\n"
     ]
    },
    {
     "name": "stderr",
     "output_type": "stream",
     "text": [
      "  0%|          | 0/1 [00:00<?, ?it/s]\u001b[32m [repeated 26x across cluster]\u001b[0m\n",
      "100%|██████████| 1/1 [00:01<00:00,  1.20s/it]\u001b[32m [repeated 78x across cluster]\u001b[0m\n",
      "\u001b[36m(ClientAppActor pid=50134)\u001b[0m \u001b[93mWARNING \u001b[0m:   DEPRECATED FEATURE: `client_fn` now expects a signature `def client_fn(context: Context)`.The provided `client_fn` has signature: {'cid': <Parameter \"cid: str\">}. You can import the `Context` like this: `from flwr.common import Context`\u001b[32m [repeated 25x across cluster]\u001b[0m\n",
      "\u001b[36m(ClientAppActor pid=50134)\u001b[0m             This is a deprecated feature. It will be removed\u001b[32m [repeated 25x across cluster]\u001b[0m\n",
      "\u001b[36m(ClientAppActor pid=50134)\u001b[0m             entirely in future versions of Flower.\u001b[32m [repeated 25x across cluster]\u001b[0m\n"
     ]
    },
    {
     "name": "stdout",
     "output_type": "stream",
     "text": [
      "\u001b[36m(ClientAppActor pid=50137)\u001b[0m Test Loss: 2.7034, Test Accuracy: 50.00%\u001b[32m [repeated 25x across cluster]\u001b[0m\n"
     ]
    },
    {
     "name": "stderr",
     "output_type": "stream",
     "text": [
      "  0%|          | 0/1 [00:00<?, ?it/s]\u001b[32m [repeated 24x across cluster]\u001b[0m\n",
      "\u001b[36m(ClientAppActor pid=50135)\u001b[0m         \u001b[32m [repeated 68x across cluster]\u001b[0m\n",
      "\u001b[36m(ClientAppActor pid=50135)\u001b[0m \u001b[93mWARNING \u001b[0m:   DEPRECATED FEATURE: `client_fn` now expects a signature `def client_fn(context: Context)`.The provided `client_fn` has signature: {'cid': <Parameter \"cid: str\">}. You can import the `Context` like this: `from flwr.common import Context`\u001b[32m [repeated 23x across cluster]\u001b[0m\n",
      "\u001b[36m(ClientAppActor pid=50135)\u001b[0m             This is a deprecated feature. It will be removed\u001b[32m [repeated 23x across cluster]\u001b[0m\n",
      "\u001b[36m(ClientAppActor pid=50135)\u001b[0m             entirely in future versions of Flower.\u001b[32m [repeated 23x across cluster]\u001b[0m\n"
     ]
    },
    {
     "name": "stdout",
     "output_type": "stream",
     "text": [
      "\u001b[36m(ClientAppActor pid=50138)\u001b[0m Test Loss: 2.8211, Test Accuracy: 37.50%\u001b[32m [repeated 23x across cluster]\u001b[0m\n"
     ]
    },
    {
     "name": "stderr",
     "output_type": "stream",
     "text": [
      "  0%|          | 0/1 [00:00<?, ?it/s]\u001b[32m [repeated 23x across cluster]\u001b[0m\n",
      "\u001b[92mINFO \u001b[0m:      aggregate_fit: received 100 results and 0 failures\n",
      "\u001b[92mINFO \u001b[0m:      fit progress: (8, 3.177382511251113, {'accuracy': 0.3614457831325301}, 272.45118899999943)\n",
      "\u001b[92mINFO \u001b[0m:      configure_evaluate: strategy sampled 20 clients (out of 100)\n"
     ]
    },
    {
     "name": "stdout",
     "output_type": "stream",
     "text": [
      "Test Loss: 3.1774, Test Accuracy: 36.14%\n"
     ]
    },
    {
     "name": "stderr",
     "output_type": "stream",
     "text": [
      "\u001b[36m(ClientAppActor pid=50136)\u001b[0m         \u001b[32m [repeated 40x across cluster]\u001b[0m\n",
      "\u001b[36m(ClientAppActor pid=50136)\u001b[0m \u001b[93mWARNING \u001b[0m:   DEPRECATED FEATURE: `client_fn` now expects a signature `def client_fn(context: Context)`.The provided `client_fn` has signature: {'cid': <Parameter \"cid: str\">}. You can import the `Context` like this: `from flwr.common import Context`\u001b[32m [repeated 11x across cluster]\u001b[0m\n",
      "\u001b[36m(ClientAppActor pid=50136)\u001b[0m             This is a deprecated feature. It will be removed\u001b[32m [repeated 11x across cluster]\u001b[0m\n",
      "\u001b[36m(ClientAppActor pid=50136)\u001b[0m             entirely in future versions of Flower.\u001b[32m [repeated 11x across cluster]\u001b[0m\n",
      "  0%|          | 0/1 [00:00<?, ?it/s]\u001b[32m [repeated 7x across cluster]\u001b[0m\n"
     ]
    },
    {
     "name": "stdout",
     "output_type": "stream",
     "text": [
      "\u001b[36m(ClientAppActor pid=50140)\u001b[0m Test Loss: 3.6010, Test Accuracy: 12.50%\u001b[32m [repeated 15x across cluster]\u001b[0m\n",
      "\u001b[36m(ClientAppActor pid=50143)\u001b[0m \n"
     ]
    },
    {
     "name": "stderr",
     "output_type": "stream",
     "text": [
      "\u001b[92mINFO \u001b[0m:      aggregate_evaluate: received 20 results and 0 failures\n",
      "\u001b[92mINFO \u001b[0m:      \n",
      "\u001b[92mINFO \u001b[0m:      [ROUND 9]\n",
      "\u001b[92mINFO \u001b[0m:      configure_fit: strategy sampled 100 clients (out of 100)\n",
      "\u001b[36m(ClientAppActor pid=50139)\u001b[0m         \u001b[32m [repeated 107x across cluster]\u001b[0m\n",
      "\u001b[36m(ClientAppActor pid=50139)\u001b[0m \u001b[93mWARNING \u001b[0m:   DEPRECATED FEATURE: `client_fn` now expects a signature `def client_fn(context: Context)`.The provided `client_fn` has signature: {'cid': <Parameter \"cid: str\">}. You can import the `Context` like this: `from flwr.common import Context`\u001b[32m [repeated 44x across cluster]\u001b[0m\n",
      "\u001b[36m(ClientAppActor pid=50139)\u001b[0m             This is a deprecated feature. It will be removed\u001b[32m [repeated 44x across cluster]\u001b[0m\n",
      "\u001b[36m(ClientAppActor pid=50139)\u001b[0m             entirely in future versions of Flower.\u001b[32m [repeated 44x across cluster]\u001b[0m\n",
      "  0%|          | 0/1 [00:00<?, ?it/s]\u001b[32m [repeated 23x across cluster]\u001b[0m\n"
     ]
    },
    {
     "name": "stdout",
     "output_type": "stream",
     "text": [
      "\u001b[36m(ClientAppActor pid=50138)\u001b[0m Test Loss: 1.9009, Test Accuracy: 75.00%\u001b[32m [repeated 39x across cluster]\u001b[0m\n"
     ]
    },
    {
     "name": "stderr",
     "output_type": "stream",
     "text": [
      "100%|██████████| 1/1 [00:01<00:00,  1.10s/it]\u001b[32m [repeated 69x across cluster]\u001b[0m\n",
      "\u001b[36m(ClientAppActor pid=50134)\u001b[0m \u001b[93mWARNING \u001b[0m:   DEPRECATED FEATURE: `client_fn` now expects a signature `def client_fn(context: Context)`.The provided `client_fn` has signature: {'cid': <Parameter \"cid: str\">}. You can import the `Context` like this: `from flwr.common import Context`\u001b[32m [repeated 24x across cluster]\u001b[0m\n",
      "\u001b[36m(ClientAppActor pid=50134)\u001b[0m             This is a deprecated feature. It will be removed\u001b[32m [repeated 24x across cluster]\u001b[0m\n",
      "\u001b[36m(ClientAppActor pid=50134)\u001b[0m             entirely in future versions of Flower.\u001b[32m [repeated 24x across cluster]\u001b[0m\n",
      "  0%|          | 0/1 [00:00<?, ?it/s]\u001b[32m [repeated 26x across cluster]\u001b[0m\n"
     ]
    },
    {
     "name": "stdout",
     "output_type": "stream",
     "text": [
      "\u001b[36m(ClientAppActor pid=50135)\u001b[0m Test Loss: 2.8521, Test Accuracy: 37.50%\u001b[32m [repeated 27x across cluster]\u001b[0m\n"
     ]
    },
    {
     "name": "stderr",
     "output_type": "stream",
     "text": [
      "\u001b[36m(ClientAppActor pid=50139)\u001b[0m         \u001b[32m [repeated 81x across cluster]\u001b[0m\n",
      "\u001b[36m(ClientAppActor pid=50139)\u001b[0m \u001b[93mWARNING \u001b[0m:   DEPRECATED FEATURE: `client_fn` now expects a signature `def client_fn(context: Context)`.The provided `client_fn` has signature: {'cid': <Parameter \"cid: str\">}. You can import the `Context` like this: `from flwr.common import Context`\u001b[32m [repeated 26x across cluster]\u001b[0m\n",
      "\u001b[36m(ClientAppActor pid=50139)\u001b[0m             This is a deprecated feature. It will be removed\u001b[32m [repeated 26x across cluster]\u001b[0m\n",
      "\u001b[36m(ClientAppActor pid=50139)\u001b[0m             entirely in future versions of Flower.\u001b[32m [repeated 26x across cluster]\u001b[0m\n",
      "  0%|          | 0/1 [00:00<?, ?it/s]\u001b[32m [repeated 24x across cluster]\u001b[0m\n"
     ]
    },
    {
     "name": "stdout",
     "output_type": "stream",
     "text": [
      "\u001b[36m(ClientAppActor pid=50136)\u001b[0m Test Loss: 2.0299, Test Accuracy: 62.50%\u001b[32m [repeated 23x across cluster]\u001b[0m\n"
     ]
    },
    {
     "name": "stderr",
     "output_type": "stream",
     "text": [
      "\u001b[36m(ClientAppActor pid=50143)\u001b[0m         \u001b[32m [repeated 71x across cluster]\u001b[0m\n",
      "\u001b[36m(ClientAppActor pid=50143)\u001b[0m \u001b[93mWARNING \u001b[0m:   DEPRECATED FEATURE: `client_fn` now expects a signature `def client_fn(context: Context)`.The provided `client_fn` has signature: {'cid': <Parameter \"cid: str\">}. You can import the `Context` like this: `from flwr.common import Context`\u001b[32m [repeated 23x across cluster]\u001b[0m\n",
      "\u001b[36m(ClientAppActor pid=50143)\u001b[0m             This is a deprecated feature. It will be removed\u001b[32m [repeated 23x across cluster]\u001b[0m\n",
      "\u001b[36m(ClientAppActor pid=50143)\u001b[0m             entirely in future versions of Flower.\u001b[32m [repeated 23x across cluster]\u001b[0m\n",
      "  0%|          | 0/1 [00:00<?, ?it/s]\u001b[32m [repeated 23x across cluster]\u001b[0m\n"
     ]
    },
    {
     "name": "stdout",
     "output_type": "stream",
     "text": [
      "\u001b[36m(ClientAppActor pid=50137)\u001b[0m Test Loss: 3.8212, Test Accuracy: 25.00%\u001b[32m [repeated 25x across cluster]\u001b[0m\n"
     ]
    },
    {
     "name": "stderr",
     "output_type": "stream",
     "text": [
      "\u001b[92mINFO \u001b[0m:      aggregate_fit: received 100 results and 0 failures\n",
      "\u001b[92mINFO \u001b[0m:      fit progress: (9, 2.9850692608777214, {'accuracy': 0.3614457831325301}, 300.87664824999956)\n",
      "\u001b[92mINFO \u001b[0m:      configure_evaluate: strategy sampled 20 clients (out of 100)\n"
     ]
    },
    {
     "name": "stdout",
     "output_type": "stream",
     "text": [
      "Test Loss: 2.9851, Test Accuracy: 36.14%\n"
     ]
    },
    {
     "name": "stderr",
     "output_type": "stream",
     "text": [
      "\u001b[36m(ClientAppActor pid=50136)\u001b[0m         \u001b[32m [repeated 14x across cluster]\u001b[0m\n",
      "\u001b[36m(ClientAppActor pid=50136)\u001b[0m \u001b[93mWARNING \u001b[0m:   DEPRECATED FEATURE: `client_fn` now expects a signature `def client_fn(context: Context)`.The provided `client_fn` has signature: {'cid': <Parameter \"cid: str\">}. You can import the `Context` like this: `from flwr.common import Context`\u001b[32m [repeated 3x across cluster]\u001b[0m\n",
      "\u001b[36m(ClientAppActor pid=50136)\u001b[0m             This is a deprecated feature. It will be removed\u001b[32m [repeated 3x across cluster]\u001b[0m\n",
      "\u001b[36m(ClientAppActor pid=50136)\u001b[0m             entirely in future versions of Flower.\u001b[32m [repeated 3x across cluster]\u001b[0m\n",
      "  0%|          | 0/1 [00:00<?, ?it/s]\u001b[32m [repeated 4x across cluster]\u001b[0m\n"
     ]
    },
    {
     "name": "stdout",
     "output_type": "stream",
     "text": [
      "\u001b[36m(ClientAppActor pid=50138)\u001b[0m Test Loss: 3.2072, Test Accuracy: 25.00%\u001b[32m [repeated 6x across cluster]\u001b[0m\n"
     ]
    },
    {
     "name": "stderr",
     "output_type": "stream",
     "text": [
      "\u001b[92mINFO \u001b[0m:      aggregate_evaluate: received 20 results and 0 failures\n",
      "\u001b[92mINFO \u001b[0m:      \n",
      "\u001b[92mINFO \u001b[0m:      [ROUND 10]\n",
      "\u001b[92mINFO \u001b[0m:      configure_fit: strategy sampled 100 clients (out of 100)\n",
      "\u001b[36m(ClientAppActor pid=50136)\u001b[0m         \u001b[32m [repeated 69x across cluster]\u001b[0m\n",
      "\u001b[36m(ClientAppActor pid=50136)\u001b[0m \u001b[93mWARNING \u001b[0m:   DEPRECATED FEATURE: `client_fn` now expects a signature `def client_fn(context: Context)`.The provided `client_fn` has signature: {'cid': <Parameter \"cid: str\">}. You can import the `Context` like this: `from flwr.common import Context`\u001b[32m [repeated 32x across cluster]\u001b[0m\n",
      "\u001b[36m(ClientAppActor pid=50136)\u001b[0m             This is a deprecated feature. It will be removed\u001b[32m [repeated 32x across cluster]\u001b[0m\n",
      "\u001b[36m(ClientAppActor pid=50136)\u001b[0m             entirely in future versions of Flower.\u001b[32m [repeated 32x across cluster]\u001b[0m\n",
      "  0%|          | 0/1 [00:00<?, ?it/s]\u001b[32m [repeated 10x across cluster]\u001b[0m\n"
     ]
    },
    {
     "name": "stdout",
     "output_type": "stream",
     "text": [
      "\u001b[36m(ClientAppActor pid=50143)\u001b[0m Test Loss: 2.9982, Test Accuracy: 37.50%\u001b[32m [repeated 26x across cluster]\u001b[0m\n"
     ]
    },
    {
     "name": "stderr",
     "output_type": "stream",
     "text": [
      "100%|██████████| 1/1 [00:01<00:00,  1.24s/it]\u001b[32m [repeated 64x across cluster]\u001b[0m\n",
      "\u001b[36m(ClientAppActor pid=50135)\u001b[0m \u001b[93mWARNING \u001b[0m:   DEPRECATED FEATURE: `client_fn` now expects a signature `def client_fn(context: Context)`.The provided `client_fn` has signature: {'cid': <Parameter \"cid: str\">}. You can import the `Context` like this: `from flwr.common import Context`\u001b[32m [repeated 20x across cluster]\u001b[0m\n",
      "\u001b[36m(ClientAppActor pid=50135)\u001b[0m             This is a deprecated feature. It will be removed\u001b[32m [repeated 20x across cluster]\u001b[0m\n",
      "\u001b[36m(ClientAppActor pid=50135)\u001b[0m             entirely in future versions of Flower.\u001b[32m [repeated 20x across cluster]\u001b[0m\n",
      "  0%|          | 0/1 [00:00<?, ?it/s]\u001b[32m [repeated 21x across cluster]\u001b[0m\n"
     ]
    },
    {
     "name": "stdout",
     "output_type": "stream",
     "text": [
      "\u001b[36m(ClientAppActor pid=50135)\u001b[0m Test Loss: 3.2399, Test Accuracy: 25.00%\u001b[32m [repeated 25x across cluster]\u001b[0m\n",
      "\u001b[36m(ClientAppActor pid=50142)\u001b[0m \n"
     ]
    },
    {
     "name": "stderr",
     "output_type": "stream",
     "text": [
      "\u001b[36m(ClientAppActor pid=50142)\u001b[0m         \u001b[32m [repeated 78x across cluster]\u001b[0m\n",
      "\u001b[36m(ClientAppActor pid=50142)\u001b[0m \u001b[93mWARNING \u001b[0m:   DEPRECATED FEATURE: `client_fn` now expects a signature `def client_fn(context: Context)`.The provided `client_fn` has signature: {'cid': <Parameter \"cid: str\">}. You can import the `Context` like this: `from flwr.common import Context`\u001b[32m [repeated 27x across cluster]\u001b[0m\n",
      "\u001b[36m(ClientAppActor pid=50142)\u001b[0m             This is a deprecated feature. It will be removed\u001b[32m [repeated 27x across cluster]\u001b[0m\n",
      "\u001b[36m(ClientAppActor pid=50142)\u001b[0m             entirely in future versions of Flower.\u001b[32m [repeated 27x across cluster]\u001b[0m\n",
      "  0%|          | 0/1 [00:00<?, ?it/s]\u001b[32m [repeated 28x across cluster]\u001b[0m\n"
     ]
    },
    {
     "name": "stdout",
     "output_type": "stream",
     "text": [
      "\u001b[36m(ClientAppActor pid=50142)\u001b[0m Test Loss: 1.8762, Test Accuracy: 62.50%\u001b[32m [repeated 28x across cluster]\u001b[0m\n"
     ]
    },
    {
     "name": "stderr",
     "output_type": "stream",
     "text": [
      "100%|██████████| 1/1 [00:01<00:00,  1.24s/it]\u001b[32m [repeated 73x across cluster]\u001b[0m\n",
      "\u001b[36m(ClientAppActor pid=50143)\u001b[0m \u001b[93mWARNING \u001b[0m:   DEPRECATED FEATURE: `client_fn` now expects a signature `def client_fn(context: Context)`.The provided `client_fn` has signature: {'cid': <Parameter \"cid: str\">}. You can import the `Context` like this: `from flwr.common import Context`\u001b[32m [repeated 23x across cluster]\u001b[0m\n",
      "\u001b[36m(ClientAppActor pid=50143)\u001b[0m             This is a deprecated feature. It will be removed\u001b[32m [repeated 23x across cluster]\u001b[0m\n",
      "\u001b[36m(ClientAppActor pid=50143)\u001b[0m             entirely in future versions of Flower.\u001b[32m [repeated 23x across cluster]\u001b[0m\n",
      "  0%|          | 0/1 [00:00<?, ?it/s]\u001b[32m [repeated 23x across cluster]\u001b[0m\n"
     ]
    },
    {
     "name": "stdout",
     "output_type": "stream",
     "text": [
      "\u001b[36m(ClientAppActor pid=50143)\u001b[0m Test Loss: 2.7395, Test Accuracy: 37.50%\u001b[32m [repeated 22x across cluster]\u001b[0m\n"
     ]
    },
    {
     "name": "stderr",
     "output_type": "stream",
     "text": [
      "\u001b[92mINFO \u001b[0m:      aggregate_fit: received 100 results and 0 failures\n",
      "100%|██████████| 1/1 [00:00<00:00,  2.01it/s]\u001b[32m [repeated 58x across cluster]\u001b[0m\n",
      "\u001b[36m(ClientAppActor pid=50139)\u001b[0m \u001b[93mWARNING \u001b[0m:   DEPRECATED FEATURE: `client_fn` now expects a signature `def client_fn(context: Context)`.The provided `client_fn` has signature: {'cid': <Parameter \"cid: str\">}. You can import the `Context` like this: `from flwr.common import Context`\u001b[32m [repeated 17x across cluster]\u001b[0m\n",
      "\u001b[36m(ClientAppActor pid=50139)\u001b[0m             This is a deprecated feature. It will be removed\u001b[32m [repeated 17x across cluster]\u001b[0m\n",
      "\u001b[36m(ClientAppActor pid=50139)\u001b[0m             entirely in future versions of Flower.\u001b[32m [repeated 17x across cluster]\u001b[0m\n",
      "  0%|          | 0/1 [00:00<?, ?it/s]\u001b[32m [repeated 18x across cluster]\u001b[0m\n",
      "\u001b[92mINFO \u001b[0m:      fit progress: (10, 2.859927962808048, {'accuracy': 0.3614457831325301}, 336.10885849999977)\n",
      "\u001b[92mINFO \u001b[0m:      configure_evaluate: strategy sampled 20 clients (out of 100)\n"
     ]
    },
    {
     "name": "stdout",
     "output_type": "stream",
     "text": [
      "Test Loss: 2.8599, Test Accuracy: 36.14%\n"
     ]
    },
    {
     "name": "stderr",
     "output_type": "stream",
     "text": [
      "\u001b[36m(ClientAppActor pid=50139)\u001b[0m         \u001b[32m [repeated 2x across cluster]\u001b[0m\n",
      "\u001b[36m(ClientAppActor pid=50139)\u001b[0m \u001b[93mWARNING \u001b[0m:   DEPRECATED FEATURE: `client_fn` now expects a signature `def client_fn(context: Context)`.The provided `client_fn` has signature: {'cid': <Parameter \"cid: str\">}. You can import the `Context` like this: `from flwr.common import Context`\n",
      "\u001b[36m(ClientAppActor pid=50139)\u001b[0m             This is a deprecated feature. It will be removed\n",
      "\u001b[36m(ClientAppActor pid=50139)\u001b[0m             entirely in future versions of Flower.\n",
      "\u001b[36m(ClientAppActor pid=50141)\u001b[0m \u001b[93mWARNING \u001b[0m:   DEPRECATED FEATURE: `client_fn` now expects a signature `def client_fn(context: Context)`.The provided `client_fn` has signature: {'cid': <Parameter \"cid: str\">}. You can import the `Context` like this: `from flwr.common import Context`\n",
      "\u001b[36m(ClientAppActor pid=50141)\u001b[0m             This is a deprecated feature. It will be removed\n",
      "\u001b[36m(ClientAppActor pid=50141)\u001b[0m             entirely in future versions of Flower.\n"
     ]
    },
    {
     "name": "stdout",
     "output_type": "stream",
     "text": [
      "\u001b[36m(ClientAppActor pid=50139)\u001b[0m Test Loss: 3.0944, Test Accuracy: 25.00%\u001b[32m [repeated 19x across cluster]\u001b[0m\n"
     ]
    },
    {
     "name": "stderr",
     "output_type": "stream",
     "text": [
      "\u001b[92mINFO \u001b[0m:      aggregate_evaluate: received 20 results and 0 failures\n",
      "\u001b[92mINFO \u001b[0m:      \n",
      "\u001b[92mINFO \u001b[0m:      [ROUND 11]\n",
      "\u001b[92mINFO \u001b[0m:      configure_fit: strategy sampled 100 clients (out of 100)\n",
      "  0%|          | 0/1 [00:00<?, ?it/s]\n",
      "100%|██████████| 1/1 [00:01<00:00,  2.00s/it]\u001b[32m [repeated 66x across cluster]\u001b[0m\n",
      "\u001b[36m(ClientAppActor pid=50139)\u001b[0m \u001b[93mWARNING \u001b[0m:   DEPRECATED FEATURE: `client_fn` now expects a signature `def client_fn(context: Context)`.The provided `client_fn` has signature: {'cid': <Parameter \"cid: str\">}. You can import the `Context` like this: `from flwr.common import Context`\u001b[32m [repeated 31x across cluster]\u001b[0m\n",
      "\u001b[36m(ClientAppActor pid=50139)\u001b[0m             This is a deprecated feature. It will be removed\u001b[32m [repeated 31x across cluster]\u001b[0m\n",
      "\u001b[36m(ClientAppActor pid=50139)\u001b[0m             entirely in future versions of Flower.\u001b[32m [repeated 31x across cluster]\u001b[0m\n"
     ]
    },
    {
     "name": "stdout",
     "output_type": "stream",
     "text": [
      "\u001b[36m(ClientAppActor pid=50135)\u001b[0m Test Loss: 2.8577, Test Accuracy: 50.00%\u001b[32m [repeated 27x across cluster]\u001b[0m\n"
     ]
    },
    {
     "name": "stderr",
     "output_type": "stream",
     "text": [
      "  0%|          | 0/1 [00:00<?, ?it/s]\u001b[32m [repeated 17x across cluster]\u001b[0m\n"
     ]
    },
    {
     "name": "stdout",
     "output_type": "stream",
     "text": [
      "\u001b[36m(ClientAppActor pid=50141)\u001b[0m \n"
     ]
    },
    {
     "name": "stderr",
     "output_type": "stream",
     "text": [
      "100%|██████████| 1/1 [00:01<00:00,  1.30s/it]\u001b[32m [repeated 67x across cluster]\u001b[0m\n"
     ]
    },
    {
     "name": "stdout",
     "output_type": "stream",
     "text": [
      "\u001b[36m(ClientAppActor pid=50137)\u001b[0m Test Loss: 3.0097, Test Accuracy: 37.50%\u001b[32m [repeated 20x across cluster]\u001b[0m\n"
     ]
    },
    {
     "name": "stderr",
     "output_type": "stream",
     "text": [
      "\u001b[36m(ClientAppActor pid=50138)\u001b[0m \u001b[93mWARNING \u001b[0m:   DEPRECATED FEATURE: `client_fn` now expects a signature `def client_fn(context: Context)`.The provided `client_fn` has signature: {'cid': <Parameter \"cid: str\">}. You can import the `Context` like this: `from flwr.common import Context`\u001b[32m [repeated 21x across cluster]\u001b[0m\n",
      "\u001b[36m(ClientAppActor pid=50138)\u001b[0m             This is a deprecated feature. It will be removed\u001b[32m [repeated 21x across cluster]\u001b[0m\n",
      "\u001b[36m(ClientAppActor pid=50138)\u001b[0m             entirely in future versions of Flower.\u001b[32m [repeated 21x across cluster]\u001b[0m\n",
      "  0%|          | 0/1 [00:00<?, ?it/s]\u001b[32m [repeated 25x across cluster]\u001b[0m\n",
      "\u001b[36m(ClientAppActor pid=50142)\u001b[0m         \u001b[32m [repeated 73x across cluster]\u001b[0m\n",
      "\u001b[36m(ClientAppActor pid=50136)\u001b[0m \u001b[93mWARNING \u001b[0m:   DEPRECATED FEATURE: `client_fn` now expects a signature `def client_fn(context: Context)`.The provided `client_fn` has signature: {'cid': <Parameter \"cid: str\">}. You can import the `Context` like this: `from flwr.common import Context`\u001b[32m [repeated 26x across cluster]\u001b[0m\n",
      "\u001b[36m(ClientAppActor pid=50136)\u001b[0m             This is a deprecated feature. It will be removed\u001b[32m [repeated 26x across cluster]\u001b[0m\n",
      "\u001b[36m(ClientAppActor pid=50136)\u001b[0m             entirely in future versions of Flower.\u001b[32m [repeated 26x across cluster]\u001b[0m\n"
     ]
    },
    {
     "name": "stdout",
     "output_type": "stream",
     "text": [
      "\u001b[36m(ClientAppActor pid=50141)\u001b[0m Test Loss: 3.2251, Test Accuracy: 25.00%\u001b[32m [repeated 26x across cluster]\u001b[0m\n"
     ]
    },
    {
     "name": "stderr",
     "output_type": "stream",
     "text": [
      "  0%|          | 0/1 [00:00<?, ?it/s]\u001b[32m [repeated 27x across cluster]\u001b[0m\n",
      "100%|██████████| 1/1 [00:01<00:00,  1.38s/it]\u001b[32m [repeated 68x across cluster]\u001b[0m\n",
      "\u001b[36m(ClientAppActor pid=50138)\u001b[0m \u001b[93mWARNING \u001b[0m:   DEPRECATED FEATURE: `client_fn` now expects a signature `def client_fn(context: Context)`.The provided `client_fn` has signature: {'cid': <Parameter \"cid: str\">}. You can import the `Context` like this: `from flwr.common import Context`\u001b[32m [repeated 23x across cluster]\u001b[0m\n",
      "\u001b[36m(ClientAppActor pid=50138)\u001b[0m             This is a deprecated feature. It will be removed\u001b[32m [repeated 23x across cluster]\u001b[0m\n",
      "\u001b[36m(ClientAppActor pid=50138)\u001b[0m             entirely in future versions of Flower.\u001b[32m [repeated 23x across cluster]\u001b[0m\n"
     ]
    },
    {
     "name": "stdout",
     "output_type": "stream",
     "text": [
      "\u001b[36m(ClientAppActor pid=50142)\u001b[0m Test Loss: 2.4874, Test Accuracy: 37.50%\u001b[32m [repeated 23x across cluster]\u001b[0m\n"
     ]
    },
    {
     "name": "stderr",
     "output_type": "stream",
     "text": [
      "  0%|          | 0/1 [00:00<?, ?it/s]\u001b[32m [repeated 21x across cluster]\u001b[0m\n",
      "\u001b[92mINFO \u001b[0m:      aggregate_fit: received 100 results and 0 failures\n",
      "\u001b[92mINFO \u001b[0m:      fit progress: (11, 2.792671862770529, {'accuracy': 0.3614457831325301}, 369.3438962909995)\n",
      "\u001b[92mINFO \u001b[0m:      configure_evaluate: strategy sampled 20 clients (out of 100)\n"
     ]
    },
    {
     "name": "stdout",
     "output_type": "stream",
     "text": [
      "Test Loss: 2.7927, Test Accuracy: 36.14%\n"
     ]
    },
    {
     "name": "stderr",
     "output_type": "stream",
     "text": [
      "\u001b[36m(ClientAppActor pid=50143)\u001b[0m         \u001b[32m [repeated 66x across cluster]\u001b[0m\n",
      "\u001b[36m(ClientAppActor pid=50143)\u001b[0m \u001b[93mWARNING \u001b[0m:   DEPRECATED FEATURE: `client_fn` now expects a signature `def client_fn(context: Context)`.The provided `client_fn` has signature: {'cid': <Parameter \"cid: str\">}. You can import the `Context` like this: `from flwr.common import Context`\u001b[32m [repeated 18x across cluster]\u001b[0m\n",
      "\u001b[36m(ClientAppActor pid=50143)\u001b[0m             This is a deprecated feature. It will be removed\u001b[32m [repeated 18x across cluster]\u001b[0m\n",
      "\u001b[36m(ClientAppActor pid=50143)\u001b[0m             entirely in future versions of Flower.\u001b[32m [repeated 18x across cluster]\u001b[0m\n",
      "  0%|          | 0/1 [00:00<?, ?it/s]\u001b[32m [repeated 9x across cluster]\u001b[0m\n"
     ]
    },
    {
     "name": "stdout",
     "output_type": "stream",
     "text": [
      "\u001b[36m(ClientAppActor pid=50143)\u001b[0m Test Loss: 2.4456, Test Accuracy: 62.50%\u001b[32m [repeated 24x across cluster]\u001b[0m\n"
     ]
    },
    {
     "name": "stderr",
     "output_type": "stream",
     "text": [
      "\u001b[92mINFO \u001b[0m:      aggregate_evaluate: received 20 results and 0 failures\n",
      "\u001b[92mINFO \u001b[0m:      \n",
      "\u001b[92mINFO \u001b[0m:      [ROUND 12]\n",
      "\u001b[92mINFO \u001b[0m:      configure_fit: strategy sampled 100 clients (out of 100)\n",
      "\u001b[36m(ClientAppActor pid=50137)\u001b[0m         \u001b[32m [repeated 78x across cluster]\u001b[0m\n",
      "\u001b[36m(ClientAppActor pid=50137)\u001b[0m \u001b[93mWARNING \u001b[0m:   DEPRECATED FEATURE: `client_fn` now expects a signature `def client_fn(context: Context)`.The provided `client_fn` has signature: {'cid': <Parameter \"cid: str\">}. You can import the `Context` like this: `from flwr.common import Context`\u001b[32m [repeated 35x across cluster]\u001b[0m\n",
      "\u001b[36m(ClientAppActor pid=50137)\u001b[0m             This is a deprecated feature. It will be removed\u001b[32m [repeated 35x across cluster]\u001b[0m\n",
      "\u001b[36m(ClientAppActor pid=50137)\u001b[0m             entirely in future versions of Flower.\u001b[32m [repeated 35x across cluster]\u001b[0m\n",
      "  0%|          | 0/1 [00:00<?, ?it/s]\u001b[32m [repeated 15x across cluster]\u001b[0m\n"
     ]
    },
    {
     "name": "stdout",
     "output_type": "stream",
     "text": [
      "\u001b[36m(ClientAppActor pid=50136)\u001b[0m Test Loss: 2.0401, Test Accuracy: 62.50%\u001b[32m [repeated 28x across cluster]\u001b[0m\n",
      "\u001b[36m(ClientAppActor pid=50140)\u001b[0m \n"
     ]
    },
    {
     "name": "stderr",
     "output_type": "stream",
     "text": [
      "100%|██████████| 1/1 [00:01<00:00,  1.13s/it]\u001b[32m [repeated 75x across cluster]\u001b[0m\n",
      "\u001b[36m(ClientAppActor pid=50135)\u001b[0m \u001b[93mWARNING \u001b[0m:   DEPRECATED FEATURE: `client_fn` now expects a signature `def client_fn(context: Context)`.The provided `client_fn` has signature: {'cid': <Parameter \"cid: str\">}. You can import the `Context` like this: `from flwr.common import Context`\u001b[32m [repeated 24x across cluster]\u001b[0m\n",
      "\u001b[36m(ClientAppActor pid=50135)\u001b[0m             This is a deprecated feature. It will be removed\u001b[32m [repeated 24x across cluster]\u001b[0m\n",
      "\u001b[36m(ClientAppActor pid=50135)\u001b[0m             entirely in future versions of Flower.\u001b[32m [repeated 24x across cluster]\u001b[0m\n",
      "  0%|          | 0/1 [00:00<?, ?it/s]\u001b[32m [repeated 24x across cluster]\u001b[0m\n"
     ]
    },
    {
     "name": "stdout",
     "output_type": "stream",
     "text": [
      "\u001b[36m(ClientAppActor pid=50142)\u001b[0m Test Loss: 4.1229, Test Accuracy: 12.50%\u001b[32m [repeated 26x across cluster]\u001b[0m\n"
     ]
    },
    {
     "name": "stderr",
     "output_type": "stream",
     "text": [
      "100%|██████████| 1/1 [00:01<00:00,  1.51s/it]\u001b[32m [repeated 69x across cluster]\u001b[0m\n",
      "\u001b[36m(ClientAppActor pid=50134)\u001b[0m \u001b[93mWARNING \u001b[0m:   DEPRECATED FEATURE: `client_fn` now expects a signature `def client_fn(context: Context)`.The provided `client_fn` has signature: {'cid': <Parameter \"cid: str\">}. You can import the `Context` like this: `from flwr.common import Context`\u001b[32m [repeated 24x across cluster]\u001b[0m\n",
      "\u001b[36m(ClientAppActor pid=50134)\u001b[0m             This is a deprecated feature. It will be removed\u001b[32m [repeated 24x across cluster]\u001b[0m\n",
      "\u001b[36m(ClientAppActor pid=50134)\u001b[0m             entirely in future versions of Flower.\u001b[32m [repeated 24x across cluster]\u001b[0m\n",
      "  0%|          | 0/1 [00:00<?, ?it/s]\u001b[32m [repeated 25x across cluster]\u001b[0m\n"
     ]
    },
    {
     "name": "stdout",
     "output_type": "stream",
     "text": [
      "\u001b[36m(ClientAppActor pid=50134)\u001b[0m Test Loss: 1.6089, Test Accuracy: 75.00%\u001b[32m [repeated 29x across cluster]\u001b[0m\n"
     ]
    },
    {
     "name": "stderr",
     "output_type": "stream",
     "text": [
      "\u001b[36m(ClientAppActor pid=50137)\u001b[0m         \u001b[32m [repeated 86x across cluster]\u001b[0m\n",
      "\u001b[36m(ClientAppActor pid=50137)\u001b[0m \u001b[93mWARNING \u001b[0m:   DEPRECATED FEATURE: `client_fn` now expects a signature `def client_fn(context: Context)`.The provided `client_fn` has signature: {'cid': <Parameter \"cid: str\">}. You can import the `Context` like this: `from flwr.common import Context`\u001b[32m [repeated 29x across cluster]\u001b[0m\n",
      "\u001b[36m(ClientAppActor pid=50137)\u001b[0m             This is a deprecated feature. It will be removed\u001b[32m [repeated 29x across cluster]\u001b[0m\n",
      "\u001b[36m(ClientAppActor pid=50137)\u001b[0m             entirely in future versions of Flower.\u001b[32m [repeated 29x across cluster]\u001b[0m\n",
      "  0%|          | 0/1 [00:00<?, ?it/s]\u001b[32m [repeated 27x across cluster]\u001b[0m\n"
     ]
    },
    {
     "name": "stdout",
     "output_type": "stream",
     "text": [
      "\u001b[36m(ClientAppActor pid=50136)\u001b[0m \n",
      "\u001b[36m(ClientAppActor pid=50142)\u001b[0m Test Loss: 1.6708, Test Accuracy: 62.50%\u001b[32m [repeated 22x across cluster]\u001b[0m\n"
     ]
    },
    {
     "name": "stderr",
     "output_type": "stream",
     "text": [
      "\u001b[92mINFO \u001b[0m:      aggregate_fit: received 100 results and 0 failures\n",
      "\u001b[92mINFO \u001b[0m:      fit progress: (12, 2.7530276074128994, {'accuracy': 0.3614457831325301}, 399.04645866600004)\n",
      "\u001b[92mINFO \u001b[0m:      configure_evaluate: strategy sampled 20 clients (out of 100)\n"
     ]
    },
    {
     "name": "stdout",
     "output_type": "stream",
     "text": [
      "Test Loss: 2.7530, Test Accuracy: 36.14%\n"
     ]
    },
    {
     "name": "stderr",
     "output_type": "stream",
     "text": [
      "\u001b[36m(ClientAppActor pid=50143)\u001b[0m         \u001b[32m [repeated 33x across cluster]\u001b[0m\n",
      "\u001b[36m(ClientAppActor pid=50143)\u001b[0m \u001b[93mWARNING \u001b[0m:   DEPRECATED FEATURE: `client_fn` now expects a signature `def client_fn(context: Context)`.The provided `client_fn` has signature: {'cid': <Parameter \"cid: str\">}. You can import the `Context` like this: `from flwr.common import Context`\u001b[32m [repeated 8x across cluster]\u001b[0m\n",
      "\u001b[36m(ClientAppActor pid=50143)\u001b[0m             This is a deprecated feature. It will be removed\u001b[32m [repeated 8x across cluster]\u001b[0m\n",
      "\u001b[36m(ClientAppActor pid=50143)\u001b[0m             entirely in future versions of Flower.\u001b[32m [repeated 8x across cluster]\u001b[0m\n",
      "  0%|          | 0/1 [00:00<?, ?it/s]\u001b[32m [repeated 9x across cluster]\u001b[0m\n"
     ]
    },
    {
     "name": "stdout",
     "output_type": "stream",
     "text": [
      "\u001b[36m(ClientAppActor pid=50143)\u001b[0m Test Loss: 3.6622, Test Accuracy: 12.50%\u001b[32m [repeated 15x across cluster]\u001b[0m\n"
     ]
    },
    {
     "name": "stderr",
     "output_type": "stream",
     "text": [
      "\u001b[92mINFO \u001b[0m:      aggregate_evaluate: received 20 results and 0 failures\n",
      "\u001b[92mINFO \u001b[0m:      \n",
      "\u001b[92mINFO \u001b[0m:      [ROUND 13]\n",
      "\u001b[92mINFO \u001b[0m:      configure_fit: strategy sampled 100 clients (out of 100)\n",
      "\u001b[36m(ClientAppActor pid=50142)\u001b[0m         \u001b[32m [repeated 94x across cluster]\u001b[0m\n",
      "\u001b[36m(ClientAppActor pid=50142)\u001b[0m \u001b[93mWARNING \u001b[0m:   DEPRECATED FEATURE: `client_fn` now expects a signature `def client_fn(context: Context)`.The provided `client_fn` has signature: {'cid': <Parameter \"cid: str\">}. You can import the `Context` like this: `from flwr.common import Context`\u001b[32m [repeated 40x across cluster]\u001b[0m\n",
      "\u001b[36m(ClientAppActor pid=50142)\u001b[0m             This is a deprecated feature. It will be removed\u001b[32m [repeated 40x across cluster]\u001b[0m\n",
      "\u001b[36m(ClientAppActor pid=50142)\u001b[0m             entirely in future versions of Flower.\u001b[32m [repeated 40x across cluster]\u001b[0m\n",
      "  0%|          | 0/1 [00:00<?, ?it/s]\u001b[32m [repeated 20x across cluster]\u001b[0m\n"
     ]
    },
    {
     "name": "stdout",
     "output_type": "stream",
     "text": [
      "\u001b[36m(ClientAppActor pid=50137)\u001b[0m Test Loss: 2.9389, Test Accuracy: 37.50%\u001b[32m [repeated 35x across cluster]\u001b[0m\n"
     ]
    },
    {
     "name": "stderr",
     "output_type": "stream",
     "text": [
      "\u001b[36m(ClientAppActor pid=50140)\u001b[0m         \u001b[32m [repeated 64x across cluster]\u001b[0m\n",
      "\u001b[36m(ClientAppActor pid=50140)\u001b[0m \u001b[93mWARNING \u001b[0m:   DEPRECATED FEATURE: `client_fn` now expects a signature `def client_fn(context: Context)`.The provided `client_fn` has signature: {'cid': <Parameter \"cid: str\">}. You can import the `Context` like this: `from flwr.common import Context`\u001b[32m [repeated 21x across cluster]\u001b[0m\n",
      "\u001b[36m(ClientAppActor pid=50140)\u001b[0m             This is a deprecated feature. It will be removed\u001b[32m [repeated 21x across cluster]\u001b[0m\n",
      "\u001b[36m(ClientAppActor pid=50140)\u001b[0m             entirely in future versions of Flower.\u001b[32m [repeated 21x across cluster]\u001b[0m\n",
      "  0%|          | 0/1 [00:00<?, ?it/s]\u001b[32m [repeated 20x across cluster]\u001b[0m\n"
     ]
    },
    {
     "name": "stdout",
     "output_type": "stream",
     "text": [
      "\u001b[36m(ClientAppActor pid=50142)\u001b[0m Test Loss: 3.0715, Test Accuracy: 37.50%\u001b[32m [repeated 21x across cluster]\u001b[0m\n"
     ]
    },
    {
     "name": "stderr",
     "output_type": "stream",
     "text": [
      "100%|██████████| 1/1 [00:01<00:00,  1.10s/it]\u001b[32m [repeated 74x across cluster]\u001b[0m\n",
      "\u001b[36m(ClientAppActor pid=50135)\u001b[0m \u001b[93mWARNING \u001b[0m:   DEPRECATED FEATURE: `client_fn` now expects a signature `def client_fn(context: Context)`.The provided `client_fn` has signature: {'cid': <Parameter \"cid: str\">}. You can import the `Context` like this: `from flwr.common import Context`\u001b[32m [repeated 25x across cluster]\u001b[0m\n",
      "\u001b[36m(ClientAppActor pid=50135)\u001b[0m             This is a deprecated feature. It will be removed\u001b[32m [repeated 25x across cluster]\u001b[0m\n",
      "\u001b[36m(ClientAppActor pid=50135)\u001b[0m             entirely in future versions of Flower.\u001b[32m [repeated 25x across cluster]\u001b[0m\n",
      "  0%|          | 0/1 [00:00<?, ?it/s]\u001b[32m [repeated 27x across cluster]\u001b[0m\n"
     ]
    },
    {
     "name": "stdout",
     "output_type": "stream",
     "text": [
      "\u001b[36m(ClientAppActor pid=50143)\u001b[0m Test Loss: 3.2091, Test Accuracy: 18.18%\u001b[32m [repeated 23x across cluster]\u001b[0m\n",
      "\u001b[36m(ClientAppActor pid=50140)\u001b[0m \n"
     ]
    },
    {
     "name": "stderr",
     "output_type": "stream",
     "text": [
      "100%|██████████| 1/1 [00:01<00:00,  1.38s/it]\u001b[32m [repeated 76x across cluster]\u001b[0m\n",
      "\u001b[36m(ClientAppActor pid=50136)\u001b[0m \u001b[93mWARNING \u001b[0m:   DEPRECATED FEATURE: `client_fn` now expects a signature `def client_fn(context: Context)`.The provided `client_fn` has signature: {'cid': <Parameter \"cid: str\">}. You can import the `Context` like this: `from flwr.common import Context`\u001b[32m [repeated 24x across cluster]\u001b[0m\n",
      "\u001b[36m(ClientAppActor pid=50136)\u001b[0m             This is a deprecated feature. It will be removed\u001b[32m [repeated 24x across cluster]\u001b[0m\n",
      "\u001b[36m(ClientAppActor pid=50136)\u001b[0m             entirely in future versions of Flower.\u001b[32m [repeated 24x across cluster]\u001b[0m\n",
      "  0%|          | 0/1 [00:00<?, ?it/s]\u001b[32m [repeated 23x across cluster]\u001b[0m\n"
     ]
    },
    {
     "name": "stdout",
     "output_type": "stream",
     "text": [
      "\u001b[36m(ClientAppActor pid=50137)\u001b[0m Test Loss: 2.2338, Test Accuracy: 25.00%\u001b[32m [repeated 28x across cluster]\u001b[0m\n"
     ]
    },
    {
     "name": "stderr",
     "output_type": "stream",
     "text": [
      "\u001b[92mINFO \u001b[0m:      aggregate_fit: received 100 results and 0 failures\n",
      "\u001b[92mINFO \u001b[0m:      fit progress: (13, 2.728297696394079, {'accuracy': 0.3614457831325301}, 431.3594514159995)\n",
      "\u001b[92mINFO \u001b[0m:      configure_evaluate: strategy sampled 20 clients (out of 100)\n"
     ]
    },
    {
     "name": "stdout",
     "output_type": "stream",
     "text": [
      "Test Loss: 2.7283, Test Accuracy: 36.14%\n"
     ]
    },
    {
     "name": "stderr",
     "output_type": "stream",
     "text": [
      "\u001b[36m(ClientAppActor pid=50141)\u001b[0m         \u001b[32m [repeated 34x across cluster]\u001b[0m\n",
      "\u001b[36m(ClientAppActor pid=50141)\u001b[0m \u001b[93mWARNING \u001b[0m:   DEPRECATED FEATURE: `client_fn` now expects a signature `def client_fn(context: Context)`.The provided `client_fn` has signature: {'cid': <Parameter \"cid: str\">}. You can import the `Context` like this: `from flwr.common import Context`\u001b[32m [repeated 10x across cluster]\u001b[0m\n",
      "\u001b[36m(ClientAppActor pid=50141)\u001b[0m             This is a deprecated feature. It will be removed\u001b[32m [repeated 10x across cluster]\u001b[0m\n",
      "\u001b[36m(ClientAppActor pid=50141)\u001b[0m             entirely in future versions of Flower.\u001b[32m [repeated 10x across cluster]\u001b[0m\n",
      "  0%|          | 0/1 [00:00<?, ?it/s]\u001b[32m [repeated 10x across cluster]\u001b[0m\n"
     ]
    },
    {
     "name": "stdout",
     "output_type": "stream",
     "text": [
      "\u001b[36m(ClientAppActor pid=50143)\u001b[0m Test Loss: 2.4967, Test Accuracy: 62.50%\u001b[32m [repeated 13x across cluster]\u001b[0m\n"
     ]
    },
    {
     "name": "stderr",
     "output_type": "stream",
     "text": [
      "\u001b[92mINFO \u001b[0m:      aggregate_evaluate: received 20 results and 0 failures\n",
      "\u001b[92mINFO \u001b[0m:      \n",
      "\u001b[92mINFO \u001b[0m:      [ROUND 14]\n",
      "\u001b[92mINFO \u001b[0m:      configure_fit: strategy sampled 100 clients (out of 100)\n",
      "\u001b[36m(ClientAppActor pid=50138)\u001b[0m         \u001b[32m [repeated 80x across cluster]\u001b[0m\n",
      "\u001b[36m(ClientAppActor pid=50138)\u001b[0m \u001b[93mWARNING \u001b[0m:   DEPRECATED FEATURE: `client_fn` now expects a signature `def client_fn(context: Context)`.The provided `client_fn` has signature: {'cid': <Parameter \"cid: str\">}. You can import the `Context` like this: `from flwr.common import Context`\u001b[32m [repeated 36x across cluster]\u001b[0m\n",
      "\u001b[36m(ClientAppActor pid=50138)\u001b[0m             This is a deprecated feature. It will be removed\u001b[32m [repeated 36x across cluster]\u001b[0m\n",
      "\u001b[36m(ClientAppActor pid=50138)\u001b[0m             entirely in future versions of Flower.\u001b[32m [repeated 36x across cluster]\u001b[0m\n",
      "  0%|          | 0/1 [00:00<?, ?it/s]\u001b[32m [repeated 14x across cluster]\u001b[0m\n"
     ]
    },
    {
     "name": "stdout",
     "output_type": "stream",
     "text": [
      "\u001b[36m(ClientAppActor pid=50142)\u001b[0m Test Loss: 2.4008, Test Accuracy: 62.50%\u001b[32m [repeated 28x across cluster]\u001b[0m\n"
     ]
    },
    {
     "name": "stderr",
     "output_type": "stream",
     "text": [
      "100%|██████████| 1/1 [00:01<00:00,  1.08s/it]\u001b[32m [repeated 57x across cluster]\u001b[0m\n",
      "\u001b[36m(ClientAppActor pid=50142)\u001b[0m \u001b[93mWARNING \u001b[0m:   DEPRECATED FEATURE: `client_fn` now expects a signature `def client_fn(context: Context)`.The provided `client_fn` has signature: {'cid': <Parameter \"cid: str\">}. You can import the `Context` like this: `from flwr.common import Context`\u001b[32m [repeated 18x across cluster]\u001b[0m\n",
      "\u001b[36m(ClientAppActor pid=50142)\u001b[0m             This is a deprecated feature. It will be removed\u001b[32m [repeated 18x across cluster]\u001b[0m\n",
      "\u001b[36m(ClientAppActor pid=50142)\u001b[0m             entirely in future versions of Flower.\u001b[32m [repeated 18x across cluster]\u001b[0m\n",
      "  0%|          | 0/1 [00:00<?, ?it/s]\u001b[32m [repeated 21x across cluster]\u001b[0m\n"
     ]
    },
    {
     "name": "stdout",
     "output_type": "stream",
     "text": [
      "\u001b[36m(ClientAppActor pid=50134)\u001b[0m Test Loss: 3.1624, Test Accuracy: 18.18%\u001b[32m [repeated 22x across cluster]\u001b[0m\n"
     ]
    },
    {
     "name": "stderr",
     "output_type": "stream",
     "text": [
      "\u001b[36m(ClientAppActor pid=50143)\u001b[0m         \u001b[32m [repeated 60x across cluster]\u001b[0m\n",
      "\u001b[36m(ClientAppActor pid=50143)\u001b[0m \u001b[93mWARNING \u001b[0m:   DEPRECATED FEATURE: `client_fn` now expects a signature `def client_fn(context: Context)`.The provided `client_fn` has signature: {'cid': <Parameter \"cid: str\">}. You can import the `Context` like this: `from flwr.common import Context`\u001b[32m [repeated 21x across cluster]\u001b[0m\n",
      "\u001b[36m(ClientAppActor pid=50143)\u001b[0m             This is a deprecated feature. It will be removed\u001b[32m [repeated 21x across cluster]\u001b[0m\n",
      "\u001b[36m(ClientAppActor pid=50143)\u001b[0m             entirely in future versions of Flower.\u001b[32m [repeated 21x across cluster]\u001b[0m\n",
      "  0%|          | 0/1 [00:00<?, ?it/s]\u001b[32m [repeated 18x across cluster]\u001b[0m\n"
     ]
    },
    {
     "name": "stdout",
     "output_type": "stream",
     "text": [
      "\u001b[36m(ClientAppActor pid=50135)\u001b[0m Test Loss: 3.2452, Test Accuracy: 37.50%\u001b[32m [repeated 26x across cluster]\u001b[0m\n"
     ]
    },
    {
     "name": "stderr",
     "output_type": "stream",
     "text": [
      "\u001b[36m(ClientAppActor pid=50135)\u001b[0m         \u001b[32m [repeated 59x across cluster]\u001b[0m\n",
      "\u001b[36m(ClientAppActor pid=50135)\u001b[0m \u001b[93mWARNING \u001b[0m:   DEPRECATED FEATURE: `client_fn` now expects a signature `def client_fn(context: Context)`.The provided `client_fn` has signature: {'cid': <Parameter \"cid: str\">}. You can import the `Context` like this: `from flwr.common import Context`\u001b[32m [repeated 19x across cluster]\u001b[0m\n",
      "\u001b[36m(ClientAppActor pid=50135)\u001b[0m             This is a deprecated feature. It will be removed\u001b[32m [repeated 19x across cluster]\u001b[0m\n",
      "\u001b[36m(ClientAppActor pid=50135)\u001b[0m             entirely in future versions of Flower.\u001b[32m [repeated 19x across cluster]\u001b[0m\n",
      "  0%|          | 0/1 [00:00<?, ?it/s]\u001b[32m [repeated 22x across cluster]\u001b[0m\n"
     ]
    },
    {
     "name": "stdout",
     "output_type": "stream",
     "text": [
      "\u001b[36m(ClientAppActor pid=50137)\u001b[0m Test Loss: 3.5957, Test Accuracy: 12.50%\u001b[32m [repeated 19x across cluster]\u001b[0m\n"
     ]
    },
    {
     "name": "stderr",
     "output_type": "stream",
     "text": [
      "100%|██████████| 1/1 [00:01<00:00,  1.76s/it]\u001b[32m [repeated 52x across cluster]\u001b[0m\n",
      "\u001b[36m(ClientAppActor pid=50135)\u001b[0m \u001b[93mWARNING \u001b[0m:   DEPRECATED FEATURE: `client_fn` now expects a signature `def client_fn(context: Context)`.The provided `client_fn` has signature: {'cid': <Parameter \"cid: str\">}. You can import the `Context` like this: `from flwr.common import Context`\u001b[32m [repeated 17x across cluster]\u001b[0m\n",
      "\u001b[36m(ClientAppActor pid=50135)\u001b[0m             This is a deprecated feature. It will be removed\u001b[32m [repeated 17x across cluster]\u001b[0m\n",
      "\u001b[36m(ClientAppActor pid=50135)\u001b[0m             entirely in future versions of Flower.\u001b[32m [repeated 17x across cluster]\u001b[0m\n",
      "  0%|          | 0/1 [00:00<?, ?it/s]\u001b[32m [repeated 16x across cluster]\u001b[0m\n"
     ]
    },
    {
     "name": "stdout",
     "output_type": "stream",
     "text": [
      "\u001b[36m(ClientAppActor pid=50140)\u001b[0m Test Loss: 2.6616, Test Accuracy: 37.50%\u001b[32m [repeated 15x across cluster]\u001b[0m\n"
     ]
    },
    {
     "name": "stderr",
     "output_type": "stream",
     "text": [
      "100%|██████████| 1/1 [00:01<00:00,  1.06s/it]\u001b[32m [repeated 31x across cluster]\u001b[0m\n",
      "\u001b[36m(ClientAppActor pid=50142)\u001b[0m \u001b[93mWARNING \u001b[0m:   DEPRECATED FEATURE: `client_fn` now expects a signature `def client_fn(context: Context)`.The provided `client_fn` has signature: {'cid': <Parameter \"cid: str\">}. You can import the `Context` like this: `from flwr.common import Context`\u001b[32m [repeated 8x across cluster]\u001b[0m\n",
      "\u001b[36m(ClientAppActor pid=50142)\u001b[0m             This is a deprecated feature. It will be removed\u001b[32m [repeated 8x across cluster]\u001b[0m\n",
      "\u001b[36m(ClientAppActor pid=50142)\u001b[0m             entirely in future versions of Flower.\u001b[32m [repeated 8x across cluster]\u001b[0m\n",
      "  0%|          | 0/1 [00:00<?, ?it/s]\u001b[32m [repeated 9x across cluster]\u001b[0m\n",
      "\u001b[92mINFO \u001b[0m:      aggregate_fit: received 100 results and 0 failures\n",
      "\u001b[92mINFO \u001b[0m:      fit progress: (14, 2.709014457814834, {'accuracy': 0.3614457831325301}, 477.0435993330002)\n",
      "\u001b[92mINFO \u001b[0m:      configure_evaluate: strategy sampled 20 clients (out of 100)\n"
     ]
    },
    {
     "name": "stdout",
     "output_type": "stream",
     "text": [
      "Test Loss: 2.7090, Test Accuracy: 36.14%\n"
     ]
    },
    {
     "name": "stderr",
     "output_type": "stream",
     "text": [
      "\u001b[36m(ClientAppActor pid=50142)\u001b[0m         \u001b[32m [repeated 2x across cluster]\u001b[0m\n",
      "\u001b[36m(ClientAppActor pid=50142)\u001b[0m \u001b[93mWARNING \u001b[0m:   DEPRECATED FEATURE: `client_fn` now expects a signature `def client_fn(context: Context)`.The provided `client_fn` has signature: {'cid': <Parameter \"cid: str\">}. You can import the `Context` like this: `from flwr.common import Context`\n",
      "\u001b[36m(ClientAppActor pid=50142)\u001b[0m             This is a deprecated feature. It will be removed\n",
      "\u001b[36m(ClientAppActor pid=50142)\u001b[0m             entirely in future versions of Flower.\n",
      "\u001b[36m(ClientAppActor pid=50141)\u001b[0m \u001b[93mWARNING \u001b[0m:   DEPRECATED FEATURE: `client_fn` now expects a signature `def client_fn(context: Context)`.The provided `client_fn` has signature: {'cid': <Parameter \"cid: str\">}. You can import the `Context` like this: `from flwr.common import Context`\n",
      "\u001b[36m(ClientAppActor pid=50141)\u001b[0m             This is a deprecated feature. It will be removed\n",
      "\u001b[36m(ClientAppActor pid=50141)\u001b[0m             entirely in future versions of Flower.\n"
     ]
    },
    {
     "name": "stdout",
     "output_type": "stream",
     "text": [
      "\u001b[36m(ClientAppActor pid=50142)\u001b[0m Test Loss: 3.7101, Test Accuracy: 12.50%\u001b[32m [repeated 10x across cluster]\u001b[0m\n"
     ]
    },
    {
     "name": "stderr",
     "output_type": "stream",
     "text": [
      "\u001b[92mINFO \u001b[0m:      aggregate_evaluate: received 20 results and 0 failures\n",
      "\u001b[92mINFO \u001b[0m:      \n",
      "\u001b[92mINFO \u001b[0m:      [ROUND 15]\n",
      "\u001b[92mINFO \u001b[0m:      configure_fit: strategy sampled 100 clients (out of 100)\n",
      "  0%|          | 0/1 [00:00<?, ?it/s]\n"
     ]
    },
    {
     "name": "stdout",
     "output_type": "stream",
     "text": [
      "\u001b[36m(ClientAppActor pid=50141)\u001b[0m Test Loss: 1.3904, Test Accuracy: 87.50%\u001b[32m [repeated 31x across cluster]\u001b[0m\n"
     ]
    },
    {
     "name": "stderr",
     "output_type": "stream",
     "text": [
      "100%|██████████| 1/1 [00:01<00:00,  1.16s/it]\u001b[32m [repeated 84x across cluster]\u001b[0m\n",
      "\u001b[36m(ClientAppActor pid=50140)\u001b[0m \u001b[93mWARNING \u001b[0m:   DEPRECATED FEATURE: `client_fn` now expects a signature `def client_fn(context: Context)`.The provided `client_fn` has signature: {'cid': <Parameter \"cid: str\">}. You can import the `Context` like this: `from flwr.common import Context`\u001b[32m [repeated 35x across cluster]\u001b[0m\n",
      "\u001b[36m(ClientAppActor pid=50140)\u001b[0m             This is a deprecated feature. It will be removed\u001b[32m [repeated 35x across cluster]\u001b[0m\n",
      "\u001b[36m(ClientAppActor pid=50140)\u001b[0m             entirely in future versions of Flower.\u001b[32m [repeated 35x across cluster]\u001b[0m\n",
      "  0%|          | 0/1 [00:00<?, ?it/s]\u001b[32m [repeated 20x across cluster]\u001b[0m\n",
      "\u001b[36m(ClientAppActor pid=50142)\u001b[0m         \u001b[32m [repeated 32x across cluster]\u001b[0m\n",
      "\u001b[36m(ClientAppActor pid=50142)\u001b[0m \u001b[93mWARNING \u001b[0m:   DEPRECATED FEATURE: `client_fn` now expects a signature `def client_fn(context: Context)`.The provided `client_fn` has signature: {'cid': <Parameter \"cid: str\">}. You can import the `Context` like this: `from flwr.common import Context`\u001b[32m [repeated 10x across cluster]\u001b[0m\n",
      "\u001b[36m(ClientAppActor pid=50142)\u001b[0m             This is a deprecated feature. It will be removed\u001b[32m [repeated 10x across cluster]\u001b[0m\n",
      "\u001b[36m(ClientAppActor pid=50142)\u001b[0m             entirely in future versions of Flower.\u001b[32m [repeated 10x across cluster]\u001b[0m\n"
     ]
    },
    {
     "name": "stdout",
     "output_type": "stream",
     "text": [
      "\u001b[36m(ClientAppActor pid=50141)\u001b[0m Test Loss: 2.9450, Test Accuracy: 37.50%\u001b[32m [repeated 12x across cluster]\u001b[0m\n"
     ]
    },
    {
     "name": "stderr",
     "output_type": "stream",
     "text": [
      "  0%|          | 0/1 [00:00<?, ?it/s]\u001b[32m [repeated 7x across cluster]\u001b[0m\n",
      "\u001b[36m(ClientAppActor pid=50134)\u001b[0m         \u001b[32m [repeated 47x across cluster]\u001b[0m\n",
      "\u001b[36m(ClientAppActor pid=50134)\u001b[0m \u001b[93mWARNING \u001b[0m:   DEPRECATED FEATURE: `client_fn` now expects a signature `def client_fn(context: Context)`.The provided `client_fn` has signature: {'cid': <Parameter \"cid: str\">}. You can import the `Context` like this: `from flwr.common import Context`\u001b[32m [repeated 16x across cluster]\u001b[0m\n",
      "\u001b[36m(ClientAppActor pid=50134)\u001b[0m             This is a deprecated feature. It will be removed\u001b[32m [repeated 16x across cluster]\u001b[0m\n",
      "\u001b[36m(ClientAppActor pid=50134)\u001b[0m             entirely in future versions of Flower.\u001b[32m [repeated 16x across cluster]\u001b[0m\n"
     ]
    },
    {
     "name": "stdout",
     "output_type": "stream",
     "text": [
      "\u001b[36m(ClientAppActor pid=50136)\u001b[0m Test Loss: 2.2899, Test Accuracy: 50.00%\u001b[32m [repeated 16x across cluster]\u001b[0m\n"
     ]
    },
    {
     "name": "stderr",
     "output_type": "stream",
     "text": [
      "  0%|          | 0/1 [00:00<?, ?it/s]\u001b[32m [repeated 20x across cluster]\u001b[0m\n",
      "\u001b[36m(ClientAppActor pid=50136)\u001b[0m         \u001b[32m [repeated 40x across cluster]\u001b[0m\n",
      "\u001b[36m(ClientAppActor pid=50136)\u001b[0m \u001b[93mWARNING \u001b[0m:   DEPRECATED FEATURE: `client_fn` now expects a signature `def client_fn(context: Context)`.The provided `client_fn` has signature: {'cid': <Parameter \"cid: str\">}. You can import the `Context` like this: `from flwr.common import Context`\u001b[32m [repeated 13x across cluster]\u001b[0m\n",
      "\u001b[36m(ClientAppActor pid=50136)\u001b[0m             This is a deprecated feature. It will be removed\u001b[32m [repeated 13x across cluster]\u001b[0m\n",
      "\u001b[36m(ClientAppActor pid=50136)\u001b[0m             entirely in future versions of Flower.\u001b[32m [repeated 13x across cluster]\u001b[0m\n"
     ]
    },
    {
     "name": "stdout",
     "output_type": "stream",
     "text": [
      "\u001b[36m(ClientAppActor pid=50134)\u001b[0m Test Loss: 0.9006, Test Accuracy: 75.00%\u001b[32m [repeated 14x across cluster]\u001b[0m\n"
     ]
    },
    {
     "name": "stderr",
     "output_type": "stream",
     "text": [
      "  0%|          | 0/1 [00:00<?, ?it/s]\u001b[32m [repeated 13x across cluster]\u001b[0m\n",
      "100%|██████████| 1/1 [00:01<00:00,  1.37s/it]\u001b[32m [repeated 61x across cluster]\u001b[0m\n",
      "\u001b[36m(ClientAppActor pid=50137)\u001b[0m \u001b[93mWARNING \u001b[0m:   DEPRECATED FEATURE: `client_fn` now expects a signature `def client_fn(context: Context)`.The provided `client_fn` has signature: {'cid': <Parameter \"cid: str\">}. You can import the `Context` like this: `from flwr.common import Context`\u001b[32m [repeated 21x across cluster]\u001b[0m\n",
      "\u001b[36m(ClientAppActor pid=50137)\u001b[0m             This is a deprecated feature. It will be removed\u001b[32m [repeated 21x across cluster]\u001b[0m\n",
      "\u001b[36m(ClientAppActor pid=50137)\u001b[0m             entirely in future versions of Flower.\u001b[32m [repeated 21x across cluster]\u001b[0m\n"
     ]
    },
    {
     "name": "stdout",
     "output_type": "stream",
     "text": [
      "\u001b[36m(ClientAppActor pid=50134)\u001b[0m Test Loss: 3.3221, Test Accuracy: 25.00%\u001b[32m [repeated 18x across cluster]\u001b[0m\n"
     ]
    },
    {
     "name": "stderr",
     "output_type": "stream",
     "text": [
      "  0%|          | 0/1 [00:00<?, ?it/s]\u001b[32m [repeated 18x across cluster]\u001b[0m\n",
      "\u001b[36m(ClientAppActor pid=50140)\u001b[0m         \u001b[32m [repeated 53x across cluster]\u001b[0m\n",
      "\u001b[36m(ClientAppActor pid=50140)\u001b[0m \u001b[93mWARNING \u001b[0m:   DEPRECATED FEATURE: `client_fn` now expects a signature `def client_fn(context: Context)`.The provided `client_fn` has signature: {'cid': <Parameter \"cid: str\">}. You can import the `Context` like this: `from flwr.common import Context`\u001b[32m [repeated 18x across cluster]\u001b[0m\n",
      "\u001b[36m(ClientAppActor pid=50140)\u001b[0m             This is a deprecated feature. It will be removed\u001b[32m [repeated 18x across cluster]\u001b[0m\n",
      "\u001b[36m(ClientAppActor pid=50140)\u001b[0m             entirely in future versions of Flower.\u001b[32m [repeated 18x across cluster]\u001b[0m\n"
     ]
    },
    {
     "name": "stdout",
     "output_type": "stream",
     "text": [
      "\u001b[36m(ClientAppActor pid=50140)\u001b[0m Test Loss: 2.6279, Test Accuracy: 37.50%\u001b[32m [repeated 22x across cluster]\u001b[0m\n"
     ]
    },
    {
     "name": "stderr",
     "output_type": "stream",
     "text": [
      "  0%|          | 0/1 [00:00<?, ?it/s]\u001b[32m [repeated 21x across cluster]\u001b[0m\n",
      "\u001b[92mINFO \u001b[0m:      aggregate_fit: received 100 results and 0 failures\n",
      "\u001b[92mINFO \u001b[0m:      fit progress: (15, 2.690769027261173, {'accuracy': 0.3614457831325301}, 520.1566234579996)\n",
      "\u001b[92mINFO \u001b[0m:      configure_evaluate: strategy sampled 20 clients (out of 100)\n"
     ]
    },
    {
     "name": "stdout",
     "output_type": "stream",
     "text": [
      "Test Loss: 2.6908, Test Accuracy: 36.14%\n"
     ]
    },
    {
     "name": "stderr",
     "output_type": "stream",
     "text": [
      "\u001b[36m(ClientAppActor pid=50142)\u001b[0m         \u001b[32m [repeated 25x across cluster]\u001b[0m\n",
      "\u001b[36m(ClientAppActor pid=50142)\u001b[0m \u001b[93mWARNING \u001b[0m:   DEPRECATED FEATURE: `client_fn` now expects a signature `def client_fn(context: Context)`.The provided `client_fn` has signature: {'cid': <Parameter \"cid: str\">}. You can import the `Context` like this: `from flwr.common import Context`\u001b[32m [repeated 6x across cluster]\u001b[0m\n",
      "\u001b[36m(ClientAppActor pid=50142)\u001b[0m             This is a deprecated feature. It will be removed\u001b[32m [repeated 6x across cluster]\u001b[0m\n",
      "\u001b[36m(ClientAppActor pid=50142)\u001b[0m             entirely in future versions of Flower.\u001b[32m [repeated 6x across cluster]\u001b[0m\n"
     ]
    },
    {
     "name": "stdout",
     "output_type": "stream",
     "text": [
      "\u001b[36m(ClientAppActor pid=50134)\u001b[0m Test Loss: 2.7900, Test Accuracy: 25.00%\u001b[32m [repeated 7x across cluster]\u001b[0m\n",
      "\u001b[36m(ClientAppActor pid=50138)\u001b[0m \n"
     ]
    },
    {
     "name": "stderr",
     "output_type": "stream",
     "text": [
      "\u001b[92mINFO \u001b[0m:      aggregate_evaluate: received 20 results and 0 failures\n",
      "\u001b[92mINFO \u001b[0m:      \n",
      "\u001b[92mINFO \u001b[0m:      [ROUND 16]\n",
      "\u001b[92mINFO \u001b[0m:      configure_fit: strategy sampled 100 clients (out of 100)\n",
      "  0%|          | 0/1 [00:00<?, ?it/s]\n",
      "\u001b[36m(ClientAppActor pid=50139)\u001b[0m         \u001b[32m [repeated 94x across cluster]\u001b[0m\n",
      "\u001b[36m(ClientAppActor pid=50139)\u001b[0m \u001b[93mWARNING \u001b[0m:   DEPRECATED FEATURE: `client_fn` now expects a signature `def client_fn(context: Context)`.The provided `client_fn` has signature: {'cid': <Parameter \"cid: str\">}. You can import the `Context` like this: `from flwr.common import Context`\u001b[32m [repeated 40x across cluster]\u001b[0m\n",
      "\u001b[36m(ClientAppActor pid=50139)\u001b[0m             This is a deprecated feature. It will be removed\u001b[32m [repeated 40x across cluster]\u001b[0m\n",
      "\u001b[36m(ClientAppActor pid=50139)\u001b[0m             entirely in future versions of Flower.\u001b[32m [repeated 40x across cluster]\u001b[0m\n"
     ]
    },
    {
     "name": "stdout",
     "output_type": "stream",
     "text": [
      "\u001b[36m(ClientAppActor pid=50141)\u001b[0m Test Loss: 3.6211, Test Accuracy: 12.50%\u001b[32m [repeated 34x across cluster]\u001b[0m\n"
     ]
    },
    {
     "name": "stderr",
     "output_type": "stream",
     "text": [
      "  0%|          | 0/1 [00:00<?, ?it/s]\u001b[32m [repeated 28x across cluster]\u001b[0m\n"
     ]
    },
    {
     "name": "stdout",
     "output_type": "stream",
     "text": [
      "\u001b[36m(ClientAppActor pid=50134)\u001b[0m \n"
     ]
    },
    {
     "name": "stderr",
     "output_type": "stream",
     "text": [
      "\u001b[36m(ClientAppActor pid=50137)\u001b[0m         \u001b[32m [repeated 82x across cluster]\u001b[0m\n",
      "\u001b[36m(ClientAppActor pid=50137)\u001b[0m \u001b[93mWARNING \u001b[0m:   DEPRECATED FEATURE: `client_fn` now expects a signature `def client_fn(context: Context)`.The provided `client_fn` has signature: {'cid': <Parameter \"cid: str\">}. You can import the `Context` like this: `from flwr.common import Context`\u001b[32m [repeated 27x across cluster]\u001b[0m\n",
      "\u001b[36m(ClientAppActor pid=50137)\u001b[0m             This is a deprecated feature. It will be removed\u001b[32m [repeated 27x across cluster]\u001b[0m\n",
      "\u001b[36m(ClientAppActor pid=50137)\u001b[0m             entirely in future versions of Flower.\u001b[32m [repeated 27x across cluster]\u001b[0m\n"
     ]
    },
    {
     "name": "stdout",
     "output_type": "stream",
     "text": [
      "\u001b[36m(ClientAppActor pid=50134)\u001b[0m Test Loss: 2.8217, Test Accuracy: 25.00%\u001b[32m [repeated 28x across cluster]\u001b[0m\n"
     ]
    },
    {
     "name": "stderr",
     "output_type": "stream",
     "text": [
      "  0%|          | 0/1 [00:00<?, ?it/s]\u001b[32m [repeated 26x across cluster]\u001b[0m\n",
      "100%|██████████| 1/1 [00:01<00:00,  1.03s/it]\u001b[32m [repeated 76x across cluster]\u001b[0m\n",
      "\u001b[36m(ClientAppActor pid=50135)\u001b[0m \u001b[93mWARNING \u001b[0m:   DEPRECATED FEATURE: `client_fn` now expects a signature `def client_fn(context: Context)`.The provided `client_fn` has signature: {'cid': <Parameter \"cid: str\">}. You can import the `Context` like this: `from flwr.common import Context`\u001b[32m [repeated 25x across cluster]\u001b[0m\n",
      "\u001b[36m(ClientAppActor pid=50135)\u001b[0m             This is a deprecated feature. It will be removed\u001b[32m [repeated 25x across cluster]\u001b[0m\n",
      "\u001b[36m(ClientAppActor pid=50135)\u001b[0m             entirely in future versions of Flower.\u001b[32m [repeated 25x across cluster]\u001b[0m\n"
     ]
    },
    {
     "name": "stdout",
     "output_type": "stream",
     "text": [
      "\u001b[36m(ClientAppActor pid=50134)\u001b[0m Test Loss: 2.5011, Test Accuracy: 37.50%\u001b[32m [repeated 26x across cluster]\u001b[0m\n"
     ]
    },
    {
     "name": "stderr",
     "output_type": "stream",
     "text": [
      "  0%|          | 0/1 [00:00<?, ?it/s]\u001b[32m [repeated 26x across cluster]\u001b[0m\n",
      "100%|██████████| 1/1 [00:01<00:00,  1.09s/it]\u001b[32m [repeated 70x across cluster]\u001b[0m\n",
      "\u001b[36m(ClientAppActor pid=50136)\u001b[0m \u001b[93mWARNING \u001b[0m:   DEPRECATED FEATURE: `client_fn` now expects a signature `def client_fn(context: Context)`.The provided `client_fn` has signature: {'cid': <Parameter \"cid: str\">}. You can import the `Context` like this: `from flwr.common import Context`\u001b[32m [repeated 24x across cluster]\u001b[0m\n",
      "\u001b[36m(ClientAppActor pid=50136)\u001b[0m             This is a deprecated feature. It will be removed\u001b[32m [repeated 24x across cluster]\u001b[0m\n",
      "\u001b[36m(ClientAppActor pid=50136)\u001b[0m             entirely in future versions of Flower.\u001b[32m [repeated 24x across cluster]\u001b[0m\n"
     ]
    },
    {
     "name": "stdout",
     "output_type": "stream",
     "text": [
      "\u001b[36m(ClientAppActor pid=50139)\u001b[0m Test Loss: 1.5653, Test Accuracy: 62.50%\u001b[32m [repeated 26x across cluster]\u001b[0m\n"
     ]
    },
    {
     "name": "stderr",
     "output_type": "stream",
     "text": [
      "\u001b[92mINFO \u001b[0m:      aggregate_fit: received 100 results and 0 failures\n",
      "\u001b[92mINFO \u001b[0m:      fit progress: (16, 2.6729852592243866, {'accuracy': 0.3614457831325301}, 553.6674197499997)\n",
      "\u001b[92mINFO \u001b[0m:      configure_evaluate: strategy sampled 20 clients (out of 100)\n"
     ]
    },
    {
     "name": "stdout",
     "output_type": "stream",
     "text": [
      "Test Loss: 2.6730, Test Accuracy: 36.14%\n"
     ]
    },
    {
     "name": "stderr",
     "output_type": "stream",
     "text": [
      "  0%|          | 0/1 [00:00<?, ?it/s]\u001b[32m [repeated 19x across cluster]\u001b[0m\n",
      "\u001b[36m(ClientAppActor pid=50134)\u001b[0m         \u001b[32m [repeated 18x across cluster]\u001b[0m\n",
      "\u001b[36m(ClientAppActor pid=50134)\u001b[0m \u001b[93mWARNING \u001b[0m:   DEPRECATED FEATURE: `client_fn` now expects a signature `def client_fn(context: Context)`.The provided `client_fn` has signature: {'cid': <Parameter \"cid: str\">}. You can import the `Context` like this: `from flwr.common import Context`\u001b[32m [repeated 4x across cluster]\u001b[0m\n",
      "\u001b[36m(ClientAppActor pid=50134)\u001b[0m             This is a deprecated feature. It will be removed\u001b[32m [repeated 4x across cluster]\u001b[0m\n",
      "\u001b[36m(ClientAppActor pid=50134)\u001b[0m             entirely in future versions of Flower.\u001b[32m [repeated 4x across cluster]\u001b[0m\n"
     ]
    },
    {
     "name": "stdout",
     "output_type": "stream",
     "text": [
      "\u001b[36m(ClientAppActor pid=50134)\u001b[0m Test Loss: 2.8356, Test Accuracy: 25.00%\u001b[32m [repeated 6x across cluster]\u001b[0m\n"
     ]
    },
    {
     "name": "stderr",
     "output_type": "stream",
     "text": [
      "\u001b[92mINFO \u001b[0m:      aggregate_evaluate: received 20 results and 0 failures\n",
      "\u001b[92mINFO \u001b[0m:      \n",
      "\u001b[92mINFO \u001b[0m:      [ROUND 17]\n",
      "\u001b[92mINFO \u001b[0m:      configure_fit: strategy sampled 100 clients (out of 100)\n",
      "  0%|          | 0/1 [00:00<?, ?it/s]\u001b[32m [repeated 17x across cluster]\u001b[0m\n",
      "\u001b[36m(ClientAppActor pid=50139)\u001b[0m         \u001b[32m [repeated 88x across cluster]\u001b[0m\n",
      "\u001b[36m(ClientAppActor pid=50139)\u001b[0m \u001b[93mWARNING \u001b[0m:   DEPRECATED FEATURE: `client_fn` now expects a signature `def client_fn(context: Context)`.The provided `client_fn` has signature: {'cid': <Parameter \"cid: str\">}. You can import the `Context` like this: `from flwr.common import Context`\u001b[32m [repeated 39x across cluster]\u001b[0m\n",
      "\u001b[36m(ClientAppActor pid=50139)\u001b[0m             This is a deprecated feature. It will be removed\u001b[32m [repeated 39x across cluster]\u001b[0m\n",
      "\u001b[36m(ClientAppActor pid=50139)\u001b[0m             entirely in future versions of Flower.\u001b[32m [repeated 39x across cluster]\u001b[0m\n"
     ]
    },
    {
     "name": "stdout",
     "output_type": "stream",
     "text": [
      "\u001b[36m(ClientAppActor pid=50135)\u001b[0m Test Loss: 2.2193, Test Accuracy: 50.00%\u001b[32m [repeated 31x across cluster]\u001b[0m\n"
     ]
    },
    {
     "name": "stderr",
     "output_type": "stream",
     "text": [
      "  0%|          | 0/1 [00:00<?, ?it/s]\u001b[32m [repeated 21x across cluster]\u001b[0m\n",
      "\u001b[36m(ClientAppActor pid=50143)\u001b[0m         \u001b[32m [repeated 64x across cluster]\u001b[0m\n",
      "\u001b[36m(ClientAppActor pid=50143)\u001b[0m \u001b[93mWARNING \u001b[0m:   DEPRECATED FEATURE: `client_fn` now expects a signature `def client_fn(context: Context)`.The provided `client_fn` has signature: {'cid': <Parameter \"cid: str\">}. You can import the `Context` like this: `from flwr.common import Context`\u001b[32m [repeated 20x across cluster]\u001b[0m\n",
      "\u001b[36m(ClientAppActor pid=50143)\u001b[0m             This is a deprecated feature. It will be removed\u001b[32m [repeated 20x across cluster]\u001b[0m\n",
      "\u001b[36m(ClientAppActor pid=50143)\u001b[0m             entirely in future versions of Flower.\u001b[32m [repeated 20x across cluster]\u001b[0m\n"
     ]
    },
    {
     "name": "stdout",
     "output_type": "stream",
     "text": [
      "\u001b[36m(ClientAppActor pid=50139)\u001b[0m Test Loss: 3.7376, Test Accuracy: 12.50%\u001b[32m [repeated 25x across cluster]\u001b[0m\n"
     ]
    },
    {
     "name": "stderr",
     "output_type": "stream",
     "text": [
      "  0%|          | 0/1 [00:00<?, ?it/s]\u001b[32m [repeated 27x across cluster]\u001b[0m\n",
      "100%|██████████| 1/1 [00:01<00:00,  1.16s/it]\u001b[32m [repeated 84x across cluster]\u001b[0m\n",
      "\u001b[36m(ClientAppActor pid=50136)\u001b[0m \u001b[93mWARNING \u001b[0m:   DEPRECATED FEATURE: `client_fn` now expects a signature `def client_fn(context: Context)`.The provided `client_fn` has signature: {'cid': <Parameter \"cid: str\">}. You can import the `Context` like this: `from flwr.common import Context`\u001b[32m [repeated 28x across cluster]\u001b[0m\n",
      "\u001b[36m(ClientAppActor pid=50136)\u001b[0m             This is a deprecated feature. It will be removed\u001b[32m [repeated 28x across cluster]\u001b[0m\n",
      "\u001b[36m(ClientAppActor pid=50136)\u001b[0m             entirely in future versions of Flower.\u001b[32m [repeated 28x across cluster]\u001b[0m\n"
     ]
    },
    {
     "name": "stdout",
     "output_type": "stream",
     "text": [
      "\u001b[36m(ClientAppActor pid=50137)\u001b[0m Test Loss: 3.1649, Test Accuracy: 37.50%\u001b[32m [repeated 25x across cluster]\u001b[0m\n"
     ]
    },
    {
     "name": "stderr",
     "output_type": "stream",
     "text": [
      "  0%|          | 0/1 [00:00<?, ?it/s]\u001b[32m [repeated 26x across cluster]\u001b[0m\n",
      "100%|██████████| 1/1 [00:00<00:00,  1.06it/s]\u001b[32m [repeated 75x across cluster]\u001b[0m\n",
      "\u001b[36m(ClientAppActor pid=50136)\u001b[0m \u001b[93mWARNING \u001b[0m:   DEPRECATED FEATURE: `client_fn` now expects a signature `def client_fn(context: Context)`.The provided `client_fn` has signature: {'cid': <Parameter \"cid: str\">}. You can import the `Context` like this: `from flwr.common import Context`\u001b[32m [repeated 24x across cluster]\u001b[0m\n",
      "\u001b[36m(ClientAppActor pid=50136)\u001b[0m             This is a deprecated feature. It will be removed\u001b[32m [repeated 24x across cluster]\u001b[0m\n",
      "\u001b[36m(ClientAppActor pid=50136)\u001b[0m             entirely in future versions of Flower.\u001b[32m [repeated 24x across cluster]\u001b[0m\n"
     ]
    },
    {
     "name": "stdout",
     "output_type": "stream",
     "text": [
      "\u001b[36m(ClientAppActor pid=50136)\u001b[0m Test Loss: 3.2269, Test Accuracy: 25.00%\u001b[32m [repeated 30x across cluster]\u001b[0m\n"
     ]
    },
    {
     "name": "stderr",
     "output_type": "stream",
     "text": [
      "\u001b[92mINFO \u001b[0m:      aggregate_fit: received 100 results and 0 failures\n",
      "\u001b[92mINFO \u001b[0m:      fit progress: (17, 2.656201054068173, {'accuracy': 0.3614457831325301}, 585.7615767910002)\n",
      "\u001b[92mINFO \u001b[0m:      configure_evaluate: strategy sampled 20 clients (out of 100)\n"
     ]
    },
    {
     "name": "stdout",
     "output_type": "stream",
     "text": [
      "Test Loss: 2.6562, Test Accuracy: 36.14%\n"
     ]
    },
    {
     "name": "stderr",
     "output_type": "stream",
     "text": [
      "  0%|          | 0/1 [00:00<?, ?it/s]\u001b[32m [repeated 9x across cluster]\u001b[0m\n",
      "\u001b[36m(ClientAppActor pid=50142)\u001b[0m         \u001b[32m [repeated 31x across cluster]\u001b[0m\n",
      "\u001b[36m(ClientAppActor pid=50142)\u001b[0m \u001b[93mWARNING \u001b[0m:   DEPRECATED FEATURE: `client_fn` now expects a signature `def client_fn(context: Context)`.The provided `client_fn` has signature: {'cid': <Parameter \"cid: str\">}. You can import the `Context` like this: `from flwr.common import Context`\u001b[32m [repeated 9x across cluster]\u001b[0m\n",
      "\u001b[36m(ClientAppActor pid=50142)\u001b[0m             This is a deprecated feature. It will be removed\u001b[32m [repeated 9x across cluster]\u001b[0m\n",
      "\u001b[36m(ClientAppActor pid=50142)\u001b[0m             entirely in future versions of Flower.\u001b[32m [repeated 9x across cluster]\u001b[0m\n"
     ]
    },
    {
     "name": "stdout",
     "output_type": "stream",
     "text": [
      "\u001b[36m(ClientAppActor pid=50142)\u001b[0m Test Loss: 3.4257, Test Accuracy: 12.50%\u001b[32m [repeated 9x across cluster]\u001b[0m\n"
     ]
    },
    {
     "name": "stderr",
     "output_type": "stream",
     "text": [
      "\u001b[92mINFO \u001b[0m:      aggregate_evaluate: received 20 results and 0 failures\n",
      "\u001b[92mINFO \u001b[0m:      \n",
      "\u001b[92mINFO \u001b[0m:      [ROUND 18]\n",
      "\u001b[92mINFO \u001b[0m:      configure_fit: strategy sampled 100 clients (out of 100)\n"
     ]
    },
    {
     "name": "stdout",
     "output_type": "stream",
     "text": [
      "\u001b[36m(ClientAppActor pid=50137)\u001b[0m Test Loss: 3.1773, Test Accuracy: 25.00%\u001b[32m [repeated 31x across cluster]\u001b[0m\n"
     ]
    },
    {
     "name": "stderr",
     "output_type": "stream",
     "text": [
      "  0%|          | 0/1 [00:00<?, ?it/s]\u001b[32m [repeated 19x across cluster]\u001b[0m\n",
      "100%|██████████| 1/1 [00:01<00:00,  1.15s/it]\u001b[32m [repeated 90x across cluster]\u001b[0m\n",
      "\u001b[36m(ClientAppActor pid=50136)\u001b[0m \u001b[93mWARNING \u001b[0m:   DEPRECATED FEATURE: `client_fn` now expects a signature `def client_fn(context: Context)`.The provided `client_fn` has signature: {'cid': <Parameter \"cid: str\">}. You can import the `Context` like this: `from flwr.common import Context`\u001b[32m [repeated 39x across cluster]\u001b[0m\n",
      "\u001b[36m(ClientAppActor pid=50136)\u001b[0m             This is a deprecated feature. It will be removed\u001b[32m [repeated 39x across cluster]\u001b[0m\n",
      "\u001b[36m(ClientAppActor pid=50136)\u001b[0m             entirely in future versions of Flower.\u001b[32m [repeated 39x across cluster]\u001b[0m\n"
     ]
    },
    {
     "name": "stdout",
     "output_type": "stream",
     "text": [
      "\u001b[36m(ClientAppActor pid=50134)\u001b[0m \n"
     ]
    },
    {
     "name": "stderr",
     "output_type": "stream",
     "text": [
      "  0%|          | 0/1 [00:00<?, ?it/s]\u001b[32m [repeated 27x across cluster]\u001b[0m\n",
      "100%|██████████| 1/1 [00:01<00:00,  1.23s/it]\u001b[32m [repeated 80x across cluster]\u001b[0m\n",
      "\u001b[36m(ClientAppActor pid=50143)\u001b[0m \u001b[93mWARNING \u001b[0m:   DEPRECATED FEATURE: `client_fn` now expects a signature `def client_fn(context: Context)`.The provided `client_fn` has signature: {'cid': <Parameter \"cid: str\">}. You can import the `Context` like this: `from flwr.common import Context`\u001b[32m [repeated 26x across cluster]\u001b[0m\n",
      "\u001b[36m(ClientAppActor pid=50143)\u001b[0m             This is a deprecated feature. It will be removed\u001b[32m [repeated 26x across cluster]\u001b[0m\n",
      "\u001b[36m(ClientAppActor pid=50143)\u001b[0m             entirely in future versions of Flower.\u001b[32m [repeated 26x across cluster]\u001b[0m\n"
     ]
    },
    {
     "name": "stdout",
     "output_type": "stream",
     "text": [
      "\u001b[36m(ClientAppActor pid=50141)\u001b[0m Test Loss: 2.9534, Test Accuracy: 37.50%\u001b[32m [repeated 28x across cluster]\u001b[0m\n"
     ]
    },
    {
     "name": "stderr",
     "output_type": "stream",
     "text": [
      "  0%|          | 0/1 [00:00<?, ?it/s]\u001b[32m [repeated 21x across cluster]\u001b[0m\n",
      "100%|██████████| 1/1 [00:01<00:00,  1.16s/it]\u001b[32m [repeated 66x across cluster]\u001b[0m\n",
      "\u001b[36m(ClientAppActor pid=50141)\u001b[0m \u001b[93mWARNING \u001b[0m:   DEPRECATED FEATURE: `client_fn` now expects a signature `def client_fn(context: Context)`.The provided `client_fn` has signature: {'cid': <Parameter \"cid: str\">}. You can import the `Context` like this: `from flwr.common import Context`\u001b[32m [repeated 21x across cluster]\u001b[0m\n",
      "\u001b[36m(ClientAppActor pid=50141)\u001b[0m             This is a deprecated feature. It will be removed\u001b[32m [repeated 21x across cluster]\u001b[0m\n",
      "\u001b[36m(ClientAppActor pid=50141)\u001b[0m             entirely in future versions of Flower.\u001b[32m [repeated 21x across cluster]\u001b[0m\n"
     ]
    },
    {
     "name": "stdout",
     "output_type": "stream",
     "text": [
      "\u001b[36m(ClientAppActor pid=50135)\u001b[0m Test Loss: 2.4954, Test Accuracy: 50.00%\u001b[32m [repeated 25x across cluster]\u001b[0m\n"
     ]
    },
    {
     "name": "stderr",
     "output_type": "stream",
     "text": [
      "  0%|          | 0/1 [00:00<?, ?it/s]\u001b[32m [repeated 15x across cluster]\u001b[0m\n",
      "100%|██████████| 1/1 [00:02<00:00,  2.54s/it]\u001b[32m [repeated 45x across cluster]\u001b[0m\n",
      "\u001b[36m(ClientAppActor pid=50138)\u001b[0m \u001b[93mWARNING \u001b[0m:   DEPRECATED FEATURE: `client_fn` now expects a signature `def client_fn(context: Context)`.The provided `client_fn` has signature: {'cid': <Parameter \"cid: str\">}. You can import the `Context` like this: `from flwr.common import Context`\u001b[32m [repeated 15x across cluster]\u001b[0m\n",
      "\u001b[36m(ClientAppActor pid=50138)\u001b[0m             This is a deprecated feature. It will be removed\u001b[32m [repeated 15x across cluster]\u001b[0m\n",
      "\u001b[36m(ClientAppActor pid=50138)\u001b[0m             entirely in future versions of Flower.\u001b[32m [repeated 15x across cluster]\u001b[0m\n"
     ]
    },
    {
     "name": "stdout",
     "output_type": "stream",
     "text": [
      "\u001b[36m(ClientAppActor pid=50143)\u001b[0m Test Loss: 2.4352, Test Accuracy: 12.50%\u001b[32m [repeated 13x across cluster]\u001b[0m\n"
     ]
    },
    {
     "name": "stderr",
     "output_type": "stream",
     "text": [
      "  0%|          | 0/1 [00:00<?, ?it/s]\u001b[32m [repeated 18x across cluster]\u001b[0m\n",
      "100%|██████████| 1/1 [00:01<00:00,  1.52s/it]\u001b[32m [repeated 53x across cluster]\u001b[0m\n",
      "\u001b[36m(ClientAppActor pid=50138)\u001b[0m \u001b[93mWARNING \u001b[0m:   DEPRECATED FEATURE: `client_fn` now expects a signature `def client_fn(context: Context)`.The provided `client_fn` has signature: {'cid': <Parameter \"cid: str\">}. You can import the `Context` like this: `from flwr.common import Context`\u001b[32m [repeated 18x across cluster]\u001b[0m\n",
      "\u001b[36m(ClientAppActor pid=50138)\u001b[0m             This is a deprecated feature. It will be removed\u001b[32m [repeated 18x across cluster]\u001b[0m\n",
      "\u001b[36m(ClientAppActor pid=50138)\u001b[0m             entirely in future versions of Flower.\u001b[32m [repeated 18x across cluster]\u001b[0m\n"
     ]
    },
    {
     "name": "stdout",
     "output_type": "stream",
     "text": [
      "\u001b[36m(ClientAppActor pid=50134)\u001b[0m Test Loss: 2.9494, Test Accuracy: 37.50%\u001b[32m [repeated 18x across cluster]\u001b[0m\n",
      "\u001b[36m(ClientAppActor pid=50143)\u001b[0m \n"
     ]
    },
    {
     "name": "stderr",
     "output_type": "stream",
     "text": [
      "\u001b[92mINFO \u001b[0m:      aggregate_fit: received 100 results and 0 failures\n",
      "\u001b[92mINFO \u001b[0m:      fit progress: (18, 2.639757549061495, {'accuracy': 0.3614457831325301}, 624.8663351659998)\n",
      "\u001b[92mINFO \u001b[0m:      configure_evaluate: strategy sampled 20 clients (out of 100)\n"
     ]
    },
    {
     "name": "stdout",
     "output_type": "stream",
     "text": [
      "Test Loss: 2.6398, Test Accuracy: 36.14%\n"
     ]
    },
    {
     "name": "stderr",
     "output_type": "stream",
     "text": [
      "\u001b[36m(ClientAppActor pid=50139)\u001b[0m         \u001b[32m [repeated 7x across cluster]\u001b[0m\n",
      "\u001b[36m(ClientAppActor pid=50139)\u001b[0m \u001b[93mWARNING \u001b[0m:   DEPRECATED FEATURE: `client_fn` now expects a signature `def client_fn(context: Context)`.The provided `client_fn` has signature: {'cid': <Parameter \"cid: str\">}. You can import the `Context` like this: `from flwr.common import Context`\n",
      "\u001b[36m(ClientAppActor pid=50139)\u001b[0m             This is a deprecated feature. It will be removed\n",
      "\u001b[36m(ClientAppActor pid=50139)\u001b[0m             entirely in future versions of Flower.\n",
      "\u001b[36m(ClientAppActor pid=50143)\u001b[0m \u001b[93mWARNING \u001b[0m:   DEPRECATED FEATURE: `client_fn` now expects a signature `def client_fn(context: Context)`.The provided `client_fn` has signature: {'cid': <Parameter \"cid: str\">}. You can import the `Context` like this: `from flwr.common import Context`\n",
      "\u001b[36m(ClientAppActor pid=50143)\u001b[0m             This is a deprecated feature. It will be removed\n",
      "\u001b[36m(ClientAppActor pid=50143)\u001b[0m             entirely in future versions of Flower.\n"
     ]
    },
    {
     "name": "stdout",
     "output_type": "stream",
     "text": [
      "\u001b[36m(ClientAppActor pid=50143)\u001b[0m Test Loss: 3.0569, Test Accuracy: 12.50%\u001b[32m [repeated 5x across cluster]\u001b[0m\n",
      "\u001b[36m(ClientAppActor pid=50135)\u001b[0m \n"
     ]
    },
    {
     "name": "stderr",
     "output_type": "stream",
     "text": [
      "\u001b[92mINFO \u001b[0m:      aggregate_evaluate: received 20 results and 0 failures\n",
      "\u001b[92mINFO \u001b[0m:      \n",
      "\u001b[92mINFO \u001b[0m:      [ROUND 19]\n",
      "\u001b[92mINFO \u001b[0m:      configure_fit: strategy sampled 100 clients (out of 100)\n",
      "  0%|          | 0/1 [00:00<?, ?it/s]\n",
      "\u001b[36m(ClientAppActor pid=50143)\u001b[0m         \u001b[32m [repeated 80x across cluster]\u001b[0m\n",
      "\u001b[36m(ClientAppActor pid=50143)\u001b[0m \u001b[93mWARNING \u001b[0m:   DEPRECATED FEATURE: `client_fn` now expects a signature `def client_fn(context: Context)`.The provided `client_fn` has signature: {'cid': <Parameter \"cid: str\">}. You can import the `Context` like this: `from flwr.common import Context`\u001b[32m [repeated 34x across cluster]\u001b[0m\n",
      "\u001b[36m(ClientAppActor pid=50143)\u001b[0m             This is a deprecated feature. It will be removed\u001b[32m [repeated 34x across cluster]\u001b[0m\n",
      "\u001b[36m(ClientAppActor pid=50143)\u001b[0m             entirely in future versions of Flower.\u001b[32m [repeated 34x across cluster]\u001b[0m\n"
     ]
    },
    {
     "name": "stdout",
     "output_type": "stream",
     "text": [
      "\u001b[36m(ClientAppActor pid=50134)\u001b[0m Test Loss: 2.7598, Test Accuracy: 37.50%\u001b[32m [repeated 30x across cluster]\u001b[0m\n"
     ]
    },
    {
     "name": "stderr",
     "output_type": "stream",
     "text": [
      "  0%|          | 0/1 [00:00<?, ?it/s]\u001b[32m [repeated 27x across cluster]\u001b[0m\n",
      "\u001b[36m(ClientAppActor pid=50138)\u001b[0m         \u001b[32m [repeated 78x across cluster]\u001b[0m\n",
      "\u001b[36m(ClientAppActor pid=50138)\u001b[0m \u001b[93mWARNING \u001b[0m:   DEPRECATED FEATURE: `client_fn` now expects a signature `def client_fn(context: Context)`.The provided `client_fn` has signature: {'cid': <Parameter \"cid: str\">}. You can import the `Context` like this: `from flwr.common import Context`\u001b[32m [repeated 26x across cluster]\u001b[0m\n",
      "\u001b[36m(ClientAppActor pid=50138)\u001b[0m             This is a deprecated feature. It will be removed\u001b[32m [repeated 26x across cluster]\u001b[0m\n",
      "\u001b[36m(ClientAppActor pid=50138)\u001b[0m             entirely in future versions of Flower.\u001b[32m [repeated 26x across cluster]\u001b[0m\n"
     ]
    },
    {
     "name": "stdout",
     "output_type": "stream",
     "text": [
      "\u001b[36m(ClientAppActor pid=50136)\u001b[0m Test Loss: 2.0199, Test Accuracy: 62.50%\u001b[32m [repeated 26x across cluster]\u001b[0m\n"
     ]
    },
    {
     "name": "stderr",
     "output_type": "stream",
     "text": [
      "  0%|          | 0/1 [00:00<?, ?it/s]\u001b[32m [repeated 24x across cluster]\u001b[0m\n",
      "\u001b[36m(ClientAppActor pid=50142)\u001b[0m         \u001b[32m [repeated 66x across cluster]\u001b[0m\n",
      "\u001b[36m(ClientAppActor pid=50142)\u001b[0m \u001b[93mWARNING \u001b[0m:   DEPRECATED FEATURE: `client_fn` now expects a signature `def client_fn(context: Context)`.The provided `client_fn` has signature: {'cid': <Parameter \"cid: str\">}. You can import the `Context` like this: `from flwr.common import Context`\u001b[32m [repeated 21x across cluster]\u001b[0m\n",
      "\u001b[36m(ClientAppActor pid=50142)\u001b[0m             This is a deprecated feature. It will be removed\u001b[32m [repeated 21x across cluster]\u001b[0m\n",
      "\u001b[36m(ClientAppActor pid=50142)\u001b[0m             entirely in future versions of Flower.\u001b[32m [repeated 21x across cluster]\u001b[0m\n"
     ]
    },
    {
     "name": "stdout",
     "output_type": "stream",
     "text": [
      "\u001b[36m(ClientAppActor pid=50143)\u001b[0m Test Loss: 1.7104, Test Accuracy: 50.00%\u001b[32m [repeated 25x across cluster]\u001b[0m\n"
     ]
    },
    {
     "name": "stderr",
     "output_type": "stream",
     "text": [
      "  0%|          | 0/1 [00:00<?, ?it/s]\u001b[32m [repeated 24x across cluster]\u001b[0m\n"
     ]
    },
    {
     "name": "stdout",
     "output_type": "stream",
     "text": [
      "\u001b[36m(ClientAppActor pid=50138)\u001b[0m \n"
     ]
    },
    {
     "name": "stderr",
     "output_type": "stream",
     "text": [
      "\u001b[36m(ClientAppActor pid=50136)\u001b[0m         \u001b[32m [repeated 71x across cluster]\u001b[0m\n",
      "\u001b[36m(ClientAppActor pid=50136)\u001b[0m \u001b[93mWARNING \u001b[0m:   DEPRECATED FEATURE: `client_fn` now expects a signature `def client_fn(context: Context)`.The provided `client_fn` has signature: {'cid': <Parameter \"cid: str\">}. You can import the `Context` like this: `from flwr.common import Context`\u001b[32m [repeated 24x across cluster]\u001b[0m\n",
      "\u001b[36m(ClientAppActor pid=50136)\u001b[0m             This is a deprecated feature. It will be removed\u001b[32m [repeated 24x across cluster]\u001b[0m\n",
      "\u001b[36m(ClientAppActor pid=50136)\u001b[0m             entirely in future versions of Flower.\u001b[32m [repeated 24x across cluster]\u001b[0m\n"
     ]
    },
    {
     "name": "stdout",
     "output_type": "stream",
     "text": [
      "\u001b[36m(ClientAppActor pid=50142)\u001b[0m Test Loss: 3.1677, Test Accuracy: 37.50%\u001b[32m [repeated 21x across cluster]\u001b[0m\n"
     ]
    },
    {
     "name": "stderr",
     "output_type": "stream",
     "text": [
      "  0%|          | 0/1 [00:00<?, ?it/s]\u001b[32m [repeated 18x across cluster]\u001b[0m\n",
      "\u001b[92mINFO \u001b[0m:      aggregate_fit: received 100 results and 0 failures\n",
      "\u001b[92mINFO \u001b[0m:      fit progress: (19, 2.623872069751515, {'accuracy': 0.3614457831325301}, 660.1351063749999)\n",
      "\u001b[92mINFO \u001b[0m:      configure_evaluate: strategy sampled 20 clients (out of 100)\n"
     ]
    },
    {
     "name": "stdout",
     "output_type": "stream",
     "text": [
      "Test Loss: 2.6239, Test Accuracy: 36.14%\n"
     ]
    },
    {
     "name": "stderr",
     "output_type": "stream",
     "text": [
      "\u001b[36m(ClientAppActor pid=50143)\u001b[0m         \u001b[32m [repeated 47x across cluster]\u001b[0m\n",
      "\u001b[36m(ClientAppActor pid=50143)\u001b[0m \u001b[93mWARNING \u001b[0m:   DEPRECATED FEATURE: `client_fn` now expects a signature `def client_fn(context: Context)`.The provided `client_fn` has signature: {'cid': <Parameter \"cid: str\">}. You can import the `Context` like this: `from flwr.common import Context`\u001b[32m [repeated 14x across cluster]\u001b[0m\n",
      "\u001b[36m(ClientAppActor pid=50143)\u001b[0m             This is a deprecated feature. It will be removed\u001b[32m [repeated 14x across cluster]\u001b[0m\n",
      "\u001b[36m(ClientAppActor pid=50143)\u001b[0m             entirely in future versions of Flower.\u001b[32m [repeated 14x across cluster]\u001b[0m\n",
      "  0%|          | 0/1 [00:00<?, ?it/s]\u001b[32m [repeated 6x across cluster]\u001b[0m\n"
     ]
    },
    {
     "name": "stdout",
     "output_type": "stream",
     "text": [
      "\u001b[36m(ClientAppActor pid=50138)\u001b[0m Test Loss: 1.6728, Test Accuracy: 50.00%\u001b[32m [repeated 18x across cluster]\u001b[0m\n"
     ]
    },
    {
     "name": "stderr",
     "output_type": "stream",
     "text": [
      "\u001b[92mINFO \u001b[0m:      aggregate_evaluate: received 20 results and 0 failures\n",
      "\u001b[92mINFO \u001b[0m:      \n",
      "\u001b[92mINFO \u001b[0m:      [ROUND 20]\n",
      "\u001b[92mINFO \u001b[0m:      configure_fit: strategy sampled 100 clients (out of 100)\n",
      "\u001b[36m(ClientAppActor pid=50141)\u001b[0m         \u001b[32m [repeated 69x across cluster]\u001b[0m\n",
      "\u001b[36m(ClientAppActor pid=50141)\u001b[0m \u001b[93mWARNING \u001b[0m:   DEPRECATED FEATURE: `client_fn` now expects a signature `def client_fn(context: Context)`.The provided `client_fn` has signature: {'cid': <Parameter \"cid: str\">}. You can import the `Context` like this: `from flwr.common import Context`\u001b[32m [repeated 31x across cluster]\u001b[0m\n",
      "\u001b[36m(ClientAppActor pid=50141)\u001b[0m             This is a deprecated feature. It will be removed\u001b[32m [repeated 31x across cluster]\u001b[0m\n",
      "\u001b[36m(ClientAppActor pid=50141)\u001b[0m             entirely in future versions of Flower.\u001b[32m [repeated 31x across cluster]\u001b[0m\n",
      "  0%|          | 0/1 [00:00<?, ?it/s]\u001b[32m [repeated 10x across cluster]\u001b[0m\n"
     ]
    },
    {
     "name": "stdout",
     "output_type": "stream",
     "text": [
      "\u001b[36m(ClientAppActor pid=50140)\u001b[0m Test Loss: 3.1499, Test Accuracy: 37.50%\u001b[32m [repeated 27x across cluster]\u001b[0m\n"
     ]
    },
    {
     "name": "stderr",
     "output_type": "stream",
     "text": [
      "\u001b[36m(ClientAppActor pid=50136)\u001b[0m         \u001b[32m [repeated 64x across cluster]\u001b[0m\n",
      "\u001b[36m(ClientAppActor pid=50136)\u001b[0m \u001b[93mWARNING \u001b[0m:   DEPRECATED FEATURE: `client_fn` now expects a signature `def client_fn(context: Context)`.The provided `client_fn` has signature: {'cid': <Parameter \"cid: str\">}. You can import the `Context` like this: `from flwr.common import Context`\u001b[32m [repeated 22x across cluster]\u001b[0m\n",
      "\u001b[36m(ClientAppActor pid=50136)\u001b[0m             This is a deprecated feature. It will be removed\u001b[32m [repeated 22x across cluster]\u001b[0m\n",
      "\u001b[36m(ClientAppActor pid=50136)\u001b[0m             entirely in future versions of Flower.\u001b[32m [repeated 22x across cluster]\u001b[0m\n",
      "  0%|          | 0/1 [00:00<?, ?it/s]\u001b[32m [repeated 21x across cluster]\u001b[0m\n"
     ]
    },
    {
     "name": "stdout",
     "output_type": "stream",
     "text": [
      "\u001b[36m(ClientAppActor pid=50134)\u001b[0m Test Loss: 3.4220, Test Accuracy: 12.50%\u001b[32m [repeated 19x across cluster]\u001b[0m\n"
     ]
    },
    {
     "name": "stderr",
     "output_type": "stream",
     "text": [
      "\u001b[36m(ClientAppActor pid=50135)\u001b[0m         \u001b[32m [repeated 76x across cluster]\u001b[0m\n",
      "\u001b[36m(ClientAppActor pid=50135)\u001b[0m \u001b[93mWARNING \u001b[0m:   DEPRECATED FEATURE: `client_fn` now expects a signature `def client_fn(context: Context)`.The provided `client_fn` has signature: {'cid': <Parameter \"cid: str\">}. You can import the `Context` like this: `from flwr.common import Context`\u001b[32m [repeated 25x across cluster]\u001b[0m\n",
      "\u001b[36m(ClientAppActor pid=50135)\u001b[0m             This is a deprecated feature. It will be removed\u001b[32m [repeated 25x across cluster]\u001b[0m\n",
      "\u001b[36m(ClientAppActor pid=50135)\u001b[0m             entirely in future versions of Flower.\u001b[32m [repeated 25x across cluster]\u001b[0m\n",
      "  0%|          | 0/1 [00:00<?, ?it/s]\u001b[32m [repeated 27x across cluster]\u001b[0m\n"
     ]
    },
    {
     "name": "stdout",
     "output_type": "stream",
     "text": [
      "\u001b[36m(ClientAppActor pid=50136)\u001b[0m Test Loss: 2.7462, Test Accuracy: 12.50%\u001b[32m [repeated 28x across cluster]\u001b[0m\n"
     ]
    },
    {
     "name": "stderr",
     "output_type": "stream",
     "text": [
      "100%|██████████| 1/1 [00:01<00:00,  1.12s/it]\u001b[32m [repeated 79x across cluster]\u001b[0m\n",
      "\u001b[36m(ClientAppActor pid=50142)\u001b[0m \u001b[93mWARNING \u001b[0m:   DEPRECATED FEATURE: `client_fn` now expects a signature `def client_fn(context: Context)`.The provided `client_fn` has signature: {'cid': <Parameter \"cid: str\">}. You can import the `Context` like this: `from flwr.common import Context`\u001b[32m [repeated 26x across cluster]\u001b[0m\n",
      "\u001b[36m(ClientAppActor pid=50142)\u001b[0m             This is a deprecated feature. It will be removed\u001b[32m [repeated 26x across cluster]\u001b[0m\n",
      "\u001b[36m(ClientAppActor pid=50142)\u001b[0m             entirely in future versions of Flower.\u001b[32m [repeated 26x across cluster]\u001b[0m\n",
      "  0%|          | 0/1 [00:00<?, ?it/s]\u001b[32m [repeated 26x across cluster]\u001b[0m\n"
     ]
    },
    {
     "name": "stdout",
     "output_type": "stream",
     "text": [
      "\u001b[36m(ClientAppActor pid=50138)\u001b[0m Test Loss: 3.7830, Test Accuracy: 25.00%\u001b[32m [repeated 26x across cluster]\u001b[0m\n",
      "\u001b[36m(ClientAppActor pid=50137)\u001b[0m \n"
     ]
    },
    {
     "name": "stderr",
     "output_type": "stream",
     "text": [
      "\u001b[92mINFO \u001b[0m:      aggregate_fit: received 100 results and 0 failures\n",
      "\u001b[92mINFO \u001b[0m:      fit progress: (20, 2.609039783477783, {'accuracy': 0.3614457831325301}, 691.0125504580001)\n",
      "\u001b[92mINFO \u001b[0m:      configure_evaluate: strategy sampled 20 clients (out of 100)\n"
     ]
    },
    {
     "name": "stdout",
     "output_type": "stream",
     "text": [
      "Test Loss: 2.6090, Test Accuracy: 36.14%\n"
     ]
    },
    {
     "name": "stderr",
     "output_type": "stream",
     "text": [
      "\u001b[36m(ClientAppActor pid=50143)\u001b[0m         \u001b[32m [repeated 55x across cluster]\u001b[0m\n",
      "\u001b[36m(ClientAppActor pid=50143)\u001b[0m \u001b[93mWARNING \u001b[0m:   DEPRECATED FEATURE: `client_fn` now expects a signature `def client_fn(context: Context)`.The provided `client_fn` has signature: {'cid': <Parameter \"cid: str\">}. You can import the `Context` like this: `from flwr.common import Context`\u001b[32m [repeated 16x across cluster]\u001b[0m\n",
      "\u001b[36m(ClientAppActor pid=50143)\u001b[0m             This is a deprecated feature. It will be removed\u001b[32m [repeated 16x across cluster]\u001b[0m\n",
      "\u001b[36m(ClientAppActor pid=50143)\u001b[0m             entirely in future versions of Flower.\u001b[32m [repeated 16x across cluster]\u001b[0m\n",
      "  0%|          | 0/1 [00:00<?, ?it/s]\u001b[32m [repeated 16x across cluster]\u001b[0m\n"
     ]
    },
    {
     "name": "stdout",
     "output_type": "stream",
     "text": [
      "\u001b[36m(ClientAppActor pid=50138)\u001b[0m Test Loss: 2.4888, Test Accuracy: 50.00%\u001b[32m [repeated 20x across cluster]\u001b[0m\n"
     ]
    },
    {
     "name": "stderr",
     "output_type": "stream",
     "text": [
      "\u001b[92mINFO \u001b[0m:      aggregate_evaluate: received 20 results and 0 failures\n",
      "\u001b[92mINFO \u001b[0m:      \n",
      "\u001b[92mINFO \u001b[0m:      [ROUND 21]\n",
      "\u001b[92mINFO \u001b[0m:      configure_fit: strategy sampled 100 clients (out of 100)\n",
      "\u001b[36m(ClientAppActor pid=50134)\u001b[0m         \u001b[32m [repeated 80x across cluster]\u001b[0m\n",
      "\u001b[36m(ClientAppActor pid=50134)\u001b[0m \u001b[93mWARNING \u001b[0m:   DEPRECATED FEATURE: `client_fn` now expects a signature `def client_fn(context: Context)`.The provided `client_fn` has signature: {'cid': <Parameter \"cid: str\">}. You can import the `Context` like this: `from flwr.common import Context`\u001b[32m [repeated 35x across cluster]\u001b[0m\n",
      "\u001b[36m(ClientAppActor pid=50134)\u001b[0m             This is a deprecated feature. It will be removed\u001b[32m [repeated 35x across cluster]\u001b[0m\n",
      "\u001b[36m(ClientAppActor pid=50134)\u001b[0m             entirely in future versions of Flower.\u001b[32m [repeated 35x across cluster]\u001b[0m\n",
      "  0%|          | 0/1 [00:00<?, ?it/s]\u001b[32m [repeated 15x across cluster]\u001b[0m\n"
     ]
    },
    {
     "name": "stdout",
     "output_type": "stream",
     "text": [
      "\u001b[36m(ClientAppActor pid=50137)\u001b[0m Test Loss: 3.1148, Test Accuracy: 25.00%\u001b[32m [repeated 30x across cluster]\u001b[0m\n"
     ]
    },
    {
     "name": "stderr",
     "output_type": "stream",
     "text": [
      "\u001b[36m(ClientAppActor pid=50140)\u001b[0m         \u001b[32m [repeated 78x across cluster]\u001b[0m\n",
      "\u001b[36m(ClientAppActor pid=50140)\u001b[0m \u001b[93mWARNING \u001b[0m:   DEPRECATED FEATURE: `client_fn` now expects a signature `def client_fn(context: Context)`.The provided `client_fn` has signature: {'cid': <Parameter \"cid: str\">}. You can import the `Context` like this: `from flwr.common import Context`\u001b[32m [repeated 27x across cluster]\u001b[0m\n",
      "\u001b[36m(ClientAppActor pid=50140)\u001b[0m             This is a deprecated feature. It will be removed\u001b[32m [repeated 27x across cluster]\u001b[0m\n",
      "\u001b[36m(ClientAppActor pid=50140)\u001b[0m             entirely in future versions of Flower.\u001b[32m [repeated 27x across cluster]\u001b[0m\n",
      "  0%|          | 0/1 [00:00<?, ?it/s]\u001b[32m [repeated 28x across cluster]\u001b[0m\n"
     ]
    },
    {
     "name": "stdout",
     "output_type": "stream",
     "text": [
      "\u001b[36m(ClientAppActor pid=50142)\u001b[0m Test Loss: 1.0997, Test Accuracy: 62.50%\u001b[32m [repeated 27x across cluster]\u001b[0m\n"
     ]
    },
    {
     "name": "stderr",
     "output_type": "stream",
     "text": [
      "\u001b[36m(ClientAppActor pid=50142)\u001b[0m         \u001b[32m [repeated 75x across cluster]\u001b[0m\n",
      "\u001b[36m(ClientAppActor pid=50142)\u001b[0m \u001b[93mWARNING \u001b[0m:   DEPRECATED FEATURE: `client_fn` now expects a signature `def client_fn(context: Context)`.The provided `client_fn` has signature: {'cid': <Parameter \"cid: str\">}. You can import the `Context` like this: `from flwr.common import Context`\u001b[32m [repeated 25x across cluster]\u001b[0m\n",
      "\u001b[36m(ClientAppActor pid=50142)\u001b[0m             This is a deprecated feature. It will be removed\u001b[32m [repeated 25x across cluster]\u001b[0m\n",
      "\u001b[36m(ClientAppActor pid=50142)\u001b[0m             entirely in future versions of Flower.\u001b[32m [repeated 25x across cluster]\u001b[0m\n",
      "  0%|          | 0/1 [00:00<?, ?it/s]\u001b[32m [repeated 22x across cluster]\u001b[0m\n"
     ]
    },
    {
     "name": "stdout",
     "output_type": "stream",
     "text": [
      "\u001b[36m(ClientAppActor pid=50138)\u001b[0m Test Loss: 3.1652, Test Accuracy: 25.00%\u001b[32m [repeated 23x across cluster]\u001b[0m\n"
     ]
    },
    {
     "name": "stderr",
     "output_type": "stream",
     "text": [
      "100%|██████████| 1/1 [00:01<00:00,  1.37s/it]\u001b[32m [repeated 68x across cluster]\u001b[0m\n",
      "\u001b[36m(ClientAppActor pid=50140)\u001b[0m \u001b[93mWARNING \u001b[0m:   DEPRECATED FEATURE: `client_fn` now expects a signature `def client_fn(context: Context)`.The provided `client_fn` has signature: {'cid': <Parameter \"cid: str\">}. You can import the `Context` like this: `from flwr.common import Context`\u001b[32m [repeated 22x across cluster]\u001b[0m\n",
      "\u001b[36m(ClientAppActor pid=50140)\u001b[0m             This is a deprecated feature. It will be removed\u001b[32m [repeated 22x across cluster]\u001b[0m\n",
      "\u001b[36m(ClientAppActor pid=50140)\u001b[0m             entirely in future versions of Flower.\u001b[32m [repeated 22x across cluster]\u001b[0m\n",
      "  0%|          | 0/1 [00:00<?, ?it/s]\u001b[32m [repeated 23x across cluster]\u001b[0m\n"
     ]
    },
    {
     "name": "stdout",
     "output_type": "stream",
     "text": [
      "\u001b[36m(ClientAppActor pid=50142)\u001b[0m Test Loss: 1.9984, Test Accuracy: 25.00%\u001b[32m [repeated 27x across cluster]\u001b[0m\n"
     ]
    },
    {
     "name": "stderr",
     "output_type": "stream",
     "text": [
      "\u001b[92mINFO \u001b[0m:      aggregate_fit: received 100 results and 0 failures\n",
      "\u001b[92mINFO \u001b[0m:      fit progress: (21, 2.594927942051607, {'accuracy': 0.3614457831325301}, 719.135688583)\n",
      "\u001b[92mINFO \u001b[0m:      configure_evaluate: strategy sampled 20 clients (out of 100)\n"
     ]
    },
    {
     "name": "stdout",
     "output_type": "stream",
     "text": [
      "Test Loss: 2.5949, Test Accuracy: 36.14%\n"
     ]
    },
    {
     "name": "stderr",
     "output_type": "stream",
     "text": [
      "\u001b[36m(ClientAppActor pid=50138)\u001b[0m         \u001b[32m [repeated 39x across cluster]\u001b[0m\n",
      "\u001b[36m(ClientAppActor pid=50138)\u001b[0m \u001b[93mWARNING \u001b[0m:   DEPRECATED FEATURE: `client_fn` now expects a signature `def client_fn(context: Context)`.The provided `client_fn` has signature: {'cid': <Parameter \"cid: str\">}. You can import the `Context` like this: `from flwr.common import Context`\u001b[32m [repeated 11x across cluster]\u001b[0m\n",
      "\u001b[36m(ClientAppActor pid=50138)\u001b[0m             This is a deprecated feature. It will be removed\u001b[32m [repeated 11x across cluster]\u001b[0m\n",
      "\u001b[36m(ClientAppActor pid=50138)\u001b[0m             entirely in future versions of Flower.\u001b[32m [repeated 11x across cluster]\u001b[0m\n",
      "  0%|          | 0/1 [00:00<?, ?it/s]\u001b[32m [repeated 12x across cluster]\u001b[0m\n"
     ]
    },
    {
     "name": "stdout",
     "output_type": "stream",
     "text": [
      "\u001b[36m(ClientAppActor pid=50138)\u001b[0m Test Loss: 3.0157, Test Accuracy: 25.00%\u001b[32m [repeated 13x across cluster]\u001b[0m\n"
     ]
    },
    {
     "name": "stderr",
     "output_type": "stream",
     "text": [
      "\u001b[92mINFO \u001b[0m:      aggregate_evaluate: received 20 results and 0 failures\n",
      "\u001b[92mINFO \u001b[0m:      \n",
      "\u001b[92mINFO \u001b[0m:      [ROUND 22]\n",
      "\u001b[92mINFO \u001b[0m:      configure_fit: strategy sampled 100 clients (out of 100)\n",
      "100%|██████████| 1/1 [00:00<00:00,  1.08it/s]\u001b[32m [repeated 86x across cluster]\u001b[0m\n",
      "\u001b[36m(ClientAppActor pid=50138)\u001b[0m \u001b[93mWARNING \u001b[0m:   DEPRECATED FEATURE: `client_fn` now expects a signature `def client_fn(context: Context)`.The provided `client_fn` has signature: {'cid': <Parameter \"cid: str\">}. You can import the `Context` like this: `from flwr.common import Context`\u001b[32m [repeated 37x across cluster]\u001b[0m\n",
      "\u001b[36m(ClientAppActor pid=50138)\u001b[0m             This is a deprecated feature. It will be removed\u001b[32m [repeated 37x across cluster]\u001b[0m\n",
      "\u001b[36m(ClientAppActor pid=50138)\u001b[0m             entirely in future versions of Flower.\u001b[32m [repeated 37x across cluster]\u001b[0m\n",
      "  0%|          | 0/1 [00:00<?, ?it/s]\u001b[32m [repeated 18x across cluster]\u001b[0m\n"
     ]
    },
    {
     "name": "stdout",
     "output_type": "stream",
     "text": [
      "\u001b[36m(ClientAppActor pid=50140)\u001b[0m Test Loss: 3.3720, Test Accuracy: 12.50%\u001b[32m [repeated 32x across cluster]\u001b[0m\n"
     ]
    },
    {
     "name": "stderr",
     "output_type": "stream",
     "text": [
      "100%|██████████| 1/1 [00:01<00:00,  1.14s/it]\u001b[32m [repeated 52x across cluster]\u001b[0m\n",
      "\u001b[36m(ClientAppActor pid=50137)\u001b[0m \u001b[93mWARNING \u001b[0m:   DEPRECATED FEATURE: `client_fn` now expects a signature `def client_fn(context: Context)`.The provided `client_fn` has signature: {'cid': <Parameter \"cid: str\">}. You can import the `Context` like this: `from flwr.common import Context`\u001b[32m [repeated 17x across cluster]\u001b[0m\n",
      "\u001b[36m(ClientAppActor pid=50137)\u001b[0m             This is a deprecated feature. It will be removed\u001b[32m [repeated 17x across cluster]\u001b[0m\n",
      "\u001b[36m(ClientAppActor pid=50137)\u001b[0m             entirely in future versions of Flower.\u001b[32m [repeated 17x across cluster]\u001b[0m\n",
      "  0%|          | 0/1 [00:00<?, ?it/s]\u001b[32m [repeated 16x across cluster]\u001b[0m\n"
     ]
    },
    {
     "name": "stdout",
     "output_type": "stream",
     "text": [
      "\u001b[36m(ClientAppActor pid=50136)\u001b[0m Test Loss: 1.5777, Test Accuracy: 62.50%\u001b[32m [repeated 20x across cluster]\u001b[0m\n"
     ]
    },
    {
     "name": "stderr",
     "output_type": "stream",
     "text": [
      "\u001b[36m(ClientAppActor pid=50136)\u001b[0m         \u001b[32m [repeated 82x across cluster]\u001b[0m\n",
      "\u001b[36m(ClientAppActor pid=50136)\u001b[0m \u001b[93mWARNING \u001b[0m:   DEPRECATED FEATURE: `client_fn` now expects a signature `def client_fn(context: Context)`.The provided `client_fn` has signature: {'cid': <Parameter \"cid: str\">}. You can import the `Context` like this: `from flwr.common import Context`\u001b[32m [repeated 28x across cluster]\u001b[0m\n",
      "\u001b[36m(ClientAppActor pid=50136)\u001b[0m             This is a deprecated feature. It will be removed\u001b[32m [repeated 28x across cluster]\u001b[0m\n",
      "\u001b[36m(ClientAppActor pid=50136)\u001b[0m             entirely in future versions of Flower.\u001b[32m [repeated 28x across cluster]\u001b[0m\n",
      "  0%|          | 0/1 [00:00<?, ?it/s]\u001b[32m [repeated 28x across cluster]\u001b[0m\n"
     ]
    },
    {
     "name": "stdout",
     "output_type": "stream",
     "text": [
      "\u001b[36m(ClientAppActor pid=50135)\u001b[0m Test Loss: 3.1670, Test Accuracy: 25.00%\u001b[32m [repeated 28x across cluster]\u001b[0m\n"
     ]
    },
    {
     "name": "stderr",
     "output_type": "stream",
     "text": [
      "\u001b[36m(ClientAppActor pid=50142)\u001b[0m         \u001b[32m [repeated 80x across cluster]\u001b[0m\n",
      "\u001b[36m(ClientAppActor pid=50142)\u001b[0m \u001b[93mWARNING \u001b[0m:   DEPRECATED FEATURE: `client_fn` now expects a signature `def client_fn(context: Context)`.The provided `client_fn` has signature: {'cid': <Parameter \"cid: str\">}. You can import the `Context` like this: `from flwr.common import Context`\u001b[32m [repeated 26x across cluster]\u001b[0m\n",
      "\u001b[36m(ClientAppActor pid=50142)\u001b[0m             This is a deprecated feature. It will be removed\u001b[32m [repeated 26x across cluster]\u001b[0m\n",
      "\u001b[36m(ClientAppActor pid=50142)\u001b[0m             entirely in future versions of Flower.\u001b[32m [repeated 26x across cluster]\u001b[0m\n",
      "  0%|          | 0/1 [00:00<?, ?it/s]\u001b[32m [repeated 26x across cluster]\u001b[0m\n"
     ]
    },
    {
     "name": "stdout",
     "output_type": "stream",
     "text": [
      "\u001b[36m(ClientAppActor pid=50134)\u001b[0m Test Loss: 2.9985, Test Accuracy: 25.00%\u001b[32m [repeated 27x across cluster]\u001b[0m\n"
     ]
    },
    {
     "name": "stderr",
     "output_type": "stream",
     "text": [
      "\u001b[92mINFO \u001b[0m:      aggregate_fit: received 100 results and 0 failures\n",
      "\u001b[92mINFO \u001b[0m:      fit progress: (22, 2.5816746599533977, {'accuracy': 0.3614457831325301}, 750.1732582079994)\n",
      "\u001b[92mINFO \u001b[0m:      configure_evaluate: strategy sampled 20 clients (out of 100)\n"
     ]
    },
    {
     "name": "stdout",
     "output_type": "stream",
     "text": [
      "Test Loss: 2.5817, Test Accuracy: 36.14%\n"
     ]
    },
    {
     "name": "stderr",
     "output_type": "stream",
     "text": [
      "\u001b[36m(ClientAppActor pid=50138)\u001b[0m         \u001b[32m [repeated 43x across cluster]\u001b[0m\n",
      "\u001b[36m(ClientAppActor pid=50138)\u001b[0m \u001b[93mWARNING \u001b[0m:   DEPRECATED FEATURE: `client_fn` now expects a signature `def client_fn(context: Context)`.The provided `client_fn` has signature: {'cid': <Parameter \"cid: str\">}. You can import the `Context` like this: `from flwr.common import Context`\u001b[32m [repeated 12x across cluster]\u001b[0m\n",
      "\u001b[36m(ClientAppActor pid=50138)\u001b[0m             This is a deprecated feature. It will be removed\u001b[32m [repeated 12x across cluster]\u001b[0m\n",
      "\u001b[36m(ClientAppActor pid=50138)\u001b[0m             entirely in future versions of Flower.\u001b[32m [repeated 12x across cluster]\u001b[0m\n",
      "  0%|          | 0/1 [00:00<?, ?it/s]\u001b[32m [repeated 12x across cluster]\u001b[0m\n"
     ]
    },
    {
     "name": "stdout",
     "output_type": "stream",
     "text": [
      "\u001b[36m(ClientAppActor pid=50138)\u001b[0m Test Loss: 2.7237, Test Accuracy: 50.00%\u001b[32m [repeated 13x across cluster]\u001b[0m\n"
     ]
    },
    {
     "name": "stderr",
     "output_type": "stream",
     "text": [
      "\u001b[92mINFO \u001b[0m:      aggregate_evaluate: received 20 results and 0 failures\n",
      "\u001b[92mINFO \u001b[0m:      \n",
      "\u001b[92mINFO \u001b[0m:      [ROUND 23]\n",
      "\u001b[92mINFO \u001b[0m:      configure_fit: strategy sampled 100 clients (out of 100)\n",
      "100%|██████████| 1/1 [00:01<00:00,  1.13s/it]\u001b[32m [repeated 90x across cluster]\u001b[0m\n",
      "\u001b[36m(ClientAppActor pid=50139)\u001b[0m \u001b[93mWARNING \u001b[0m:   DEPRECATED FEATURE: `client_fn` now expects a signature `def client_fn(context: Context)`.The provided `client_fn` has signature: {'cid': <Parameter \"cid: str\">}. You can import the `Context` like this: `from flwr.common import Context`\u001b[32m [repeated 39x across cluster]\u001b[0m\n",
      "\u001b[36m(ClientAppActor pid=50139)\u001b[0m             This is a deprecated feature. It will be removed\u001b[32m [repeated 39x across cluster]\u001b[0m\n",
      "\u001b[36m(ClientAppActor pid=50139)\u001b[0m             entirely in future versions of Flower.\u001b[32m [repeated 39x across cluster]\u001b[0m\n",
      "  0%|          | 0/1 [00:00<?, ?it/s]\u001b[32m [repeated 19x across cluster]\u001b[0m\n"
     ]
    },
    {
     "name": "stdout",
     "output_type": "stream",
     "text": [
      "\u001b[36m(ClientAppActor pid=50138)\u001b[0m Test Loss: 1.8284, Test Accuracy: 37.50%\u001b[32m [repeated 34x across cluster]\u001b[0m\n",
      "\u001b[36m(ClientAppActor pid=50143)\u001b[0m \n"
     ]
    },
    {
     "name": "stderr",
     "output_type": "stream",
     "text": [
      "\u001b[36m(ClientAppActor pid=50139)\u001b[0m         \u001b[32m [repeated 75x across cluster]\u001b[0m\n",
      "\u001b[36m(ClientAppActor pid=50139)\u001b[0m \u001b[93mWARNING \u001b[0m:   DEPRECATED FEATURE: `client_fn` now expects a signature `def client_fn(context: Context)`.The provided `client_fn` has signature: {'cid': <Parameter \"cid: str\">}. You can import the `Context` like this: `from flwr.common import Context`\u001b[32m [repeated 25x across cluster]\u001b[0m\n",
      "\u001b[36m(ClientAppActor pid=50139)\u001b[0m             This is a deprecated feature. It will be removed\u001b[32m [repeated 25x across cluster]\u001b[0m\n",
      "\u001b[36m(ClientAppActor pid=50139)\u001b[0m             entirely in future versions of Flower.\u001b[32m [repeated 25x across cluster]\u001b[0m\n",
      "  0%|          | 0/1 [00:00<?, ?it/s]\u001b[32m [repeated 25x across cluster]\u001b[0m\n"
     ]
    },
    {
     "name": "stdout",
     "output_type": "stream",
     "text": [
      "\u001b[36m(ClientAppActor pid=50136)\u001b[0m Test Loss: 2.9945, Test Accuracy: 25.00%\u001b[32m [repeated 24x across cluster]\u001b[0m\n"
     ]
    },
    {
     "name": "stderr",
     "output_type": "stream",
     "text": [
      "\u001b[36m(ClientAppActor pid=50140)\u001b[0m         \u001b[32m [repeated 77x across cluster]\u001b[0m\n",
      "\u001b[36m(ClientAppActor pid=50140)\u001b[0m \u001b[93mWARNING \u001b[0m:   DEPRECATED FEATURE: `client_fn` now expects a signature `def client_fn(context: Context)`.The provided `client_fn` has signature: {'cid': <Parameter \"cid: str\">}. You can import the `Context` like this: `from flwr.common import Context`\u001b[32m [repeated 25x across cluster]\u001b[0m\n",
      "\u001b[36m(ClientAppActor pid=50140)\u001b[0m             This is a deprecated feature. It will be removed\u001b[32m [repeated 25x across cluster]\u001b[0m\n",
      "\u001b[36m(ClientAppActor pid=50140)\u001b[0m             entirely in future versions of Flower.\u001b[32m [repeated 25x across cluster]\u001b[0m\n",
      "  0%|          | 0/1 [00:00<?, ?it/s]\u001b[32m [repeated 25x across cluster]\u001b[0m\n"
     ]
    },
    {
     "name": "stdout",
     "output_type": "stream",
     "text": [
      "\u001b[36m(ClientAppActor pid=50139)\u001b[0m Test Loss: 1.2119, Test Accuracy: 75.00%\u001b[32m [repeated 26x across cluster]\u001b[0m\n"
     ]
    },
    {
     "name": "stderr",
     "output_type": "stream",
     "text": [
      "\u001b[36m(ClientAppActor pid=50134)\u001b[0m         \u001b[32m [repeated 76x across cluster]\u001b[0m\n",
      "\u001b[36m(ClientAppActor pid=50134)\u001b[0m \u001b[93mWARNING \u001b[0m:   DEPRECATED FEATURE: `client_fn` now expects a signature `def client_fn(context: Context)`.The provided `client_fn` has signature: {'cid': <Parameter \"cid: str\">}. You can import the `Context` like this: `from flwr.common import Context`\u001b[32m [repeated 26x across cluster]\u001b[0m\n",
      "\u001b[36m(ClientAppActor pid=50134)\u001b[0m             This is a deprecated feature. It will be removed\u001b[32m [repeated 26x across cluster]\u001b[0m\n",
      "\u001b[36m(ClientAppActor pid=50134)\u001b[0m             entirely in future versions of Flower.\u001b[32m [repeated 26x across cluster]\u001b[0m\n",
      "  0%|          | 0/1 [00:00<?, ?it/s]\u001b[32m [repeated 24x across cluster]\u001b[0m\n"
     ]
    },
    {
     "name": "stdout",
     "output_type": "stream",
     "text": [
      "\u001b[36m(ClientAppActor pid=50141)\u001b[0m Test Loss: 2.6045, Test Accuracy: 25.00%\u001b[32m [repeated 25x across cluster]\u001b[0m\n"
     ]
    },
    {
     "name": "stderr",
     "output_type": "stream",
     "text": [
      "\u001b[92mINFO \u001b[0m:      aggregate_fit: received 100 results and 0 failures\n",
      "\u001b[92mINFO \u001b[0m:      fit progress: (23, 2.5696771705851837, {'accuracy': 0.3614457831325301}, 778.9386216659996)\n",
      "\u001b[92mINFO \u001b[0m:      configure_evaluate: strategy sampled 20 clients (out of 100)\n"
     ]
    },
    {
     "name": "stdout",
     "output_type": "stream",
     "text": [
      "Test Loss: 2.5697, Test Accuracy: 36.14%\n"
     ]
    },
    {
     "name": "stderr",
     "output_type": "stream",
     "text": [
      "\u001b[36m(ClientAppActor pid=50140)\u001b[0m         \u001b[32m [repeated 23x across cluster]\u001b[0m\n",
      "\u001b[36m(ClientAppActor pid=50140)\u001b[0m \u001b[93mWARNING \u001b[0m:   DEPRECATED FEATURE: `client_fn` now expects a signature `def client_fn(context: Context)`.The provided `client_fn` has signature: {'cid': <Parameter \"cid: str\">}. You can import the `Context` like this: `from flwr.common import Context`\u001b[32m [repeated 5x across cluster]\u001b[0m\n",
      "\u001b[36m(ClientAppActor pid=50140)\u001b[0m             This is a deprecated feature. It will be removed\u001b[32m [repeated 5x across cluster]\u001b[0m\n",
      "\u001b[36m(ClientAppActor pid=50140)\u001b[0m             entirely in future versions of Flower.\u001b[32m [repeated 5x across cluster]\u001b[0m\n",
      "  0%|          | 0/1 [00:00<?, ?it/s]\u001b[32m [repeated 7x across cluster]\u001b[0m\n"
     ]
    },
    {
     "name": "stdout",
     "output_type": "stream",
     "text": [
      "\u001b[36m(ClientAppActor pid=50140)\u001b[0m Test Loss: 2.4607, Test Accuracy: 37.50%\u001b[32m [repeated 11x across cluster]\u001b[0m\n"
     ]
    },
    {
     "name": "stderr",
     "output_type": "stream",
     "text": [
      "\u001b[92mINFO \u001b[0m:      aggregate_evaluate: received 20 results and 0 failures\n",
      "\u001b[92mINFO \u001b[0m:      \n",
      "\u001b[92mINFO \u001b[0m:      [ROUND 24]\n",
      "\u001b[92mINFO \u001b[0m:      configure_fit: strategy sampled 100 clients (out of 100)\n",
      "100%|██████████| 1/1 [00:00<00:00,  1.06it/s]\u001b[32m [repeated 97x across cluster]\u001b[0m\n",
      "\u001b[36m(ClientAppActor pid=50134)\u001b[0m \u001b[93mWARNING \u001b[0m:   DEPRECATED FEATURE: `client_fn` now expects a signature `def client_fn(context: Context)`.The provided `client_fn` has signature: {'cid': <Parameter \"cid: str\">}. You can import the `Context` like this: `from flwr.common import Context`\u001b[32m [repeated 41x across cluster]\u001b[0m\n",
      "\u001b[36m(ClientAppActor pid=50134)\u001b[0m             This is a deprecated feature. It will be removed\u001b[32m [repeated 41x across cluster]\u001b[0m\n",
      "\u001b[36m(ClientAppActor pid=50134)\u001b[0m             entirely in future versions of Flower.\u001b[32m [repeated 41x across cluster]\u001b[0m\n",
      "  0%|          | 0/1 [00:00<?, ?it/s]\u001b[32m [repeated 21x across cluster]\u001b[0m\n"
     ]
    },
    {
     "name": "stdout",
     "output_type": "stream",
     "text": [
      "\u001b[36m(ClientAppActor pid=50142)\u001b[0m Test Loss: 3.0439, Test Accuracy: 12.50%\u001b[32m [repeated 35x across cluster]\u001b[0m\n"
     ]
    },
    {
     "name": "stderr",
     "output_type": "stream",
     "text": [
      "\u001b[36m(ClientAppActor pid=50142)\u001b[0m         \u001b[32m [repeated 43x across cluster]\u001b[0m\n",
      "\u001b[36m(ClientAppActor pid=50142)\u001b[0m \u001b[93mWARNING \u001b[0m:   DEPRECATED FEATURE: `client_fn` now expects a signature `def client_fn(context: Context)`.The provided `client_fn` has signature: {'cid': <Parameter \"cid: str\">}. You can import the `Context` like this: `from flwr.common import Context`\u001b[32m [repeated 14x across cluster]\u001b[0m\n",
      "\u001b[36m(ClientAppActor pid=50142)\u001b[0m             This is a deprecated feature. It will be removed\u001b[32m [repeated 14x across cluster]\u001b[0m\n",
      "\u001b[36m(ClientAppActor pid=50142)\u001b[0m             entirely in future versions of Flower.\u001b[32m [repeated 14x across cluster]\u001b[0m\n",
      "  0%|          | 0/1 [00:00<?, ?it/s]\u001b[32m [repeated 15x across cluster]\u001b[0m\n"
     ]
    },
    {
     "name": "stdout",
     "output_type": "stream",
     "text": [
      "\u001b[36m(ClientAppActor pid=50136)\u001b[0m Test Loss: 3.0210, Test Accuracy: 25.00%\u001b[32m [repeated 18x across cluster]\u001b[0m\n"
     ]
    },
    {
     "name": "stderr",
     "output_type": "stream",
     "text": [
      "\u001b[36m(ClientAppActor pid=50135)\u001b[0m         \u001b[32m [repeated 69x across cluster]\u001b[0m\n",
      "\u001b[36m(ClientAppActor pid=50135)\u001b[0m \u001b[93mWARNING \u001b[0m:   DEPRECATED FEATURE: `client_fn` now expects a signature `def client_fn(context: Context)`.The provided `client_fn` has signature: {'cid': <Parameter \"cid: str\">}. You can import the `Context` like this: `from flwr.common import Context`\u001b[32m [repeated 23x across cluster]\u001b[0m\n",
      "\u001b[36m(ClientAppActor pid=50135)\u001b[0m             This is a deprecated feature. It will be removed\u001b[32m [repeated 23x across cluster]\u001b[0m\n",
      "\u001b[36m(ClientAppActor pid=50135)\u001b[0m             entirely in future versions of Flower.\u001b[32m [repeated 23x across cluster]\u001b[0m\n",
      "  0%|          | 0/1 [00:00<?, ?it/s]\u001b[32m [repeated 21x across cluster]\u001b[0m\n"
     ]
    },
    {
     "name": "stdout",
     "output_type": "stream",
     "text": [
      "\u001b[36m(ClientAppActor pid=50140)\u001b[0m Test Loss: 1.2518, Test Accuracy: 75.00%\u001b[32m [repeated 21x across cluster]\u001b[0m\n"
     ]
    },
    {
     "name": "stderr",
     "output_type": "stream",
     "text": [
      "100%|██████████| 1/1 [00:01<00:00,  1.07s/it]\u001b[32m [repeated 68x across cluster]\u001b[0m\n",
      "\u001b[36m(ClientAppActor pid=50137)\u001b[0m \u001b[93mWARNING \u001b[0m:   DEPRECATED FEATURE: `client_fn` now expects a signature `def client_fn(context: Context)`.The provided `client_fn` has signature: {'cid': <Parameter \"cid: str\">}. You can import the `Context` like this: `from flwr.common import Context`\u001b[32m [repeated 23x across cluster]\u001b[0m\n",
      "\u001b[36m(ClientAppActor pid=50137)\u001b[0m             This is a deprecated feature. It will be removed\u001b[32m [repeated 23x across cluster]\u001b[0m\n",
      "\u001b[36m(ClientAppActor pid=50137)\u001b[0m             entirely in future versions of Flower.\u001b[32m [repeated 23x across cluster]\u001b[0m\n",
      "  0%|          | 0/1 [00:00<?, ?it/s]\u001b[32m [repeated 24x across cluster]\u001b[0m\n"
     ]
    },
    {
     "name": "stdout",
     "output_type": "stream",
     "text": [
      "\u001b[36m(ClientAppActor pid=50137)\u001b[0m Test Loss: 2.4693, Test Accuracy: 37.50%\u001b[32m [repeated 27x across cluster]\u001b[0m\n"
     ]
    },
    {
     "name": "stderr",
     "output_type": "stream",
     "text": [
      "\u001b[92mINFO \u001b[0m:      aggregate_fit: received 100 results and 0 failures\n",
      "\u001b[92mINFO \u001b[0m:      fit progress: (24, 2.558473054100485, {'accuracy': 0.3614457831325301}, 814.1838708329997)\n",
      "\u001b[92mINFO \u001b[0m:      configure_evaluate: strategy sampled 20 clients (out of 100)\n"
     ]
    },
    {
     "name": "stdout",
     "output_type": "stream",
     "text": [
      "Test Loss: 2.5585, Test Accuracy: 36.14%\n"
     ]
    },
    {
     "name": "stderr",
     "output_type": "stream",
     "text": [
      "\u001b[36m(ClientAppActor pid=50141)\u001b[0m         \u001b[32m [repeated 63x across cluster]\u001b[0m\n",
      "\u001b[36m(ClientAppActor pid=50141)\u001b[0m \u001b[93mWARNING \u001b[0m:   DEPRECATED FEATURE: `client_fn` now expects a signature `def client_fn(context: Context)`.The provided `client_fn` has signature: {'cid': <Parameter \"cid: str\">}. You can import the `Context` like this: `from flwr.common import Context`\u001b[32m [repeated 19x across cluster]\u001b[0m\n",
      "\u001b[36m(ClientAppActor pid=50141)\u001b[0m             This is a deprecated feature. It will be removed\u001b[32m [repeated 19x across cluster]\u001b[0m\n",
      "\u001b[36m(ClientAppActor pid=50141)\u001b[0m             entirely in future versions of Flower.\u001b[32m [repeated 19x across cluster]\u001b[0m\n",
      "  0%|          | 0/1 [00:00<?, ?it/s]\u001b[32m [repeated 19x across cluster]\u001b[0m\n"
     ]
    },
    {
     "name": "stdout",
     "output_type": "stream",
     "text": [
      "\u001b[36m(ClientAppActor pid=50141)\u001b[0m Test Loss: 2.6268, Test Accuracy: 12.50%\u001b[32m [repeated 19x across cluster]\u001b[0m\n"
     ]
    },
    {
     "name": "stderr",
     "output_type": "stream",
     "text": [
      "\u001b[92mINFO \u001b[0m:      aggregate_evaluate: received 20 results and 0 failures\n",
      "\u001b[92mINFO \u001b[0m:      \n",
      "\u001b[92mINFO \u001b[0m:      [ROUND 25]\n",
      "\u001b[92mINFO \u001b[0m:      configure_fit: strategy sampled 100 clients (out of 100)\n",
      "\u001b[36m(ClientAppActor pid=50142)\u001b[0m         \u001b[32m [repeated 82x across cluster]\u001b[0m\n",
      "\u001b[36m(ClientAppActor pid=50142)\u001b[0m \u001b[93mWARNING \u001b[0m:   DEPRECATED FEATURE: `client_fn` now expects a signature `def client_fn(context: Context)`.The provided `client_fn` has signature: {'cid': <Parameter \"cid: str\">}. You can import the `Context` like this: `from flwr.common import Context`\u001b[32m [repeated 37x across cluster]\u001b[0m\n",
      "\u001b[36m(ClientAppActor pid=50142)\u001b[0m             This is a deprecated feature. It will be removed\u001b[32m [repeated 37x across cluster]\u001b[0m\n",
      "\u001b[36m(ClientAppActor pid=50142)\u001b[0m             entirely in future versions of Flower.\u001b[32m [repeated 37x across cluster]\u001b[0m\n",
      "  0%|          | 0/1 [00:00<?, ?it/s]\u001b[32m [repeated 17x across cluster]\u001b[0m\n"
     ]
    },
    {
     "name": "stdout",
     "output_type": "stream",
     "text": [
      "\u001b[36m(ClientAppActor pid=50134)\u001b[0m Test Loss: 2.0069, Test Accuracy: 37.50%\u001b[32m [repeated 29x across cluster]\u001b[0m\n"
     ]
    },
    {
     "name": "stderr",
     "output_type": "stream",
     "text": [
      "\u001b[36m(ClientAppActor pid=50143)\u001b[0m         \u001b[32m [repeated 74x across cluster]\u001b[0m\n",
      "\u001b[36m(ClientAppActor pid=50143)\u001b[0m \u001b[93mWARNING \u001b[0m:   DEPRECATED FEATURE: `client_fn` now expects a signature `def client_fn(context: Context)`.The provided `client_fn` has signature: {'cid': <Parameter \"cid: str\">}. You can import the `Context` like this: `from flwr.common import Context`\u001b[32m [repeated 24x across cluster]\u001b[0m\n",
      "\u001b[36m(ClientAppActor pid=50143)\u001b[0m             This is a deprecated feature. It will be removed\u001b[32m [repeated 24x across cluster]\u001b[0m\n",
      "\u001b[36m(ClientAppActor pid=50143)\u001b[0m             entirely in future versions of Flower.\u001b[32m [repeated 24x across cluster]\u001b[0m\n",
      "  0%|          | 0/1 [00:00<?, ?it/s]\u001b[32m [repeated 23x across cluster]\u001b[0m\n"
     ]
    },
    {
     "name": "stdout",
     "output_type": "stream",
     "text": [
      "\u001b[36m(ClientAppActor pid=50138)\u001b[0m Test Loss: 2.6395, Test Accuracy: 12.50%\u001b[32m [repeated 27x across cluster]\u001b[0m\n"
     ]
    },
    {
     "name": "stderr",
     "output_type": "stream",
     "text": [
      "\u001b[36m(ClientAppActor pid=50135)\u001b[0m         \u001b[32m [repeated 78x across cluster]\u001b[0m\n",
      "\u001b[36m(ClientAppActor pid=50135)\u001b[0m \u001b[93mWARNING \u001b[0m:   DEPRECATED FEATURE: `client_fn` now expects a signature `def client_fn(context: Context)`.The provided `client_fn` has signature: {'cid': <Parameter \"cid: str\">}. You can import the `Context` like this: `from flwr.common import Context`\u001b[32m [repeated 26x across cluster]\u001b[0m\n",
      "\u001b[36m(ClientAppActor pid=50135)\u001b[0m             This is a deprecated feature. It will be removed\u001b[32m [repeated 26x across cluster]\u001b[0m\n",
      "\u001b[36m(ClientAppActor pid=50135)\u001b[0m             entirely in future versions of Flower.\u001b[32m [repeated 26x across cluster]\u001b[0m\n",
      "  0%|          | 0/1 [00:00<?, ?it/s]\u001b[32m [repeated 25x across cluster]\u001b[0m\n"
     ]
    },
    {
     "name": "stdout",
     "output_type": "stream",
     "text": [
      "\u001b[36m(ClientAppActor pid=50137)\u001b[0m Test Loss: 2.7022, Test Accuracy: 50.00%\u001b[32m [repeated 26x across cluster]\u001b[0m\n"
     ]
    },
    {
     "name": "stderr",
     "output_type": "stream",
     "text": [
      "\u001b[36m(ClientAppActor pid=50142)\u001b[0m         \u001b[32m [repeated 70x across cluster]\u001b[0m\n",
      "\u001b[36m(ClientAppActor pid=50142)\u001b[0m \u001b[93mWARNING \u001b[0m:   DEPRECATED FEATURE: `client_fn` now expects a signature `def client_fn(context: Context)`.The provided `client_fn` has signature: {'cid': <Parameter \"cid: str\">}. You can import the `Context` like this: `from flwr.common import Context`\u001b[32m [repeated 23x across cluster]\u001b[0m\n",
      "\u001b[36m(ClientAppActor pid=50142)\u001b[0m             This is a deprecated feature. It will be removed\u001b[32m [repeated 23x across cluster]\u001b[0m\n",
      "\u001b[36m(ClientAppActor pid=50142)\u001b[0m             entirely in future versions of Flower.\u001b[32m [repeated 23x across cluster]\u001b[0m\n",
      "  0%|          | 0/1 [00:00<?, ?it/s]\u001b[32m [repeated 25x across cluster]\u001b[0m\n"
     ]
    },
    {
     "name": "stdout",
     "output_type": "stream",
     "text": [
      "\u001b[36m(ClientAppActor pid=50134)\u001b[0m Test Loss: 2.7075, Test Accuracy: 37.50%\u001b[32m [repeated 25x across cluster]\u001b[0m\n"
     ]
    },
    {
     "name": "stderr",
     "output_type": "stream",
     "text": [
      "\u001b[92mINFO \u001b[0m:      aggregate_fit: received 100 results and 0 failures\n",
      "\u001b[92mINFO \u001b[0m:      fit progress: (25, 2.548028623356539, {'accuracy': 0.36098239110287306}, 842.9902299159994)\n",
      "\u001b[92mINFO \u001b[0m:      configure_evaluate: strategy sampled 20 clients (out of 100)\n"
     ]
    },
    {
     "name": "stdout",
     "output_type": "stream",
     "text": [
      "Test Loss: 2.5480, Test Accuracy: 36.10%\n"
     ]
    },
    {
     "name": "stderr",
     "output_type": "stream",
     "text": [
      "\u001b[36m(ClientAppActor pid=50139)\u001b[0m         \u001b[32m [repeated 36x across cluster]\u001b[0m\n",
      "\u001b[36m(ClientAppActor pid=50139)\u001b[0m \u001b[93mWARNING \u001b[0m:   DEPRECATED FEATURE: `client_fn` now expects a signature `def client_fn(context: Context)`.The provided `client_fn` has signature: {'cid': <Parameter \"cid: str\">}. You can import the `Context` like this: `from flwr.common import Context`\u001b[32m [repeated 10x across cluster]\u001b[0m\n",
      "\u001b[36m(ClientAppActor pid=50139)\u001b[0m             This is a deprecated feature. It will be removed\u001b[32m [repeated 10x across cluster]\u001b[0m\n",
      "\u001b[36m(ClientAppActor pid=50139)\u001b[0m             entirely in future versions of Flower.\u001b[32m [repeated 10x across cluster]\u001b[0m\n",
      "  0%|          | 0/1 [00:00<?, ?it/s]\u001b[32m [repeated 10x across cluster]\u001b[0m\n"
     ]
    },
    {
     "name": "stdout",
     "output_type": "stream",
     "text": [
      "\u001b[36m(ClientAppActor pid=50134)\u001b[0m Test Loss: 1.5156, Test Accuracy: 62.50%\u001b[32m [repeated 13x across cluster]\u001b[0m\n"
     ]
    },
    {
     "name": "stderr",
     "output_type": "stream",
     "text": [
      "\u001b[92mINFO \u001b[0m:      aggregate_evaluate: received 20 results and 0 failures\n",
      "\u001b[92mINFO \u001b[0m:      \n",
      "\u001b[92mINFO \u001b[0m:      [ROUND 26]\n",
      "\u001b[92mINFO \u001b[0m:      configure_fit: strategy sampled 100 clients (out of 100)\n",
      "\u001b[36m(ClientAppActor pid=50142)\u001b[0m         \u001b[32m [repeated 56x across cluster]\u001b[0m\n",
      "\u001b[36m(ClientAppActor pid=50142)\u001b[0m \u001b[93mWARNING \u001b[0m:   DEPRECATED FEATURE: `client_fn` now expects a signature `def client_fn(context: Context)`.The provided `client_fn` has signature: {'cid': <Parameter \"cid: str\">}. You can import the `Context` like this: `from flwr.common import Context`\u001b[32m [repeated 28x across cluster]\u001b[0m\n",
      "\u001b[36m(ClientAppActor pid=50142)\u001b[0m             This is a deprecated feature. It will be removed\u001b[32m [repeated 28x across cluster]\u001b[0m\n",
      "\u001b[36m(ClientAppActor pid=50142)\u001b[0m             entirely in future versions of Flower.\u001b[32m [repeated 28x across cluster]\u001b[0m\n",
      "  0%|          | 0/1 [00:00<?, ?it/s]\u001b[32m [repeated 7x across cluster]\u001b[0m\n"
     ]
    },
    {
     "name": "stdout",
     "output_type": "stream",
     "text": [
      "\u001b[36m(ClientAppActor pid=50139)\u001b[0m Test Loss: 2.7343, Test Accuracy: 50.00%\u001b[32m [repeated 20x across cluster]\u001b[0m\n"
     ]
    },
    {
     "name": "stderr",
     "output_type": "stream",
     "text": [
      "100%|██████████| 1/1 [00:01<00:00,  1.09s/it]\u001b[32m [repeated 71x across cluster]\u001b[0m\n",
      "\u001b[36m(ClientAppActor pid=50134)\u001b[0m \u001b[93mWARNING \u001b[0m:   DEPRECATED FEATURE: `client_fn` now expects a signature `def client_fn(context: Context)`.The provided `client_fn` has signature: {'cid': <Parameter \"cid: str\">}. You can import the `Context` like this: `from flwr.common import Context`\u001b[32m [repeated 23x across cluster]\u001b[0m\n",
      "\u001b[36m(ClientAppActor pid=50134)\u001b[0m             This is a deprecated feature. It will be removed\u001b[32m [repeated 23x across cluster]\u001b[0m\n",
      "\u001b[36m(ClientAppActor pid=50134)\u001b[0m             entirely in future versions of Flower.\u001b[32m [repeated 23x across cluster]\u001b[0m\n",
      "  0%|          | 0/1 [00:00<?, ?it/s]\u001b[32m [repeated 24x across cluster]\u001b[0m\n"
     ]
    },
    {
     "name": "stdout",
     "output_type": "stream",
     "text": [
      "\u001b[36m(ClientAppActor pid=50138)\u001b[0m Test Loss: 1.7849, Test Accuracy: 75.00%\u001b[32m [repeated 28x across cluster]\u001b[0m\n"
     ]
    },
    {
     "name": "stderr",
     "output_type": "stream",
     "text": [
      "100%|██████████| 1/1 [00:01<00:00,  1.16s/it]\u001b[32m [repeated 71x across cluster]\u001b[0m\n",
      "\u001b[36m(ClientAppActor pid=50141)\u001b[0m \u001b[93mWARNING \u001b[0m:   DEPRECATED FEATURE: `client_fn` now expects a signature `def client_fn(context: Context)`.The provided `client_fn` has signature: {'cid': <Parameter \"cid: str\">}. You can import the `Context` like this: `from flwr.common import Context`\u001b[32m [repeated 24x across cluster]\u001b[0m\n",
      "\u001b[36m(ClientAppActor pid=50141)\u001b[0m             This is a deprecated feature. It will be removed\u001b[32m [repeated 24x across cluster]\u001b[0m\n",
      "\u001b[36m(ClientAppActor pid=50141)\u001b[0m             entirely in future versions of Flower.\u001b[32m [repeated 24x across cluster]\u001b[0m\n",
      "  0%|          | 0/1 [00:00<?, ?it/s]\u001b[32m [repeated 23x across cluster]\u001b[0m\n"
     ]
    },
    {
     "name": "stdout",
     "output_type": "stream",
     "text": [
      "\u001b[36m(ClientAppActor pid=50138)\u001b[0m Test Loss: 2.9179, Test Accuracy: 25.00%\u001b[32m [repeated 27x across cluster]\u001b[0m\n"
     ]
    },
    {
     "name": "stderr",
     "output_type": "stream",
     "text": [
      "\u001b[36m(ClientAppActor pid=50137)\u001b[0m         \u001b[32m [repeated 82x across cluster]\u001b[0m\n",
      "\u001b[36m(ClientAppActor pid=50137)\u001b[0m \u001b[93mWARNING \u001b[0m:   DEPRECATED FEATURE: `client_fn` now expects a signature `def client_fn(context: Context)`.The provided `client_fn` has signature: {'cid': <Parameter \"cid: str\">}. You can import the `Context` like this: `from flwr.common import Context`\u001b[32m [repeated 27x across cluster]\u001b[0m\n",
      "\u001b[36m(ClientAppActor pid=50137)\u001b[0m             This is a deprecated feature. It will be removed\u001b[32m [repeated 27x across cluster]\u001b[0m\n",
      "\u001b[36m(ClientAppActor pid=50137)\u001b[0m             entirely in future versions of Flower.\u001b[32m [repeated 27x across cluster]\u001b[0m\n",
      "  0%|          | 0/1 [00:00<?, ?it/s]\u001b[32m [repeated 28x across cluster]\u001b[0m\n"
     ]
    },
    {
     "name": "stdout",
     "output_type": "stream",
     "text": [
      "\u001b[36m(ClientAppActor pid=50142)\u001b[0m Test Loss: 3.2222, Test Accuracy: 25.00%\u001b[32m [repeated 26x across cluster]\u001b[0m\n"
     ]
    },
    {
     "name": "stderr",
     "output_type": "stream",
     "text": [
      "\u001b[92mINFO \u001b[0m:      aggregate_fit: received 100 results and 0 failures\n",
      "\u001b[92mINFO \u001b[0m:      fit progress: (26, 2.5385219630073097, {'accuracy': 0.36098239110287306}, 874.9854593330001)\n",
      "\u001b[92mINFO \u001b[0m:      configure_evaluate: strategy sampled 20 clients (out of 100)\n"
     ]
    },
    {
     "name": "stdout",
     "output_type": "stream",
     "text": [
      "Test Loss: 2.5385, Test Accuracy: 36.10%\n"
     ]
    },
    {
     "name": "stderr",
     "output_type": "stream",
     "text": [
      "\u001b[36m(ClientAppActor pid=50134)\u001b[0m         \u001b[32m [repeated 61x across cluster]\u001b[0m\n",
      "\u001b[36m(ClientAppActor pid=50134)\u001b[0m \u001b[93mWARNING \u001b[0m:   DEPRECATED FEATURE: `client_fn` now expects a signature `def client_fn(context: Context)`.The provided `client_fn` has signature: {'cid': <Parameter \"cid: str\">}. You can import the `Context` like this: `from flwr.common import Context`\u001b[32m [repeated 18x across cluster]\u001b[0m\n",
      "\u001b[36m(ClientAppActor pid=50134)\u001b[0m             This is a deprecated feature. It will be removed\u001b[32m [repeated 18x across cluster]\u001b[0m\n",
      "\u001b[36m(ClientAppActor pid=50134)\u001b[0m             entirely in future versions of Flower.\u001b[32m [repeated 18x across cluster]\u001b[0m\n",
      "  0%|          | 0/1 [00:00<?, ?it/s]\u001b[32m [repeated 18x across cluster]\u001b[0m\n"
     ]
    },
    {
     "name": "stdout",
     "output_type": "stream",
     "text": [
      "\u001b[36m(ClientAppActor pid=50134)\u001b[0m Test Loss: 2.5179, Test Accuracy: 37.50%\u001b[32m [repeated 19x across cluster]\u001b[0m\n"
     ]
    },
    {
     "name": "stderr",
     "output_type": "stream",
     "text": [
      "\u001b[92mINFO \u001b[0m:      aggregate_evaluate: received 20 results and 0 failures\n",
      "\u001b[92mINFO \u001b[0m:      \n",
      "\u001b[92mINFO \u001b[0m:      [ROUND 27]\n",
      "\u001b[92mINFO \u001b[0m:      configure_fit: strategy sampled 100 clients (out of 100)\n",
      "\u001b[36m(ClientAppActor pid=50134)\u001b[0m         \u001b[32m [repeated 75x across cluster]\u001b[0m\n",
      "\u001b[36m(ClientAppActor pid=50134)\u001b[0m \u001b[93mWARNING \u001b[0m:   DEPRECATED FEATURE: `client_fn` now expects a signature `def client_fn(context: Context)`.The provided `client_fn` has signature: {'cid': <Parameter \"cid: str\">}. You can import the `Context` like this: `from flwr.common import Context`\u001b[32m [repeated 34x across cluster]\u001b[0m\n",
      "\u001b[36m(ClientAppActor pid=50134)\u001b[0m             This is a deprecated feature. It will be removed\u001b[32m [repeated 34x across cluster]\u001b[0m\n",
      "\u001b[36m(ClientAppActor pid=50134)\u001b[0m             entirely in future versions of Flower.\u001b[32m [repeated 34x across cluster]\u001b[0m\n",
      "  0%|          | 0/1 [00:00<?, ?it/s]\u001b[32m [repeated 13x across cluster]\u001b[0m\n"
     ]
    },
    {
     "name": "stdout",
     "output_type": "stream",
     "text": [
      "\u001b[36m(ClientAppActor pid=50137)\u001b[0m Test Loss: 2.7406, Test Accuracy: 25.00%\u001b[32m [repeated 27x across cluster]\u001b[0m\n"
     ]
    },
    {
     "name": "stderr",
     "output_type": "stream",
     "text": [
      "\u001b[36m(ClientAppActor pid=50143)\u001b[0m         \u001b[32m [repeated 65x across cluster]\u001b[0m\n",
      "\u001b[36m(ClientAppActor pid=50143)\u001b[0m \u001b[93mWARNING \u001b[0m:   DEPRECATED FEATURE: `client_fn` now expects a signature `def client_fn(context: Context)`.The provided `client_fn` has signature: {'cid': <Parameter \"cid: str\">}. You can import the `Context` like this: `from flwr.common import Context`\u001b[32m [repeated 21x across cluster]\u001b[0m\n",
      "\u001b[36m(ClientAppActor pid=50143)\u001b[0m             This is a deprecated feature. It will be removed\u001b[32m [repeated 21x across cluster]\u001b[0m\n",
      "\u001b[36m(ClientAppActor pid=50143)\u001b[0m             entirely in future versions of Flower.\u001b[32m [repeated 21x across cluster]\u001b[0m\n",
      "  0%|          | 0/1 [00:00<?, ?it/s]\u001b[32m [repeated 21x across cluster]\u001b[0m\n"
     ]
    },
    {
     "name": "stdout",
     "output_type": "stream",
     "text": [
      "\u001b[36m(ClientAppActor pid=50134)\u001b[0m Test Loss: 3.4898, Test Accuracy: 12.50%\u001b[32m [repeated 25x across cluster]\u001b[0m\n"
     ]
    },
    {
     "name": "stderr",
     "output_type": "stream",
     "text": [
      "\u001b[36m(ClientAppActor pid=50142)\u001b[0m         \u001b[32m [repeated 65x across cluster]\u001b[0m\n",
      "\u001b[36m(ClientAppActor pid=50142)\u001b[0m \u001b[93mWARNING \u001b[0m:   DEPRECATED FEATURE: `client_fn` now expects a signature `def client_fn(context: Context)`.The provided `client_fn` has signature: {'cid': <Parameter \"cid: str\">}. You can import the `Context` like this: `from flwr.common import Context`\u001b[32m [repeated 22x across cluster]\u001b[0m\n",
      "\u001b[36m(ClientAppActor pid=50142)\u001b[0m             This is a deprecated feature. It will be removed\u001b[32m [repeated 22x across cluster]\u001b[0m\n",
      "\u001b[36m(ClientAppActor pid=50142)\u001b[0m             entirely in future versions of Flower.\u001b[32m [repeated 22x across cluster]\u001b[0m\n",
      "  0%|          | 0/1 [00:00<?, ?it/s]\u001b[32m [repeated 23x across cluster]\u001b[0m\n"
     ]
    },
    {
     "name": "stdout",
     "output_type": "stream",
     "text": [
      "\u001b[36m(ClientAppActor pid=50138)\u001b[0m Test Loss: 1.8732, Test Accuracy: 37.50%\u001b[32m [repeated 21x across cluster]\u001b[0m\n",
      "\u001b[36m(ClientAppActor pid=50135)\u001b[0m \n"
     ]
    },
    {
     "name": "stderr",
     "output_type": "stream",
     "text": [
      "\u001b[36m(ClientAppActor pid=50135)\u001b[0m         \u001b[32m [repeated 70x across cluster]\u001b[0m\n",
      "\u001b[36m(ClientAppActor pid=50135)\u001b[0m \u001b[93mWARNING \u001b[0m:   DEPRECATED FEATURE: `client_fn` now expects a signature `def client_fn(context: Context)`.The provided `client_fn` has signature: {'cid': <Parameter \"cid: str\">}. You can import the `Context` like this: `from flwr.common import Context`\u001b[32m [repeated 23x across cluster]\u001b[0m\n",
      "\u001b[36m(ClientAppActor pid=50135)\u001b[0m             This is a deprecated feature. It will be removed\u001b[32m [repeated 23x across cluster]\u001b[0m\n",
      "\u001b[36m(ClientAppActor pid=50135)\u001b[0m             entirely in future versions of Flower.\u001b[32m [repeated 23x across cluster]\u001b[0m\n",
      "  0%|          | 0/1 [00:00<?, ?it/s]\u001b[32m [repeated 22x across cluster]\u001b[0m\n"
     ]
    },
    {
     "name": "stdout",
     "output_type": "stream",
     "text": [
      "\u001b[36m(ClientAppActor pid=50142)\u001b[0m Test Loss: 3.2093, Test Accuracy: 25.00%\u001b[32m [repeated 22x across cluster]\u001b[0m\n"
     ]
    },
    {
     "name": "stderr",
     "output_type": "stream",
     "text": [
      "100%|██████████| 1/1 [00:00<00:00,  2.25it/s]\u001b[32m [repeated 64x across cluster]\u001b[0m\n",
      "\u001b[36m(ClientAppActor pid=50135)\u001b[0m \u001b[93mWARNING \u001b[0m:   DEPRECATED FEATURE: `client_fn` now expects a signature `def client_fn(context: Context)`.The provided `client_fn` has signature: {'cid': <Parameter \"cid: str\">}. You can import the `Context` like this: `from flwr.common import Context`\u001b[32m [repeated 19x across cluster]\u001b[0m\n",
      "\u001b[36m(ClientAppActor pid=50135)\u001b[0m             This is a deprecated feature. It will be removed\u001b[32m [repeated 19x across cluster]\u001b[0m\n",
      "\u001b[36m(ClientAppActor pid=50135)\u001b[0m             entirely in future versions of Flower.\u001b[32m [repeated 19x across cluster]\u001b[0m\n",
      "  0%|          | 0/1 [00:00<?, ?it/s]\u001b[32m [repeated 21x across cluster]\u001b[0m\n",
      "\u001b[92mINFO \u001b[0m:      aggregate_fit: received 100 results and 0 failures\n",
      "\u001b[92mINFO \u001b[0m:      fit progress: (27, 2.530111074447632, {'accuracy': 0.3614457831325301}, 909.4159420830001)\n",
      "\u001b[92mINFO \u001b[0m:      configure_evaluate: strategy sampled 20 clients (out of 100)\n"
     ]
    },
    {
     "name": "stdout",
     "output_type": "stream",
     "text": [
      "Test Loss: 2.5301, Test Accuracy: 36.14%\n"
     ]
    },
    {
     "name": "stderr",
     "output_type": "stream",
     "text": [
      "\u001b[36m(ClientAppActor pid=50135)\u001b[0m         \u001b[32m [repeated 2x across cluster]\u001b[0m\n",
      "\u001b[36m(ClientAppActor pid=50135)\u001b[0m \u001b[93mWARNING \u001b[0m:   DEPRECATED FEATURE: `client_fn` now expects a signature `def client_fn(context: Context)`.The provided `client_fn` has signature: {'cid': <Parameter \"cid: str\">}. You can import the `Context` like this: `from flwr.common import Context`\n",
      "\u001b[36m(ClientAppActor pid=50135)\u001b[0m             This is a deprecated feature. It will be removed\n",
      "\u001b[36m(ClientAppActor pid=50135)\u001b[0m             entirely in future versions of Flower.\n",
      "\u001b[36m(ClientAppActor pid=50139)\u001b[0m \u001b[93mWARNING \u001b[0m:   DEPRECATED FEATURE: `client_fn` now expects a signature `def client_fn(context: Context)`.The provided `client_fn` has signature: {'cid': <Parameter \"cid: str\">}. You can import the `Context` like this: `from flwr.common import Context`\n",
      "\u001b[36m(ClientAppActor pid=50139)\u001b[0m             This is a deprecated feature. It will be removed\n",
      "\u001b[36m(ClientAppActor pid=50139)\u001b[0m             entirely in future versions of Flower.\n"
     ]
    },
    {
     "name": "stdout",
     "output_type": "stream",
     "text": [
      "\u001b[36m(ClientAppActor pid=50135)\u001b[0m Test Loss: 3.3685, Test Accuracy: 37.50%\u001b[32m [repeated 25x across cluster]\u001b[0m\n"
     ]
    },
    {
     "name": "stderr",
     "output_type": "stream",
     "text": [
      "\u001b[92mINFO \u001b[0m:      aggregate_evaluate: received 20 results and 0 failures\n",
      "\u001b[92mINFO \u001b[0m:      \n",
      "\u001b[92mINFO \u001b[0m:      [ROUND 28]\n",
      "\u001b[92mINFO \u001b[0m:      configure_fit: strategy sampled 100 clients (out of 100)\n",
      "  0%|          | 0/1 [00:00<?, ?it/s]\n",
      "100%|██████████| 1/1 [00:01<00:00,  1.46s/it]\u001b[32m [repeated 57x across cluster]\u001b[0m\n",
      "\u001b[36m(ClientAppActor pid=50136)\u001b[0m \u001b[93mWARNING \u001b[0m:   DEPRECATED FEATURE: `client_fn` now expects a signature `def client_fn(context: Context)`.The provided `client_fn` has signature: {'cid': <Parameter \"cid: str\">}. You can import the `Context` like this: `from flwr.common import Context`\u001b[32m [repeated 25x across cluster]\u001b[0m\n",
      "\u001b[36m(ClientAppActor pid=50136)\u001b[0m             This is a deprecated feature. It will be removed\u001b[32m [repeated 25x across cluster]\u001b[0m\n",
      "\u001b[36m(ClientAppActor pid=50136)\u001b[0m             entirely in future versions of Flower.\u001b[32m [repeated 25x across cluster]\u001b[0m\n"
     ]
    },
    {
     "name": "stdout",
     "output_type": "stream",
     "text": [
      "\u001b[36m(ClientAppActor pid=50136)\u001b[0m Test Loss: 3.1913, Test Accuracy: 25.00%\u001b[32m [repeated 26x across cluster]\u001b[0m\n"
     ]
    },
    {
     "name": "stderr",
     "output_type": "stream",
     "text": [
      "  0%|          | 0/1 [00:00<?, ?it/s]\u001b[32m [repeated 22x across cluster]\u001b[0m\n",
      "\u001b[36m(ClientAppActor pid=50141)\u001b[0m         \u001b[32m [repeated 71x across cluster]\u001b[0m\n",
      "\u001b[36m(ClientAppActor pid=50141)\u001b[0m \u001b[93mWARNING \u001b[0m:   DEPRECATED FEATURE: `client_fn` now expects a signature `def client_fn(context: Context)`.The provided `client_fn` has signature: {'cid': <Parameter \"cid: str\">}. You can import the `Context` like this: `from flwr.common import Context`\u001b[32m [repeated 25x across cluster]\u001b[0m\n",
      "\u001b[36m(ClientAppActor pid=50141)\u001b[0m             This is a deprecated feature. It will be removed\u001b[32m [repeated 25x across cluster]\u001b[0m\n",
      "\u001b[36m(ClientAppActor pid=50141)\u001b[0m             entirely in future versions of Flower.\u001b[32m [repeated 25x across cluster]\u001b[0m\n"
     ]
    },
    {
     "name": "stdout",
     "output_type": "stream",
     "text": [
      "\u001b[36m(ClientAppActor pid=50139)\u001b[0m Test Loss: 1.6094, Test Accuracy: 50.00%\u001b[32m [repeated 19x across cluster]\u001b[0m\n"
     ]
    },
    {
     "name": "stderr",
     "output_type": "stream",
     "text": [
      "  0%|          | 0/1 [00:00<?, ?it/s]\u001b[32m [repeated 19x across cluster]\u001b[0m\n",
      "100%|██████████| 1/1 [00:01<00:00,  1.61s/it]\u001b[32m [repeated 66x across cluster]\u001b[0m\n",
      "\u001b[36m(ClientAppActor pid=50137)\u001b[0m \u001b[93mWARNING \u001b[0m:   DEPRECATED FEATURE: `client_fn` now expects a signature `def client_fn(context: Context)`.The provided `client_fn` has signature: {'cid': <Parameter \"cid: str\">}. You can import the `Context` like this: `from flwr.common import Context`\u001b[32m [repeated 21x across cluster]\u001b[0m\n",
      "\u001b[36m(ClientAppActor pid=50137)\u001b[0m             This is a deprecated feature. It will be removed\u001b[32m [repeated 21x across cluster]\u001b[0m\n",
      "\u001b[36m(ClientAppActor pid=50137)\u001b[0m             entirely in future versions of Flower.\u001b[32m [repeated 21x across cluster]\u001b[0m\n"
     ]
    },
    {
     "name": "stdout",
     "output_type": "stream",
     "text": [
      "\u001b[36m(ClientAppActor pid=50138)\u001b[0m Test Loss: 2.2746, Test Accuracy: 62.50%\u001b[32m [repeated 24x across cluster]\u001b[0m\n"
     ]
    },
    {
     "name": "stderr",
     "output_type": "stream",
     "text": [
      "  0%|          | 0/1 [00:00<?, ?it/s]\u001b[32m [repeated 26x across cluster]\u001b[0m\n",
      "\u001b[36m(ClientAppActor pid=50138)\u001b[0m         \u001b[32m [repeated 74x across cluster]\u001b[0m\n",
      "\u001b[36m(ClientAppActor pid=50138)\u001b[0m \u001b[93mWARNING \u001b[0m:   DEPRECATED FEATURE: `client_fn` now expects a signature `def client_fn(context: Context)`.The provided `client_fn` has signature: {'cid': <Parameter \"cid: str\">}. You can import the `Context` like this: `from flwr.common import Context`\u001b[32m [repeated 25x across cluster]\u001b[0m\n",
      "\u001b[36m(ClientAppActor pid=50138)\u001b[0m             This is a deprecated feature. It will be removed\u001b[32m [repeated 25x across cluster]\u001b[0m\n",
      "\u001b[36m(ClientAppActor pid=50138)\u001b[0m             entirely in future versions of Flower.\u001b[32m [repeated 25x across cluster]\u001b[0m\n"
     ]
    },
    {
     "name": "stdout",
     "output_type": "stream",
     "text": [
      "\u001b[36m(ClientAppActor pid=50136)\u001b[0m Test Loss: 3.2647, Test Accuracy: 12.50%\u001b[32m [repeated 24x across cluster]\u001b[0m\n"
     ]
    },
    {
     "name": "stderr",
     "output_type": "stream",
     "text": [
      "  0%|          | 0/1 [00:00<?, ?it/s]\u001b[32m [repeated 26x across cluster]\u001b[0m\n",
      "100%|██████████| 1/1 [00:00<00:00,  1.35it/s]\u001b[32m [repeated 69x across cluster]\u001b[0m\n",
      "\u001b[36m(ClientAppActor pid=50142)\u001b[0m \u001b[93mWARNING \u001b[0m:   DEPRECATED FEATURE: `client_fn` now expects a signature `def client_fn(context: Context)`.The provided `client_fn` has signature: {'cid': <Parameter \"cid: str\">}. You can import the `Context` like this: `from flwr.common import Context`\u001b[32m [repeated 21x across cluster]\u001b[0m\n",
      "\u001b[36m(ClientAppActor pid=50142)\u001b[0m             This is a deprecated feature. It will be removed\u001b[32m [repeated 21x across cluster]\u001b[0m\n",
      "\u001b[36m(ClientAppActor pid=50142)\u001b[0m             entirely in future versions of Flower.\u001b[32m [repeated 21x across cluster]\u001b[0m\n",
      "\u001b[92mINFO \u001b[0m:      aggregate_fit: received 100 results and 0 failures\n"
     ]
    },
    {
     "name": "stdout",
     "output_type": "stream",
     "text": [
      "\u001b[36m(ClientAppActor pid=50135)\u001b[0m Test Loss: 2.5806, Test Accuracy: 37.50%\u001b[32m [repeated 26x across cluster]\u001b[0m\n"
     ]
    },
    {
     "name": "stderr",
     "output_type": "stream",
     "text": [
      "\u001b[92mINFO \u001b[0m:      fit progress: (28, 2.5223911509794346, {'accuracy': 0.3614457831325301}, 943.1966005409995)\n",
      "\u001b[92mINFO \u001b[0m:      configure_evaluate: strategy sampled 20 clients (out of 100)\n"
     ]
    },
    {
     "name": "stdout",
     "output_type": "stream",
     "text": [
      "Test Loss: 2.5224, Test Accuracy: 36.14%\n"
     ]
    },
    {
     "name": "stderr",
     "output_type": "stream",
     "text": [
      "  0%|          | 0/1 [00:00<?, ?it/s]\u001b[32m [repeated 6x across cluster]\u001b[0m\n",
      "\u001b[36m(ClientAppActor pid=50142)\u001b[0m         \u001b[32m [repeated 7x across cluster]\u001b[0m\n",
      "\u001b[36m(ClientAppActor pid=50142)\u001b[0m \u001b[93mWARNING \u001b[0m:   DEPRECATED FEATURE: `client_fn` now expects a signature `def client_fn(context: Context)`.The provided `client_fn` has signature: {'cid': <Parameter \"cid: str\">}. You can import the `Context` like this: `from flwr.common import Context`\u001b[32m [repeated 2x across cluster]\u001b[0m\n",
      "\u001b[36m(ClientAppActor pid=50142)\u001b[0m             This is a deprecated feature. It will be removed\u001b[32m [repeated 2x across cluster]\u001b[0m\n",
      "\u001b[36m(ClientAppActor pid=50142)\u001b[0m             entirely in future versions of Flower.\u001b[32m [repeated 2x across cluster]\u001b[0m\n"
     ]
    },
    {
     "name": "stdout",
     "output_type": "stream",
     "text": [
      "\u001b[36m(ClientAppActor pid=50142)\u001b[0m Test Loss: 2.4523, Test Accuracy: 25.00%\n",
      "\u001b[36m(ClientAppActor pid=50135)\u001b[0m Test Loss: 2.0683, Test Accuracy: 50.00%\n"
     ]
    },
    {
     "name": "stderr",
     "output_type": "stream",
     "text": [
      "\u001b[92mINFO \u001b[0m:      aggregate_evaluate: received 20 results and 0 failures\n",
      "\u001b[92mINFO \u001b[0m:      \n",
      "\u001b[92mINFO \u001b[0m:      [ROUND 29]\n",
      "\u001b[92mINFO \u001b[0m:      configure_fit: strategy sampled 100 clients (out of 100)\n",
      "  0%|          | 0/1 [00:00<?, ?it/s]\u001b[32m [repeated 16x across cluster]\u001b[0m\n",
      "\u001b[36m(ClientAppActor pid=50135)\u001b[0m         \u001b[32m [repeated 81x across cluster]\u001b[0m\n",
      "\u001b[36m(ClientAppActor pid=50135)\u001b[0m \u001b[93mWARNING \u001b[0m:   DEPRECATED FEATURE: `client_fn` now expects a signature `def client_fn(context: Context)`.The provided `client_fn` has signature: {'cid': <Parameter \"cid: str\">}. You can import the `Context` like this: `from flwr.common import Context`\u001b[32m [repeated 35x across cluster]\u001b[0m\n",
      "\u001b[36m(ClientAppActor pid=50135)\u001b[0m             This is a deprecated feature. It will be removed\u001b[32m [repeated 35x across cluster]\u001b[0m\n",
      "\u001b[36m(ClientAppActor pid=50135)\u001b[0m             entirely in future versions of Flower.\u001b[32m [repeated 35x across cluster]\u001b[0m\n"
     ]
    },
    {
     "name": "stdout",
     "output_type": "stream",
     "text": [
      "\u001b[36m(ClientAppActor pid=50141)\u001b[0m Test Loss: 3.1865, Test Accuracy: 25.00%\u001b[32m [repeated 29x across cluster]\u001b[0m\n",
      "\u001b[36m(ClientAppActor pid=50142)\u001b[0m \n"
     ]
    },
    {
     "name": "stderr",
     "output_type": "stream",
     "text": [
      "  0%|          | 0/1 [00:00<?, ?it/s]\u001b[32m [repeated 23x across cluster]\u001b[0m\n",
      "\u001b[36m(ClientAppActor pid=50137)\u001b[0m         \u001b[32m [repeated 70x across cluster]\u001b[0m\n",
      "\u001b[36m(ClientAppActor pid=50137)\u001b[0m \u001b[93mWARNING \u001b[0m:   DEPRECATED FEATURE: `client_fn` now expects a signature `def client_fn(context: Context)`.The provided `client_fn` has signature: {'cid': <Parameter \"cid: str\">}. You can import the `Context` like this: `from flwr.common import Context`\u001b[32m [repeated 23x across cluster]\u001b[0m\n",
      "\u001b[36m(ClientAppActor pid=50137)\u001b[0m             This is a deprecated feature. It will be removed\u001b[32m [repeated 23x across cluster]\u001b[0m\n",
      "\u001b[36m(ClientAppActor pid=50137)\u001b[0m             entirely in future versions of Flower.\u001b[32m [repeated 23x across cluster]\u001b[0m\n"
     ]
    },
    {
     "name": "stdout",
     "output_type": "stream",
     "text": [
      "\u001b[36m(ClientAppActor pid=50142)\u001b[0m Test Loss: 2.7363, Test Accuracy: 37.50%\u001b[32m [repeated 22x across cluster]\u001b[0m\n"
     ]
    },
    {
     "name": "stderr",
     "output_type": "stream",
     "text": [
      "  0%|          | 0/1 [00:00<?, ?it/s]\u001b[32m [repeated 18x across cluster]\u001b[0m\n",
      "100%|██████████| 1/1 [00:01<00:00,  1.17s/it]\u001b[32m [repeated 56x across cluster]\u001b[0m\n",
      "\u001b[36m(ClientAppActor pid=50135)\u001b[0m \u001b[93mWARNING \u001b[0m:   DEPRECATED FEATURE: `client_fn` now expects a signature `def client_fn(context: Context)`.The provided `client_fn` has signature: {'cid': <Parameter \"cid: str\">}. You can import the `Context` like this: `from flwr.common import Context`\u001b[32m [repeated 18x across cluster]\u001b[0m\n",
      "\u001b[36m(ClientAppActor pid=50135)\u001b[0m             This is a deprecated feature. It will be removed\u001b[32m [repeated 18x across cluster]\u001b[0m\n",
      "\u001b[36m(ClientAppActor pid=50135)\u001b[0m             entirely in future versions of Flower.\u001b[32m [repeated 18x across cluster]\u001b[0m\n"
     ]
    },
    {
     "name": "stdout",
     "output_type": "stream",
     "text": [
      "\u001b[36m(ClientAppActor pid=50134)\u001b[0m Test Loss: 0.8838, Test Accuracy: 75.00%\u001b[32m [repeated 22x across cluster]\u001b[0m\n"
     ]
    },
    {
     "name": "stderr",
     "output_type": "stream",
     "text": [
      "  0%|          | 0/1 [00:00<?, ?it/s]\u001b[32m [repeated 25x across cluster]\u001b[0m\n",
      "\u001b[36m(ClientAppActor pid=50135)\u001b[0m         \u001b[32m [repeated 78x across cluster]\u001b[0m\n",
      "\u001b[36m(ClientAppActor pid=50135)\u001b[0m \u001b[93mWARNING \u001b[0m:   DEPRECATED FEATURE: `client_fn` now expects a signature `def client_fn(context: Context)`.The provided `client_fn` has signature: {'cid': <Parameter \"cid: str\">}. You can import the `Context` like this: `from flwr.common import Context`\u001b[32m [repeated 27x across cluster]\u001b[0m\n",
      "\u001b[36m(ClientAppActor pid=50135)\u001b[0m             This is a deprecated feature. It will be removed\u001b[32m [repeated 27x across cluster]\u001b[0m\n",
      "\u001b[36m(ClientAppActor pid=50135)\u001b[0m             entirely in future versions of Flower.\u001b[32m [repeated 27x across cluster]\u001b[0m\n"
     ]
    },
    {
     "name": "stdout",
     "output_type": "stream",
     "text": [
      "\u001b[36m(ClientAppActor pid=50137)\u001b[0m Test Loss: 2.9920, Test Accuracy: 37.50%\u001b[32m [repeated 25x across cluster]\u001b[0m\n"
     ]
    },
    {
     "name": "stderr",
     "output_type": "stream",
     "text": [
      "  0%|          | 0/1 [00:00<?, ?it/s]\u001b[32m [repeated 13x across cluster]\u001b[0m\n",
      "\u001b[36m(ClientAppActor pid=50143)\u001b[0m         \u001b[32m [repeated 43x across cluster]\u001b[0m\n",
      "\u001b[36m(ClientAppActor pid=50143)\u001b[0m \u001b[93mWARNING \u001b[0m:   DEPRECATED FEATURE: `client_fn` now expects a signature `def client_fn(context: Context)`.The provided `client_fn` has signature: {'cid': <Parameter \"cid: str\">}. You can import the `Context` like this: `from flwr.common import Context`\u001b[32m [repeated 13x across cluster]\u001b[0m\n",
      "\u001b[36m(ClientAppActor pid=50143)\u001b[0m             This is a deprecated feature. It will be removed\u001b[32m [repeated 13x across cluster]\u001b[0m\n",
      "\u001b[36m(ClientAppActor pid=50143)\u001b[0m             entirely in future versions of Flower.\u001b[32m [repeated 13x across cluster]\u001b[0m\n"
     ]
    },
    {
     "name": "stdout",
     "output_type": "stream",
     "text": [
      "\u001b[36m(ClientAppActor pid=50134)\u001b[0m Test Loss: 2.9776, Test Accuracy: 25.00%\u001b[32m [repeated 18x across cluster]\u001b[0m\n"
     ]
    },
    {
     "name": "stderr",
     "output_type": "stream",
     "text": [
      "\u001b[92mINFO \u001b[0m:      aggregate_fit: received 100 results and 0 failures\n",
      "\u001b[92mINFO \u001b[0m:      fit progress: (29, 2.5151778950410733, {'accuracy': 0.36190917516218724}, 982.3104197499997)\n",
      "\u001b[92mINFO \u001b[0m:      configure_evaluate: strategy sampled 20 clients (out of 100)\n"
     ]
    },
    {
     "name": "stdout",
     "output_type": "stream",
     "text": [
      "Test Loss: 2.5152, Test Accuracy: 36.19%\n"
     ]
    },
    {
     "name": "stderr",
     "output_type": "stream",
     "text": [
      "  0%|          | 0/1 [00:00<?, ?it/s]\u001b[32m [repeated 5x across cluster]\u001b[0m\n",
      "\u001b[36m(ClientAppActor pid=50141)\u001b[0m         \u001b[32m [repeated 16x across cluster]\u001b[0m\n",
      "\u001b[36m(ClientAppActor pid=50141)\u001b[0m \u001b[93mWARNING \u001b[0m:   DEPRECATED FEATURE: `client_fn` now expects a signature `def client_fn(context: Context)`.The provided `client_fn` has signature: {'cid': <Parameter \"cid: str\">}. You can import the `Context` like this: `from flwr.common import Context`\u001b[32m [repeated 4x across cluster]\u001b[0m\n",
      "\u001b[36m(ClientAppActor pid=50141)\u001b[0m             This is a deprecated feature. It will be removed\u001b[32m [repeated 4x across cluster]\u001b[0m\n",
      "\u001b[36m(ClientAppActor pid=50141)\u001b[0m             entirely in future versions of Flower.\u001b[32m [repeated 4x across cluster]\u001b[0m\n"
     ]
    },
    {
     "name": "stdout",
     "output_type": "stream",
     "text": [
      "\u001b[36m(ClientAppActor pid=50141)\u001b[0m Test Loss: 2.8230, Test Accuracy: 25.00%\u001b[32m [repeated 3x across cluster]\u001b[0m\n"
     ]
    },
    {
     "name": "stderr",
     "output_type": "stream",
     "text": [
      "\u001b[92mINFO \u001b[0m:      aggregate_evaluate: received 20 results and 0 failures\n",
      "\u001b[92mINFO \u001b[0m:      \n",
      "\u001b[92mINFO \u001b[0m:      [ROUND 30]\n",
      "\u001b[92mINFO \u001b[0m:      configure_fit: strategy sampled 100 clients (out of 100)\n",
      "  0%|          | 0/1 [00:00<?, ?it/s]\u001b[32m [repeated 19x across cluster]\u001b[0m\n",
      "100%|██████████| 1/1 [00:01<00:00,  1.09s/it]\u001b[32m [repeated 91x across cluster]\u001b[0m\n",
      "\u001b[36m(ClientAppActor pid=50137)\u001b[0m \u001b[93mWARNING \u001b[0m:   DEPRECATED FEATURE: `client_fn` now expects a signature `def client_fn(context: Context)`.The provided `client_fn` has signature: {'cid': <Parameter \"cid: str\">}. You can import the `Context` like this: `from flwr.common import Context`\u001b[32m [repeated 38x across cluster]\u001b[0m\n",
      "\u001b[36m(ClientAppActor pid=50137)\u001b[0m             This is a deprecated feature. It will be removed\u001b[32m [repeated 38x across cluster]\u001b[0m\n",
      "\u001b[36m(ClientAppActor pid=50137)\u001b[0m             entirely in future versions of Flower.\u001b[32m [repeated 38x across cluster]\u001b[0m\n"
     ]
    },
    {
     "name": "stdout",
     "output_type": "stream",
     "text": [
      "\u001b[36m(ClientAppActor pid=50135)\u001b[0m Test Loss: 2.7086, Test Accuracy: 50.00%\u001b[32m [repeated 36x across cluster]\u001b[0m\n"
     ]
    },
    {
     "name": "stderr",
     "output_type": "stream",
     "text": [
      "  0%|          | 0/1 [00:00<?, ?it/s]\u001b[32m [repeated 23x across cluster]\u001b[0m\n",
      "\u001b[36m(ClientAppActor pid=50135)\u001b[0m         \u001b[32m [repeated 71x across cluster]\u001b[0m\n",
      "\u001b[36m(ClientAppActor pid=50135)\u001b[0m \u001b[93mWARNING \u001b[0m:   DEPRECATED FEATURE: `client_fn` now expects a signature `def client_fn(context: Context)`.The provided `client_fn` has signature: {'cid': <Parameter \"cid: str\">}. You can import the `Context` like this: `from flwr.common import Context`\u001b[32m [repeated 25x across cluster]\u001b[0m\n",
      "\u001b[36m(ClientAppActor pid=50135)\u001b[0m             This is a deprecated feature. It will be removed\u001b[32m [repeated 25x across cluster]\u001b[0m\n",
      "\u001b[36m(ClientAppActor pid=50135)\u001b[0m             entirely in future versions of Flower.\u001b[32m [repeated 25x across cluster]\u001b[0m\n"
     ]
    },
    {
     "name": "stdout",
     "output_type": "stream",
     "text": [
      "\u001b[36m(ClientAppActor pid=50134)\u001b[0m Test Loss: 2.9744, Test Accuracy: 37.50%\u001b[32m [repeated 20x across cluster]\u001b[0m\n",
      "\u001b[36m(ClientAppActor pid=50142)\u001b[0m \n"
     ]
    },
    {
     "name": "stderr",
     "output_type": "stream",
     "text": [
      "  0%|          | 0/1 [00:00<?, ?it/s]\u001b[32m [repeated 19x across cluster]\u001b[0m\n",
      "\u001b[36m(ClientAppActor pid=50139)\u001b[0m         \u001b[32m [repeated 56x across cluster]\u001b[0m\n",
      "\u001b[36m(ClientAppActor pid=50139)\u001b[0m \u001b[93mWARNING \u001b[0m:   DEPRECATED FEATURE: `client_fn` now expects a signature `def client_fn(context: Context)`.The provided `client_fn` has signature: {'cid': <Parameter \"cid: str\">}. You can import the `Context` like this: `from flwr.common import Context`\u001b[32m [repeated 18x across cluster]\u001b[0m\n",
      "\u001b[36m(ClientAppActor pid=50139)\u001b[0m             This is a deprecated feature. It will be removed\u001b[32m [repeated 18x across cluster]\u001b[0m\n",
      "\u001b[36m(ClientAppActor pid=50139)\u001b[0m             entirely in future versions of Flower.\u001b[32m [repeated 18x across cluster]\u001b[0m\n"
     ]
    },
    {
     "name": "stdout",
     "output_type": "stream",
     "text": [
      "\u001b[36m(ClientAppActor pid=50143)\u001b[0m Test Loss: 2.2626, Test Accuracy: 62.50%\u001b[32m [repeated 20x across cluster]\u001b[0m\n",
      "\u001b[36m(ClientAppActor pid=50139)\u001b[0m \n"
     ]
    },
    {
     "name": "stderr",
     "output_type": "stream",
     "text": [
      "  0%|          | 0/1 [00:00<?, ?it/s]\u001b[32m [repeated 18x across cluster]\u001b[0m\n",
      "\u001b[36m(ClientAppActor pid=50143)\u001b[0m         \u001b[32m [repeated 55x across cluster]\u001b[0m\n",
      "\u001b[36m(ClientAppActor pid=50143)\u001b[0m \u001b[93mWARNING \u001b[0m:   DEPRECATED FEATURE: `client_fn` now expects a signature `def client_fn(context: Context)`.The provided `client_fn` has signature: {'cid': <Parameter \"cid: str\">}. You can import the `Context` like this: `from flwr.common import Context`\u001b[32m [repeated 18x across cluster]\u001b[0m\n",
      "\u001b[36m(ClientAppActor pid=50143)\u001b[0m             This is a deprecated feature. It will be removed\u001b[32m [repeated 18x across cluster]\u001b[0m\n",
      "\u001b[36m(ClientAppActor pid=50143)\u001b[0m             entirely in future versions of Flower.\u001b[32m [repeated 18x across cluster]\u001b[0m\n"
     ]
    },
    {
     "name": "stdout",
     "output_type": "stream",
     "text": [
      "\u001b[36m(ClientAppActor pid=50139)\u001b[0m Test Loss: 2.3439, Test Accuracy: 25.00%\u001b[32m [repeated 19x across cluster]\u001b[0m\n"
     ]
    },
    {
     "name": "stderr",
     "output_type": "stream",
     "text": [
      "  0%|          | 0/1 [00:00<?, ?it/s]\u001b[32m [repeated 20x across cluster]\u001b[0m\n",
      "100%|██████████| 1/1 [00:01<00:00,  1.11s/it]\u001b[32m [repeated 59x across cluster]\u001b[0m\n",
      "\u001b[36m(ClientAppActor pid=50143)\u001b[0m \u001b[93mWARNING \u001b[0m:   DEPRECATED FEATURE: `client_fn` now expects a signature `def client_fn(context: Context)`.The provided `client_fn` has signature: {'cid': <Parameter \"cid: str\">}. You can import the `Context` like this: `from flwr.common import Context`\u001b[32m [repeated 19x across cluster]\u001b[0m\n",
      "\u001b[36m(ClientAppActor pid=50143)\u001b[0m             This is a deprecated feature. It will be removed\u001b[32m [repeated 19x across cluster]\u001b[0m\n",
      "\u001b[36m(ClientAppActor pid=50143)\u001b[0m             entirely in future versions of Flower.\u001b[32m [repeated 19x across cluster]\u001b[0m\n"
     ]
    },
    {
     "name": "stdout",
     "output_type": "stream",
     "text": [
      "\u001b[36m(ClientAppActor pid=50141)\u001b[0m \n",
      "\u001b[36m(ClientAppActor pid=50137)\u001b[0m Test Loss: 2.2830, Test Accuracy: 37.50%\u001b[32m [repeated 22x across cluster]\u001b[0m\n"
     ]
    },
    {
     "name": "stderr",
     "output_type": "stream",
     "text": [
      "\u001b[92mINFO \u001b[0m:      aggregate_fit: received 100 results and 0 failures\n",
      "\u001b[92mINFO \u001b[0m:      fit progress: (30, 2.508310514337876, {'accuracy': 0.36190917516218724}, 1018.9635594579995)\n",
      "\u001b[92mINFO \u001b[0m:      configure_evaluate: strategy sampled 20 clients (out of 100)\n"
     ]
    },
    {
     "name": "stdout",
     "output_type": "stream",
     "text": [
      "Test Loss: 2.5083, Test Accuracy: 36.19%\n"
     ]
    },
    {
     "name": "stderr",
     "output_type": "stream",
     "text": [
      "  0%|          | 0/1 [00:00<?, ?it/s]\n",
      "\u001b[36m(ClientAppActor pid=50135)\u001b[0m         \u001b[32m [repeated 8x across cluster]\u001b[0m\n",
      "\u001b[36m(ClientAppActor pid=50135)\u001b[0m \u001b[93mWARNING \u001b[0m:   DEPRECATED FEATURE: `client_fn` now expects a signature `def client_fn(context: Context)`.The provided `client_fn` has signature: {'cid': <Parameter \"cid: str\">}. You can import the `Context` like this: `from flwr.common import Context`\u001b[32m [repeated 2x across cluster]\u001b[0m\n",
      "\u001b[36m(ClientAppActor pid=50135)\u001b[0m             This is a deprecated feature. It will be removed\u001b[32m [repeated 2x across cluster]\u001b[0m\n",
      "\u001b[36m(ClientAppActor pid=50135)\u001b[0m             entirely in future versions of Flower.\u001b[32m [repeated 2x across cluster]\u001b[0m\n"
     ]
    },
    {
     "name": "stdout",
     "output_type": "stream",
     "text": [
      "\u001b[36m(ClientAppActor pid=50135)\u001b[0m Test Loss: 1.7917, Test Accuracy: 25.00%\u001b[32m [repeated 3x across cluster]\u001b[0m\n",
      "\u001b[36m(ClientAppActor pid=50140)\u001b[0m \n"
     ]
    },
    {
     "name": "stderr",
     "output_type": "stream",
     "text": [
      "\u001b[92mINFO \u001b[0m:      aggregate_evaluate: received 20 results and 0 failures\n",
      "\u001b[92mINFO \u001b[0m:      \n",
      "\u001b[92mINFO \u001b[0m:      [ROUND 31]\n",
      "\u001b[92mINFO \u001b[0m:      configure_fit: strategy sampled 100 clients (out of 100)\n",
      "  0%|          | 0/1 [00:00<?, ?it/s]\n",
      "\u001b[36m(ClientAppActor pid=50139)\u001b[0m         \u001b[32m [repeated 95x across cluster]\u001b[0m\n",
      "\u001b[36m(ClientAppActor pid=50139)\u001b[0m \u001b[93mWARNING \u001b[0m:   DEPRECATED FEATURE: `client_fn` now expects a signature `def client_fn(context: Context)`.The provided `client_fn` has signature: {'cid': <Parameter \"cid: str\">}. You can import the `Context` like this: `from flwr.common import Context`\u001b[32m [repeated 41x across cluster]\u001b[0m\n",
      "\u001b[36m(ClientAppActor pid=50139)\u001b[0m             This is a deprecated feature. It will be removed\u001b[32m [repeated 41x across cluster]\u001b[0m\n",
      "\u001b[36m(ClientAppActor pid=50139)\u001b[0m             entirely in future versions of Flower.\u001b[32m [repeated 41x across cluster]\u001b[0m\n"
     ]
    },
    {
     "name": "stdout",
     "output_type": "stream",
     "text": [
      "\u001b[36m(ClientAppActor pid=50136)\u001b[0m Test Loss: 2.2902, Test Accuracy: 37.50%\u001b[32m [repeated 35x across cluster]\u001b[0m\n"
     ]
    },
    {
     "name": "stderr",
     "output_type": "stream",
     "text": [
      "  0%|          | 0/1 [00:00<?, ?it/s]\u001b[32m [repeated 22x across cluster]\u001b[0m\n",
      "100%|██████████| 1/1 [00:01<00:00,  1.42s/it]\u001b[32m [repeated 51x across cluster]\u001b[0m\n",
      "\u001b[36m(ClientAppActor pid=50140)\u001b[0m \u001b[93mWARNING \u001b[0m:   DEPRECATED FEATURE: `client_fn` now expects a signature `def client_fn(context: Context)`.The provided `client_fn` has signature: {'cid': <Parameter \"cid: str\">}. You can import the `Context` like this: `from flwr.common import Context`\u001b[32m [repeated 15x across cluster]\u001b[0m\n",
      "\u001b[36m(ClientAppActor pid=50140)\u001b[0m             This is a deprecated feature. It will be removed\u001b[32m [repeated 15x across cluster]\u001b[0m\n",
      "\u001b[36m(ClientAppActor pid=50140)\u001b[0m             entirely in future versions of Flower.\u001b[32m [repeated 15x across cluster]\u001b[0m\n"
     ]
    },
    {
     "name": "stdout",
     "output_type": "stream",
     "text": [
      "\u001b[36m(ClientAppActor pid=50136)\u001b[0m Test Loss: 2.4094, Test Accuracy: 25.00%\u001b[32m [repeated 20x across cluster]\u001b[0m\n"
     ]
    },
    {
     "name": "stderr",
     "output_type": "stream",
     "text": [
      "  0%|          | 0/1 [00:00<?, ?it/s]\u001b[32m [repeated 17x across cluster]\u001b[0m\n",
      "\u001b[36m(ClientAppActor pid=50135)\u001b[0m         \u001b[32m [repeated 45x across cluster]\u001b[0m\n",
      "\u001b[36m(ClientAppActor pid=50135)\u001b[0m \u001b[93mWARNING \u001b[0m:   DEPRECATED FEATURE: `client_fn` now expects a signature `def client_fn(context: Context)`.The provided `client_fn` has signature: {'cid': <Parameter \"cid: str\">}. You can import the `Context` like this: `from flwr.common import Context`\u001b[32m [repeated 14x across cluster]\u001b[0m\n",
      "\u001b[36m(ClientAppActor pid=50135)\u001b[0m             This is a deprecated feature. It will be removed\u001b[32m [repeated 14x across cluster]\u001b[0m\n",
      "\u001b[36m(ClientAppActor pid=50135)\u001b[0m             entirely in future versions of Flower.\u001b[32m [repeated 14x across cluster]\u001b[0m\n",
      "  0%|          | 0/1 [00:00<?, ?it/s]\u001b[32m [repeated 14x across cluster]\u001b[0m\n"
     ]
    },
    {
     "name": "stdout",
     "output_type": "stream",
     "text": [
      "\u001b[36m(ClientAppActor pid=50135)\u001b[0m Test Loss: 3.2455, Test Accuracy: 12.50%\u001b[32m [repeated 15x across cluster]\u001b[0m\n",
      "\u001b[36m(ClientAppActor pid=50140)\u001b[0m \n"
     ]
    },
    {
     "name": "stderr",
     "output_type": "stream",
     "text": [
      "\u001b[36m(ClientAppActor pid=50142)\u001b[0m         \u001b[32m [repeated 61x across cluster]\u001b[0m\n",
      "\u001b[36m(ClientAppActor pid=50142)\u001b[0m \u001b[93mWARNING \u001b[0m:   DEPRECATED FEATURE: `client_fn` now expects a signature `def client_fn(context: Context)`.The provided `client_fn` has signature: {'cid': <Parameter \"cid: str\">}. You can import the `Context` like this: `from flwr.common import Context`\u001b[32m [repeated 21x across cluster]\u001b[0m\n",
      "\u001b[36m(ClientAppActor pid=50142)\u001b[0m             This is a deprecated feature. It will be removed\u001b[32m [repeated 21x across cluster]\u001b[0m\n",
      "\u001b[36m(ClientAppActor pid=50142)\u001b[0m             entirely in future versions of Flower.\u001b[32m [repeated 21x across cluster]\u001b[0m\n",
      "  0%|          | 0/1 [00:00<?, ?it/s]\u001b[32m [repeated 20x across cluster]\u001b[0m\n"
     ]
    },
    {
     "name": "stdout",
     "output_type": "stream",
     "text": [
      "\u001b[36m(ClientAppActor pid=50142)\u001b[0m Test Loss: 2.5006, Test Accuracy: 50.00%\u001b[32m [repeated 21x across cluster]\u001b[0m\n"
     ]
    },
    {
     "name": "stderr",
     "output_type": "stream",
     "text": [
      "100%|██████████| 1/1 [00:00<00:00,  1.09it/s]\u001b[32m [repeated 19x across cluster]\u001b[0m\n",
      "\u001b[36m(ClientAppActor pid=50140)\u001b[0m \u001b[93mWARNING \u001b[0m:   DEPRECATED FEATURE: `client_fn` now expects a signature `def client_fn(context: Context)`.The provided `client_fn` has signature: {'cid': <Parameter \"cid: str\">}. You can import the `Context` like this: `from flwr.common import Context`\u001b[32m [repeated 5x across cluster]\u001b[0m\n",
      "\u001b[36m(ClientAppActor pid=50140)\u001b[0m             This is a deprecated feature. It will be removed\u001b[32m [repeated 5x across cluster]\u001b[0m\n",
      "\u001b[36m(ClientAppActor pid=50140)\u001b[0m             entirely in future versions of Flower.\u001b[32m [repeated 5x across cluster]\u001b[0m\n",
      "  0%|          | 0/1 [00:00<?, ?it/s]\u001b[32m [repeated 9x across cluster]\u001b[0m\n"
     ]
    },
    {
     "name": "stdout",
     "output_type": "stream",
     "text": [
      "\u001b[36m(ClientAppActor pid=50138)\u001b[0m Test Loss: 2.4610, Test Accuracy: 25.00%\u001b[32m [repeated 10x across cluster]\u001b[0m\n",
      "\u001b[36m(ClientAppActor pid=50143)\u001b[0m \n"
     ]
    },
    {
     "name": "stderr",
     "output_type": "stream",
     "text": [
      "\u001b[92mINFO \u001b[0m:      aggregate_fit: received 100 results and 0 failures\n",
      "\u001b[92mINFO \u001b[0m:      fit progress: (31, 2.502011453404146, {'accuracy': 0.36098239110287306}, 1063.1440642500002)\n",
      "\u001b[92mINFO \u001b[0m:      configure_evaluate: strategy sampled 20 clients (out of 100)\n"
     ]
    },
    {
     "name": "stdout",
     "output_type": "stream",
     "text": [
      "Test Loss: 2.5020, Test Accuracy: 36.10%\n"
     ]
    },
    {
     "name": "stderr",
     "output_type": "stream",
     "text": [
      "\u001b[36m(ClientAppActor pid=50141)\u001b[0m         \u001b[32m [repeated 75x across cluster]\u001b[0m\n",
      "\u001b[36m(ClientAppActor pid=50141)\u001b[0m \u001b[93mWARNING \u001b[0m:   DEPRECATED FEATURE: `client_fn` now expects a signature `def client_fn(context: Context)`.The provided `client_fn` has signature: {'cid': <Parameter \"cid: str\">}. You can import the `Context` like this: `from flwr.common import Context`\u001b[32m [repeated 24x across cluster]\u001b[0m\n",
      "\u001b[36m(ClientAppActor pid=50141)\u001b[0m             This is a deprecated feature. It will be removed\u001b[32m [repeated 24x across cluster]\u001b[0m\n",
      "\u001b[36m(ClientAppActor pid=50141)\u001b[0m             entirely in future versions of Flower.\u001b[32m [repeated 24x across cluster]\u001b[0m\n",
      "  0%|          | 0/1 [00:00<?, ?it/s]\u001b[32m [repeated 17x across cluster]\u001b[0m\n"
     ]
    },
    {
     "name": "stdout",
     "output_type": "stream",
     "text": [
      "\u001b[36m(ClientAppActor pid=50141)\u001b[0m Test Loss: 2.0928, Test Accuracy: 50.00%\u001b[32m [repeated 19x across cluster]\u001b[0m\n",
      "\u001b[36m(ClientAppActor pid=50141)\u001b[0m \n"
     ]
    },
    {
     "name": "stderr",
     "output_type": "stream",
     "text": [
      "\u001b[92mINFO \u001b[0m:      aggregate_evaluate: received 20 results and 0 failures\n",
      "\u001b[92mINFO \u001b[0m:      \n",
      "\u001b[92mINFO \u001b[0m:      [ROUND 32]\n",
      "\u001b[92mINFO \u001b[0m:      configure_fit: strategy sampled 100 clients (out of 100)\n",
      "100%|██████████| 1/1 [00:01<00:00,  1.03s/it]\u001b[32m [repeated 90x across cluster]\u001b[0m\n",
      "\u001b[36m(ClientAppActor pid=50135)\u001b[0m \u001b[93mWARNING \u001b[0m:   DEPRECATED FEATURE: `client_fn` now expects a signature `def client_fn(context: Context)`.The provided `client_fn` has signature: {'cid': <Parameter \"cid: str\">}. You can import the `Context` like this: `from flwr.common import Context`\u001b[32m [repeated 39x across cluster]\u001b[0m\n",
      "\u001b[36m(ClientAppActor pid=50135)\u001b[0m             This is a deprecated feature. It will be removed\u001b[32m [repeated 39x across cluster]\u001b[0m\n",
      "\u001b[36m(ClientAppActor pid=50135)\u001b[0m             entirely in future versions of Flower.\u001b[32m [repeated 39x across cluster]\u001b[0m\n",
      "  0%|          | 0/1 [00:00<?, ?it/s]\u001b[32m [repeated 20x across cluster]\u001b[0m\n"
     ]
    },
    {
     "name": "stdout",
     "output_type": "stream",
     "text": [
      "\u001b[36m(ClientAppActor pid=50136)\u001b[0m Test Loss: 3.4506, Test Accuracy: 37.50%\u001b[32m [repeated 32x across cluster]\u001b[0m\n",
      "\u001b[36m(ClientAppActor pid=50141)\u001b[0m \n"
     ]
    },
    {
     "name": "stderr",
     "output_type": "stream",
     "text": [
      "\u001b[36m(ClientAppActor pid=50136)\u001b[0m         \u001b[32m [repeated 81x across cluster]\u001b[0m\n",
      "\u001b[36m(ClientAppActor pid=50136)\u001b[0m \u001b[93mWARNING \u001b[0m:   DEPRECATED FEATURE: `client_fn` now expects a signature `def client_fn(context: Context)`.The provided `client_fn` has signature: {'cid': <Parameter \"cid: str\">}. You can import the `Context` like this: `from flwr.common import Context`\u001b[32m [repeated 26x across cluster]\u001b[0m\n",
      "\u001b[36m(ClientAppActor pid=50136)\u001b[0m             This is a deprecated feature. It will be removed\u001b[32m [repeated 26x across cluster]\u001b[0m\n",
      "\u001b[36m(ClientAppActor pid=50136)\u001b[0m             entirely in future versions of Flower.\u001b[32m [repeated 26x across cluster]\u001b[0m\n",
      "  0%|          | 0/1 [00:00<?, ?it/s]\u001b[32m [repeated 25x across cluster]\u001b[0m\n"
     ]
    },
    {
     "name": "stdout",
     "output_type": "stream",
     "text": [
      "\u001b[36m(ClientAppActor pid=50135)\u001b[0m Test Loss: 2.2210, Test Accuracy: 37.50%\u001b[32m [repeated 27x across cluster]\u001b[0m\n"
     ]
    },
    {
     "name": "stderr",
     "output_type": "stream",
     "text": [
      "\u001b[36m(ClientAppActor pid=50140)\u001b[0m         \u001b[32m [repeated 72x across cluster]\u001b[0m\n",
      "\u001b[36m(ClientAppActor pid=50140)\u001b[0m \u001b[93mWARNING \u001b[0m:   DEPRECATED FEATURE: `client_fn` now expects a signature `def client_fn(context: Context)`.The provided `client_fn` has signature: {'cid': <Parameter \"cid: str\">}. You can import the `Context` like this: `from flwr.common import Context`\u001b[32m [repeated 24x across cluster]\u001b[0m\n",
      "\u001b[36m(ClientAppActor pid=50140)\u001b[0m             This is a deprecated feature. It will be removed\u001b[32m [repeated 24x across cluster]\u001b[0m\n",
      "\u001b[36m(ClientAppActor pid=50140)\u001b[0m             entirely in future versions of Flower.\u001b[32m [repeated 24x across cluster]\u001b[0m\n",
      "  0%|          | 0/1 [00:00<?, ?it/s]\u001b[32m [repeated 23x across cluster]\u001b[0m\n"
     ]
    },
    {
     "name": "stdout",
     "output_type": "stream",
     "text": [
      "\u001b[36m(ClientAppActor pid=50134)\u001b[0m Test Loss: 2.6055, Test Accuracy: 50.00%\u001b[32m [repeated 24x across cluster]\u001b[0m\n"
     ]
    },
    {
     "name": "stderr",
     "output_type": "stream",
     "text": [
      "100%|██████████| 1/1 [00:01<00:00,  1.21s/it]\u001b[32m [repeated 68x across cluster]\u001b[0m\n",
      "\u001b[36m(ClientAppActor pid=50139)\u001b[0m \u001b[93mWARNING \u001b[0m:   DEPRECATED FEATURE: `client_fn` now expects a signature `def client_fn(context: Context)`.The provided `client_fn` has signature: {'cid': <Parameter \"cid: str\">}. You can import the `Context` like this: `from flwr.common import Context`\u001b[32m [repeated 23x across cluster]\u001b[0m\n",
      "\u001b[36m(ClientAppActor pid=50139)\u001b[0m             This is a deprecated feature. It will be removed\u001b[32m [repeated 23x across cluster]\u001b[0m\n",
      "\u001b[36m(ClientAppActor pid=50139)\u001b[0m             entirely in future versions of Flower.\u001b[32m [repeated 23x across cluster]\u001b[0m\n",
      "  0%|          | 0/1 [00:00<?, ?it/s]\u001b[32m [repeated 25x across cluster]\u001b[0m\n"
     ]
    },
    {
     "name": "stdout",
     "output_type": "stream",
     "text": [
      "\u001b[36m(ClientAppActor pid=50140)\u001b[0m Test Loss: 2.7940, Test Accuracy: 37.50%\u001b[32m [repeated 22x across cluster]\u001b[0m\n"
     ]
    },
    {
     "name": "stderr",
     "output_type": "stream",
     "text": [
      "\u001b[92mINFO \u001b[0m:      aggregate_fit: received 100 results and 0 failures\n",
      "\u001b[92mINFO \u001b[0m:      fit progress: (32, 2.4960938341477337, {'accuracy': 0.36051899907321594}, 1097.5535380410001)\n",
      "\u001b[92mINFO \u001b[0m:      configure_evaluate: strategy sampled 20 clients (out of 100)\n"
     ]
    },
    {
     "name": "stdout",
     "output_type": "stream",
     "text": [
      "Test Loss: 2.4961, Test Accuracy: 36.05%\n"
     ]
    },
    {
     "name": "stderr",
     "output_type": "stream",
     "text": [
      "\u001b[36m(ClientAppActor pid=50141)\u001b[0m         \u001b[32m [repeated 31x across cluster]\u001b[0m\n",
      "\u001b[36m(ClientAppActor pid=50141)\u001b[0m \u001b[93mWARNING \u001b[0m:   DEPRECATED FEATURE: `client_fn` now expects a signature `def client_fn(context: Context)`.The provided `client_fn` has signature: {'cid': <Parameter \"cid: str\">}. You can import the `Context` like this: `from flwr.common import Context`\u001b[32m [repeated 8x across cluster]\u001b[0m\n",
      "\u001b[36m(ClientAppActor pid=50141)\u001b[0m             This is a deprecated feature. It will be removed\u001b[32m [repeated 8x across cluster]\u001b[0m\n",
      "\u001b[36m(ClientAppActor pid=50141)\u001b[0m             entirely in future versions of Flower.\u001b[32m [repeated 8x across cluster]\u001b[0m\n",
      "  0%|          | 0/1 [00:00<?, ?it/s]\u001b[32m [repeated 7x across cluster]\u001b[0m\n"
     ]
    },
    {
     "name": "stdout",
     "output_type": "stream",
     "text": [
      "\u001b[36m(ClientAppActor pid=50141)\u001b[0m Test Loss: 1.9526, Test Accuracy: 50.00%\u001b[32m [repeated 15x across cluster]\u001b[0m\n"
     ]
    },
    {
     "name": "stderr",
     "output_type": "stream",
     "text": [
      "\u001b[92mINFO \u001b[0m:      aggregate_evaluate: received 20 results and 0 failures\n",
      "\u001b[92mINFO \u001b[0m:      \n",
      "\u001b[92mINFO \u001b[0m:      [ROUND 33]\n",
      "\u001b[92mINFO \u001b[0m:      configure_fit: strategy sampled 100 clients (out of 100)\n",
      "\u001b[36m(ClientAppActor pid=50139)\u001b[0m         \u001b[32m [repeated 88x across cluster]\u001b[0m\n",
      "\u001b[36m(ClientAppActor pid=50139)\u001b[0m \u001b[93mWARNING \u001b[0m:   DEPRECATED FEATURE: `client_fn` now expects a signature `def client_fn(context: Context)`.The provided `client_fn` has signature: {'cid': <Parameter \"cid: str\">}. You can import the `Context` like this: `from flwr.common import Context`\u001b[32m [repeated 39x across cluster]\u001b[0m\n",
      "\u001b[36m(ClientAppActor pid=50139)\u001b[0m             This is a deprecated feature. It will be removed\u001b[32m [repeated 39x across cluster]\u001b[0m\n",
      "\u001b[36m(ClientAppActor pid=50139)\u001b[0m             entirely in future versions of Flower.\u001b[32m [repeated 39x across cluster]\u001b[0m\n",
      "  0%|          | 0/1 [00:00<?, ?it/s]\u001b[32m [repeated 16x across cluster]\u001b[0m\n"
     ]
    },
    {
     "name": "stdout",
     "output_type": "stream",
     "text": [
      "\u001b[36m(ClientAppActor pid=50135)\u001b[0m Test Loss: 2.4093, Test Accuracy: 37.50%\u001b[32m [repeated 30x across cluster]\u001b[0m\n"
     ]
    },
    {
     "name": "stderr",
     "output_type": "stream",
     "text": [
      "100%|██████████| 1/1 [00:01<00:00,  1.18s/it]\u001b[32m [repeated 69x across cluster]\u001b[0m\n",
      "\u001b[36m(ClientAppActor pid=50143)\u001b[0m \u001b[93mWARNING \u001b[0m:   DEPRECATED FEATURE: `client_fn` now expects a signature `def client_fn(context: Context)`.The provided `client_fn` has signature: {'cid': <Parameter \"cid: str\">}. You can import the `Context` like this: `from flwr.common import Context`\u001b[32m [repeated 22x across cluster]\u001b[0m\n",
      "\u001b[36m(ClientAppActor pid=50143)\u001b[0m             This is a deprecated feature. It will be removed\u001b[32m [repeated 22x across cluster]\u001b[0m\n",
      "\u001b[36m(ClientAppActor pid=50143)\u001b[0m             entirely in future versions of Flower.\u001b[32m [repeated 22x across cluster]\u001b[0m\n",
      "  0%|          | 0/1 [00:00<?, ?it/s]\u001b[32m [repeated 26x across cluster]\u001b[0m\n"
     ]
    },
    {
     "name": "stdout",
     "output_type": "stream",
     "text": [
      "\u001b[36m(ClientAppActor pid=50136)\u001b[0m Test Loss: 0.9171, Test Accuracy: 75.00%\u001b[32m [repeated 26x across cluster]\u001b[0m\n"
     ]
    },
    {
     "name": "stderr",
     "output_type": "stream",
     "text": [
      "100%|██████████| 1/1 [00:01<00:00,  1.00s/it]\u001b[32m [repeated 85x across cluster]\u001b[0m\n",
      "\u001b[36m(ClientAppActor pid=50135)\u001b[0m \u001b[93mWARNING \u001b[0m:   DEPRECATED FEATURE: `client_fn` now expects a signature `def client_fn(context: Context)`.The provided `client_fn` has signature: {'cid': <Parameter \"cid: str\">}. You can import the `Context` like this: `from flwr.common import Context`\u001b[32m [repeated 28x across cluster]\u001b[0m\n",
      "\u001b[36m(ClientAppActor pid=50135)\u001b[0m             This is a deprecated feature. It will be removed\u001b[32m [repeated 28x across cluster]\u001b[0m\n",
      "\u001b[36m(ClientAppActor pid=50135)\u001b[0m             entirely in future versions of Flower.\u001b[32m [repeated 28x across cluster]\u001b[0m\n",
      "  0%|          | 0/1 [00:00<?, ?it/s]\u001b[32m [repeated 27x across cluster]\u001b[0m\n"
     ]
    },
    {
     "name": "stdout",
     "output_type": "stream",
     "text": [
      "\u001b[36m(ClientAppActor pid=50134)\u001b[0m Test Loss: 3.1919, Test Accuracy: 25.00%\u001b[32m [repeated 28x across cluster]\u001b[0m\n"
     ]
    },
    {
     "name": "stderr",
     "output_type": "stream",
     "text": [
      "100%|██████████| 1/1 [00:00<00:00,  1.04it/s]\u001b[32m [repeated 64x across cluster]\u001b[0m\n",
      "\u001b[36m(ClientAppActor pid=50135)\u001b[0m \u001b[93mWARNING \u001b[0m:   DEPRECATED FEATURE: `client_fn` now expects a signature `def client_fn(context: Context)`.The provided `client_fn` has signature: {'cid': <Parameter \"cid: str\">}. You can import the `Context` like this: `from flwr.common import Context`\u001b[32m [repeated 21x across cluster]\u001b[0m\n",
      "\u001b[36m(ClientAppActor pid=50135)\u001b[0m             This is a deprecated feature. It will be removed\u001b[32m [repeated 21x across cluster]\u001b[0m\n",
      "\u001b[36m(ClientAppActor pid=50135)\u001b[0m             entirely in future versions of Flower.\u001b[32m [repeated 21x across cluster]\u001b[0m\n",
      "  0%|          | 0/1 [00:00<?, ?it/s]\u001b[32m [repeated 22x across cluster]\u001b[0m\n"
     ]
    },
    {
     "name": "stdout",
     "output_type": "stream",
     "text": [
      "\u001b[36m(ClientAppActor pid=50140)\u001b[0m Test Loss: 1.5593, Test Accuracy: 50.00%\u001b[32m [repeated 23x across cluster]\u001b[0m\n"
     ]
    },
    {
     "name": "stderr",
     "output_type": "stream",
     "text": [
      "\u001b[92mINFO \u001b[0m:      aggregate_fit: received 100 results and 0 failures\n",
      "\u001b[92mINFO \u001b[0m:      fit progress: (33, 2.490582971011891, {'accuracy': 0.36190917516218724}, 1130.434725)\n",
      "\u001b[92mINFO \u001b[0m:      configure_evaluate: strategy sampled 20 clients (out of 100)\n"
     ]
    },
    {
     "name": "stdout",
     "output_type": "stream",
     "text": [
      "Test Loss: 2.4906, Test Accuracy: 36.19%\n"
     ]
    },
    {
     "name": "stderr",
     "output_type": "stream",
     "text": [
      "\u001b[36m(ClientAppActor pid=50142)\u001b[0m         \u001b[32m [repeated 34x across cluster]\u001b[0m\n",
      "\u001b[36m(ClientAppActor pid=50142)\u001b[0m \u001b[93mWARNING \u001b[0m:   DEPRECATED FEATURE: `client_fn` now expects a signature `def client_fn(context: Context)`.The provided `client_fn` has signature: {'cid': <Parameter \"cid: str\">}. You can import the `Context` like this: `from flwr.common import Context`\u001b[32m [repeated 10x across cluster]\u001b[0m\n",
      "\u001b[36m(ClientAppActor pid=50142)\u001b[0m             This is a deprecated feature. It will be removed\u001b[32m [repeated 10x across cluster]\u001b[0m\n",
      "\u001b[36m(ClientAppActor pid=50142)\u001b[0m             entirely in future versions of Flower.\u001b[32m [repeated 10x across cluster]\u001b[0m\n",
      "  0%|          | 0/1 [00:00<?, ?it/s]\u001b[32m [repeated 9x across cluster]\u001b[0m\n"
     ]
    },
    {
     "name": "stdout",
     "output_type": "stream",
     "text": [
      "\u001b[36m(ClientAppActor pid=50142)\u001b[0m Test Loss: 4.0175, Test Accuracy: 12.50%\u001b[32m [repeated 13x across cluster]\u001b[0m\n"
     ]
    },
    {
     "name": "stderr",
     "output_type": "stream",
     "text": [
      "\u001b[92mINFO \u001b[0m:      aggregate_evaluate: received 20 results and 0 failures\n",
      "\u001b[92mINFO \u001b[0m:      \n",
      "\u001b[92mINFO \u001b[0m:      [ROUND 34]\n",
      "\u001b[92mINFO \u001b[0m:      configure_fit: strategy sampled 100 clients (out of 100)\n",
      "100%|██████████| 1/1 [00:01<00:00,  1.25s/it]\u001b[32m [repeated 109x across cluster]\u001b[0m\n",
      "\u001b[36m(ClientAppActor pid=50142)\u001b[0m \u001b[93mWARNING \u001b[0m:   DEPRECATED FEATURE: `client_fn` now expects a signature `def client_fn(context: Context)`.The provided `client_fn` has signature: {'cid': <Parameter \"cid: str\">}. You can import the `Context` like this: `from flwr.common import Context`\u001b[32m [repeated 45x across cluster]\u001b[0m\n",
      "\u001b[36m(ClientAppActor pid=50142)\u001b[0m             This is a deprecated feature. It will be removed\u001b[32m [repeated 45x across cluster]\u001b[0m\n",
      "\u001b[36m(ClientAppActor pid=50142)\u001b[0m             entirely in future versions of Flower.\u001b[32m [repeated 45x across cluster]\u001b[0m\n",
      "  0%|          | 0/1 [00:00<?, ?it/s]\u001b[32m [repeated 26x across cluster]\u001b[0m\n"
     ]
    },
    {
     "name": "stdout",
     "output_type": "stream",
     "text": [
      "\u001b[36m(ClientAppActor pid=50134)\u001b[0m Test Loss: 2.8680, Test Accuracy: 37.50%\u001b[32m [repeated 39x across cluster]\u001b[0m\n"
     ]
    },
    {
     "name": "stderr",
     "output_type": "stream",
     "text": [
      "100%|██████████| 1/1 [00:01<00:00,  1.18s/it]\u001b[32m [repeated 79x across cluster]\u001b[0m\n",
      "\u001b[36m(ClientAppActor pid=50143)\u001b[0m \u001b[93mWARNING \u001b[0m:   DEPRECATED FEATURE: `client_fn` now expects a signature `def client_fn(context: Context)`.The provided `client_fn` has signature: {'cid': <Parameter \"cid: str\">}. You can import the `Context` like this: `from flwr.common import Context`\u001b[32m [repeated 26x across cluster]\u001b[0m\n",
      "\u001b[36m(ClientAppActor pid=50143)\u001b[0m             This is a deprecated feature. It will be removed\u001b[32m [repeated 26x across cluster]\u001b[0m\n",
      "\u001b[36m(ClientAppActor pid=50143)\u001b[0m             entirely in future versions of Flower.\u001b[32m [repeated 26x across cluster]\u001b[0m\n",
      "  0%|          | 0/1 [00:00<?, ?it/s]\u001b[32m [repeated 26x across cluster]\u001b[0m\n"
     ]
    },
    {
     "name": "stdout",
     "output_type": "stream",
     "text": [
      "\u001b[36m(ClientAppActor pid=50138)\u001b[0m Test Loss: 2.1288, Test Accuracy: 50.00%\u001b[32m [repeated 27x across cluster]\u001b[0m\n",
      "\u001b[36m(ClientAppActor pid=50137)\u001b[0m \n"
     ]
    },
    {
     "name": "stderr",
     "output_type": "stream",
     "text": [
      "100%|██████████| 1/1 [00:01<00:00,  1.57s/it]\u001b[32m [repeated 70x across cluster]\u001b[0m\n",
      "\u001b[36m(ClientAppActor pid=50137)\u001b[0m \u001b[93mWARNING \u001b[0m:   DEPRECATED FEATURE: `client_fn` now expects a signature `def client_fn(context: Context)`.The provided `client_fn` has signature: {'cid': <Parameter \"cid: str\">}. You can import the `Context` like this: `from flwr.common import Context`\u001b[32m [repeated 24x across cluster]\u001b[0m\n",
      "\u001b[36m(ClientAppActor pid=50137)\u001b[0m             This is a deprecated feature. It will be removed\u001b[32m [repeated 24x across cluster]\u001b[0m\n",
      "\u001b[36m(ClientAppActor pid=50137)\u001b[0m             entirely in future versions of Flower.\u001b[32m [repeated 24x across cluster]\u001b[0m\n",
      "  0%|          | 0/1 [00:00<?, ?it/s]\u001b[32m [repeated 23x across cluster]\u001b[0m\n"
     ]
    },
    {
     "name": "stdout",
     "output_type": "stream",
     "text": [
      "\u001b[36m(ClientAppActor pid=50135)\u001b[0m Test Loss: 1.9622, Test Accuracy: 62.50%\u001b[32m [repeated 22x across cluster]\u001b[0m\n"
     ]
    },
    {
     "name": "stderr",
     "output_type": "stream",
     "text": [
      "\u001b[36m(ClientAppActor pid=50141)\u001b[0m         \u001b[32m [repeated 50x across cluster]\u001b[0m\n",
      "\u001b[36m(ClientAppActor pid=50141)\u001b[0m \u001b[93mWARNING \u001b[0m:   DEPRECATED FEATURE: `client_fn` now expects a signature `def client_fn(context: Context)`.The provided `client_fn` has signature: {'cid': <Parameter \"cid: str\">}. You can import the `Context` like this: `from flwr.common import Context`\u001b[32m [repeated 16x across cluster]\u001b[0m\n",
      "\u001b[36m(ClientAppActor pid=50141)\u001b[0m             This is a deprecated feature. It will be removed\u001b[32m [repeated 16x across cluster]\u001b[0m\n",
      "\u001b[36m(ClientAppActor pid=50141)\u001b[0m             entirely in future versions of Flower.\u001b[32m [repeated 16x across cluster]\u001b[0m\n",
      "  0%|          | 0/1 [00:00<?, ?it/s]\u001b[32m [repeated 16x across cluster]\u001b[0m\n"
     ]
    },
    {
     "name": "stdout",
     "output_type": "stream",
     "text": [
      "\u001b[36m(ClientAppActor pid=50138)\u001b[0m Test Loss: 1.8161, Test Accuracy: 25.00%\u001b[32m [repeated 18x across cluster]\u001b[0m\n"
     ]
    },
    {
     "name": "stderr",
     "output_type": "stream",
     "text": [
      "\u001b[92mINFO \u001b[0m:      aggregate_fit: received 100 results and 0 failures\n",
      "\u001b[92mINFO \u001b[0m:      fit progress: (34, 2.4848341941833496, {'accuracy': 0.3637627432808156}, 1164.2724554159995)\n",
      "\u001b[92mINFO \u001b[0m:      configure_evaluate: strategy sampled 20 clients (out of 100)\n"
     ]
    },
    {
     "name": "stdout",
     "output_type": "stream",
     "text": [
      "Test Loss: 2.4848, Test Accuracy: 36.38%\n"
     ]
    },
    {
     "name": "stderr",
     "output_type": "stream",
     "text": [
      "\u001b[36m(ClientAppActor pid=50143)\u001b[0m         \u001b[32m [repeated 32x across cluster]\u001b[0m\n",
      "\u001b[36m(ClientAppActor pid=50143)\u001b[0m \u001b[93mWARNING \u001b[0m:   DEPRECATED FEATURE: `client_fn` now expects a signature `def client_fn(context: Context)`.The provided `client_fn` has signature: {'cid': <Parameter \"cid: str\">}. You can import the `Context` like this: `from flwr.common import Context`\u001b[32m [repeated 9x across cluster]\u001b[0m\n",
      "\u001b[36m(ClientAppActor pid=50143)\u001b[0m             This is a deprecated feature. It will be removed\u001b[32m [repeated 9x across cluster]\u001b[0m\n",
      "\u001b[36m(ClientAppActor pid=50143)\u001b[0m             entirely in future versions of Flower.\u001b[32m [repeated 9x across cluster]\u001b[0m\n",
      "  0%|          | 0/1 [00:00<?, ?it/s]\u001b[32m [repeated 9x across cluster]\u001b[0m\n"
     ]
    },
    {
     "name": "stdout",
     "output_type": "stream",
     "text": [
      "\u001b[36m(ClientAppActor pid=50143)\u001b[0m Test Loss: 1.3816, Test Accuracy: 75.00%\u001b[32m [repeated 14x across cluster]\u001b[0m\n"
     ]
    },
    {
     "name": "stderr",
     "output_type": "stream",
     "text": [
      "\u001b[92mINFO \u001b[0m:      aggregate_evaluate: received 20 results and 0 failures\n",
      "\u001b[92mINFO \u001b[0m:      \n",
      "\u001b[92mINFO \u001b[0m:      [ROUND 35]\n",
      "\u001b[92mINFO \u001b[0m:      configure_fit: strategy sampled 100 clients (out of 100)\n",
      "\u001b[36m(ClientAppActor pid=50134)\u001b[0m         \u001b[32m [repeated 77x across cluster]\u001b[0m\n",
      "\u001b[36m(ClientAppActor pid=50134)\u001b[0m \u001b[93mWARNING \u001b[0m:   DEPRECATED FEATURE: `client_fn` now expects a signature `def client_fn(context: Context)`.The provided `client_fn` has signature: {'cid': <Parameter \"cid: str\">}. You can import the `Context` like this: `from flwr.common import Context`\u001b[32m [repeated 34x across cluster]\u001b[0m\n",
      "\u001b[36m(ClientAppActor pid=50134)\u001b[0m             This is a deprecated feature. It will be removed\u001b[32m [repeated 34x across cluster]\u001b[0m\n",
      "\u001b[36m(ClientAppActor pid=50134)\u001b[0m             entirely in future versions of Flower.\u001b[32m [repeated 34x across cluster]\u001b[0m\n",
      "  0%|          | 0/1 [00:00<?, ?it/s]\u001b[32m [repeated 14x across cluster]\u001b[0m\n"
     ]
    },
    {
     "name": "stdout",
     "output_type": "stream",
     "text": [
      "\u001b[36m(ClientAppActor pid=50141)\u001b[0m Test Loss: 2.8397, Test Accuracy: 50.00%\u001b[32m [repeated 29x across cluster]\u001b[0m\n"
     ]
    },
    {
     "name": "stderr",
     "output_type": "stream",
     "text": [
      "100%|██████████| 1/1 [00:01<00:00,  1.06s/it]\u001b[32m [repeated 76x across cluster]\u001b[0m\n",
      "\u001b[36m(ClientAppActor pid=50135)\u001b[0m \u001b[93mWARNING \u001b[0m:   DEPRECATED FEATURE: `client_fn` now expects a signature `def client_fn(context: Context)`.The provided `client_fn` has signature: {'cid': <Parameter \"cid: str\">}. You can import the `Context` like this: `from flwr.common import Context`\u001b[32m [repeated 25x across cluster]\u001b[0m\n",
      "\u001b[36m(ClientAppActor pid=50135)\u001b[0m             This is a deprecated feature. It will be removed\u001b[32m [repeated 25x across cluster]\u001b[0m\n",
      "\u001b[36m(ClientAppActor pid=50135)\u001b[0m             entirely in future versions of Flower.\u001b[32m [repeated 25x across cluster]\u001b[0m\n",
      "  0%|          | 0/1 [00:00<?, ?it/s]\u001b[32m [repeated 25x across cluster]\u001b[0m\n"
     ]
    },
    {
     "name": "stdout",
     "output_type": "stream",
     "text": [
      "\u001b[36m(ClientAppActor pid=50139)\u001b[0m Test Loss: 1.9439, Test Accuracy: 37.50%\u001b[32m [repeated 28x across cluster]\u001b[0m\n"
     ]
    },
    {
     "name": "stderr",
     "output_type": "stream",
     "text": [
      "\u001b[36m(ClientAppActor pid=50135)\u001b[0m         \u001b[32m [repeated 86x across cluster]\u001b[0m\n",
      "\u001b[36m(ClientAppActor pid=50135)\u001b[0m \u001b[93mWARNING \u001b[0m:   DEPRECATED FEATURE: `client_fn` now expects a signature `def client_fn(context: Context)`.The provided `client_fn` has signature: {'cid': <Parameter \"cid: str\">}. You can import the `Context` like this: `from flwr.common import Context`\u001b[32m [repeated 29x across cluster]\u001b[0m\n",
      "\u001b[36m(ClientAppActor pid=50135)\u001b[0m             This is a deprecated feature. It will be removed\u001b[32m [repeated 29x across cluster]\u001b[0m\n",
      "\u001b[36m(ClientAppActor pid=50135)\u001b[0m             entirely in future versions of Flower.\u001b[32m [repeated 29x across cluster]\u001b[0m\n",
      "  0%|          | 0/1 [00:00<?, ?it/s]\u001b[32m [repeated 29x across cluster]\u001b[0m\n"
     ]
    },
    {
     "name": "stdout",
     "output_type": "stream",
     "text": [
      "\u001b[36m(ClientAppActor pid=50143)\u001b[0m Test Loss: 3.1869, Test Accuracy: 12.50%\u001b[32m [repeated 27x across cluster]\u001b[0m\n"
     ]
    },
    {
     "name": "stderr",
     "output_type": "stream",
     "text": [
      "100%|██████████| 1/1 [00:01<00:00,  1.15s/it]\u001b[32m [repeated 80x across cluster]\u001b[0m\n",
      "\u001b[36m(ClientAppActor pid=50143)\u001b[0m \u001b[93mWARNING \u001b[0m:   DEPRECATED FEATURE: `client_fn` now expects a signature `def client_fn(context: Context)`.The provided `client_fn` has signature: {'cid': <Parameter \"cid: str\">}. You can import the `Context` like this: `from flwr.common import Context`\u001b[32m [repeated 26x across cluster]\u001b[0m\n",
      "\u001b[36m(ClientAppActor pid=50143)\u001b[0m             This is a deprecated feature. It will be removed\u001b[32m [repeated 26x across cluster]\u001b[0m\n",
      "\u001b[36m(ClientAppActor pid=50143)\u001b[0m             entirely in future versions of Flower.\u001b[32m [repeated 26x across cluster]\u001b[0m\n",
      "  0%|          | 0/1 [00:00<?, ?it/s]\u001b[32m [repeated 26x across cluster]\u001b[0m\n"
     ]
    },
    {
     "name": "stdout",
     "output_type": "stream",
     "text": [
      "\u001b[36m(ClientAppActor pid=50143)\u001b[0m Test Loss: 1.1718, Test Accuracy: 75.00%\u001b[32m [repeated 30x across cluster]\u001b[0m\n"
     ]
    },
    {
     "name": "stderr",
     "output_type": "stream",
     "text": [
      "\u001b[92mINFO \u001b[0m:      aggregate_fit: received 100 results and 0 failures\n",
      "\u001b[92mINFO \u001b[0m:      fit progress: (35, 2.479623275644639, {'accuracy': 0.3637627432808156}, 1191.025271083)\n",
      "\u001b[92mINFO \u001b[0m:      configure_evaluate: strategy sampled 20 clients (out of 100)\n"
     ]
    },
    {
     "name": "stdout",
     "output_type": "stream",
     "text": [
      "Test Loss: 2.4796, Test Accuracy: 36.38%\n"
     ]
    },
    {
     "name": "stderr",
     "output_type": "stream",
     "text": [
      "\u001b[36m(ClientAppActor pid=50139)\u001b[0m         \u001b[32m [repeated 22x across cluster]\u001b[0m\n",
      "\u001b[36m(ClientAppActor pid=50139)\u001b[0m \u001b[93mWARNING \u001b[0m:   DEPRECATED FEATURE: `client_fn` now expects a signature `def client_fn(context: Context)`.The provided `client_fn` has signature: {'cid': <Parameter \"cid: str\">}. You can import the `Context` like this: `from flwr.common import Context`\u001b[32m [repeated 6x across cluster]\u001b[0m\n",
      "\u001b[36m(ClientAppActor pid=50139)\u001b[0m             This is a deprecated feature. It will be removed\u001b[32m [repeated 6x across cluster]\u001b[0m\n",
      "\u001b[36m(ClientAppActor pid=50139)\u001b[0m             entirely in future versions of Flower.\u001b[32m [repeated 6x across cluster]\u001b[0m\n",
      "  0%|          | 0/1 [00:00<?, ?it/s]\u001b[32m [repeated 6x across cluster]\u001b[0m\n"
     ]
    },
    {
     "name": "stdout",
     "output_type": "stream",
     "text": [
      "\u001b[36m(ClientAppActor pid=50139)\u001b[0m Test Loss: 2.6825, Test Accuracy: 50.00%\u001b[32m [repeated 6x across cluster]\u001b[0m\n"
     ]
    },
    {
     "name": "stderr",
     "output_type": "stream",
     "text": [
      "\u001b[92mINFO \u001b[0m:      aggregate_evaluate: received 20 results and 0 failures\n",
      "\u001b[92mINFO \u001b[0m:      \n",
      "\u001b[92mINFO \u001b[0m:      [ROUND 36]\n",
      "\u001b[92mINFO \u001b[0m:      configure_fit: strategy sampled 100 clients (out of 100)\n",
      "100%|██████████| 1/1 [00:01<00:00,  1.03s/it]\u001b[32m [repeated 89x across cluster]\u001b[0m\n",
      "\u001b[36m(ClientAppActor pid=50137)\u001b[0m \u001b[93mWARNING \u001b[0m:   DEPRECATED FEATURE: `client_fn` now expects a signature `def client_fn(context: Context)`.The provided `client_fn` has signature: {'cid': <Parameter \"cid: str\">}. You can import the `Context` like this: `from flwr.common import Context`\u001b[32m [repeated 39x across cluster]\u001b[0m\n",
      "\u001b[36m(ClientAppActor pid=50137)\u001b[0m             This is a deprecated feature. It will be removed\u001b[32m [repeated 39x across cluster]\u001b[0m\n",
      "\u001b[36m(ClientAppActor pid=50137)\u001b[0m             entirely in future versions of Flower.\u001b[32m [repeated 39x across cluster]\u001b[0m\n",
      "  0%|          | 0/1 [00:00<?, ?it/s]\u001b[32m [repeated 20x across cluster]\u001b[0m\n"
     ]
    },
    {
     "name": "stdout",
     "output_type": "stream",
     "text": [
      "\u001b[36m(ClientAppActor pid=50141)\u001b[0m Test Loss: 3.0856, Test Accuracy: 25.00%\u001b[32m [repeated 31x across cluster]\u001b[0m\n"
     ]
    },
    {
     "name": "stderr",
     "output_type": "stream",
     "text": [
      "\u001b[36m(ClientAppActor pid=50134)\u001b[0m         \u001b[32m [repeated 80x across cluster]\u001b[0m\n",
      "\u001b[36m(ClientAppActor pid=50134)\u001b[0m \u001b[93mWARNING \u001b[0m:   DEPRECATED FEATURE: `client_fn` now expects a signature `def client_fn(context: Context)`.The provided `client_fn` has signature: {'cid': <Parameter \"cid: str\">}. You can import the `Context` like this: `from flwr.common import Context`\u001b[32m [repeated 26x across cluster]\u001b[0m\n",
      "\u001b[36m(ClientAppActor pid=50134)\u001b[0m             This is a deprecated feature. It will be removed\u001b[32m [repeated 26x across cluster]\u001b[0m\n",
      "\u001b[36m(ClientAppActor pid=50134)\u001b[0m             entirely in future versions of Flower.\u001b[32m [repeated 26x across cluster]\u001b[0m\n",
      "  0%|          | 0/1 [00:00<?, ?it/s]\u001b[32m [repeated 24x across cluster]\u001b[0m\n"
     ]
    },
    {
     "name": "stdout",
     "output_type": "stream",
     "text": [
      "\u001b[36m(ClientAppActor pid=50139)\u001b[0m Test Loss: 1.3023, Test Accuracy: 75.00%\u001b[32m [repeated 27x across cluster]\u001b[0m\n"
     ]
    },
    {
     "name": "stderr",
     "output_type": "stream",
     "text": [
      "\u001b[36m(ClientAppActor pid=50136)\u001b[0m         \u001b[32m [repeated 55x across cluster]\u001b[0m\n",
      "\u001b[36m(ClientAppActor pid=50136)\u001b[0m \u001b[93mWARNING \u001b[0m:   DEPRECATED FEATURE: `client_fn` now expects a signature `def client_fn(context: Context)`.The provided `client_fn` has signature: {'cid': <Parameter \"cid: str\">}. You can import the `Context` like this: `from flwr.common import Context`\u001b[32m [repeated 19x across cluster]\u001b[0m\n",
      "\u001b[36m(ClientAppActor pid=50136)\u001b[0m             This is a deprecated feature. It will be removed\u001b[32m [repeated 19x across cluster]\u001b[0m\n",
      "\u001b[36m(ClientAppActor pid=50136)\u001b[0m             entirely in future versions of Flower.\u001b[32m [repeated 19x across cluster]\u001b[0m\n",
      "  0%|          | 0/1 [00:00<?, ?it/s]\u001b[32m [repeated 17x across cluster]\u001b[0m\n"
     ]
    },
    {
     "name": "stdout",
     "output_type": "stream",
     "text": [
      "\u001b[36m(ClientAppActor pid=50138)\u001b[0m Test Loss: 2.3702, Test Accuracy: 50.00%\u001b[32m [repeated 18x across cluster]\u001b[0m\n"
     ]
    },
    {
     "name": "stderr",
     "output_type": "stream",
     "text": [
      "100%|██████████| 1/1 [00:01<00:00,  1.12s/it]\u001b[32m [repeated 63x across cluster]\u001b[0m\n",
      "\u001b[36m(ClientAppActor pid=50143)\u001b[0m \u001b[93mWARNING \u001b[0m:   DEPRECATED FEATURE: `client_fn` now expects a signature `def client_fn(context: Context)`.The provided `client_fn` has signature: {'cid': <Parameter \"cid: str\">}. You can import the `Context` like this: `from flwr.common import Context`\u001b[32m [repeated 20x across cluster]\u001b[0m\n",
      "\u001b[36m(ClientAppActor pid=50143)\u001b[0m             This is a deprecated feature. It will be removed\u001b[32m [repeated 20x across cluster]\u001b[0m\n",
      "\u001b[36m(ClientAppActor pid=50143)\u001b[0m             entirely in future versions of Flower.\u001b[32m [repeated 20x across cluster]\u001b[0m\n",
      "  0%|          | 0/1 [00:00<?, ?it/s]\u001b[32m [repeated 23x across cluster]\u001b[0m\n"
     ]
    },
    {
     "name": "stdout",
     "output_type": "stream",
     "text": [
      "\u001b[36m(ClientAppActor pid=50139)\u001b[0m Test Loss: 3.0652, Test Accuracy: 12.50%\u001b[32m [repeated 24x across cluster]\u001b[0m\n"
     ]
    },
    {
     "name": "stderr",
     "output_type": "stream",
     "text": [
      "\u001b[92mINFO \u001b[0m:      aggregate_fit: received 100 results and 0 failures\n",
      "\u001b[92mINFO \u001b[0m:      fit progress: (36, 2.474470419042251, {'accuracy': 0.36468952734012977}, 1219.932293625)\n",
      "\u001b[92mINFO \u001b[0m:      configure_evaluate: strategy sampled 20 clients (out of 100)\n"
     ]
    },
    {
     "name": "stdout",
     "output_type": "stream",
     "text": [
      "Test Loss: 2.4745, Test Accuracy: 36.47%\n"
     ]
    },
    {
     "name": "stderr",
     "output_type": "stream",
     "text": [
      "\u001b[36m(ClientAppActor pid=50135)\u001b[0m         \u001b[32m [repeated 55x across cluster]\u001b[0m\n",
      "\u001b[36m(ClientAppActor pid=50135)\u001b[0m \u001b[93mWARNING \u001b[0m:   DEPRECATED FEATURE: `client_fn` now expects a signature `def client_fn(context: Context)`.The provided `client_fn` has signature: {'cid': <Parameter \"cid: str\">}. You can import the `Context` like this: `from flwr.common import Context`\u001b[32m [repeated 16x across cluster]\u001b[0m\n",
      "\u001b[36m(ClientAppActor pid=50135)\u001b[0m             This is a deprecated feature. It will be removed\u001b[32m [repeated 16x across cluster]\u001b[0m\n",
      "\u001b[36m(ClientAppActor pid=50135)\u001b[0m             entirely in future versions of Flower.\u001b[32m [repeated 16x across cluster]\u001b[0m\n",
      "  0%|          | 0/1 [00:00<?, ?it/s]\u001b[32m [repeated 16x across cluster]\u001b[0m\n"
     ]
    },
    {
     "name": "stdout",
     "output_type": "stream",
     "text": [
      "\u001b[36m(ClientAppActor pid=50138)\u001b[0m Test Loss: 2.5878, Test Accuracy: 25.00%\u001b[32m [repeated 20x across cluster]\u001b[0m\n"
     ]
    },
    {
     "name": "stderr",
     "output_type": "stream",
     "text": [
      "\u001b[92mINFO \u001b[0m:      aggregate_evaluate: received 20 results and 0 failures\n",
      "\u001b[92mINFO \u001b[0m:      \n",
      "\u001b[92mINFO \u001b[0m:      [ROUND 37]\n",
      "\u001b[92mINFO \u001b[0m:      configure_fit: strategy sampled 100 clients (out of 100)\n",
      "\u001b[36m(ClientAppActor pid=50141)\u001b[0m         \u001b[32m [repeated 74x across cluster]\u001b[0m\n",
      "\u001b[36m(ClientAppActor pid=50141)\u001b[0m \u001b[93mWARNING \u001b[0m:   DEPRECATED FEATURE: `client_fn` now expects a signature `def client_fn(context: Context)`.The provided `client_fn` has signature: {'cid': <Parameter \"cid: str\">}. You can import the `Context` like this: `from flwr.common import Context`\u001b[32m [repeated 33x across cluster]\u001b[0m\n",
      "\u001b[36m(ClientAppActor pid=50141)\u001b[0m             This is a deprecated feature. It will be removed\u001b[32m [repeated 33x across cluster]\u001b[0m\n",
      "\u001b[36m(ClientAppActor pid=50141)\u001b[0m             entirely in future versions of Flower.\u001b[32m [repeated 33x across cluster]\u001b[0m\n",
      "  0%|          | 0/1 [00:00<?, ?it/s]\u001b[32m [repeated 13x across cluster]\u001b[0m\n"
     ]
    },
    {
     "name": "stdout",
     "output_type": "stream",
     "text": [
      "\u001b[36m(ClientAppActor pid=50136)\u001b[0m Test Loss: 3.5533, Test Accuracy: 37.50%\u001b[32m [repeated 28x across cluster]\u001b[0m\n"
     ]
    },
    {
     "name": "stderr",
     "output_type": "stream",
     "text": [
      "100%|██████████| 1/1 [00:01<00:00,  1.03s/it]\u001b[32m [repeated 86x across cluster]\u001b[0m\n",
      "\u001b[36m(ClientAppActor pid=50141)\u001b[0m \u001b[93mWARNING \u001b[0m:   DEPRECATED FEATURE: `client_fn` now expects a signature `def client_fn(context: Context)`.The provided `client_fn` has signature: {'cid': <Parameter \"cid: str\">}. You can import the `Context` like this: `from flwr.common import Context`\u001b[32m [repeated 28x across cluster]\u001b[0m\n",
      "\u001b[36m(ClientAppActor pid=50141)\u001b[0m             This is a deprecated feature. It will be removed\u001b[32m [repeated 28x across cluster]\u001b[0m\n",
      "\u001b[36m(ClientAppActor pid=50141)\u001b[0m             entirely in future versions of Flower.\u001b[32m [repeated 28x across cluster]\u001b[0m\n",
      "  0%|          | 0/1 [00:00<?, ?it/s]\u001b[32m [repeated 27x across cluster]\u001b[0m\n"
     ]
    },
    {
     "name": "stdout",
     "output_type": "stream",
     "text": [
      "\u001b[36m(ClientAppActor pid=50136)\u001b[0m Test Loss: 0.8525, Test Accuracy: 75.00%\u001b[32m [repeated 30x across cluster]\u001b[0m\n"
     ]
    },
    {
     "name": "stderr",
     "output_type": "stream",
     "text": [
      "100%|██████████| 1/1 [00:01<00:00,  1.14s/it]\u001b[32m [repeated 75x across cluster]\u001b[0m\n",
      "\u001b[36m(ClientAppActor pid=50143)\u001b[0m \u001b[93mWARNING \u001b[0m:   DEPRECATED FEATURE: `client_fn` now expects a signature `def client_fn(context: Context)`.The provided `client_fn` has signature: {'cid': <Parameter \"cid: str\">}. You can import the `Context` like this: `from flwr.common import Context`\u001b[32m [repeated 25x across cluster]\u001b[0m\n",
      "\u001b[36m(ClientAppActor pid=50143)\u001b[0m             This is a deprecated feature. It will be removed\u001b[32m [repeated 25x across cluster]\u001b[0m\n",
      "\u001b[36m(ClientAppActor pid=50143)\u001b[0m             entirely in future versions of Flower.\u001b[32m [repeated 25x across cluster]\u001b[0m\n",
      "  0%|          | 0/1 [00:00<?, ?it/s]\u001b[32m [repeated 27x across cluster]\u001b[0m\n"
     ]
    },
    {
     "name": "stdout",
     "output_type": "stream",
     "text": [
      "\u001b[36m(ClientAppActor pid=50136)\u001b[0m Test Loss: 2.6224, Test Accuracy: 50.00%\u001b[32m [repeated 29x across cluster]\u001b[0m\n"
     ]
    },
    {
     "name": "stderr",
     "output_type": "stream",
     "text": [
      "\u001b[36m(ClientAppActor pid=50142)\u001b[0m         \u001b[32m [repeated 85x across cluster]\u001b[0m\n",
      "\u001b[36m(ClientAppActor pid=50142)\u001b[0m \u001b[93mWARNING \u001b[0m:   DEPRECATED FEATURE: `client_fn` now expects a signature `def client_fn(context: Context)`.The provided `client_fn` has signature: {'cid': <Parameter \"cid: str\">}. You can import the `Context` like this: `from flwr.common import Context`\u001b[32m [repeated 29x across cluster]\u001b[0m\n",
      "\u001b[36m(ClientAppActor pid=50142)\u001b[0m             This is a deprecated feature. It will be removed\u001b[32m [repeated 29x across cluster]\u001b[0m\n",
      "\u001b[36m(ClientAppActor pid=50142)\u001b[0m             entirely in future versions of Flower.\u001b[32m [repeated 29x across cluster]\u001b[0m\n",
      "  0%|          | 0/1 [00:00<?, ?it/s]\u001b[32m [repeated 25x across cluster]\u001b[0m\n"
     ]
    },
    {
     "name": "stdout",
     "output_type": "stream",
     "text": [
      "\u001b[36m(ClientAppActor pid=50140)\u001b[0m Test Loss: 1.5052, Test Accuracy: 37.50%\u001b[32m [repeated 29x across cluster]\u001b[0m\n"
     ]
    },
    {
     "name": "stderr",
     "output_type": "stream",
     "text": [
      "\u001b[92mINFO \u001b[0m:      aggregate_fit: received 100 results and 0 failures\n",
      "\u001b[92mINFO \u001b[0m:      fit progress: (37, 2.4694093535928165, {'accuracy': 0.36561631139944395}, 1247.8963239159993)\n",
      "\u001b[92mINFO \u001b[0m:      configure_evaluate: strategy sampled 20 clients (out of 100)\n"
     ]
    },
    {
     "name": "stdout",
     "output_type": "stream",
     "text": [
      "Test Loss: 2.4694, Test Accuracy: 36.56%\n"
     ]
    },
    {
     "name": "stderr",
     "output_type": "stream",
     "text": [
      "\u001b[36m(ClientAppActor pid=50139)\u001b[0m         \u001b[32m [repeated 23x across cluster]\u001b[0m\n",
      "\u001b[36m(ClientAppActor pid=50139)\u001b[0m \u001b[93mWARNING \u001b[0m:   DEPRECATED FEATURE: `client_fn` now expects a signature `def client_fn(context: Context)`.The provided `client_fn` has signature: {'cid': <Parameter \"cid: str\">}. You can import the `Context` like this: `from flwr.common import Context`\u001b[32m [repeated 5x across cluster]\u001b[0m\n",
      "\u001b[36m(ClientAppActor pid=50139)\u001b[0m             This is a deprecated feature. It will be removed\u001b[32m [repeated 5x across cluster]\u001b[0m\n",
      "\u001b[36m(ClientAppActor pid=50139)\u001b[0m             entirely in future versions of Flower.\u001b[32m [repeated 5x across cluster]\u001b[0m\n",
      "  0%|          | 0/1 [00:00<?, ?it/s]\u001b[32m [repeated 8x across cluster]\u001b[0m\n"
     ]
    },
    {
     "name": "stdout",
     "output_type": "stream",
     "text": [
      "\u001b[36m(ClientAppActor pid=50139)\u001b[0m Test Loss: 3.0144, Test Accuracy: 25.00%\u001b[32m [repeated 4x across cluster]\u001b[0m\n"
     ]
    },
    {
     "name": "stderr",
     "output_type": "stream",
     "text": [
      "\u001b[92mINFO \u001b[0m:      aggregate_evaluate: received 20 results and 0 failures\n",
      "\u001b[92mINFO \u001b[0m:      \n",
      "\u001b[92mINFO \u001b[0m:      [ROUND 38]\n",
      "\u001b[92mINFO \u001b[0m:      configure_fit: strategy sampled 100 clients (out of 100)\n",
      "100%|██████████| 1/1 [00:01<00:00,  1.22s/it]\u001b[32m [repeated 90x across cluster]\u001b[0m\n",
      "\u001b[36m(ClientAppActor pid=50138)\u001b[0m \u001b[93mWARNING \u001b[0m:   DEPRECATED FEATURE: `client_fn` now expects a signature `def client_fn(context: Context)`.The provided `client_fn` has signature: {'cid': <Parameter \"cid: str\">}. You can import the `Context` like this: `from flwr.common import Context`\u001b[32m [repeated 38x across cluster]\u001b[0m\n",
      "\u001b[36m(ClientAppActor pid=50138)\u001b[0m             This is a deprecated feature. It will be removed\u001b[32m [repeated 38x across cluster]\u001b[0m\n",
      "\u001b[36m(ClientAppActor pid=50138)\u001b[0m             entirely in future versions of Flower.\u001b[32m [repeated 38x across cluster]\u001b[0m\n",
      "  0%|          | 0/1 [00:00<?, ?it/s]\u001b[32m [repeated 18x across cluster]\u001b[0m\n"
     ]
    },
    {
     "name": "stdout",
     "output_type": "stream",
     "text": [
      "\u001b[36m(ClientAppActor pid=50135)\u001b[0m Test Loss: 3.0314, Test Accuracy: 25.00%\u001b[32m [repeated 33x across cluster]\u001b[0m\n"
     ]
    },
    {
     "name": "stderr",
     "output_type": "stream",
     "text": [
      "\u001b[36m(ClientAppActor pid=50142)\u001b[0m         \u001b[32m [repeated 76x across cluster]\u001b[0m\n",
      "\u001b[36m(ClientAppActor pid=50142)\u001b[0m \u001b[93mWARNING \u001b[0m:   DEPRECATED FEATURE: `client_fn` now expects a signature `def client_fn(context: Context)`.The provided `client_fn` has signature: {'cid': <Parameter \"cid: str\">}. You can import the `Context` like this: `from flwr.common import Context`\u001b[32m [repeated 25x across cluster]\u001b[0m\n",
      "\u001b[36m(ClientAppActor pid=50142)\u001b[0m             This is a deprecated feature. It will be removed\u001b[32m [repeated 25x across cluster]\u001b[0m\n",
      "\u001b[36m(ClientAppActor pid=50142)\u001b[0m             entirely in future versions of Flower.\u001b[32m [repeated 25x across cluster]\u001b[0m\n",
      "  0%|          | 0/1 [00:00<?, ?it/s]\u001b[32m [repeated 24x across cluster]\u001b[0m\n"
     ]
    },
    {
     "name": "stdout",
     "output_type": "stream",
     "text": [
      "\u001b[36m(ClientAppActor pid=50137)\u001b[0m Test Loss: 1.8516, Test Accuracy: 37.50%\u001b[32m [repeated 24x across cluster]\u001b[0m\n"
     ]
    },
    {
     "name": "stderr",
     "output_type": "stream",
     "text": [
      "100%|██████████| 1/1 [00:01<00:00,  1.18s/it]\u001b[32m [repeated 75x across cluster]\u001b[0m\n",
      "\u001b[36m(ClientAppActor pid=50143)\u001b[0m \u001b[93mWARNING \u001b[0m:   DEPRECATED FEATURE: `client_fn` now expects a signature `def client_fn(context: Context)`.The provided `client_fn` has signature: {'cid': <Parameter \"cid: str\">}. You can import the `Context` like this: `from flwr.common import Context`\u001b[32m [repeated 24x across cluster]\u001b[0m\n",
      "\u001b[36m(ClientAppActor pid=50143)\u001b[0m             This is a deprecated feature. It will be removed\u001b[32m [repeated 24x across cluster]\u001b[0m\n",
      "\u001b[36m(ClientAppActor pid=50143)\u001b[0m             entirely in future versions of Flower.\u001b[32m [repeated 24x across cluster]\u001b[0m\n",
      "  0%|          | 0/1 [00:00<?, ?it/s]\u001b[32m [repeated 25x across cluster]\u001b[0m\n"
     ]
    },
    {
     "name": "stdout",
     "output_type": "stream",
     "text": [
      "\u001b[36m(ClientAppActor pid=50136)\u001b[0m Test Loss: 2.2897, Test Accuracy: 25.00%\u001b[32m [repeated 28x across cluster]\u001b[0m\n"
     ]
    },
    {
     "name": "stderr",
     "output_type": "stream",
     "text": [
      "100%|██████████| 1/1 [00:01<00:00,  1.37s/it]\u001b[32m [repeated 54x across cluster]\u001b[0m\n",
      "\u001b[36m(ClientAppActor pid=50141)\u001b[0m \u001b[93mWARNING \u001b[0m:   DEPRECATED FEATURE: `client_fn` now expects a signature `def client_fn(context: Context)`.The provided `client_fn` has signature: {'cid': <Parameter \"cid: str\">}. You can import the `Context` like this: `from flwr.common import Context`\u001b[32m [repeated 18x across cluster]\u001b[0m\n",
      "\u001b[36m(ClientAppActor pid=50141)\u001b[0m             This is a deprecated feature. It will be removed\u001b[32m [repeated 18x across cluster]\u001b[0m\n",
      "\u001b[36m(ClientAppActor pid=50141)\u001b[0m             entirely in future versions of Flower.\u001b[32m [repeated 18x across cluster]\u001b[0m\n",
      "  0%|          | 0/1 [00:00<?, ?it/s]\u001b[32m [repeated 19x across cluster]\u001b[0m\n"
     ]
    },
    {
     "name": "stdout",
     "output_type": "stream",
     "text": [
      "\u001b[36m(ClientAppActor pid=50135)\u001b[0m Test Loss: 2.4907, Test Accuracy: 25.00%\u001b[32m [repeated 15x across cluster]\u001b[0m\n"
     ]
    },
    {
     "name": "stderr",
     "output_type": "stream",
     "text": [
      "\u001b[92mINFO \u001b[0m:      aggregate_fit: received 100 results and 0 failures\n",
      "\u001b[92mINFO \u001b[0m:      fit progress: (38, 2.464256300645716, {'accuracy': 0.36793327154772937}, 1278.5602414159994)\n",
      "\u001b[92mINFO \u001b[0m:      configure_evaluate: strategy sampled 20 clients (out of 100)\n"
     ]
    },
    {
     "name": "stdout",
     "output_type": "stream",
     "text": [
      "Test Loss: 2.4643, Test Accuracy: 36.79%\n"
     ]
    },
    {
     "name": "stderr",
     "output_type": "stream",
     "text": [
      "\u001b[36m(ClientAppActor pid=50135)\u001b[0m         \u001b[32m [repeated 51x across cluster]\u001b[0m\n",
      "\u001b[36m(ClientAppActor pid=50135)\u001b[0m \u001b[93mWARNING \u001b[0m:   DEPRECATED FEATURE: `client_fn` now expects a signature `def client_fn(context: Context)`.The provided `client_fn` has signature: {'cid': <Parameter \"cid: str\">}. You can import the `Context` like this: `from flwr.common import Context`\u001b[32m [repeated 15x across cluster]\u001b[0m\n",
      "\u001b[36m(ClientAppActor pid=50135)\u001b[0m             This is a deprecated feature. It will be removed\u001b[32m [repeated 15x across cluster]\u001b[0m\n",
      "\u001b[36m(ClientAppActor pid=50135)\u001b[0m             entirely in future versions of Flower.\u001b[32m [repeated 15x across cluster]\u001b[0m\n",
      "  0%|          | 0/1 [00:00<?, ?it/s]\u001b[32m [repeated 14x across cluster]\u001b[0m\n"
     ]
    },
    {
     "name": "stdout",
     "output_type": "stream",
     "text": [
      "\u001b[36m(ClientAppActor pid=50134)\u001b[0m Test Loss: 3.6964, Test Accuracy: 12.50%\u001b[32m [repeated 20x across cluster]\u001b[0m\n"
     ]
    },
    {
     "name": "stderr",
     "output_type": "stream",
     "text": [
      "\u001b[92mINFO \u001b[0m:      aggregate_evaluate: received 20 results and 0 failures\n",
      "\u001b[92mINFO \u001b[0m:      \n",
      "\u001b[92mINFO \u001b[0m:      [ROUND 39]\n",
      "\u001b[92mINFO \u001b[0m:      configure_fit: strategy sampled 100 clients (out of 100)\n",
      "\u001b[36m(ClientAppActor pid=50140)\u001b[0m         \u001b[32m [repeated 88x across cluster]\u001b[0m\n",
      "\u001b[36m(ClientAppActor pid=50140)\u001b[0m \u001b[93mWARNING \u001b[0m:   DEPRECATED FEATURE: `client_fn` now expects a signature `def client_fn(context: Context)`.The provided `client_fn` has signature: {'cid': <Parameter \"cid: str\">}. You can import the `Context` like this: `from flwr.common import Context`\u001b[32m [repeated 38x across cluster]\u001b[0m\n",
      "\u001b[36m(ClientAppActor pid=50140)\u001b[0m             This is a deprecated feature. It will be removed\u001b[32m [repeated 38x across cluster]\u001b[0m\n",
      "\u001b[36m(ClientAppActor pid=50140)\u001b[0m             entirely in future versions of Flower.\u001b[32m [repeated 38x across cluster]\u001b[0m\n",
      "  0%|          | 0/1 [00:00<?, ?it/s]\u001b[32m [repeated 18x across cluster]\u001b[0m\n"
     ]
    },
    {
     "name": "stdout",
     "output_type": "stream",
     "text": [
      "\u001b[36m(ClientAppActor pid=50139)\u001b[0m Test Loss: 2.6742, Test Accuracy: 18.18%\u001b[32m [repeated 32x across cluster]\u001b[0m\n"
     ]
    },
    {
     "name": "stderr",
     "output_type": "stream",
     "text": [
      "100%|██████████| 1/1 [00:01<00:00,  1.31s/it]\u001b[32m [repeated 68x across cluster]\u001b[0m\n",
      "\u001b[36m(ClientAppActor pid=50143)\u001b[0m \u001b[93mWARNING \u001b[0m:   DEPRECATED FEATURE: `client_fn` now expects a signature `def client_fn(context: Context)`.The provided `client_fn` has signature: {'cid': <Parameter \"cid: str\">}. You can import the `Context` like this: `from flwr.common import Context`\u001b[32m [repeated 23x across cluster]\u001b[0m\n",
      "\u001b[36m(ClientAppActor pid=50143)\u001b[0m             This is a deprecated feature. It will be removed\u001b[32m [repeated 23x across cluster]\u001b[0m\n",
      "\u001b[36m(ClientAppActor pid=50143)\u001b[0m             entirely in future versions of Flower.\u001b[32m [repeated 23x across cluster]\u001b[0m\n",
      "  0%|          | 0/1 [00:00<?, ?it/s]\u001b[32m [repeated 24x across cluster]\u001b[0m\n"
     ]
    },
    {
     "name": "stdout",
     "output_type": "stream",
     "text": [
      "\u001b[36m(ClientAppActor pid=50140)\u001b[0m Test Loss: 2.3381, Test Accuracy: 25.00%\u001b[32m [repeated 24x across cluster]\u001b[0m\n"
     ]
    },
    {
     "name": "stderr",
     "output_type": "stream",
     "text": [
      "\u001b[36m(ClientAppActor pid=50139)\u001b[0m         \u001b[32m [repeated 85x across cluster]\u001b[0m\n",
      "\u001b[36m(ClientAppActor pid=50139)\u001b[0m \u001b[93mWARNING \u001b[0m:   DEPRECATED FEATURE: `client_fn` now expects a signature `def client_fn(context: Context)`.The provided `client_fn` has signature: {'cid': <Parameter \"cid: str\">}. You can import the `Context` like this: `from flwr.common import Context`\u001b[32m [repeated 28x across cluster]\u001b[0m\n",
      "\u001b[36m(ClientAppActor pid=50139)\u001b[0m             This is a deprecated feature. It will be removed\u001b[32m [repeated 28x across cluster]\u001b[0m\n",
      "\u001b[36m(ClientAppActor pid=50139)\u001b[0m             entirely in future versions of Flower.\u001b[32m [repeated 28x across cluster]\u001b[0m\n",
      "  0%|          | 0/1 [00:00<?, ?it/s]\u001b[32m [repeated 27x across cluster]\u001b[0m\n"
     ]
    },
    {
     "name": "stdout",
     "output_type": "stream",
     "text": [
      "\u001b[36m(ClientAppActor pid=50135)\u001b[0m Test Loss: 1.6834, Test Accuracy: 37.50%\u001b[32m [repeated 29x across cluster]\u001b[0m\n"
     ]
    },
    {
     "name": "stderr",
     "output_type": "stream",
     "text": [
      "100%|██████████| 1/1 [00:01<00:00,  1.11s/it]\u001b[32m [repeated 85x across cluster]\u001b[0m\n",
      "\u001b[36m(ClientAppActor pid=50134)\u001b[0m \u001b[93mWARNING \u001b[0m:   DEPRECATED FEATURE: `client_fn` now expects a signature `def client_fn(context: Context)`.The provided `client_fn` has signature: {'cid': <Parameter \"cid: str\">}. You can import the `Context` like this: `from flwr.common import Context`\u001b[32m [repeated 28x across cluster]\u001b[0m\n",
      "\u001b[36m(ClientAppActor pid=50134)\u001b[0m             This is a deprecated feature. It will be removed\u001b[32m [repeated 28x across cluster]\u001b[0m\n",
      "\u001b[36m(ClientAppActor pid=50134)\u001b[0m             entirely in future versions of Flower.\u001b[32m [repeated 28x across cluster]\u001b[0m\n",
      "  0%|          | 0/1 [00:00<?, ?it/s]\u001b[32m [repeated 26x across cluster]\u001b[0m\n"
     ]
    },
    {
     "name": "stdout",
     "output_type": "stream",
     "text": [
      "\u001b[36m(ClientAppActor pid=50142)\u001b[0m Test Loss: 2.8227, Test Accuracy: 37.50%\u001b[32m [repeated 27x across cluster]\u001b[0m\n"
     ]
    },
    {
     "name": "stderr",
     "output_type": "stream",
     "text": [
      "\u001b[92mINFO \u001b[0m:      aggregate_fit: received 100 results and 0 failures\n",
      "\u001b[92mINFO \u001b[0m:      fit progress: (39, 2.459502093932208, {'accuracy': 0.36932344763670066}, 1306.1397913749997)\n",
      "\u001b[92mINFO \u001b[0m:      configure_evaluate: strategy sampled 20 clients (out of 100)\n"
     ]
    },
    {
     "name": "stdout",
     "output_type": "stream",
     "text": [
      "Test Loss: 2.4595, Test Accuracy: 36.93%\n"
     ]
    },
    {
     "name": "stderr",
     "output_type": "stream",
     "text": [
      "\u001b[36m(ClientAppActor pid=50139)\u001b[0m         \u001b[32m [repeated 14x across cluster]\u001b[0m\n",
      "\u001b[36m(ClientAppActor pid=50139)\u001b[0m \u001b[93mWARNING \u001b[0m:   DEPRECATED FEATURE: `client_fn` now expects a signature `def client_fn(context: Context)`.The provided `client_fn` has signature: {'cid': <Parameter \"cid: str\">}. You can import the `Context` like this: `from flwr.common import Context`\u001b[32m [repeated 3x across cluster]\u001b[0m\n",
      "\u001b[36m(ClientAppActor pid=50139)\u001b[0m             This is a deprecated feature. It will be removed\u001b[32m [repeated 3x across cluster]\u001b[0m\n",
      "\u001b[36m(ClientAppActor pid=50139)\u001b[0m             entirely in future versions of Flower.\u001b[32m [repeated 3x across cluster]\u001b[0m\n",
      "  0%|          | 0/1 [00:00<?, ?it/s]\u001b[32m [repeated 5x across cluster]\u001b[0m\n"
     ]
    },
    {
     "name": "stdout",
     "output_type": "stream",
     "text": [
      "\u001b[36m(ClientAppActor pid=50134)\u001b[0m Test Loss: 2.4574, Test Accuracy: 50.00%\u001b[32m [repeated 8x across cluster]\u001b[0m\n"
     ]
    },
    {
     "name": "stderr",
     "output_type": "stream",
     "text": [
      "\u001b[92mINFO \u001b[0m:      aggregate_evaluate: received 20 results and 0 failures\n",
      "\u001b[92mINFO \u001b[0m:      \n",
      "\u001b[92mINFO \u001b[0m:      [ROUND 40]\n",
      "\u001b[92mINFO \u001b[0m:      configure_fit: strategy sampled 100 clients (out of 100)\n",
      "\u001b[36m(ClientAppActor pid=50140)\u001b[0m         \u001b[32m [repeated 101x across cluster]\u001b[0m\n",
      "\u001b[36m(ClientAppActor pid=50140)\u001b[0m \u001b[93mWARNING \u001b[0m:   DEPRECATED FEATURE: `client_fn` now expects a signature `def client_fn(context: Context)`.The provided `client_fn` has signature: {'cid': <Parameter \"cid: str\">}. You can import the `Context` like this: `from flwr.common import Context`\u001b[32m [repeated 42x across cluster]\u001b[0m\n",
      "\u001b[36m(ClientAppActor pid=50140)\u001b[0m             This is a deprecated feature. It will be removed\u001b[32m [repeated 42x across cluster]\u001b[0m\n",
      "\u001b[36m(ClientAppActor pid=50140)\u001b[0m             entirely in future versions of Flower.\u001b[32m [repeated 42x across cluster]\u001b[0m\n",
      "  0%|          | 0/1 [00:00<?, ?it/s]\u001b[32m [repeated 23x across cluster]\u001b[0m\n"
     ]
    },
    {
     "name": "stdout",
     "output_type": "stream",
     "text": [
      "\u001b[36m(ClientAppActor pid=50137)\u001b[0m Test Loss: 1.3205, Test Accuracy: 75.00%\u001b[32m [repeated 36x across cluster]\u001b[0m\n"
     ]
    },
    {
     "name": "stderr",
     "output_type": "stream",
     "text": [
      "100%|██████████| 1/1 [00:01<00:00,  1.01s/it]\u001b[32m [repeated 70x across cluster]\u001b[0m\n",
      "\u001b[36m(ClientAppActor pid=50138)\u001b[0m \u001b[93mWARNING \u001b[0m:   DEPRECATED FEATURE: `client_fn` now expects a signature `def client_fn(context: Context)`.The provided `client_fn` has signature: {'cid': <Parameter \"cid: str\">}. You can import the `Context` like this: `from flwr.common import Context`\u001b[32m [repeated 23x across cluster]\u001b[0m\n",
      "\u001b[36m(ClientAppActor pid=50138)\u001b[0m             This is a deprecated feature. It will be removed\u001b[32m [repeated 23x across cluster]\u001b[0m\n",
      "\u001b[36m(ClientAppActor pid=50138)\u001b[0m             entirely in future versions of Flower.\u001b[32m [repeated 23x across cluster]\u001b[0m\n",
      "  0%|          | 0/1 [00:00<?, ?it/s]\u001b[32m [repeated 21x across cluster]\u001b[0m\n"
     ]
    },
    {
     "name": "stdout",
     "output_type": "stream",
     "text": [
      "\u001b[36m(ClientAppActor pid=50142)\u001b[0m Test Loss: 2.5277, Test Accuracy: 62.50%\u001b[32m [repeated 24x across cluster]\u001b[0m\n"
     ]
    },
    {
     "name": "stderr",
     "output_type": "stream",
     "text": [
      "\u001b[36m(ClientAppActor pid=50137)\u001b[0m         \u001b[32m [repeated 76x across cluster]\u001b[0m\n",
      "\u001b[36m(ClientAppActor pid=50137)\u001b[0m \u001b[93mWARNING \u001b[0m:   DEPRECATED FEATURE: `client_fn` now expects a signature `def client_fn(context: Context)`.The provided `client_fn` has signature: {'cid': <Parameter \"cid: str\">}. You can import the `Context` like this: `from flwr.common import Context`\u001b[32m [repeated 26x across cluster]\u001b[0m\n",
      "\u001b[36m(ClientAppActor pid=50137)\u001b[0m             This is a deprecated feature. It will be removed\u001b[32m [repeated 26x across cluster]\u001b[0m\n",
      "\u001b[36m(ClientAppActor pid=50137)\u001b[0m             entirely in future versions of Flower.\u001b[32m [repeated 26x across cluster]\u001b[0m\n",
      "  0%|          | 0/1 [00:00<?, ?it/s]\u001b[32m [repeated 27x across cluster]\u001b[0m\n"
     ]
    },
    {
     "name": "stdout",
     "output_type": "stream",
     "text": [
      "\u001b[36m(ClientAppActor pid=50141)\u001b[0m Test Loss: 2.2429, Test Accuracy: 25.00%\u001b[32m [repeated 29x across cluster]\u001b[0m\n"
     ]
    },
    {
     "name": "stderr",
     "output_type": "stream",
     "text": [
      "\u001b[36m(ClientAppActor pid=50142)\u001b[0m         \u001b[32m [repeated 63x across cluster]\u001b[0m\n",
      "\u001b[36m(ClientAppActor pid=50142)\u001b[0m \u001b[93mWARNING \u001b[0m:   DEPRECATED FEATURE: `client_fn` now expects a signature `def client_fn(context: Context)`.The provided `client_fn` has signature: {'cid': <Parameter \"cid: str\">}. You can import the `Context` like this: `from flwr.common import Context`\u001b[32m [repeated 21x across cluster]\u001b[0m\n",
      "\u001b[36m(ClientAppActor pid=50142)\u001b[0m             This is a deprecated feature. It will be removed\u001b[32m [repeated 21x across cluster]\u001b[0m\n",
      "\u001b[36m(ClientAppActor pid=50142)\u001b[0m             entirely in future versions of Flower.\u001b[32m [repeated 21x across cluster]\u001b[0m\n",
      "  0%|          | 0/1 [00:00<?, ?it/s]\u001b[32m [repeated 18x across cluster]\u001b[0m\n"
     ]
    },
    {
     "name": "stdout",
     "output_type": "stream",
     "text": [
      "\u001b[36m(ClientAppActor pid=50139)\u001b[0m Test Loss: 3.4553, Test Accuracy: 25.00%\u001b[32m [repeated 19x across cluster]\u001b[0m\n"
     ]
    },
    {
     "name": "stderr",
     "output_type": "stream",
     "text": [
      "\u001b[92mINFO \u001b[0m:      aggregate_fit: received 100 results and 0 failures\n",
      "\u001b[92mINFO \u001b[0m:      fit progress: (40, 2.4544514768263874, {'accuracy': 0.36932344763670066}, 1341.5523464159996)\n",
      "\u001b[92mINFO \u001b[0m:      configure_evaluate: strategy sampled 20 clients (out of 100)\n"
     ]
    },
    {
     "name": "stdout",
     "output_type": "stream",
     "text": [
      "Test Loss: 2.4545, Test Accuracy: 36.93%\n"
     ]
    },
    {
     "name": "stderr",
     "output_type": "stream",
     "text": [
      "\u001b[36m(ClientAppActor pid=50139)\u001b[0m         \u001b[32m [repeated 33x across cluster]\u001b[0m\n",
      "\u001b[36m(ClientAppActor pid=50139)\u001b[0m \u001b[93mWARNING \u001b[0m:   DEPRECATED FEATURE: `client_fn` now expects a signature `def client_fn(context: Context)`.The provided `client_fn` has signature: {'cid': <Parameter \"cid: str\">}. You can import the `Context` like this: `from flwr.common import Context`\u001b[32m [repeated 8x across cluster]\u001b[0m\n",
      "\u001b[36m(ClientAppActor pid=50139)\u001b[0m             This is a deprecated feature. It will be removed\u001b[32m [repeated 8x across cluster]\u001b[0m\n",
      "\u001b[36m(ClientAppActor pid=50139)\u001b[0m             entirely in future versions of Flower.\u001b[32m [repeated 8x across cluster]\u001b[0m\n",
      "  0%|          | 0/1 [00:00<?, ?it/s]\u001b[32m [repeated 11x across cluster]\u001b[0m\n"
     ]
    },
    {
     "name": "stdout",
     "output_type": "stream",
     "text": [
      "\u001b[36m(ClientAppActor pid=50137)\u001b[0m Test Loss: 2.5836, Test Accuracy: 18.18%\u001b[32m [repeated 12x across cluster]\u001b[0m\n"
     ]
    },
    {
     "name": "stderr",
     "output_type": "stream",
     "text": [
      "\u001b[92mINFO \u001b[0m:      aggregate_evaluate: received 20 results and 0 failures\n",
      "\u001b[92mINFO \u001b[0m:      \n",
      "\u001b[92mINFO \u001b[0m:      [ROUND 41]\n",
      "\u001b[92mINFO \u001b[0m:      configure_fit: strategy sampled 100 clients (out of 100)\n",
      "100%|██████████| 1/1 [00:01<00:00,  1.15s/it]\u001b[32m [repeated 90x across cluster]\u001b[0m\n",
      "\u001b[36m(ClientAppActor pid=50139)\u001b[0m \u001b[93mWARNING \u001b[0m:   DEPRECATED FEATURE: `client_fn` now expects a signature `def client_fn(context: Context)`.The provided `client_fn` has signature: {'cid': <Parameter \"cid: str\">}. You can import the `Context` like this: `from flwr.common import Context`\u001b[32m [repeated 38x across cluster]\u001b[0m\n",
      "\u001b[36m(ClientAppActor pid=50139)\u001b[0m             This is a deprecated feature. It will be removed\u001b[32m [repeated 38x across cluster]\u001b[0m\n",
      "\u001b[36m(ClientAppActor pid=50139)\u001b[0m             entirely in future versions of Flower.\u001b[32m [repeated 38x across cluster]\u001b[0m\n",
      "  0%|          | 0/1 [00:00<?, ?it/s]\u001b[32m [repeated 19x across cluster]\u001b[0m\n"
     ]
    },
    {
     "name": "stdout",
     "output_type": "stream",
     "text": [
      "\u001b[36m(ClientAppActor pid=50134)\u001b[0m Test Loss: 2.9791, Test Accuracy: 25.00%\u001b[32m [repeated 33x across cluster]\u001b[0m\n",
      "\u001b[36m(ClientAppActor pid=50143)\u001b[0m \n"
     ]
    },
    {
     "name": "stderr",
     "output_type": "stream",
     "text": [
      "\u001b[36m(ClientAppActor pid=50136)\u001b[0m         \u001b[32m [repeated 60x across cluster]\u001b[0m\n",
      "\u001b[36m(ClientAppActor pid=50136)\u001b[0m \u001b[93mWARNING \u001b[0m:   DEPRECATED FEATURE: `client_fn` now expects a signature `def client_fn(context: Context)`.The provided `client_fn` has signature: {'cid': <Parameter \"cid: str\">}. You can import the `Context` like this: `from flwr.common import Context`\u001b[32m [repeated 19x across cluster]\u001b[0m\n",
      "\u001b[36m(ClientAppActor pid=50136)\u001b[0m             This is a deprecated feature. It will be removed\u001b[32m [repeated 19x across cluster]\u001b[0m\n",
      "\u001b[36m(ClientAppActor pid=50136)\u001b[0m             entirely in future versions of Flower.\u001b[32m [repeated 19x across cluster]\u001b[0m\n",
      "  0%|          | 0/1 [00:00<?, ?it/s]\u001b[32m [repeated 18x across cluster]\u001b[0m\n"
     ]
    },
    {
     "name": "stdout",
     "output_type": "stream",
     "text": [
      "\u001b[36m(ClientAppActor pid=50140)\u001b[0m Test Loss: 2.7563, Test Accuracy: 12.50%\u001b[32m [repeated 22x across cluster]\u001b[0m\n",
      "\u001b[36m(ClientAppActor pid=50137)\u001b[0m Test Loss: 1.8847, Test Accuracy: 25.00%\u001b[32m [repeated 20x across cluster]\u001b[0m\n"
     ]
    },
    {
     "name": "stderr",
     "output_type": "stream",
     "text": [
      "100%|██████████| 1/1 [00:00<00:00,  1.05it/s]\u001b[32m [repeated 67x across cluster]\u001b[0m\n",
      "\u001b[36m(ClientAppActor pid=50136)\u001b[0m \u001b[93mWARNING \u001b[0m:   DEPRECATED FEATURE: `client_fn` now expects a signature `def client_fn(context: Context)`.The provided `client_fn` has signature: {'cid': <Parameter \"cid: str\">}. You can import the `Context` like this: `from flwr.common import Context`\u001b[32m [repeated 23x across cluster]\u001b[0m\n",
      "\u001b[36m(ClientAppActor pid=50136)\u001b[0m             This is a deprecated feature. It will be removed\u001b[32m [repeated 23x across cluster]\u001b[0m\n",
      "\u001b[36m(ClientAppActor pid=50136)\u001b[0m             entirely in future versions of Flower.\u001b[32m [repeated 23x across cluster]\u001b[0m\n",
      "  0%|          | 0/1 [00:00<?, ?it/s]\u001b[32m [repeated 23x across cluster]\u001b[0m\n",
      "100%|██████████| 1/1 [00:01<00:00,  1.11s/it]\u001b[32m [repeated 85x across cluster]\u001b[0m\n",
      "\u001b[36m(ClientAppActor pid=50140)\u001b[0m \u001b[93mWARNING \u001b[0m:   DEPRECATED FEATURE: `client_fn` now expects a signature `def client_fn(context: Context)`.The provided `client_fn` has signature: {'cid': <Parameter \"cid: str\">}. You can import the `Context` like this: `from flwr.common import Context`\u001b[32m [repeated 29x across cluster]\u001b[0m\n",
      "\u001b[36m(ClientAppActor pid=50140)\u001b[0m             This is a deprecated feature. It will be removed\u001b[32m [repeated 29x across cluster]\u001b[0m\n",
      "\u001b[36m(ClientAppActor pid=50140)\u001b[0m             entirely in future versions of Flower.\u001b[32m [repeated 29x across cluster]\u001b[0m\n",
      "  0%|          | 0/1 [00:00<?, ?it/s]\u001b[32m [repeated 28x across cluster]\u001b[0m\n"
     ]
    },
    {
     "name": "stdout",
     "output_type": "stream",
     "text": [
      "\u001b[36m(ClientAppActor pid=50138)\u001b[0m Test Loss: 2.7989, Test Accuracy: 25.00%\u001b[32m [repeated 27x across cluster]\u001b[0m\n"
     ]
    },
    {
     "name": "stderr",
     "output_type": "stream",
     "text": [
      "\u001b[92mINFO \u001b[0m:      aggregate_fit: received 100 results and 0 failures\n",
      "\u001b[92mINFO \u001b[0m:      fit progress: (41, 2.44966355492087, {'accuracy': 0.3707136237256719}, 1372.0633667499997)\n",
      "\u001b[92mINFO \u001b[0m:      configure_evaluate: strategy sampled 20 clients (out of 100)\n"
     ]
    },
    {
     "name": "stdout",
     "output_type": "stream",
     "text": [
      "Test Loss: 2.4497, Test Accuracy: 37.07%\n"
     ]
    },
    {
     "name": "stderr",
     "output_type": "stream",
     "text": [
      "\u001b[36m(ClientAppActor pid=50140)\u001b[0m         \u001b[32m [repeated 41x across cluster]\u001b[0m\n",
      "\u001b[36m(ClientAppActor pid=50140)\u001b[0m \u001b[93mWARNING \u001b[0m:   DEPRECATED FEATURE: `client_fn` now expects a signature `def client_fn(context: Context)`.The provided `client_fn` has signature: {'cid': <Parameter \"cid: str\">}. You can import the `Context` like this: `from flwr.common import Context`\u001b[32m [repeated 11x across cluster]\u001b[0m\n",
      "\u001b[36m(ClientAppActor pid=50140)\u001b[0m             This is a deprecated feature. It will be removed\u001b[32m [repeated 11x across cluster]\u001b[0m\n",
      "\u001b[36m(ClientAppActor pid=50140)\u001b[0m             entirely in future versions of Flower.\u001b[32m [repeated 11x across cluster]\u001b[0m\n",
      "  0%|          | 0/1 [00:00<?, ?it/s]\u001b[32m [repeated 12x across cluster]\u001b[0m\n"
     ]
    },
    {
     "name": "stdout",
     "output_type": "stream",
     "text": [
      "\u001b[36m(ClientAppActor pid=50140)\u001b[0m Test Loss: 2.0510, Test Accuracy: 50.00%\u001b[32m [repeated 18x across cluster]\u001b[0m\n"
     ]
    },
    {
     "name": "stderr",
     "output_type": "stream",
     "text": [
      "\u001b[92mINFO \u001b[0m:      aggregate_evaluate: received 20 results and 0 failures\n",
      "\u001b[92mINFO \u001b[0m:      \n",
      "\u001b[92mINFO \u001b[0m:      [ROUND 42]\n",
      "\u001b[92mINFO \u001b[0m:      configure_fit: strategy sampled 100 clients (out of 100)\n",
      "\u001b[36m(ClientAppActor pid=50137)\u001b[0m         \u001b[32m [repeated 81x across cluster]\u001b[0m\n",
      "\u001b[36m(ClientAppActor pid=50137)\u001b[0m \u001b[93mWARNING \u001b[0m:   DEPRECATED FEATURE: `client_fn` now expects a signature `def client_fn(context: Context)`.The provided `client_fn` has signature: {'cid': <Parameter \"cid: str\">}. You can import the `Context` like this: `from flwr.common import Context`\u001b[32m [repeated 36x across cluster]\u001b[0m\n",
      "\u001b[36m(ClientAppActor pid=50137)\u001b[0m             This is a deprecated feature. It will be removed\u001b[32m [repeated 36x across cluster]\u001b[0m\n",
      "\u001b[36m(ClientAppActor pid=50137)\u001b[0m             entirely in future versions of Flower.\u001b[32m [repeated 36x across cluster]\u001b[0m\n",
      "  0%|          | 0/1 [00:00<?, ?it/s]\u001b[32m [repeated 14x across cluster]\u001b[0m\n"
     ]
    },
    {
     "name": "stdout",
     "output_type": "stream",
     "text": [
      "\u001b[36m(ClientAppActor pid=50141)\u001b[0m Test Loss: 4.0276, Test Accuracy: 12.50%\u001b[32m [repeated 28x across cluster]\u001b[0m\n"
     ]
    },
    {
     "name": "stderr",
     "output_type": "stream",
     "text": [
      "100%|██████████| 1/1 [00:01<00:00,  1.14s/it]\u001b[32m [repeated 77x across cluster]\u001b[0m\n",
      "\u001b[36m(ClientAppActor pid=50139)\u001b[0m \u001b[93mWARNING \u001b[0m:   DEPRECATED FEATURE: `client_fn` now expects a signature `def client_fn(context: Context)`.The provided `client_fn` has signature: {'cid': <Parameter \"cid: str\">}. You can import the `Context` like this: `from flwr.common import Context`\u001b[32m [repeated 25x across cluster]\u001b[0m\n",
      "\u001b[36m(ClientAppActor pid=50139)\u001b[0m             This is a deprecated feature. It will be removed\u001b[32m [repeated 25x across cluster]\u001b[0m\n",
      "\u001b[36m(ClientAppActor pid=50139)\u001b[0m             entirely in future versions of Flower.\u001b[32m [repeated 25x across cluster]\u001b[0m\n",
      "  0%|          | 0/1 [00:00<?, ?it/s]\u001b[32m [repeated 28x across cluster]\u001b[0m\n"
     ]
    },
    {
     "name": "stdout",
     "output_type": "stream",
     "text": [
      "\u001b[36m(ClientAppActor pid=50136)\u001b[0m Test Loss: 1.8442, Test Accuracy: 25.00%\u001b[32m [repeated 27x across cluster]\u001b[0m\n"
     ]
    },
    {
     "name": "stderr",
     "output_type": "stream",
     "text": [
      "100%|██████████| 1/1 [00:01<00:00,  1.13s/it]\u001b[32m [repeated 50x across cluster]\u001b[0m\n",
      "\u001b[36m(ClientAppActor pid=50138)\u001b[0m \u001b[93mWARNING \u001b[0m:   DEPRECATED FEATURE: `client_fn` now expects a signature `def client_fn(context: Context)`.The provided `client_fn` has signature: {'cid': <Parameter \"cid: str\">}. You can import the `Context` like this: `from flwr.common import Context`\u001b[32m [repeated 15x across cluster]\u001b[0m\n",
      "\u001b[36m(ClientAppActor pid=50138)\u001b[0m             This is a deprecated feature. It will be removed\u001b[32m [repeated 15x across cluster]\u001b[0m\n",
      "\u001b[36m(ClientAppActor pid=50138)\u001b[0m             entirely in future versions of Flower.\u001b[32m [repeated 15x across cluster]\u001b[0m\n",
      "  0%|          | 0/1 [00:00<?, ?it/s]\u001b[32m [repeated 14x across cluster]\u001b[0m\n"
     ]
    },
    {
     "name": "stdout",
     "output_type": "stream",
     "text": [
      "\u001b[36m(ClientAppActor pid=50143)\u001b[0m Test Loss: 1.5080, Test Accuracy: 62.50%\u001b[32m [repeated 18x across cluster]\u001b[0m\n",
      "\u001b[36m(ClientAppActor pid=50142)\u001b[0m \n"
     ]
    },
    {
     "name": "stderr",
     "output_type": "stream",
     "text": [
      "\u001b[36m(ClientAppActor pid=50142)\u001b[0m         \u001b[32m [repeated 58x across cluster]\u001b[0m\n",
      "\u001b[36m(ClientAppActor pid=50142)\u001b[0m \u001b[93mWARNING \u001b[0m:   DEPRECATED FEATURE: `client_fn` now expects a signature `def client_fn(context: Context)`.The provided `client_fn` has signature: {'cid': <Parameter \"cid: str\">}. You can import the `Context` like this: `from flwr.common import Context`\u001b[32m [repeated 21x across cluster]\u001b[0m\n",
      "\u001b[36m(ClientAppActor pid=50142)\u001b[0m             This is a deprecated feature. It will be removed\u001b[32m [repeated 21x across cluster]\u001b[0m\n",
      "\u001b[36m(ClientAppActor pid=50142)\u001b[0m             entirely in future versions of Flower.\u001b[32m [repeated 21x across cluster]\u001b[0m\n",
      "  0%|          | 0/1 [00:00<?, ?it/s]\u001b[32m [repeated 21x across cluster]\u001b[0m\n"
     ]
    },
    {
     "name": "stdout",
     "output_type": "stream",
     "text": [
      "\u001b[36m(ClientAppActor pid=50137)\u001b[0m Test Loss: 2.1151, Test Accuracy: 50.00%\u001b[32m [repeated 17x across cluster]\u001b[0m\n",
      "\u001b[36m(ClientAppActor pid=50137)\u001b[0m \n",
      "\u001b[36m(ClientAppActor pid=50142)\u001b[0m \n"
     ]
    },
    {
     "name": "stderr",
     "output_type": "stream",
     "text": [
      "\u001b[36m(ClientAppActor pid=50135)\u001b[0m         \u001b[32m [repeated 75x across cluster]\u001b[0m\n",
      "\u001b[36m(ClientAppActor pid=50135)\u001b[0m \u001b[93mWARNING \u001b[0m:   DEPRECATED FEATURE: `client_fn` now expects a signature `def client_fn(context: Context)`.The provided `client_fn` has signature: {'cid': <Parameter \"cid: str\">}. You can import the `Context` like this: `from flwr.common import Context`\u001b[32m [repeated 22x across cluster]\u001b[0m\n",
      "\u001b[36m(ClientAppActor pid=50135)\u001b[0m             This is a deprecated feature. It will be removed\u001b[32m [repeated 22x across cluster]\u001b[0m\n",
      "\u001b[36m(ClientAppActor pid=50135)\u001b[0m             entirely in future versions of Flower.\u001b[32m [repeated 22x across cluster]\u001b[0m\n",
      "  0%|          | 0/1 [00:00<?, ?it/s]\u001b[32m [repeated 22x across cluster]\u001b[0m\n",
      "\u001b[92mINFO \u001b[0m:      aggregate_fit: received 100 results and 0 failures\n"
     ]
    },
    {
     "name": "stdout",
     "output_type": "stream",
     "text": [
      "\u001b[36m(ClientAppActor pid=50135)\u001b[0m Test Loss: 1.0466, Test Accuracy: 75.00%\u001b[32m [repeated 29x across cluster]\u001b[0m\n"
     ]
    },
    {
     "name": "stderr",
     "output_type": "stream",
     "text": [
      "\u001b[92mINFO \u001b[0m:      fit progress: (42, 2.4449396834653965, {'accuracy': 0.37349397590361444}, 1405.6462591660002)\n",
      "\u001b[92mINFO \u001b[0m:      configure_evaluate: strategy sampled 20 clients (out of 100)\n"
     ]
    },
    {
     "name": "stdout",
     "output_type": "stream",
     "text": [
      "Test Loss: 2.4449, Test Accuracy: 37.35%\n"
     ]
    },
    {
     "name": "stderr",
     "output_type": "stream",
     "text": [
      "\u001b[36m(ClientAppActor pid=50135)\u001b[0m         \u001b[32m [repeated 3x across cluster]\u001b[0m\n",
      "\u001b[36m(ClientAppActor pid=50135)\u001b[0m \u001b[93mWARNING \u001b[0m:   DEPRECATED FEATURE: `client_fn` now expects a signature `def client_fn(context: Context)`.The provided `client_fn` has signature: {'cid': <Parameter \"cid: str\">}. You can import the `Context` like this: `from flwr.common import Context`\n",
      "\u001b[36m(ClientAppActor pid=50135)\u001b[0m             This is a deprecated feature. It will be removed\n",
      "\u001b[36m(ClientAppActor pid=50135)\u001b[0m             entirely in future versions of Flower.\n",
      "  0%|          | 0/1 [00:00<?, ?it/s]\n",
      "\u001b[36m(ClientAppActor pid=50140)\u001b[0m \u001b[93mWARNING \u001b[0m:   DEPRECATED FEATURE: `client_fn` now expects a signature `def client_fn(context: Context)`.The provided `client_fn` has signature: {'cid': <Parameter \"cid: str\">}. You can import the `Context` like this: `from flwr.common import Context`\n",
      "\u001b[36m(ClientAppActor pid=50140)\u001b[0m             This is a deprecated feature. It will be removed\n",
      "\u001b[36m(ClientAppActor pid=50140)\u001b[0m             entirely in future versions of Flower.\n"
     ]
    },
    {
     "name": "stdout",
     "output_type": "stream",
     "text": [
      "\u001b[36m(ClientAppActor pid=50135)\u001b[0m Test Loss: 2.3632, Test Accuracy: 25.00%\n",
      "\u001b[36m(ClientAppActor pid=50137)\u001b[0m Test Loss: 2.3915, Test Accuracy: 25.00%\n"
     ]
    },
    {
     "name": "stderr",
     "output_type": "stream",
     "text": [
      "\u001b[92mINFO \u001b[0m:      aggregate_evaluate: received 20 results and 0 failures\n",
      "\u001b[92mINFO \u001b[0m:      \n",
      "\u001b[92mINFO \u001b[0m:      [ROUND 43]\n",
      "\u001b[92mINFO \u001b[0m:      configure_fit: strategy sampled 100 clients (out of 100)\n",
      "  0%|          | 0/1 [00:00<?, ?it/s]\n",
      "100%|██████████| 1/1 [00:01<00:00,  1.13s/it]\u001b[32m [repeated 108x across cluster]\u001b[0m\n",
      "\u001b[36m(ClientAppActor pid=50142)\u001b[0m \u001b[93mWARNING \u001b[0m:   DEPRECATED FEATURE: `client_fn` now expects a signature `def client_fn(context: Context)`.The provided `client_fn` has signature: {'cid': <Parameter \"cid: str\">}. You can import the `Context` like this: `from flwr.common import Context`\u001b[32m [repeated 44x across cluster]\u001b[0m\n",
      "\u001b[36m(ClientAppActor pid=50142)\u001b[0m             This is a deprecated feature. It will be removed\u001b[32m [repeated 44x across cluster]\u001b[0m\n",
      "\u001b[36m(ClientAppActor pid=50142)\u001b[0m             entirely in future versions of Flower.\u001b[32m [repeated 44x across cluster]\u001b[0m\n"
     ]
    },
    {
     "name": "stdout",
     "output_type": "stream",
     "text": [
      "\u001b[36m(ClientAppActor pid=50135)\u001b[0m Test Loss: 2.2231, Test Accuracy: 37.50%\u001b[32m [repeated 37x across cluster]\u001b[0m\n"
     ]
    },
    {
     "name": "stderr",
     "output_type": "stream",
     "text": [
      "  0%|          | 0/1 [00:00<?, ?it/s]\u001b[32m [repeated 30x across cluster]\u001b[0m\n",
      "\u001b[36m(ClientAppActor pid=50141)\u001b[0m         \u001b[32m [repeated 76x across cluster]\u001b[0m\n",
      "\u001b[36m(ClientAppActor pid=50143)\u001b[0m \u001b[93mWARNING \u001b[0m:   DEPRECATED FEATURE: `client_fn` now expects a signature `def client_fn(context: Context)`.The provided `client_fn` has signature: {'cid': <Parameter \"cid: str\">}. You can import the `Context` like this: `from flwr.common import Context`\u001b[32m [repeated 26x across cluster]\u001b[0m\n",
      "\u001b[36m(ClientAppActor pid=50143)\u001b[0m             This is a deprecated feature. It will be removed\u001b[32m [repeated 26x across cluster]\u001b[0m\n",
      "\u001b[36m(ClientAppActor pid=50143)\u001b[0m             entirely in future versions of Flower.\u001b[32m [repeated 26x across cluster]\u001b[0m\n"
     ]
    },
    {
     "name": "stdout",
     "output_type": "stream",
     "text": [
      "\u001b[36m(ClientAppActor pid=50137)\u001b[0m Test Loss: 3.0108, Test Accuracy: 25.00%\u001b[32m [repeated 27x across cluster]\u001b[0m\n"
     ]
    },
    {
     "name": "stderr",
     "output_type": "stream",
     "text": [
      "  0%|          | 0/1 [00:00<?, ?it/s]\u001b[32m [repeated 27x across cluster]\u001b[0m\n",
      "\u001b[36m(ClientAppActor pid=50135)\u001b[0m         \u001b[32m [repeated 69x across cluster]\u001b[0m\n",
      "\u001b[36m(ClientAppActor pid=50135)\u001b[0m \u001b[93mWARNING \u001b[0m:   DEPRECATED FEATURE: `client_fn` now expects a signature `def client_fn(context: Context)`.The provided `client_fn` has signature: {'cid': <Parameter \"cid: str\">}. You can import the `Context` like this: `from flwr.common import Context`\u001b[32m [repeated 21x across cluster]\u001b[0m\n",
      "\u001b[36m(ClientAppActor pid=50135)\u001b[0m             This is a deprecated feature. It will be removed\u001b[32m [repeated 21x across cluster]\u001b[0m\n",
      "\u001b[36m(ClientAppActor pid=50135)\u001b[0m             entirely in future versions of Flower.\u001b[32m [repeated 21x across cluster]\u001b[0m\n"
     ]
    },
    {
     "name": "stdout",
     "output_type": "stream",
     "text": [
      "\u001b[36m(ClientAppActor pid=50142)\u001b[0m Test Loss: 1.7971, Test Accuracy: 50.00%\u001b[32m [repeated 24x across cluster]\u001b[0m\n"
     ]
    },
    {
     "name": "stderr",
     "output_type": "stream",
     "text": [
      "  0%|          | 0/1 [00:00<?, ?it/s]\u001b[32m [repeated 20x across cluster]\u001b[0m\n",
      "100%|██████████| 1/1 [00:01<00:00,  1.14s/it]\u001b[32m [repeated 68x across cluster]\u001b[0m\n",
      "\u001b[36m(ClientAppActor pid=50142)\u001b[0m \u001b[93mWARNING \u001b[0m:   DEPRECATED FEATURE: `client_fn` now expects a signature `def client_fn(context: Context)`.The provided `client_fn` has signature: {'cid': <Parameter \"cid: str\">}. You can import the `Context` like this: `from flwr.common import Context`\u001b[32m [repeated 23x across cluster]\u001b[0m\n",
      "\u001b[36m(ClientAppActor pid=50142)\u001b[0m             This is a deprecated feature. It will be removed\u001b[32m [repeated 23x across cluster]\u001b[0m\n",
      "\u001b[36m(ClientAppActor pid=50142)\u001b[0m             entirely in future versions of Flower.\u001b[32m [repeated 23x across cluster]\u001b[0m\n"
     ]
    },
    {
     "name": "stdout",
     "output_type": "stream",
     "text": [
      "\u001b[36m(ClientAppActor pid=50137)\u001b[0m Test Loss: 2.2285, Test Accuracy: 25.00%\u001b[32m [repeated 21x across cluster]\u001b[0m\n"
     ]
    },
    {
     "name": "stderr",
     "output_type": "stream",
     "text": [
      "  0%|          | 0/1 [00:00<?, ?it/s]\u001b[32m [repeated 22x across cluster]\u001b[0m\n",
      "\u001b[92mINFO \u001b[0m:      aggregate_fit: received 100 results and 0 failures\n",
      "\u001b[92mINFO \u001b[0m:      fit progress: (43, 2.4400584978215836, {'accuracy': 0.37349397590361444}, 1435.205954125)\n",
      "\u001b[92mINFO \u001b[0m:      configure_evaluate: strategy sampled 20 clients (out of 100)\n"
     ]
    },
    {
     "name": "stdout",
     "output_type": "stream",
     "text": [
      "Test Loss: 2.4401, Test Accuracy: 37.35%\n"
     ]
    },
    {
     "name": "stderr",
     "output_type": "stream",
     "text": [
      "\u001b[36m(ClientAppActor pid=50139)\u001b[0m         \u001b[32m [repeated 22x across cluster]\u001b[0m\n",
      "\u001b[36m(ClientAppActor pid=50139)\u001b[0m \u001b[93mWARNING \u001b[0m:   DEPRECATED FEATURE: `client_fn` now expects a signature `def client_fn(context: Context)`.The provided `client_fn` has signature: {'cid': <Parameter \"cid: str\">}. You can import the `Context` like this: `from flwr.common import Context`\u001b[32m [repeated 5x across cluster]\u001b[0m\n",
      "\u001b[36m(ClientAppActor pid=50139)\u001b[0m             This is a deprecated feature. It will be removed\u001b[32m [repeated 5x across cluster]\u001b[0m\n",
      "\u001b[36m(ClientAppActor pid=50139)\u001b[0m             entirely in future versions of Flower.\u001b[32m [repeated 5x across cluster]\u001b[0m\n"
     ]
    },
    {
     "name": "stdout",
     "output_type": "stream",
     "text": [
      "\u001b[36m(ClientAppActor pid=50135)\u001b[0m Test Loss: 2.6898, Test Accuracy: 25.00%\u001b[32m [repeated 10x across cluster]\u001b[0m\n"
     ]
    },
    {
     "name": "stderr",
     "output_type": "stream",
     "text": [
      "\u001b[92mINFO \u001b[0m:      aggregate_evaluate: received 20 results and 0 failures\n",
      "\u001b[92mINFO \u001b[0m:      \n",
      "\u001b[92mINFO \u001b[0m:      [ROUND 44]\n",
      "\u001b[92mINFO \u001b[0m:      configure_fit: strategy sampled 100 clients (out of 100)\n",
      "  0%|          | 0/1 [00:00<?, ?it/s]\n",
      "\u001b[36m(ClientAppActor pid=50136)\u001b[0m         \u001b[32m [repeated 117x across cluster]\u001b[0m\n",
      "\u001b[36m(ClientAppActor pid=50136)\u001b[0m \u001b[93mWARNING \u001b[0m:   DEPRECATED FEATURE: `client_fn` now expects a signature `def client_fn(context: Context)`.The provided `client_fn` has signature: {'cid': <Parameter \"cid: str\">}. You can import the `Context` like this: `from flwr.common import Context`\u001b[32m [repeated 48x across cluster]\u001b[0m\n",
      "\u001b[36m(ClientAppActor pid=50136)\u001b[0m             This is a deprecated feature. It will be removed\u001b[32m [repeated 48x across cluster]\u001b[0m\n",
      "\u001b[36m(ClientAppActor pid=50136)\u001b[0m             entirely in future versions of Flower.\u001b[32m [repeated 48x across cluster]\u001b[0m\n"
     ]
    },
    {
     "name": "stdout",
     "output_type": "stream",
     "text": [
      "\u001b[36m(ClientAppActor pid=50139)\u001b[0m Test Loss: 2.1261, Test Accuracy: 25.00%\u001b[32m [repeated 41x across cluster]\u001b[0m\n"
     ]
    },
    {
     "name": "stderr",
     "output_type": "stream",
     "text": [
      "  0%|          | 0/1 [00:00<?, ?it/s]\u001b[32m [repeated 30x across cluster]\u001b[0m\n",
      "100%|██████████| 1/1 [00:02<00:00,  2.26s/it]\u001b[32m [repeated 66x across cluster]\u001b[0m\n",
      "\u001b[36m(ClientAppActor pid=50135)\u001b[0m \u001b[93mWARNING \u001b[0m:   DEPRECATED FEATURE: `client_fn` now expects a signature `def client_fn(context: Context)`.The provided `client_fn` has signature: {'cid': <Parameter \"cid: str\">}. You can import the `Context` like this: `from flwr.common import Context`\u001b[32m [repeated 22x across cluster]\u001b[0m\n",
      "\u001b[36m(ClientAppActor pid=50135)\u001b[0m             This is a deprecated feature. It will be removed\u001b[32m [repeated 22x across cluster]\u001b[0m\n",
      "\u001b[36m(ClientAppActor pid=50135)\u001b[0m             entirely in future versions of Flower.\u001b[32m [repeated 22x across cluster]\u001b[0m\n"
     ]
    },
    {
     "name": "stdout",
     "output_type": "stream",
     "text": [
      "\u001b[36m(ClientAppActor pid=50134)\u001b[0m Test Loss: 4.0719, Test Accuracy: 12.50%\u001b[32m [repeated 21x across cluster]\u001b[0m\n"
     ]
    },
    {
     "name": "stderr",
     "output_type": "stream",
     "text": [
      "  0%|          | 0/1 [00:00<?, ?it/s]\u001b[32m [repeated 20x across cluster]\u001b[0m\n",
      "100%|██████████| 1/1 [00:01<00:00,  1.60s/it]\u001b[32m [repeated 51x across cluster]\u001b[0m\n",
      "\u001b[36m(ClientAppActor pid=50141)\u001b[0m \u001b[93mWARNING \u001b[0m:   DEPRECATED FEATURE: `client_fn` now expects a signature `def client_fn(context: Context)`.The provided `client_fn` has signature: {'cid': <Parameter \"cid: str\">}. You can import the `Context` like this: `from flwr.common import Context`\u001b[32m [repeated 16x across cluster]\u001b[0m\n",
      "\u001b[36m(ClientAppActor pid=50141)\u001b[0m             This is a deprecated feature. It will be removed\u001b[32m [repeated 16x across cluster]\u001b[0m\n",
      "\u001b[36m(ClientAppActor pid=50141)\u001b[0m             entirely in future versions of Flower.\u001b[32m [repeated 16x across cluster]\u001b[0m\n"
     ]
    },
    {
     "name": "stdout",
     "output_type": "stream",
     "text": [
      "\u001b[36m(ClientAppActor pid=50136)\u001b[0m Test Loss: 2.6450, Test Accuracy: 18.18%\u001b[32m [repeated 18x across cluster]\u001b[0m\n"
     ]
    },
    {
     "name": "stderr",
     "output_type": "stream",
     "text": [
      "  0%|          | 0/1 [00:00<?, ?it/s]\u001b[32m [repeated 17x across cluster]\u001b[0m\n",
      "100%|██████████| 1/1 [00:01<00:00,  1.57s/it]\u001b[32m [repeated 50x across cluster]\u001b[0m\n",
      "\u001b[36m(ClientAppActor pid=50135)\u001b[0m \u001b[93mWARNING \u001b[0m:   DEPRECATED FEATURE: `client_fn` now expects a signature `def client_fn(context: Context)`.The provided `client_fn` has signature: {'cid': <Parameter \"cid: str\">}. You can import the `Context` like this: `from flwr.common import Context`\u001b[32m [repeated 15x across cluster]\u001b[0m\n",
      "\u001b[36m(ClientAppActor pid=50135)\u001b[0m             This is a deprecated feature. It will be removed\u001b[32m [repeated 15x across cluster]\u001b[0m\n",
      "\u001b[36m(ClientAppActor pid=50135)\u001b[0m             entirely in future versions of Flower.\u001b[32m [repeated 15x across cluster]\u001b[0m\n"
     ]
    },
    {
     "name": "stdout",
     "output_type": "stream",
     "text": [
      "\u001b[36m(ClientAppActor pid=50138)\u001b[0m Test Loss: 2.1687, Test Accuracy: 37.50%\u001b[32m [repeated 20x across cluster]\u001b[0m\n"
     ]
    },
    {
     "name": "stderr",
     "output_type": "stream",
     "text": [
      "  0%|          | 0/1 [00:00<?, ?it/s]\u001b[32m [repeated 17x across cluster]\u001b[0m\n"
     ]
    },
    {
     "name": "stdout",
     "output_type": "stream",
     "text": [
      "\u001b[36m(ClientAppActor pid=50141)\u001b[0m Test Loss: 2.7240, Test Accuracy: 37.50%\u001b[32m [repeated 15x across cluster]\u001b[0m\n"
     ]
    },
    {
     "name": "stderr",
     "output_type": "stream",
     "text": [
      "100%|██████████| 1/1 [00:00<00:00,  1.06it/s]\u001b[32m [repeated 48x across cluster]\u001b[0m\n",
      "\u001b[36m(ClientAppActor pid=50136)\u001b[0m \u001b[93mWARNING \u001b[0m:   DEPRECATED FEATURE: `client_fn` now expects a signature `def client_fn(context: Context)`.The provided `client_fn` has signature: {'cid': <Parameter \"cid: str\">}. You can import the `Context` like this: `from flwr.common import Context`\u001b[32m [repeated 16x across cluster]\u001b[0m\n",
      "\u001b[36m(ClientAppActor pid=50136)\u001b[0m             This is a deprecated feature. It will be removed\u001b[32m [repeated 16x across cluster]\u001b[0m\n",
      "\u001b[36m(ClientAppActor pid=50136)\u001b[0m             entirely in future versions of Flower.\u001b[32m [repeated 16x across cluster]\u001b[0m\n",
      "  0%|          | 0/1 [00:00<?, ?it/s]\u001b[32m [repeated 14x across cluster]\u001b[0m\n",
      "\u001b[92mINFO \u001b[0m:      aggregate_fit: received 100 results and 0 failures\n",
      "\u001b[92mINFO \u001b[0m:      fit progress: (44, 2.4351508196662452, {'accuracy': 0.3758109360518999}, 1474.887716583)\n",
      "\u001b[92mINFO \u001b[0m:      configure_evaluate: strategy sampled 20 clients (out of 100)\n"
     ]
    },
    {
     "name": "stdout",
     "output_type": "stream",
     "text": [
      "Test Loss: 2.4352, Test Accuracy: 37.58%\n"
     ]
    },
    {
     "name": "stderr",
     "output_type": "stream",
     "text": [
      "\u001b[36m(ClientAppActor pid=50135)\u001b[0m         \u001b[32m [repeated 10x across cluster]\u001b[0m\n",
      "\u001b[36m(ClientAppActor pid=50135)\u001b[0m \u001b[93mWARNING \u001b[0m:   DEPRECATED FEATURE: `client_fn` now expects a signature `def client_fn(context: Context)`.The provided `client_fn` has signature: {'cid': <Parameter \"cid: str\">}. You can import the `Context` like this: `from flwr.common import Context`\u001b[32m [repeated 3x across cluster]\u001b[0m\n",
      "\u001b[36m(ClientAppActor pid=50135)\u001b[0m             This is a deprecated feature. It will be removed\u001b[32m [repeated 3x across cluster]\u001b[0m\n",
      "\u001b[36m(ClientAppActor pid=50135)\u001b[0m             entirely in future versions of Flower.\u001b[32m [repeated 3x across cluster]\u001b[0m\n",
      "  0%|          | 0/1 [00:00<?, ?it/s]\n"
     ]
    },
    {
     "name": "stdout",
     "output_type": "stream",
     "text": [
      "\u001b[36m(ClientAppActor pid=50138)\u001b[0m Test Loss: 2.9451, Test Accuracy: 37.50%\u001b[32m [repeated 5x across cluster]\u001b[0m\n"
     ]
    },
    {
     "name": "stderr",
     "output_type": "stream",
     "text": [
      "\u001b[92mINFO \u001b[0m:      aggregate_evaluate: received 20 results and 0 failures\n",
      "\u001b[92mINFO \u001b[0m:      \n",
      "\u001b[92mINFO \u001b[0m:      [ROUND 45]\n",
      "\u001b[92mINFO \u001b[0m:      configure_fit: strategy sampled 100 clients (out of 100)\n",
      "  0%|          | 0/1 [00:00<?, ?it/s]\n",
      "100%|██████████| 1/1 [00:01<00:00,  1.09s/it]\u001b[32m [repeated 90x across cluster]\u001b[0m\n",
      "\u001b[36m(ClientAppActor pid=50136)\u001b[0m \u001b[93mWARNING \u001b[0m:   DEPRECATED FEATURE: `client_fn` now expects a signature `def client_fn(context: Context)`.The provided `client_fn` has signature: {'cid': <Parameter \"cid: str\">}. You can import the `Context` like this: `from flwr.common import Context`\u001b[32m [repeated 39x across cluster]\u001b[0m\n",
      "\u001b[36m(ClientAppActor pid=50136)\u001b[0m             This is a deprecated feature. It will be removed\u001b[32m [repeated 39x across cluster]\u001b[0m\n",
      "\u001b[36m(ClientAppActor pid=50136)\u001b[0m             entirely in future versions of Flower.\u001b[32m [repeated 39x across cluster]\u001b[0m\n"
     ]
    },
    {
     "name": "stdout",
     "output_type": "stream",
     "text": [
      "\u001b[36m(ClientAppActor pid=50135)\u001b[0m Test Loss: 1.6877, Test Accuracy: 62.50%\u001b[32m [repeated 31x across cluster]\u001b[0m\n"
     ]
    },
    {
     "name": "stderr",
     "output_type": "stream",
     "text": [
      "  0%|          | 0/1 [00:00<?, ?it/s]\u001b[32m [repeated 25x across cluster]\u001b[0m\n",
      "100%|██████████| 1/1 [00:01<00:00,  2.00s/it]\u001b[32m [repeated 62x across cluster]\u001b[0m\n",
      "\u001b[36m(ClientAppActor pid=50140)\u001b[0m \u001b[93mWARNING \u001b[0m:   DEPRECATED FEATURE: `client_fn` now expects a signature `def client_fn(context: Context)`.The provided `client_fn` has signature: {'cid': <Parameter \"cid: str\">}. You can import the `Context` like this: `from flwr.common import Context`\u001b[32m [repeated 21x across cluster]\u001b[0m\n",
      "\u001b[36m(ClientAppActor pid=50140)\u001b[0m             This is a deprecated feature. It will be removed\u001b[32m [repeated 21x across cluster]\u001b[0m\n",
      "\u001b[36m(ClientAppActor pid=50140)\u001b[0m             entirely in future versions of Flower.\u001b[32m [repeated 21x across cluster]\u001b[0m\n"
     ]
    },
    {
     "name": "stdout",
     "output_type": "stream",
     "text": [
      "\u001b[36m(ClientAppActor pid=50135)\u001b[0m Test Loss: 2.9010, Test Accuracy: 37.50%\u001b[32m [repeated 21x across cluster]\u001b[0m\n"
     ]
    },
    {
     "name": "stderr",
     "output_type": "stream",
     "text": [
      "  0%|          | 0/1 [00:00<?, ?it/s]\u001b[32m [repeated 22x across cluster]\u001b[0m\n"
     ]
    },
    {
     "name": "stdout",
     "output_type": "stream",
     "text": [
      "\u001b[36m(ClientAppActor pid=50140)\u001b[0m Test Loss: 2.6844, Test Accuracy: 37.50%\u001b[32m [repeated 27x across cluster]\u001b[0m\n"
     ]
    },
    {
     "name": "stderr",
     "output_type": "stream",
     "text": [
      "100%|██████████| 1/1 [00:01<00:00,  1.16s/it]\u001b[32m [repeated 76x across cluster]\u001b[0m\n",
      "\u001b[36m(ClientAppActor pid=50143)\u001b[0m \u001b[93mWARNING \u001b[0m:   DEPRECATED FEATURE: `client_fn` now expects a signature `def client_fn(context: Context)`.The provided `client_fn` has signature: {'cid': <Parameter \"cid: str\">}. You can import the `Context` like this: `from flwr.common import Context`\u001b[32m [repeated 24x across cluster]\u001b[0m\n",
      "\u001b[36m(ClientAppActor pid=50143)\u001b[0m             This is a deprecated feature. It will be removed\u001b[32m [repeated 24x across cluster]\u001b[0m\n",
      "\u001b[36m(ClientAppActor pid=50143)\u001b[0m             entirely in future versions of Flower.\u001b[32m [repeated 24x across cluster]\u001b[0m\n",
      "  0%|          | 0/1 [00:00<?, ?it/s]\u001b[32m [repeated 26x across cluster]\u001b[0m\n",
      "\u001b[36m(ClientAppActor pid=50141)\u001b[0m         \u001b[32m [repeated 68x across cluster]\u001b[0m\n",
      "\u001b[36m(ClientAppActor pid=50141)\u001b[0m \u001b[93mWARNING \u001b[0m:   DEPRECATED FEATURE: `client_fn` now expects a signature `def client_fn(context: Context)`.The provided `client_fn` has signature: {'cid': <Parameter \"cid: str\">}. You can import the `Context` like this: `from flwr.common import Context`\u001b[32m [repeated 22x across cluster]\u001b[0m\n",
      "\u001b[36m(ClientAppActor pid=50141)\u001b[0m             This is a deprecated feature. It will be removed\u001b[32m [repeated 22x across cluster]\u001b[0m\n",
      "\u001b[36m(ClientAppActor pid=50141)\u001b[0m             entirely in future versions of Flower.\u001b[32m [repeated 22x across cluster]\u001b[0m\n"
     ]
    },
    {
     "name": "stdout",
     "output_type": "stream",
     "text": [
      "\u001b[36m(ClientAppActor pid=50142)\u001b[0m Test Loss: 2.1237, Test Accuracy: 25.00%\u001b[32m [repeated 24x across cluster]\u001b[0m\n"
     ]
    },
    {
     "name": "stderr",
     "output_type": "stream",
     "text": [
      "  0%|          | 0/1 [00:00<?, ?it/s]\u001b[32m [repeated 20x across cluster]\u001b[0m\n",
      "\u001b[92mINFO \u001b[0m:      aggregate_fit: received 100 results and 0 failures\n",
      "\u001b[92mINFO \u001b[0m:      fit progress: (45, 2.4303128719329834, {'accuracy': 0.3753475440222428}, 1511.4202274580002)\n",
      "\u001b[92mINFO \u001b[0m:      configure_evaluate: strategy sampled 20 clients (out of 100)\n"
     ]
    },
    {
     "name": "stdout",
     "output_type": "stream",
     "text": [
      "Test Loss: 2.4303, Test Accuracy: 37.53%\n"
     ]
    },
    {
     "name": "stderr",
     "output_type": "stream",
     "text": [
      "\u001b[36m(ClientAppActor pid=50137)\u001b[0m         \u001b[32m [repeated 45x across cluster]\u001b[0m\n",
      "\u001b[36m(ClientAppActor pid=50137)\u001b[0m \u001b[93mWARNING \u001b[0m:   DEPRECATED FEATURE: `client_fn` now expects a signature `def client_fn(context: Context)`.The provided `client_fn` has signature: {'cid': <Parameter \"cid: str\">}. You can import the `Context` like this: `from flwr.common import Context`\u001b[32m [repeated 14x across cluster]\u001b[0m\n",
      "\u001b[36m(ClientAppActor pid=50137)\u001b[0m             This is a deprecated feature. It will be removed\u001b[32m [repeated 14x across cluster]\u001b[0m\n",
      "\u001b[36m(ClientAppActor pid=50137)\u001b[0m             entirely in future versions of Flower.\u001b[32m [repeated 14x across cluster]\u001b[0m\n",
      "  0%|          | 0/1 [00:00<?, ?it/s]\u001b[32m [repeated 6x across cluster]\u001b[0m\n"
     ]
    },
    {
     "name": "stdout",
     "output_type": "stream",
     "text": [
      "\u001b[36m(ClientAppActor pid=50137)\u001b[0m Test Loss: 2.1792, Test Accuracy: 37.50%\u001b[32m [repeated 17x across cluster]\u001b[0m\n"
     ]
    },
    {
     "name": "stderr",
     "output_type": "stream",
     "text": [
      "\u001b[92mINFO \u001b[0m:      aggregate_evaluate: received 20 results and 0 failures\n",
      "\u001b[92mINFO \u001b[0m:      \n",
      "\u001b[92mINFO \u001b[0m:      [ROUND 46]\n",
      "\u001b[92mINFO \u001b[0m:      configure_fit: strategy sampled 100 clients (out of 100)\n",
      "100%|██████████| 1/1 [00:00<00:00,  1.16it/s]\u001b[32m [repeated 96x across cluster]\u001b[0m\n",
      "\u001b[36m(ClientAppActor pid=50140)\u001b[0m \u001b[93mWARNING \u001b[0m:   DEPRECATED FEATURE: `client_fn` now expects a signature `def client_fn(context: Context)`.The provided `client_fn` has signature: {'cid': <Parameter \"cid: str\">}. You can import the `Context` like this: `from flwr.common import Context`\u001b[32m [repeated 40x across cluster]\u001b[0m\n",
      "\u001b[36m(ClientAppActor pid=50140)\u001b[0m             This is a deprecated feature. It will be removed\u001b[32m [repeated 40x across cluster]\u001b[0m\n",
      "\u001b[36m(ClientAppActor pid=50140)\u001b[0m             entirely in future versions of Flower.\u001b[32m [repeated 40x across cluster]\u001b[0m\n",
      "  0%|          | 0/1 [00:00<?, ?it/s]\u001b[32m [repeated 19x across cluster]\u001b[0m\n"
     ]
    },
    {
     "name": "stdout",
     "output_type": "stream",
     "text": [
      "\u001b[36m(ClientAppActor pid=50143)\u001b[0m Test Loss: 2.0954, Test Accuracy: 50.00%\u001b[32m [repeated 35x across cluster]\u001b[0m\n"
     ]
    },
    {
     "name": "stderr",
     "output_type": "stream",
     "text": [
      "100%|██████████| 1/1 [00:00<00:00,  1.06it/s]\u001b[32m [repeated 80x across cluster]\u001b[0m\n",
      "\u001b[36m(ClientAppActor pid=50136)\u001b[0m \u001b[93mWARNING \u001b[0m:   DEPRECATED FEATURE: `client_fn` now expects a signature `def client_fn(context: Context)`.The provided `client_fn` has signature: {'cid': <Parameter \"cid: str\">}. You can import the `Context` like this: `from flwr.common import Context`\u001b[32m [repeated 27x across cluster]\u001b[0m\n",
      "\u001b[36m(ClientAppActor pid=50136)\u001b[0m             This is a deprecated feature. It will be removed\u001b[32m [repeated 27x across cluster]\u001b[0m\n",
      "\u001b[36m(ClientAppActor pid=50136)\u001b[0m             entirely in future versions of Flower.\u001b[32m [repeated 27x across cluster]\u001b[0m\n",
      "  0%|          | 0/1 [00:00<?, ?it/s]\u001b[32m [repeated 28x across cluster]\u001b[0m\n"
     ]
    },
    {
     "name": "stdout",
     "output_type": "stream",
     "text": [
      "\u001b[36m(ClientAppActor pid=50140)\u001b[0m Test Loss: 2.4841, Test Accuracy: 50.00%\u001b[32m [repeated 25x across cluster]\u001b[0m\n",
      "\u001b[36m(ClientAppActor pid=50141)\u001b[0m \n"
     ]
    },
    {
     "name": "stderr",
     "output_type": "stream",
     "text": [
      "100%|██████████| 1/1 [00:01<00:00,  1.08s/it]\u001b[32m [repeated 81x across cluster]\u001b[0m\n",
      "\u001b[36m(ClientAppActor pid=50142)\u001b[0m \u001b[93mWARNING \u001b[0m:   DEPRECATED FEATURE: `client_fn` now expects a signature `def client_fn(context: Context)`.The provided `client_fn` has signature: {'cid': <Parameter \"cid: str\">}. You can import the `Context` like this: `from flwr.common import Context`\u001b[32m [repeated 26x across cluster]\u001b[0m\n",
      "\u001b[36m(ClientAppActor pid=50142)\u001b[0m             This is a deprecated feature. It will be removed\u001b[32m [repeated 26x across cluster]\u001b[0m\n",
      "\u001b[36m(ClientAppActor pid=50142)\u001b[0m             entirely in future versions of Flower.\u001b[32m [repeated 26x across cluster]\u001b[0m\n",
      "  0%|          | 0/1 [00:00<?, ?it/s]\u001b[32m [repeated 27x across cluster]\u001b[0m\n"
     ]
    },
    {
     "name": "stdout",
     "output_type": "stream",
     "text": [
      "\u001b[36m(ClientAppActor pid=50137)\u001b[0m Test Loss: 1.7895, Test Accuracy: 50.00%\u001b[32m [repeated 27x across cluster]\u001b[0m\n"
     ]
    },
    {
     "name": "stderr",
     "output_type": "stream",
     "text": [
      "100%|██████████| 1/1 [00:01<00:00,  1.04s/it]\u001b[32m [repeated 75x across cluster]\u001b[0m\n",
      "\u001b[36m(ClientAppActor pid=50141)\u001b[0m \u001b[93mWARNING \u001b[0m:   DEPRECATED FEATURE: `client_fn` now expects a signature `def client_fn(context: Context)`.The provided `client_fn` has signature: {'cid': <Parameter \"cid: str\">}. You can import the `Context` like this: `from flwr.common import Context`\u001b[32m [repeated 24x across cluster]\u001b[0m\n",
      "\u001b[36m(ClientAppActor pid=50141)\u001b[0m             This is a deprecated feature. It will be removed\u001b[32m [repeated 24x across cluster]\u001b[0m\n",
      "\u001b[36m(ClientAppActor pid=50141)\u001b[0m             entirely in future versions of Flower.\u001b[32m [repeated 24x across cluster]\u001b[0m\n",
      "  0%|          | 0/1 [00:00<?, ?it/s]\u001b[32m [repeated 24x across cluster]\u001b[0m\n"
     ]
    },
    {
     "name": "stdout",
     "output_type": "stream",
     "text": [
      "\u001b[36m(ClientAppActor pid=50135)\u001b[0m Test Loss: 1.7777, Test Accuracy: 50.00%\u001b[32m [repeated 25x across cluster]\u001b[0m\n"
     ]
    },
    {
     "name": "stderr",
     "output_type": "stream",
     "text": [
      "\u001b[92mINFO \u001b[0m:      aggregate_fit: received 100 results and 0 failures\n",
      "\u001b[92mINFO \u001b[0m:      fit progress: (46, 2.4255113321192123, {'accuracy': 0.3809082483781279}, 1539.758944958)\n",
      "\u001b[92mINFO \u001b[0m:      configure_evaluate: strategy sampled 20 clients (out of 100)\n"
     ]
    },
    {
     "name": "stdout",
     "output_type": "stream",
     "text": [
      "Test Loss: 2.4255, Test Accuracy: 38.09%\n"
     ]
    },
    {
     "name": "stderr",
     "output_type": "stream",
     "text": [
      "\u001b[36m(ClientAppActor pid=50139)\u001b[0m         \u001b[32m [repeated 13x across cluster]\u001b[0m\n",
      "\u001b[36m(ClientAppActor pid=50139)\u001b[0m \u001b[93mWARNING \u001b[0m:   DEPRECATED FEATURE: `client_fn` now expects a signature `def client_fn(context: Context)`.The provided `client_fn` has signature: {'cid': <Parameter \"cid: str\">}. You can import the `Context` like this: `from flwr.common import Context`\u001b[32m [repeated 3x across cluster]\u001b[0m\n",
      "\u001b[36m(ClientAppActor pid=50139)\u001b[0m             This is a deprecated feature. It will be removed\u001b[32m [repeated 3x across cluster]\u001b[0m\n",
      "\u001b[36m(ClientAppActor pid=50139)\u001b[0m             entirely in future versions of Flower.\u001b[32m [repeated 3x across cluster]\u001b[0m\n",
      "  0%|          | 0/1 [00:00<?, ?it/s]\u001b[32m [repeated 2x across cluster]\u001b[0m\n"
     ]
    },
    {
     "name": "stdout",
     "output_type": "stream",
     "text": [
      "\u001b[36m(ClientAppActor pid=50139)\u001b[0m Test Loss: 2.9710, Test Accuracy: 25.00%\u001b[32m [repeated 8x across cluster]\u001b[0m\n"
     ]
    },
    {
     "name": "stderr",
     "output_type": "stream",
     "text": [
      "\u001b[92mINFO \u001b[0m:      aggregate_evaluate: received 20 results and 0 failures\n",
      "\u001b[92mINFO \u001b[0m:      \n",
      "\u001b[92mINFO \u001b[0m:      [ROUND 47]\n",
      "\u001b[92mINFO \u001b[0m:      configure_fit: strategy sampled 100 clients (out of 100)\n",
      "100%|██████████| 1/1 [00:01<00:00,  1.23s/it]\u001b[32m [repeated 90x across cluster]\u001b[0m\n",
      "\u001b[36m(ClientAppActor pid=50136)\u001b[0m \u001b[93mWARNING \u001b[0m:   DEPRECATED FEATURE: `client_fn` now expects a signature `def client_fn(context: Context)`.The provided `client_fn` has signature: {'cid': <Parameter \"cid: str\">}. You can import the `Context` like this: `from flwr.common import Context`\u001b[32m [repeated 38x across cluster]\u001b[0m\n",
      "\u001b[36m(ClientAppActor pid=50136)\u001b[0m             This is a deprecated feature. It will be removed\u001b[32m [repeated 38x across cluster]\u001b[0m\n",
      "\u001b[36m(ClientAppActor pid=50136)\u001b[0m             entirely in future versions of Flower.\u001b[32m [repeated 38x across cluster]\u001b[0m\n",
      "  0%|          | 0/1 [00:00<?, ?it/s]\u001b[32m [repeated 18x across cluster]\u001b[0m\n"
     ]
    },
    {
     "name": "stdout",
     "output_type": "stream",
     "text": [
      "\u001b[36m(ClientAppActor pid=50143)\u001b[0m Test Loss: 2.0799, Test Accuracy: 50.00%\u001b[32m [repeated 33x across cluster]\u001b[0m\n"
     ]
    },
    {
     "name": "stderr",
     "output_type": "stream",
     "text": [
      "100%|██████████| 1/1 [00:01<00:00,  1.04s/it]\u001b[32m [repeated 86x across cluster]\u001b[0m\n",
      "\u001b[36m(ClientAppActor pid=50134)\u001b[0m \u001b[93mWARNING \u001b[0m:   DEPRECATED FEATURE: `client_fn` now expects a signature `def client_fn(context: Context)`.The provided `client_fn` has signature: {'cid': <Parameter \"cid: str\">}. You can import the `Context` like this: `from flwr.common import Context`\u001b[32m [repeated 29x across cluster]\u001b[0m\n",
      "\u001b[36m(ClientAppActor pid=50134)\u001b[0m             This is a deprecated feature. It will be removed\u001b[32m [repeated 29x across cluster]\u001b[0m\n",
      "\u001b[36m(ClientAppActor pid=50134)\u001b[0m             entirely in future versions of Flower.\u001b[32m [repeated 29x across cluster]\u001b[0m\n",
      "  0%|          | 0/1 [00:00<?, ?it/s]\u001b[32m [repeated 27x across cluster]\u001b[0m\n"
     ]
    },
    {
     "name": "stdout",
     "output_type": "stream",
     "text": [
      "\u001b[36m(ClientAppActor pid=50141)\u001b[0m Test Loss: 2.8239, Test Accuracy: 37.50%\u001b[32m [repeated 27x across cluster]\u001b[0m\n"
     ]
    },
    {
     "name": "stderr",
     "output_type": "stream",
     "text": [
      "100%|██████████| 1/1 [00:01<00:00,  1.19s/it]\u001b[32m [repeated 83x across cluster]\u001b[0m\n",
      "\u001b[36m(ClientAppActor pid=50139)\u001b[0m \u001b[93mWARNING \u001b[0m:   DEPRECATED FEATURE: `client_fn` now expects a signature `def client_fn(context: Context)`.The provided `client_fn` has signature: {'cid': <Parameter \"cid: str\">}. You can import the `Context` like this: `from flwr.common import Context`\u001b[32m [repeated 28x across cluster]\u001b[0m\n",
      "\u001b[36m(ClientAppActor pid=50139)\u001b[0m             This is a deprecated feature. It will be removed\u001b[32m [repeated 28x across cluster]\u001b[0m\n",
      "\u001b[36m(ClientAppActor pid=50139)\u001b[0m             entirely in future versions of Flower.\u001b[32m [repeated 28x across cluster]\u001b[0m\n",
      "  0%|          | 0/1 [00:00<?, ?it/s]\u001b[32m [repeated 30x across cluster]\u001b[0m\n"
     ]
    },
    {
     "name": "stdout",
     "output_type": "stream",
     "text": [
      "\u001b[36m(ClientAppActor pid=50136)\u001b[0m Test Loss: 2.9215, Test Accuracy: 25.00%\u001b[32m [repeated 27x across cluster]\u001b[0m\n"
     ]
    },
    {
     "name": "stderr",
     "output_type": "stream",
     "text": [
      "100%|██████████| 1/1 [00:00<00:00,  1.02it/s]\u001b[32m [repeated 77x across cluster]\u001b[0m\n",
      "\u001b[36m(ClientAppActor pid=50138)\u001b[0m \u001b[93mWARNING \u001b[0m:   DEPRECATED FEATURE: `client_fn` now expects a signature `def client_fn(context: Context)`.The provided `client_fn` has signature: {'cid': <Parameter \"cid: str\">}. You can import the `Context` like this: `from flwr.common import Context`\u001b[32m [repeated 24x across cluster]\u001b[0m\n",
      "\u001b[36m(ClientAppActor pid=50138)\u001b[0m             This is a deprecated feature. It will be removed\u001b[32m [repeated 24x across cluster]\u001b[0m\n",
      "\u001b[36m(ClientAppActor pid=50138)\u001b[0m             entirely in future versions of Flower.\u001b[32m [repeated 24x across cluster]\u001b[0m\n",
      "  0%|          | 0/1 [00:00<?, ?it/s]\u001b[32m [repeated 25x across cluster]\u001b[0m\n",
      "\u001b[92mINFO \u001b[0m:      aggregate_fit: received 100 results and 0 failures\n"
     ]
    },
    {
     "name": "stdout",
     "output_type": "stream",
     "text": [
      "\u001b[36m(ClientAppActor pid=50138)\u001b[0m Test Loss: 1.9160, Test Accuracy: 62.50%\u001b[32m [repeated 31x across cluster]\u001b[0m\n"
     ]
    },
    {
     "name": "stderr",
     "output_type": "stream",
     "text": [
      "\u001b[92mINFO \u001b[0m:      fit progress: (47, 2.420598633149091, {'accuracy': 0.3790546802594995}, 1565.8363814999993)\n",
      "\u001b[92mINFO \u001b[0m:      configure_evaluate: strategy sampled 20 clients (out of 100)\n"
     ]
    },
    {
     "name": "stdout",
     "output_type": "stream",
     "text": [
      "Test Loss: 2.4206, Test Accuracy: 37.91%\n"
     ]
    },
    {
     "name": "stderr",
     "output_type": "stream",
     "text": [
      "\u001b[36m(ClientAppActor pid=50134)\u001b[0m         \u001b[32m [repeated 6x across cluster]\u001b[0m\n",
      "\u001b[36m(ClientAppActor pid=50134)\u001b[0m \u001b[93mWARNING \u001b[0m:   DEPRECATED FEATURE: `client_fn` now expects a signature `def client_fn(context: Context)`.The provided `client_fn` has signature: {'cid': <Parameter \"cid: str\">}. You can import the `Context` like this: `from flwr.common import Context`\n",
      "\u001b[36m(ClientAppActor pid=50134)\u001b[0m             This is a deprecated feature. It will be removed\n",
      "\u001b[36m(ClientAppActor pid=50134)\u001b[0m             entirely in future versions of Flower.\n",
      "\u001b[36m(ClientAppActor pid=50138)\u001b[0m \u001b[93mWARNING \u001b[0m:   DEPRECATED FEATURE: `client_fn` now expects a signature `def client_fn(context: Context)`.The provided `client_fn` has signature: {'cid': <Parameter \"cid: str\">}. You can import the `Context` like this: `from flwr.common import Context`\n",
      "\u001b[36m(ClientAppActor pid=50138)\u001b[0m             This is a deprecated feature. It will be removed\n",
      "\u001b[36m(ClientAppActor pid=50138)\u001b[0m             entirely in future versions of Flower.\n"
     ]
    },
    {
     "name": "stdout",
     "output_type": "stream",
     "text": [
      "\u001b[36m(ClientAppActor pid=50138)\u001b[0m Test Loss: 3.1734, Test Accuracy: 25.00%\u001b[32m [repeated 2x across cluster]\u001b[0m\n"
     ]
    },
    {
     "name": "stderr",
     "output_type": "stream",
     "text": [
      "\u001b[92mINFO \u001b[0m:      aggregate_evaluate: received 20 results and 0 failures\n",
      "\u001b[92mINFO \u001b[0m:      \n",
      "\u001b[92mINFO \u001b[0m:      [ROUND 48]\n",
      "\u001b[92mINFO \u001b[0m:      configure_fit: strategy sampled 100 clients (out of 100)\n",
      "  0%|          | 0/1 [00:00<?, ?it/s]\n",
      "\u001b[36m(ClientAppActor pid=50139)\u001b[0m         \u001b[32m [repeated 77x across cluster]\u001b[0m\n",
      "\u001b[36m(ClientAppActor pid=50139)\u001b[0m \u001b[93mWARNING \u001b[0m:   DEPRECATED FEATURE: `client_fn` now expects a signature `def client_fn(context: Context)`.The provided `client_fn` has signature: {'cid': <Parameter \"cid: str\">}. You can import the `Context` like this: `from flwr.common import Context`\u001b[32m [repeated 34x across cluster]\u001b[0m\n",
      "\u001b[36m(ClientAppActor pid=50139)\u001b[0m             This is a deprecated feature. It will be removed\u001b[32m [repeated 34x across cluster]\u001b[0m\n",
      "\u001b[36m(ClientAppActor pid=50139)\u001b[0m             entirely in future versions of Flower.\u001b[32m [repeated 34x across cluster]\u001b[0m\n"
     ]
    },
    {
     "name": "stdout",
     "output_type": "stream",
     "text": [
      "\u001b[36m(ClientAppActor pid=50143)\u001b[0m Test Loss: 1.4200, Test Accuracy: 50.00%\u001b[32m [repeated 27x across cluster]\u001b[0m\n"
     ]
    },
    {
     "name": "stderr",
     "output_type": "stream",
     "text": [
      "  0%|          | 0/1 [00:00<?, ?it/s]\u001b[32m [repeated 25x across cluster]\u001b[0m\n",
      "\u001b[36m(ClientAppActor pid=50136)\u001b[0m         \u001b[32m [repeated 73x across cluster]\u001b[0m\n",
      "\u001b[36m(ClientAppActor pid=50136)\u001b[0m \u001b[93mWARNING \u001b[0m:   DEPRECATED FEATURE: `client_fn` now expects a signature `def client_fn(context: Context)`.The provided `client_fn` has signature: {'cid': <Parameter \"cid: str\">}. You can import the `Context` like this: `from flwr.common import Context`\u001b[32m [repeated 24x across cluster]\u001b[0m\n",
      "\u001b[36m(ClientAppActor pid=50136)\u001b[0m             This is a deprecated feature. It will be removed\u001b[32m [repeated 24x across cluster]\u001b[0m\n",
      "\u001b[36m(ClientAppActor pid=50136)\u001b[0m             entirely in future versions of Flower.\u001b[32m [repeated 24x across cluster]\u001b[0m\n"
     ]
    },
    {
     "name": "stdout",
     "output_type": "stream",
     "text": [
      "\u001b[36m(ClientAppActor pid=50139)\u001b[0m Test Loss: 2.5283, Test Accuracy: 62.50%\u001b[32m [repeated 27x across cluster]\u001b[0m\n"
     ]
    },
    {
     "name": "stderr",
     "output_type": "stream",
     "text": [
      "  0%|          | 0/1 [00:00<?, ?it/s]\u001b[32m [repeated 23x across cluster]\u001b[0m\n"
     ]
    },
    {
     "name": "stdout",
     "output_type": "stream",
     "text": [
      "\u001b[36m(ClientAppActor pid=50143)\u001b[0m \n"
     ]
    },
    {
     "name": "stderr",
     "output_type": "stream",
     "text": [
      "100%|██████████| 1/1 [00:01<00:00,  1.15s/it]\u001b[32m [repeated 80x across cluster]\u001b[0m\n",
      "\u001b[36m(ClientAppActor pid=50139)\u001b[0m \u001b[93mWARNING \u001b[0m:   DEPRECATED FEATURE: `client_fn` now expects a signature `def client_fn(context: Context)`.The provided `client_fn` has signature: {'cid': <Parameter \"cid: str\">}. You can import the `Context` like this: `from flwr.common import Context`\u001b[32m [repeated 26x across cluster]\u001b[0m\n",
      "\u001b[36m(ClientAppActor pid=50139)\u001b[0m             This is a deprecated feature. It will be removed\u001b[32m [repeated 26x across cluster]\u001b[0m\n",
      "\u001b[36m(ClientAppActor pid=50139)\u001b[0m             entirely in future versions of Flower.\u001b[32m [repeated 26x across cluster]\u001b[0m\n"
     ]
    },
    {
     "name": "stdout",
     "output_type": "stream",
     "text": [
      "\u001b[36m(ClientAppActor pid=50138)\u001b[0m Test Loss: 2.8388, Test Accuracy: 37.50%\u001b[32m [repeated 26x across cluster]\u001b[0m\n"
     ]
    },
    {
     "name": "stderr",
     "output_type": "stream",
     "text": [
      "  0%|          | 0/1 [00:00<?, ?it/s]\u001b[32m [repeated 30x across cluster]\u001b[0m\n",
      "100%|██████████| 1/1 [00:01<00:00,  1.38s/it]\u001b[32m [repeated 79x across cluster]\u001b[0m\n",
      "\u001b[36m(ClientAppActor pid=50140)\u001b[0m \u001b[93mWARNING \u001b[0m:   DEPRECATED FEATURE: `client_fn` now expects a signature `def client_fn(context: Context)`.The provided `client_fn` has signature: {'cid': <Parameter \"cid: str\">}. You can import the `Context` like this: `from flwr.common import Context`\u001b[32m [repeated 26x across cluster]\u001b[0m\n",
      "\u001b[36m(ClientAppActor pid=50140)\u001b[0m             This is a deprecated feature. It will be removed\u001b[32m [repeated 26x across cluster]\u001b[0m\n",
      "\u001b[36m(ClientAppActor pid=50140)\u001b[0m             entirely in future versions of Flower.\u001b[32m [repeated 26x across cluster]\u001b[0m\n"
     ]
    },
    {
     "name": "stdout",
     "output_type": "stream",
     "text": [
      "\u001b[36m(ClientAppActor pid=50136)\u001b[0m Test Loss: 2.2359, Test Accuracy: 25.00%\u001b[32m [repeated 29x across cluster]\u001b[0m\n"
     ]
    },
    {
     "name": "stderr",
     "output_type": "stream",
     "text": [
      "  0%|          | 0/1 [00:00<?, ?it/s]\u001b[32m [repeated 20x across cluster]\u001b[0m\n",
      "\u001b[92mINFO \u001b[0m:      aggregate_fit: received 100 results and 0 failures\n",
      "\u001b[92mINFO \u001b[0m:      fit progress: (48, 2.415805648354923, {'accuracy': 0.3841519925857275}, 1596.0865746250001)\n",
      "\u001b[92mINFO \u001b[0m:      configure_evaluate: strategy sampled 20 clients (out of 100)\n"
     ]
    },
    {
     "name": "stdout",
     "output_type": "stream",
     "text": [
      "Test Loss: 2.4158, Test Accuracy: 38.42%\n"
     ]
    },
    {
     "name": "stderr",
     "output_type": "stream",
     "text": [
      "\u001b[36m(ClientAppActor pid=50141)\u001b[0m         \u001b[32m [repeated 33x across cluster]\u001b[0m\n",
      "\u001b[36m(ClientAppActor pid=50141)\u001b[0m \u001b[93mWARNING \u001b[0m:   DEPRECATED FEATURE: `client_fn` now expects a signature `def client_fn(context: Context)`.The provided `client_fn` has signature: {'cid': <Parameter \"cid: str\">}. You can import the `Context` like this: `from flwr.common import Context`\u001b[32m [repeated 9x across cluster]\u001b[0m\n",
      "\u001b[36m(ClientAppActor pid=50141)\u001b[0m             This is a deprecated feature. It will be removed\u001b[32m [repeated 9x across cluster]\u001b[0m\n",
      "\u001b[36m(ClientAppActor pid=50141)\u001b[0m             entirely in future versions of Flower.\u001b[32m [repeated 9x across cluster]\u001b[0m\n",
      "  0%|          | 0/1 [00:00<?, ?it/s]\n"
     ]
    },
    {
     "name": "stdout",
     "output_type": "stream",
     "text": [
      "\u001b[36m(ClientAppActor pid=50141)\u001b[0m Test Loss: 2.3633, Test Accuracy: 37.50%\u001b[32m [repeated 11x across cluster]\u001b[0m\n"
     ]
    },
    {
     "name": "stderr",
     "output_type": "stream",
     "text": [
      "\u001b[92mINFO \u001b[0m:      aggregate_evaluate: received 20 results and 0 failures\n",
      "\u001b[92mINFO \u001b[0m:      \n",
      "\u001b[92mINFO \u001b[0m:      [ROUND 49]\n",
      "\u001b[92mINFO \u001b[0m:      configure_fit: strategy sampled 100 clients (out of 100)\n",
      "  0%|          | 0/1 [00:00<?, ?it/s]\n",
      "100%|██████████| 1/1 [00:01<00:00,  1.16s/it]\u001b[32m [repeated 82x across cluster]\u001b[0m\n",
      "\u001b[36m(ClientAppActor pid=50140)\u001b[0m \u001b[93mWARNING \u001b[0m:   DEPRECATED FEATURE: `client_fn` now expects a signature `def client_fn(context: Context)`.The provided `client_fn` has signature: {'cid': <Parameter \"cid: str\">}. You can import the `Context` like this: `from flwr.common import Context`\u001b[32m [repeated 36x across cluster]\u001b[0m\n",
      "\u001b[36m(ClientAppActor pid=50140)\u001b[0m             This is a deprecated feature. It will be removed\u001b[32m [repeated 36x across cluster]\u001b[0m\n",
      "\u001b[36m(ClientAppActor pid=50140)\u001b[0m             entirely in future versions of Flower.\u001b[32m [repeated 36x across cluster]\u001b[0m\n"
     ]
    },
    {
     "name": "stdout",
     "output_type": "stream",
     "text": [
      "\u001b[36m(ClientAppActor pid=50143)\u001b[0m Test Loss: 2.4697, Test Accuracy: 37.50%\u001b[32m [repeated 29x across cluster]\u001b[0m\n"
     ]
    },
    {
     "name": "stderr",
     "output_type": "stream",
     "text": [
      "  0%|          | 0/1 [00:00<?, ?it/s]\u001b[32m [repeated 24x across cluster]\u001b[0m\n",
      "\u001b[36m(ClientAppActor pid=50142)\u001b[0m         \u001b[32m [repeated 73x across cluster]\u001b[0m\n",
      "\u001b[36m(ClientAppActor pid=50142)\u001b[0m \u001b[93mWARNING \u001b[0m:   DEPRECATED FEATURE: `client_fn` now expects a signature `def client_fn(context: Context)`.The provided `client_fn` has signature: {'cid': <Parameter \"cid: str\">}. You can import the `Context` like this: `from flwr.common import Context`\u001b[32m [repeated 24x across cluster]\u001b[0m\n",
      "\u001b[36m(ClientAppActor pid=50142)\u001b[0m             This is a deprecated feature. It will be removed\u001b[32m [repeated 24x across cluster]\u001b[0m\n",
      "\u001b[36m(ClientAppActor pid=50142)\u001b[0m             entirely in future versions of Flower.\u001b[32m [repeated 24x across cluster]\u001b[0m\n"
     ]
    },
    {
     "name": "stdout",
     "output_type": "stream",
     "text": [
      "\u001b[36m(ClientAppActor pid=50140)\u001b[0m Test Loss: 1.4608, Test Accuracy: 37.50%\u001b[32m [repeated 25x across cluster]\u001b[0m\n"
     ]
    },
    {
     "name": "stderr",
     "output_type": "stream",
     "text": [
      "  0%|          | 0/1 [00:00<?, ?it/s]\u001b[32m [repeated 24x across cluster]\u001b[0m\n",
      "100%|██████████| 1/1 [00:01<00:00,  1.17s/it]\u001b[32m [repeated 78x across cluster]\u001b[0m\n",
      "\u001b[36m(ClientAppActor pid=50139)\u001b[0m \u001b[93mWARNING \u001b[0m:   DEPRECATED FEATURE: `client_fn` now expects a signature `def client_fn(context: Context)`.The provided `client_fn` has signature: {'cid': <Parameter \"cid: str\">}. You can import the `Context` like this: `from flwr.common import Context`\u001b[32m [repeated 26x across cluster]\u001b[0m\n",
      "\u001b[36m(ClientAppActor pid=50139)\u001b[0m             This is a deprecated feature. It will be removed\u001b[32m [repeated 26x across cluster]\u001b[0m\n",
      "\u001b[36m(ClientAppActor pid=50139)\u001b[0m             entirely in future versions of Flower.\u001b[32m [repeated 26x across cluster]\u001b[0m\n"
     ]
    },
    {
     "name": "stdout",
     "output_type": "stream",
     "text": [
      "\u001b[36m(ClientAppActor pid=50138)\u001b[0m Test Loss: 2.6582, Test Accuracy: 37.50%\u001b[32m [repeated 26x across cluster]\u001b[0m\n"
     ]
    },
    {
     "name": "stderr",
     "output_type": "stream",
     "text": [
      "  0%|          | 0/1 [00:00<?, ?it/s]\u001b[32m [repeated 26x across cluster]\u001b[0m\n",
      "\u001b[36m(ClientAppActor pid=50136)\u001b[0m         \u001b[32m [repeated 56x across cluster]\u001b[0m\n",
      "\u001b[36m(ClientAppActor pid=50136)\u001b[0m \u001b[93mWARNING \u001b[0m:   DEPRECATED FEATURE: `client_fn` now expects a signature `def client_fn(context: Context)`.The provided `client_fn` has signature: {'cid': <Parameter \"cid: str\">}. You can import the `Context` like this: `from flwr.common import Context`\u001b[32m [repeated 19x across cluster]\u001b[0m\n",
      "\u001b[36m(ClientAppActor pid=50136)\u001b[0m             This is a deprecated feature. It will be removed\u001b[32m [repeated 19x across cluster]\u001b[0m\n",
      "\u001b[36m(ClientAppActor pid=50136)\u001b[0m             entirely in future versions of Flower.\u001b[32m [repeated 19x across cluster]\u001b[0m\n"
     ]
    },
    {
     "name": "stdout",
     "output_type": "stream",
     "text": [
      "\u001b[36m(ClientAppActor pid=50138)\u001b[0m Test Loss: 1.3153, Test Accuracy: 62.50%\u001b[32m [repeated 20x across cluster]\u001b[0m\n"
     ]
    },
    {
     "name": "stderr",
     "output_type": "stream",
     "text": [
      "  0%|          | 0/1 [00:00<?, ?it/s]\u001b[32m [repeated 14x across cluster]\u001b[0m\n",
      "\u001b[92mINFO \u001b[0m:      aggregate_fit: received 100 results and 0 failures\n",
      "\u001b[92mINFO \u001b[0m:      fit progress: (49, 2.4108683081234203, {'accuracy': 0.38785912882298423}, 1629.479682958)\n",
      "\u001b[92mINFO \u001b[0m:      configure_evaluate: strategy sampled 20 clients (out of 100)\n"
     ]
    },
    {
     "name": "stdout",
     "output_type": "stream",
     "text": [
      "Test Loss: 2.4109, Test Accuracy: 38.79%\n"
     ]
    },
    {
     "name": "stderr",
     "output_type": "stream",
     "text": [
      "\u001b[36m(ClientAppActor pid=50134)\u001b[0m         \u001b[32m [repeated 53x across cluster]\u001b[0m\n",
      "\u001b[36m(ClientAppActor pid=50134)\u001b[0m \u001b[93mWARNING \u001b[0m:   DEPRECATED FEATURE: `client_fn` now expects a signature `def client_fn(context: Context)`.The provided `client_fn` has signature: {'cid': <Parameter \"cid: str\">}. You can import the `Context` like this: `from flwr.common import Context`\u001b[32m [repeated 15x across cluster]\u001b[0m\n",
      "\u001b[36m(ClientAppActor pid=50134)\u001b[0m             This is a deprecated feature. It will be removed\u001b[32m [repeated 15x across cluster]\u001b[0m\n",
      "\u001b[36m(ClientAppActor pid=50134)\u001b[0m             entirely in future versions of Flower.\u001b[32m [repeated 15x across cluster]\u001b[0m\n",
      "  0%|          | 0/1 [00:00<?, ?it/s]\u001b[32m [repeated 11x across cluster]\u001b[0m\n"
     ]
    },
    {
     "name": "stdout",
     "output_type": "stream",
     "text": [
      "\u001b[36m(ClientAppActor pid=50134)\u001b[0m Test Loss: 2.4860, Test Accuracy: 25.00%\u001b[32m [repeated 20x across cluster]\u001b[0m\n",
      "\u001b[36m(ClientAppActor pid=50139)\u001b[0m \n"
     ]
    },
    {
     "name": "stderr",
     "output_type": "stream",
     "text": [
      "\u001b[92mINFO \u001b[0m:      aggregate_evaluate: received 20 results and 0 failures\n",
      "\u001b[92mINFO \u001b[0m:      \n",
      "\u001b[92mINFO \u001b[0m:      [ROUND 50]\n",
      "\u001b[92mINFO \u001b[0m:      configure_fit: strategy sampled 100 clients (out of 100)\n",
      "\u001b[36m(ClientAppActor pid=50135)\u001b[0m         \u001b[32m [repeated 78x across cluster]\u001b[0m\n",
      "\u001b[36m(ClientAppActor pid=50135)\u001b[0m \u001b[93mWARNING \u001b[0m:   DEPRECATED FEATURE: `client_fn` now expects a signature `def client_fn(context: Context)`.The provided `client_fn` has signature: {'cid': <Parameter \"cid: str\">}. You can import the `Context` like this: `from flwr.common import Context`\u001b[32m [repeated 35x across cluster]\u001b[0m\n",
      "\u001b[36m(ClientAppActor pid=50135)\u001b[0m             This is a deprecated feature. It will be removed\u001b[32m [repeated 35x across cluster]\u001b[0m\n",
      "\u001b[36m(ClientAppActor pid=50135)\u001b[0m             entirely in future versions of Flower.\u001b[32m [repeated 35x across cluster]\u001b[0m\n",
      "  0%|          | 0/1 [00:00<?, ?it/s]\u001b[32m [repeated 13x across cluster]\u001b[0m\n"
     ]
    },
    {
     "name": "stdout",
     "output_type": "stream",
     "text": [
      "\u001b[36m(ClientAppActor pid=50141)\u001b[0m Test Loss: 2.9750, Test Accuracy: 12.50%\u001b[32m [repeated 28x across cluster]\u001b[0m\n"
     ]
    },
    {
     "name": "stderr",
     "output_type": "stream",
     "text": [
      "100%|██████████| 1/1 [00:01<00:00,  1.28s/it]\u001b[32m [repeated 67x across cluster]\u001b[0m\n",
      "\u001b[36m(ClientAppActor pid=50141)\u001b[0m \u001b[93mWARNING \u001b[0m:   DEPRECATED FEATURE: `client_fn` now expects a signature `def client_fn(context: Context)`.The provided `client_fn` has signature: {'cid': <Parameter \"cid: str\">}. You can import the `Context` like this: `from flwr.common import Context`\u001b[32m [repeated 22x across cluster]\u001b[0m\n",
      "\u001b[36m(ClientAppActor pid=50141)\u001b[0m             This is a deprecated feature. It will be removed\u001b[32m [repeated 22x across cluster]\u001b[0m\n",
      "\u001b[36m(ClientAppActor pid=50141)\u001b[0m             entirely in future versions of Flower.\u001b[32m [repeated 22x across cluster]\u001b[0m\n",
      "  0%|          | 0/1 [00:00<?, ?it/s]\u001b[32m [repeated 23x across cluster]\u001b[0m\n"
     ]
    },
    {
     "name": "stdout",
     "output_type": "stream",
     "text": [
      "\u001b[36m(ClientAppActor pid=50143)\u001b[0m Test Loss: 2.6550, Test Accuracy: 18.18%\u001b[32m [repeated 23x across cluster]\u001b[0m\n"
     ]
    },
    {
     "name": "stderr",
     "output_type": "stream",
     "text": [
      "100%|██████████| 1/1 [00:01<00:00,  1.17s/it]\u001b[32m [repeated 73x across cluster]\u001b[0m\n",
      "\u001b[36m(ClientAppActor pid=50142)\u001b[0m \u001b[93mWARNING \u001b[0m:   DEPRECATED FEATURE: `client_fn` now expects a signature `def client_fn(context: Context)`.The provided `client_fn` has signature: {'cid': <Parameter \"cid: str\">}. You can import the `Context` like this: `from flwr.common import Context`\u001b[32m [repeated 24x across cluster]\u001b[0m\n",
      "\u001b[36m(ClientAppActor pid=50142)\u001b[0m             This is a deprecated feature. It will be removed\u001b[32m [repeated 24x across cluster]\u001b[0m\n",
      "\u001b[36m(ClientAppActor pid=50142)\u001b[0m             entirely in future versions of Flower.\u001b[32m [repeated 24x across cluster]\u001b[0m\n",
      "  0%|          | 0/1 [00:00<?, ?it/s]\u001b[32m [repeated 26x across cluster]\u001b[0m\n"
     ]
    },
    {
     "name": "stdout",
     "output_type": "stream",
     "text": [
      "\u001b[36m(ClientAppActor pid=50137)\u001b[0m Test Loss: 3.0176, Test Accuracy: 25.00%\u001b[32m [repeated 26x across cluster]\u001b[0m\n"
     ]
    },
    {
     "name": "stderr",
     "output_type": "stream",
     "text": [
      "100%|██████████| 1/1 [00:01<00:00,  1.40s/it]\u001b[32m [repeated 79x across cluster]\u001b[0m\n",
      "\u001b[36m(ClientAppActor pid=50140)\u001b[0m \u001b[93mWARNING \u001b[0m:   DEPRECATED FEATURE: `client_fn` now expects a signature `def client_fn(context: Context)`.The provided `client_fn` has signature: {'cid': <Parameter \"cid: str\">}. You can import the `Context` like this: `from flwr.common import Context`\u001b[32m [repeated 27x across cluster]\u001b[0m\n",
      "\u001b[36m(ClientAppActor pid=50140)\u001b[0m             This is a deprecated feature. It will be removed\u001b[32m [repeated 27x across cluster]\u001b[0m\n",
      "\u001b[36m(ClientAppActor pid=50140)\u001b[0m             entirely in future versions of Flower.\u001b[32m [repeated 27x across cluster]\u001b[0m\n",
      "  0%|          | 0/1 [00:00<?, ?it/s]\u001b[32m [repeated 24x across cluster]\u001b[0m\n"
     ]
    },
    {
     "name": "stdout",
     "output_type": "stream",
     "text": [
      "\u001b[36m(ClientAppActor pid=50136)\u001b[0m Test Loss: 2.1949, Test Accuracy: 50.00%\u001b[32m [repeated 28x across cluster]\u001b[0m\n",
      "\u001b[36m(ClientAppActor pid=50141)\u001b[0m \n"
     ]
    },
    {
     "name": "stderr",
     "output_type": "stream",
     "text": [
      "\u001b[92mINFO \u001b[0m:      aggregate_fit: received 100 results and 0 failures\n",
      "\u001b[92mINFO \u001b[0m:      fit progress: (50, 2.405770049375646, {'accuracy': 0.3911028730305839}, 1659.465282708)\n",
      "\u001b[92mINFO \u001b[0m:      configure_evaluate: strategy sampled 20 clients (out of 100)\n"
     ]
    },
    {
     "name": "stdout",
     "output_type": "stream",
     "text": [
      "Test Loss: 2.4058, Test Accuracy: 39.11%\n"
     ]
    },
    {
     "name": "stderr",
     "output_type": "stream",
     "text": [
      "\u001b[36m(ClientAppActor pid=50139)\u001b[0m         \u001b[32m [repeated 44x across cluster]\u001b[0m\n",
      "\u001b[36m(ClientAppActor pid=50139)\u001b[0m \u001b[93mWARNING \u001b[0m:   DEPRECATED FEATURE: `client_fn` now expects a signature `def client_fn(context: Context)`.The provided `client_fn` has signature: {'cid': <Parameter \"cid: str\">}. You can import the `Context` like this: `from flwr.common import Context`\u001b[32m [repeated 12x across cluster]\u001b[0m\n",
      "\u001b[36m(ClientAppActor pid=50139)\u001b[0m             This is a deprecated feature. It will be removed\u001b[32m [repeated 12x across cluster]\u001b[0m\n",
      "\u001b[36m(ClientAppActor pid=50139)\u001b[0m             entirely in future versions of Flower.\u001b[32m [repeated 12x across cluster]\u001b[0m\n",
      "  0%|          | 0/1 [00:00<?, ?it/s]\u001b[32m [repeated 14x across cluster]\u001b[0m\n"
     ]
    },
    {
     "name": "stdout",
     "output_type": "stream",
     "text": [
      "\u001b[36m(ClientAppActor pid=50143)\u001b[0m Test Loss: 1.0006, Test Accuracy: 75.00%\u001b[32m [repeated 15x across cluster]\u001b[0m\n"
     ]
    },
    {
     "name": "stderr",
     "output_type": "stream",
     "text": [
      "\u001b[92mINFO \u001b[0m:      aggregate_evaluate: received 20 results and 0 failures\n",
      "\u001b[92mINFO \u001b[0m:      \n",
      "\u001b[92mINFO \u001b[0m:      [SUMMARY]\n",
      "\u001b[92mINFO \u001b[0m:      Run finished 50 round(s) in 1661.57s\n",
      "\u001b[92mINFO \u001b[0m:      \tHistory (loss, distributed):\n",
      "\u001b[92mINFO \u001b[0m:      \t\tround 1: 4.2412186622619625\n",
      "\u001b[92mINFO \u001b[0m:      \t\tround 2: 4.110722871053786\n",
      "\u001b[92mINFO \u001b[0m:      \t\tround 3: 3.9940348505973815\n",
      "\u001b[92mINFO \u001b[0m:      \t\tround 4: 3.854743790626526\n",
      "\u001b[92mINFO \u001b[0m:      \t\tround 5: 3.7872407663436163\n",
      "\u001b[92mINFO \u001b[0m:      \t\tround 6: 3.5964433312416078\n",
      "\u001b[92mINFO \u001b[0m:      \t\tround 7: 3.391263747215271\n",
      "\u001b[92mINFO \u001b[0m:      \t\tround 8: 3.2605946898460387\n",
      "\u001b[92mINFO \u001b[0m:      \t\tround 9: 3.174044966697693\n",
      "\u001b[92mINFO \u001b[0m:      \t\tround 10: 2.8328929901123048\n",
      "\u001b[92mINFO \u001b[0m:      \t\tround 11: 2.9647167801856993\n",
      "\u001b[92mINFO \u001b[0m:      \t\tround 12: 2.917411172389984\n",
      "\u001b[92mINFO \u001b[0m:      \t\tround 13: 2.892661529779434\n",
      "\u001b[92mINFO \u001b[0m:      \t\tround 14: 2.91137589159466\n",
      "\u001b[92mINFO \u001b[0m:      \t\tround 15: 2.8146131575107574\n",
      "\u001b[92mINFO \u001b[0m:      \t\tround 16: 2.6792926847934724\n",
      "\u001b[92mINFO \u001b[0m:      \t\tround 17: 2.6153610050678253\n",
      "\u001b[92mINFO \u001b[0m:      \t\tround 18: 2.8244735956192017\n",
      "\u001b[92mINFO \u001b[0m:      \t\tround 19: 2.573623460531235\n",
      "\u001b[92mINFO \u001b[0m:      \t\tround 20: 2.499779003858566\n",
      "\u001b[92mINFO \u001b[0m:      \t\tround 21: 2.6412171182178317\n",
      "\u001b[92mINFO \u001b[0m:      \t\tround 22: 2.426982206106186\n",
      "\u001b[92mINFO \u001b[0m:      \t\tround 23: 2.3553088846660795\n",
      "\u001b[92mINFO \u001b[0m:      \t\tround 24: 2.6193348109722137\n",
      "\u001b[92mINFO \u001b[0m:      \t\tround 25: 2.7597914934158325\n",
      "\u001b[92mINFO \u001b[0m:      \t\tround 26: 2.573290932178497\n",
      "\u001b[92mINFO \u001b[0m:      \t\tround 27: 2.4588975727558138\n",
      "\u001b[92mINFO \u001b[0m:      \t\tround 28: 2.558876621723175\n",
      "\u001b[92mINFO \u001b[0m:      \t\tround 29: 2.5540996193885803\n",
      "\u001b[92mINFO \u001b[0m:      \t\tround 30: 2.4359587090356007\n",
      "\u001b[92mINFO \u001b[0m:      \t\tround 31: 2.498737511180696\n",
      "\u001b[92mINFO \u001b[0m:      \t\tround 32: 2.3961372137069703\n",
      "\u001b[92mINFO \u001b[0m:      \t\tround 33: 2.4879757344722746\n",
      "\u001b[92mINFO \u001b[0m:      \t\tround 34: 2.3117571651935576\n",
      "\u001b[92mINFO \u001b[0m:      \t\tround 35: 2.3082321882247925\n",
      "\u001b[92mINFO \u001b[0m:      \t\tround 36: 2.5968098819255827\n",
      "\u001b[92mINFO \u001b[0m:      \t\tround 37: 2.6399363040924073\n",
      "\u001b[92mINFO \u001b[0m:      \t\tround 38: 2.6494528234004973\n",
      "\u001b[92mINFO \u001b[0m:      \t\tround 39: 2.7658071637153627\n",
      "\u001b[92mINFO \u001b[0m:      \t\tround 40: 2.425347606341044\n",
      "\u001b[92mINFO \u001b[0m:      \t\tround 41: 2.1234932065010073\n",
      "\u001b[92mINFO \u001b[0m:      \t\tround 42: 2.602189004421234\n",
      "\u001b[92mINFO \u001b[0m:      \t\tround 43: 2.795283764600754\n",
      "\u001b[92mINFO \u001b[0m:      \t\tround 44: 2.4408108234405517\n",
      "\u001b[92mINFO \u001b[0m:      \t\tround 45: 2.560948669910431\n",
      "\u001b[92mINFO \u001b[0m:      \t\tround 46: 2.556136828660965\n",
      "\u001b[92mINFO \u001b[0m:      \t\tround 47: 2.4816605925559996\n",
      "\u001b[92mINFO \u001b[0m:      \t\tround 48: 2.4639558851718903\n",
      "\u001b[92mINFO \u001b[0m:      \t\tround 49: 2.289285349845886\n",
      "\u001b[92mINFO \u001b[0m:      \t\tround 50: 2.5949211716651917\n",
      "\u001b[92mINFO \u001b[0m:      \tHistory (loss, centralized):\n",
      "\u001b[92mINFO \u001b[0m:      \t\tround 0: 4.358670402975643\n",
      "\u001b[92mINFO \u001b[0m:      \t\tround 1: 4.245385198032155\n",
      "\u001b[92mINFO \u001b[0m:      \t\tround 2: 4.130982511183795\n",
      "\u001b[92mINFO \u001b[0m:      \t\tround 3: 4.011868364670697\n",
      "\u001b[92mINFO \u001b[0m:      \t\tround 4: 3.883441925048828\n",
      "\u001b[92mINFO \u001b[0m:      \t\tround 5: 3.7406014133902157\n",
      "\u001b[92mINFO \u001b[0m:      \t\tround 6: 3.5769890196183147\n",
      "\u001b[92mINFO \u001b[0m:      \t\tround 7: 3.3863807986764347\n",
      "\u001b[92mINFO \u001b[0m:      \t\tround 8: 3.177382511251113\n",
      "\u001b[92mINFO \u001b[0m:      \t\tround 9: 2.9850692608777214\n",
      "\u001b[92mINFO \u001b[0m:      \t\tround 10: 2.859927962808048\n",
      "\u001b[92mINFO \u001b[0m:      \t\tround 11: 2.792671862770529\n",
      "\u001b[92mINFO \u001b[0m:      \t\tround 12: 2.7530276074128994\n",
      "\u001b[92mINFO \u001b[0m:      \t\tround 13: 2.728297696394079\n",
      "\u001b[92mINFO \u001b[0m:      \t\tround 14: 2.709014457814834\n",
      "\u001b[92mINFO \u001b[0m:      \t\tround 15: 2.690769027261173\n",
      "\u001b[92mINFO \u001b[0m:      \t\tround 16: 2.6729852592243866\n",
      "\u001b[92mINFO \u001b[0m:      \t\tround 17: 2.656201054068173\n",
      "\u001b[92mINFO \u001b[0m:      \t\tround 18: 2.639757549061495\n",
      "\u001b[92mINFO \u001b[0m:      \t\tround 19: 2.623872069751515\n",
      "\u001b[92mINFO \u001b[0m:      \t\tround 20: 2.609039783477783\n",
      "\u001b[92mINFO \u001b[0m:      \t\tround 21: 2.594927942051607\n",
      "\u001b[92mINFO \u001b[0m:      \t\tround 22: 2.5816746599533977\n",
      "\u001b[92mINFO \u001b[0m:      \t\tround 23: 2.5696771705851837\n",
      "\u001b[92mINFO \u001b[0m:      \t\tround 24: 2.558473054100485\n",
      "\u001b[92mINFO \u001b[0m:      \t\tround 25: 2.548028623356539\n",
      "\u001b[92mINFO \u001b[0m:      \t\tround 26: 2.5385219630073097\n",
      "\u001b[92mINFO \u001b[0m:      \t\tround 27: 2.530111074447632\n",
      "\u001b[92mINFO \u001b[0m:      \t\tround 28: 2.5223911509794346\n",
      "\u001b[92mINFO \u001b[0m:      \t\tround 29: 2.5151778950410733\n",
      "\u001b[92mINFO \u001b[0m:      \t\tround 30: 2.508310514337876\n",
      "\u001b[92mINFO \u001b[0m:      \t\tround 31: 2.502011453404146\n",
      "\u001b[92mINFO \u001b[0m:      \t\tround 32: 2.4960938341477337\n",
      "\u001b[92mINFO \u001b[0m:      \t\tround 33: 2.490582971011891\n",
      "\u001b[92mINFO \u001b[0m:      \t\tround 34: 2.4848341941833496\n",
      "\u001b[92mINFO \u001b[0m:      \t\tround 35: 2.479623275644639\n",
      "\u001b[92mINFO \u001b[0m:      \t\tround 36: 2.474470419042251\n",
      "\u001b[92mINFO \u001b[0m:      \t\tround 37: 2.4694093535928165\n",
      "\u001b[92mINFO \u001b[0m:      \t\tround 38: 2.464256300645716\n",
      "\u001b[92mINFO \u001b[0m:      \t\tround 39: 2.459502093932208\n",
      "\u001b[92mINFO \u001b[0m:      \t\tround 40: 2.4544514768263874\n",
      "\u001b[92mINFO \u001b[0m:      \t\tround 41: 2.44966355492087\n",
      "\u001b[92mINFO \u001b[0m:      \t\tround 42: 2.4449396834653965\n",
      "\u001b[92mINFO \u001b[0m:      \t\tround 43: 2.4400584978215836\n",
      "\u001b[92mINFO \u001b[0m:      \t\tround 44: 2.4351508196662452\n",
      "\u001b[92mINFO \u001b[0m:      \t\tround 45: 2.4303128719329834\n",
      "\u001b[92mINFO \u001b[0m:      \t\tround 46: 2.4255113321192123\n",
      "\u001b[92mINFO \u001b[0m:      \t\tround 47: 2.420598633149091\n",
      "\u001b[92mINFO \u001b[0m:      \t\tround 48: 2.415805648354923\n",
      "\u001b[92mINFO \u001b[0m:      \t\tround 49: 2.4108683081234203\n",
      "\u001b[92mINFO \u001b[0m:      \t\tround 50: 2.405770049375646\n",
      "\u001b[92mINFO \u001b[0m:      \tHistory (metrics, centralized):\n",
      "\u001b[92mINFO \u001b[0m:      \t{'accuracy': [(0, 0.006487488415199258),\n",
      "\u001b[92mINFO \u001b[0m:      \t              (1, 0.3614457831325301),\n",
      "\u001b[92mINFO \u001b[0m:      \t              (2, 0.3614457831325301),\n",
      "\u001b[92mINFO \u001b[0m:      \t              (3, 0.3614457831325301),\n",
      "\u001b[92mINFO \u001b[0m:      \t              (4, 0.3614457831325301),\n",
      "\u001b[92mINFO \u001b[0m:      \t              (5, 0.3614457831325301),\n",
      "\u001b[92mINFO \u001b[0m:      \t              (6, 0.3614457831325301),\n",
      "\u001b[92mINFO \u001b[0m:      \t              (7, 0.3614457831325301),\n",
      "\u001b[92mINFO \u001b[0m:      \t              (8, 0.3614457831325301),\n",
      "\u001b[92mINFO \u001b[0m:      \t              (9, 0.3614457831325301),\n",
      "\u001b[92mINFO \u001b[0m:      \t              (10, 0.3614457831325301),\n",
      "\u001b[92mINFO \u001b[0m:      \t              (11, 0.3614457831325301),\n",
      "\u001b[92mINFO \u001b[0m:      \t              (12, 0.3614457831325301),\n",
      "\u001b[92mINFO \u001b[0m:      \t              (13, 0.3614457831325301),\n",
      "\u001b[92mINFO \u001b[0m:      \t              (14, 0.3614457831325301),\n",
      "\u001b[92mINFO \u001b[0m:      \t              (15, 0.3614457831325301),\n",
      "\u001b[92mINFO \u001b[0m:      \t              (16, 0.3614457831325301),\n",
      "\u001b[92mINFO \u001b[0m:      \t              (17, 0.3614457831325301),\n",
      "\u001b[92mINFO \u001b[0m:      \t              (18, 0.3614457831325301),\n",
      "\u001b[92mINFO \u001b[0m:      \t              (19, 0.3614457831325301),\n",
      "\u001b[92mINFO \u001b[0m:      \t              (20, 0.3614457831325301),\n",
      "\u001b[92mINFO \u001b[0m:      \t              (21, 0.3614457831325301),\n",
      "\u001b[92mINFO \u001b[0m:      \t              (22, 0.3614457831325301),\n",
      "\u001b[92mINFO \u001b[0m:      \t              (23, 0.3614457831325301),\n",
      "\u001b[92mINFO \u001b[0m:      \t              (24, 0.3614457831325301),\n",
      "\u001b[92mINFO \u001b[0m:      \t              (25, 0.36098239110287306),\n",
      "\u001b[92mINFO \u001b[0m:      \t              (26, 0.36098239110287306),\n",
      "\u001b[92mINFO \u001b[0m:      \t              (27, 0.3614457831325301),\n",
      "\u001b[92mINFO \u001b[0m:      \t              (28, 0.3614457831325301),\n",
      "\u001b[92mINFO \u001b[0m:      \t              (29, 0.36190917516218724),\n",
      "\u001b[92mINFO \u001b[0m:      \t              (30, 0.36190917516218724),\n",
      "\u001b[92mINFO \u001b[0m:      \t              (31, 0.36098239110287306),\n",
      "\u001b[92mINFO \u001b[0m:      \t              (32, 0.36051899907321594),\n",
      "\u001b[92mINFO \u001b[0m:      \t              (33, 0.36190917516218724),\n",
      "\u001b[92mINFO \u001b[0m:      \t              (34, 0.3637627432808156),\n",
      "\u001b[92mINFO \u001b[0m:      \t              (35, 0.3637627432808156),\n",
      "\u001b[92mINFO \u001b[0m:      \t              (36, 0.36468952734012977),\n",
      "\u001b[92mINFO \u001b[0m:      \t              (37, 0.36561631139944395),\n",
      "\u001b[92mINFO \u001b[0m:      \t              (38, 0.36793327154772937),\n",
      "\u001b[92mINFO \u001b[0m:      \t              (39, 0.36932344763670066),\n",
      "\u001b[92mINFO \u001b[0m:      \t              (40, 0.36932344763670066),\n",
      "\u001b[92mINFO \u001b[0m:      \t              (41, 0.3707136237256719),\n",
      "\u001b[92mINFO \u001b[0m:      \t              (42, 0.37349397590361444),\n",
      "\u001b[92mINFO \u001b[0m:      \t              (43, 0.37349397590361444),\n",
      "\u001b[92mINFO \u001b[0m:      \t              (44, 0.3758109360518999),\n",
      "\u001b[92mINFO \u001b[0m:      \t              (45, 0.3753475440222428),\n",
      "\u001b[92mINFO \u001b[0m:      \t              (46, 0.3809082483781279),\n",
      "\u001b[92mINFO \u001b[0m:      \t              (47, 0.3790546802594995),\n",
      "\u001b[92mINFO \u001b[0m:      \t              (48, 0.3841519925857275),\n",
      "\u001b[92mINFO \u001b[0m:      \t              (49, 0.38785912882298423),\n",
      "\u001b[92mINFO \u001b[0m:      \t              (50, 0.3911028730305839)]}\n",
      "\u001b[92mINFO \u001b[0m:      \n"
     ]
    }
   ],
   "source": []
  },
  {
   "cell_type": "code",
   "execution_count": 57,
   "metadata": {},
   "outputs": [
    {
     "name": "stdout",
     "output_type": "stream",
     "text": [
      "history.metrics_centralized = {'accuracy': [(0, 0.006487488415199258), (1, 0.3614457831325301), (2, 0.3614457831325301), (3, 0.3614457831325301), (4, 0.3614457831325301), (5, 0.3614457831325301), (6, 0.3614457831325301), (7, 0.3614457831325301), (8, 0.3614457831325301), (9, 0.3614457831325301), (10, 0.3614457831325301), (11, 0.3614457831325301), (12, 0.3614457831325301), (13, 0.3614457831325301), (14, 0.3614457831325301), (15, 0.3614457831325301), (16, 0.3614457831325301), (17, 0.3614457831325301), (18, 0.3614457831325301), (19, 0.3614457831325301), (20, 0.3614457831325301), (21, 0.3614457831325301), (22, 0.3614457831325301), (23, 0.3614457831325301), (24, 0.3614457831325301), (25, 0.36098239110287306), (26, 0.36098239110287306), (27, 0.3614457831325301), (28, 0.3614457831325301), (29, 0.36190917516218724), (30, 0.36190917516218724), (31, 0.36098239110287306), (32, 0.36051899907321594), (33, 0.36190917516218724), (34, 0.3637627432808156), (35, 0.3637627432808156), (36, 0.36468952734012977), (37, 0.36561631139944395), (38, 0.36793327154772937), (39, 0.36932344763670066), (40, 0.36932344763670066), (41, 0.3707136237256719), (42, 0.37349397590361444), (43, 0.37349397590361444), (44, 0.3758109360518999), (45, 0.3753475440222428), (46, 0.3809082483781279), (47, 0.3790546802594995), (48, 0.3841519925857275), (49, 0.38785912882298423), (50, 0.3911028730305839)]}\n"
     ]
    },
    {
     "data": {
      "image/png": "[encoded data removed]",
      "text/plain": [
       "<Figure size 640x480 with 1 Axes>"
      ]
     },
     "metadata": {},
     "output_type": "display_data"
    }
   ],
   "source": [
    "# Assuming `history.metrics_centralized` contains the data as described\n",
    "print(f\"{history.metrics_centralized = }\")\n",
    "\n",
    "global_accuracy_centralised = history.metrics_centralized[\"accuracy\"]\n",
    "rounds = [data[0] for data in global_accuracy_centralised]\n",
    "acc = [100.0 * data[1] for data in global_accuracy_centralised]\n",
    "\n",
    "plt.plot(rounds, acc, label='Accuracy')\n",
    "plt.axhline(y=70.5, color='r', linestyle='--', label='Centralized')\n",
    "plt.grid()\n",
    "plt.ylabel(\"Accuracy (%)\")\n",
    "plt.xlabel(\"Round\")\n",
    "plt.title(\"MNIST - IID - 100 clients with 10 clients per round\")\n",
    "plt.legend()\n",
    "\n",
    "plt.show()"
   ]
  },
  {
   "cell_type": "code",
   "execution_count": null,
   "metadata": {},
   "outputs": [],
   "source": []
  }
 ],
 "metadata": {
  "kernelspec": {
   "display_name": ".venv",
   "language": "python",
   "name": "python3"
  },
  "language_info": {
   "codemirror_mode": {
    "name": "ipython",
    "version": 3
   },
   "file_extension": ".py",
   "mimetype": "text/x-python",
   "name": "python",
   "nbconvert_exporter": "python",
   "pygments_lexer": "ipython3",
   "version": "3.9.18"
  }
 },
 "nbformat": 4,
 "nbformat_minor": 2
}
